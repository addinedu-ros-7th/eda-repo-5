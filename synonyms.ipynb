{
 "cells": [
  {
   "cell_type": "code",
   "execution_count": 1,
   "metadata": {},
   "outputs": [],
   "source": [
    "import mysql.connector"
   ]
  },
  {
   "cell_type": "code",
   "execution_count": null,
   "metadata": {},
   "outputs": [],
   "source": [
    "conn = mysql.connector.connect(\n",
    "    host = \"*****\",\n",
    "    port = \"****\",\n",
    "    user = \"****\",\n",
    "    password = \"****\",\n",
    "    database = \"****\"\n",
    ")\n",
    "\n",
    "cursor = conn.cursor(buffered=True)"
   ]
  },
  {
   "cell_type": "code",
   "execution_count": 3,
   "metadata": {},
   "outputs": [],
   "source": [
    "cursor.execute(\"select tech_id, tech_name from tech\")\n",
    "results = cursor.fetchall()\n",
    "\n",
    "for r in results:\n",
    "    tech_id = r[0]\n",
    "    tech_name = r[1]\n",
    "\n",
    "    if tech_name == \"C언어\":\n",
    "        cursor.execute(\"insert into tech_synonyms (tech_id, syn_name) values (%s, %s)\",\n",
    "                       (tech_id, \"C\"))\n",
    "    if tech_name == \"H/W\":\n",
    "        cursor.execute(\"insert into tech_synonyms (tech_id, syn_name) values (%s, %s)\",\n",
    "                       (tech_id, \"HW\"))\n",
    "        cursor.execute(\"insert into tech_synonyms (tech_id, syn_name) values (%s, %s)\",\n",
    "                       (tech_id, \"hardware\"))\n",
    "        cursor.execute(\"insert into tech_synonyms (tech_id, syn_name) values (%s, %s)\",\n",
    "                       (tech_id, \"하드웨어\"))\n",
    "    if tech_name == \"MCU\":\n",
    "        cursor.execute(\"insert into tech_synonyms (tech_id, syn_name) values (%s, %s)\",\n",
    "                       (tech_id, \"마이크로컨트롤러\"))\n",
    "        cursor.execute(\"insert into tech_synonyms (tech_id, syn_name) values (%s, %s)\",\n",
    "                       (tech_id, \"microcontroller\"))\n",
    "    if tech_name == \"S/W\":\n",
    "        cursor.execute(\"insert into tech_synonyms (tech_id, syn_name) values (%s, %s)\",\n",
    "                       (tech_id, \"sw\"))\n",
    "        cursor.execute(\"insert into tech_synonyms (tech_id, syn_name) values (%s, %s)\",\n",
    "                       (tech_id, \"소프트웨어\"))\n",
    "        cursor.execute(\"insert into tech_synonyms (tech_id, syn_name) values (%s, %s)\",\n",
    "                       (tech_id, \"software\"))\n",
    "    if tech_name == \"딥러닝\":\n",
    "        cursor.execute(\"insert into tech_synonyms (tech_id, syn_name) values (%s, %s)\",\n",
    "                       (tech_id, \"deep learning\"))\n",
    "    if tech_name == \"라즈베리파이\":\n",
    "        cursor.execute(\"insert into tech_synonyms (tech_id, syn_name) values (%s, %s)\",\n",
    "                       (tech_id, \"raspberrypi\"))\n",
    "        cursor.execute(\"insert into tech_synonyms (tech_id, syn_name) values (%s, %s)\",\n",
    "                       (tech_id, \"raspberry pi\"))   \n",
    "    if tech_name == \"머신러닝\" :\n",
    "        cursor.execute(\"insert into tech_synonyms (tech_id, syn_name) values (%s, %s)\",\n",
    "                       (tech_id, \"machine learning\"))\n",
    "        cursor.execute(\"insert into tech_synonyms (tech_id, syn_name) values (%s, %s)\",\n",
    "                       (tech_id, \"ml\"))\n",
    "    if tech_name == \"아두이노\":\n",
    "        cursor.execute(\"insert into tech_synonyms (tech_id, syn_name) values (%s, %s)\",\n",
    "                       (tech_id, \"arduino\"))    \n",
    "    if tech_name == \"영상처리\":\n",
    "        cursor.execute(\"insert into tech_synonyms (tech_id, syn_name) values (%s, %s)\",\n",
    "                       (tech_id, \"영상 처리\"))\n",
    "    if tech_name == \"이미지프로세싱\":\n",
    "        cursor.execute(\"insert into tech_synonyms (tech_id, syn_name) values (%s, %s)\",\n",
    "                       (tech_id, \"이미지 프로세싱\"))\n",
    "        cursor.execute(\"insert into tech_synonyms (tech_id, syn_name) values (%s, %s)\",\n",
    "                       (tech_id, \"image processing\"))\n",
    "    if tech_name == \"임베디드\":\n",
    "        cursor.execute(\"insert into tech_synonyms (tech_id, syn_name) values (%s, %s)\",\n",
    "                       (tech_id, \"embedded\"))\n",
    "    if tech_name == \"컴퓨터비전\":\n",
    "        cursor.execute(\"insert into tech_synonyms (tech_id, syn_name) values (%s, %s)\",\n",
    "                       (tech_id, \"컴퓨터 비전\"))\n",
    "        cursor.execute(\"insert into tech_synonyms (tech_id, syn_name) values (%s, %s)\",\n",
    "                       (tech_id, \"vision\"))\n",
    "    if tech_name == \"클라우드\":\n",
    "        cursor.execute(\"insert into tech_synonyms (tech_id, syn_name) values (%s, %s)\",\n",
    "                       (tech_id, \"cloud\"))\n",
    "\n",
    "\n",
    "        "
   ]
  },
  {
   "cell_type": "code",
   "execution_count": 4,
   "metadata": {},
   "outputs": [],
   "source": [
    "conn.commit()\n",
    "conn.close()"
   ]
  },
  {
   "cell_type": "markdown",
   "metadata": {},
   "source": [
    "\n",
    "https -> \\b"
   ]
  },
  {
   "cell_type": "code",
   "execution_count": 4,
   "metadata": {},
   "outputs": [],
   "source": [
    "cursor.execute(\"delete from tech where tech_id=27\")\n",
    "conn.commit()"
   ]
  },
  {
   "cell_type": "code",
   "execution_count": 6,
   "metadata": {},
   "outputs": [],
   "source": [
    "embedded_syn = [\"아두이노\", \"arduino\", \"MCU\", \"microcontroller\", \"마이크로컨트롤러\", \n",
    "                \"라즈베리파이\", \"라즈베리 파이\", \"raspberrypi\", \"raspberry pi\"]\n",
    "\n",
    "for e in embedded_syn:\n",
    "    cursor.execute(\"insert into tech_synonyms (tech_id, syn_name) values (92, %s)\", (e,))\n",
    "    conn.commit()"
   ]
  },
  {
   "cell_type": "code",
   "execution_count": 7,
   "metadata": {},
   "outputs": [],
   "source": [
    "cursor.execute(\"insert into tech_synonyms (tech_id, syn_name) values (260, %s)\", \n",
    "               (\"ros2\",))\n",
    "conn.commit()"
   ]
  },
  {
   "cell_type": "code",
   "execution_count": 9,
   "metadata": {},
   "outputs": [],
   "source": [
    "cursor.execute(\"insert into tech_synonyms (tech_id, syn_name) values (261, %s)\", \n",
    "               (\"localization\",))\n",
    "cursor.execute(\"insert into tech_synonyms (tech_id, syn_name) values (261, %s)\", \n",
    "               (\"mapping\",))\n",
    "conn.commit()"
   ]
  },
  {
   "cell_type": "code",
   "execution_count": 10,
   "metadata": {},
   "outputs": [],
   "source": [
    "cursor.execute(\"insert into tech_synonyms (tech_id, syn_name) values (262, %s)\", \n",
    "               (\"path planning\",))\n",
    "cursor.execute(\"insert into tech_synonyms (tech_id, syn_name) values (262, %s)\", \n",
    "               (\"tracking\",))\n",
    "cursor.execute(\"insert into tech_synonyms (tech_id, syn_name) values (262, %s)\", \n",
    "               (\"내비게이션\",))\n",
    "conn.commit()"
   ]
  },
  {
   "cell_type": "code",
   "execution_count": 14,
   "metadata": {},
   "outputs": [],
   "source": [
    "cursor.execute(\"insert into tech_synonyms (tech_id, syn_name) values (265, %s)\", \n",
    "               (\"토익\",))\n",
    "cursor.execute(\"insert into tech_synonyms (tech_id, syn_name) values (265, %s)\", \n",
    "               (\"toeic\",))\n",
    "conn.commit()"
   ]
  },
  {
   "cell_type": "code",
   "execution_count": 15,
   "metadata": {},
   "outputs": [],
   "source": [
    "cursor.execute(\"insert into tech_synonyms (tech_id, syn_name) values (211, %s)\", \n",
    "               (\"파이썬\",))\n",
    "conn.commit()"
   ]
  },
  {
   "cell_type": "code",
   "execution_count": 16,
   "metadata": {},
   "outputs": [],
   "source": [
    "cursor.execute(\"insert into tech_synonyms (tech_id, syn_name) values (102, %s)\", \n",
    "               (\"머신비전\",))\n",
    "conn.commit()"
   ]
  },
  {
   "cell_type": "code",
   "execution_count": 17,
   "metadata": {},
   "outputs": [],
   "source": [
    "cursor.execute(\"insert into tech_synonyms (tech_id, syn_name) values (198, %s)\", \n",
    "               (\"인공지능\",))\n",
    "conn.commit()"
   ]
  },
  {
   "cell_type": "code",
   "execution_count": 18,
   "metadata": {},
   "outputs": [],
   "source": [
    "cursor.execute(\"insert into tech_synonyms (tech_id, syn_name) values (94, %s)\", \n",
    "               (\"AMR\",))\n",
    "cursor.execute(\"insert into tech_synonyms (tech_id, syn_name) values (94, %s)\", \n",
    "               (\"차상장치\",))\n",
    "conn.commit()"
   ]
  },
  {
   "cell_type": "code",
   "execution_count": 22,
   "metadata": {},
   "outputs": [],
   "source": [
    "cursor.execute(\"update tech set tech_name='통신/네트워크' where tech_id=23\")\n",
    "conn.commit()"
   ]
  },
  {
   "cell_type": "code",
   "execution_count": 23,
   "metadata": {},
   "outputs": [],
   "source": [
    "cursor.execute(\"delete from tech where tech_id=96\")\n",
    "conn.commit()"
   ]
  },
  {
   "cell_type": "code",
   "execution_count": 24,
   "metadata": {},
   "outputs": [],
   "source": [
    "network_keywords = [\n",
    "    \"Socket\",\n",
    "    \"소켓\",\n",
    "    \"websocket\",\n",
    "    \"uart\",\n",
    "    \"can\",\n",
    "    \"spi\",\n",
    "    \"통신\",\n",
    "    \"네트워크\"]\n",
    "\n",
    "for n in network_keywords:\n",
    "    cursor.execute(\"insert into tech_synonyms (tech_id, syn_name) values (23, %s)\", \n",
    "               (n,))\n",
    "conn.commit()"
   ]
  },
  {
   "cell_type": "code",
   "execution_count": 26,
   "metadata": {},
   "outputs": [],
   "source": [
    "conn.close()"
   ]
  },
  {
   "cell_type": "code",
   "execution_count": null,
   "metadata": {},
   "outputs": [],
   "source": []
  }
 ],
 "metadata": {
  "kernelspec": {
   "display_name": "eda_venv",
   "language": "python",
   "name": "python3"
  },
  "language_info": {
   "codemirror_mode": {
    "name": "ipython",
    "version": 3
   },
   "file_extension": ".py",
   "mimetype": "text/x-python",
   "name": "python",
   "nbconvert_exporter": "python",
   "pygments_lexer": "ipython3",
   "version": "3.10.12"
  }
 },
 "nbformat": 4,
 "nbformat_minor": 2
}
