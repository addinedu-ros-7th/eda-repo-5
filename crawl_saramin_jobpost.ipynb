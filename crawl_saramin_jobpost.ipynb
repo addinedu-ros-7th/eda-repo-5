{
 "cells": [
  {
   "cell_type": "code",
   "execution_count": 13,
   "metadata": {},
   "outputs": [],
   "source": [
    "from bs4 import BeautifulSoup\n",
    "import requests\n",
    "import re\n",
    "import mysql.connector\n",
    "import datetime\n",
    "from requests.adapters import HTTPAdapter\n",
    "from urllib3.util.retry import Retry"
   ]
  },
  {
   "cell_type": "code",
   "execution_count": null,
   "metadata": {},
   "outputs": [],
   "source": [
    "conn = mysql.connector.connect(\n",
    "    host = \"*****\",\n",
    "    port = \"****\",\n",
    "    user = \"****\",\n",
    "    password = \"****\",\n",
    "    database = \"****\"\n",
    ")\n",
    "\n",
    "cursor = conn.cursor(buffered=True)"
   ]
  },
  {
   "cell_type": "markdown",
   "metadata": {},
   "source": [
    "수집데이터: \n",
    "*(공고 제목, 공고url)*, 주요업무, 우대사항, 근무환경, 복리후생, *(공고게시일)*\n",
    "*(회사sid, 회사명, 회사형태, 산업)*, 사원수, *(설립일)*, 매출액, *(회사홈페이지)*, 평균연봉"
   ]
  },
  {
   "cell_type": "code",
   "execution_count": 17,
   "metadata": {},
   "outputs": [
    {
     "name": "stderr",
     "output_type": "stream",
     "text": [
      "/home/cook/venv/eda_venv/lib/python3.10/site-packages/urllib3/connectionpool.py:1099: InsecureRequestWarning: Unverified HTTPS request is being made to host 'www.saramin.co.kr'. Adding certificate verification is strongly advised. See: https://urllib3.readthedocs.io/en/latest/advanced-usage.html#tls-warnings\n",
      "  warnings.warn(\n",
      "/home/cook/venv/eda_venv/lib/python3.10/site-packages/urllib3/connectionpool.py:1099: InsecureRequestWarning: Unverified HTTPS request is being made to host 'www.saramin.co.kr'. Adding certificate verification is strongly advised. See: https://urllib3.readthedocs.io/en/latest/advanced-usage.html#tls-warnings\n",
      "  warnings.warn(\n"
     ]
    },
    {
     "name": "stdout",
     "output_type": "stream",
     "text": [
      "49097646\n"
     ]
    },
    {
     "name": "stderr",
     "output_type": "stream",
     "text": [
      "/home/cook/venv/eda_venv/lib/python3.10/site-packages/urllib3/connectionpool.py:1099: InsecureRequestWarning: Unverified HTTPS request is being made to host 'www.saramin.co.kr'. Adding certificate verification is strongly advised. See: https://urllib3.readthedocs.io/en/latest/advanced-usage.html#tls-warnings\n",
      "  warnings.warn(\n"
     ]
    },
    {
     "name": "stdout",
     "output_type": "stream",
     "text": [
      "MXVieWN6VWZqMzF4RHE1Sk5pQVFPdz09 (주)비비파트너스 [SW 서비스기획 PM] 기계제조업 대기업 그룹 IT 계열사\n",
      "2024-09-28 10:00:00\n",
      "경영 컨설팅업\n",
      "2004년 12월 28일\n",
      "2004-12-28 00:00:00\n",
      "www.bbp.co.kr\n",
      "49097640\n"
     ]
    },
    {
     "name": "stderr",
     "output_type": "stream",
     "text": [
      "/home/cook/venv/eda_venv/lib/python3.10/site-packages/urllib3/connectionpool.py:1099: InsecureRequestWarning: Unverified HTTPS request is being made to host 'www.saramin.co.kr'. Adding certificate verification is strongly advised. See: https://urllib3.readthedocs.io/en/latest/advanced-usage.html#tls-warnings\n",
      "  warnings.warn(\n"
     ]
    },
    {
     "name": "stdout",
     "output_type": "stream",
     "text": [
      "MXVieWN6VWZqMzF4RHE1Sk5pQVFPdz09 (주)비비파트너스 [Front-End 웹 개발] 기계제조업 대기업그룹 IT 계열사\n",
      "2024-09-28 10:00:00\n",
      "경영 컨설팅업\n",
      "2004년 12월 28일\n",
      "2004-12-28 00:00:00\n",
      "www.bbp.co.kr\n",
      "49096180\n"
     ]
    },
    {
     "name": "stderr",
     "output_type": "stream",
     "text": [
      "/home/cook/venv/eda_venv/lib/python3.10/site-packages/urllib3/connectionpool.py:1099: InsecureRequestWarning: Unverified HTTPS request is being made to host 'www.saramin.co.kr'. Adding certificate verification is strongly advised. See: https://urllib3.readthedocs.io/en/latest/advanced-usage.html#tls-warnings\n",
      "  warnings.warn(\n"
     ]
    },
    {
     "name": "stdout",
     "output_type": "stream",
     "text": [
      "NzFGbzRBcTFPNGducEw1QVViQXRVQT09 (주)긴트 자율주행 개발자\n",
      "2024-09-27 00:00:00\n",
      "자동차용 신품 전기장치 제조업\n",
      "2015년 10월 2일\n",
      "2015-10-02 00:00:00\n",
      "http://www.gintlab.com\n",
      "49095759\n"
     ]
    },
    {
     "name": "stderr",
     "output_type": "stream",
     "text": [
      "/home/cook/venv/eda_venv/lib/python3.10/site-packages/urllib3/connectionpool.py:1099: InsecureRequestWarning: Unverified HTTPS request is being made to host 'www.saramin.co.kr'. Adding certificate verification is strongly advised. See: https://urllib3.readthedocs.io/en/latest/advanced-usage.html#tls-warnings\n",
      "  warnings.warn(\n"
     ]
    },
    {
     "name": "stdout",
     "output_type": "stream",
     "text": [
      "eGc1VUZMS3lJczViV2ZVZVBFNXg3Zz09 (주)엔바이어스 풀스택 개발자 모집\n",
      "2024-09-27 16:00:00\n",
      "그 외 기타 특수목적용 기계 제조업\n",
      "2020년 1월 2일\n",
      "2020-01-02 00:00:00\n",
      "www.nbyus.com\n",
      "49095623\n"
     ]
    },
    {
     "name": "stderr",
     "output_type": "stream",
     "text": [
      "/home/cook/venv/eda_venv/lib/python3.10/site-packages/urllib3/connectionpool.py:1099: InsecureRequestWarning: Unverified HTTPS request is being made to host 'www.saramin.co.kr'. Adding certificate verification is strongly advised. See: https://urllib3.readthedocs.io/en/latest/advanced-usage.html#tls-warnings\n",
      "  warnings.warn(\n"
     ]
    },
    {
     "name": "stdout",
     "output_type": "stream",
     "text": [
      "eGc1VUZMS3lJczViV2ZVZVBFNXg3Zz09 (주)엔바이어스 로봇 제어 SW 및 GUI 개발자 모집\n",
      "2024-09-27 16:00:00\n",
      "그 외 기타 특수목적용 기계 제조업\n",
      "2020년 1월 2일\n",
      "2020-01-02 00:00:00\n",
      "www.nbyus.com\n",
      "49095521\n"
     ]
    },
    {
     "name": "stderr",
     "output_type": "stream",
     "text": [
      "/home/cook/venv/eda_venv/lib/python3.10/site-packages/urllib3/connectionpool.py:1099: InsecureRequestWarning: Unverified HTTPS request is being made to host 'www.saramin.co.kr'. Adding certificate verification is strongly advised. See: https://urllib3.readthedocs.io/en/latest/advanced-usage.html#tls-warnings\n",
      "  warnings.warn(\n"
     ]
    },
    {
     "name": "stdout",
     "output_type": "stream",
     "text": [
      "eGc1VUZMS3lJczViV2ZVZVBFNXg3Zz09 (주)엔바이어스 로봇 전장 설계 및 제어 개발자 모집\n",
      "2024-09-27 16:00:00\n",
      "그 외 기타 특수목적용 기계 제조업\n",
      "2020년 1월 2일\n",
      "2020-01-02 00:00:00\n",
      "www.nbyus.com\n",
      "49095301\n"
     ]
    },
    {
     "name": "stderr",
     "output_type": "stream",
     "text": [
      "/home/cook/venv/eda_venv/lib/python3.10/site-packages/urllib3/connectionpool.py:1099: InsecureRequestWarning: Unverified HTTPS request is being made to host 'www.saramin.co.kr'. Adding certificate verification is strongly advised. See: https://urllib3.readthedocs.io/en/latest/advanced-usage.html#tls-warnings\n",
      "  warnings.warn(\n"
     ]
    },
    {
     "name": "stdout",
     "output_type": "stream",
     "text": [
      "cUNDdzE1b3RvdjAvRUUwNjlFTGMwUT09 (주)니어스랩 Global OPS Assistant Manager 채용\n",
      "2024-09-27 00:00:00\n",
      "시스템 소프트웨어 개발 및 공급업\n",
      "2015년 5월 14일\n",
      "2015-05-14 00:00:00\n",
      "www.nearthlab.com\n",
      "49095050\n"
     ]
    },
    {
     "name": "stderr",
     "output_type": "stream",
     "text": [
      "/home/cook/venv/eda_venv/lib/python3.10/site-packages/urllib3/connectionpool.py:1099: InsecureRequestWarning: Unverified HTTPS request is being made to host 'www.saramin.co.kr'. Adding certificate verification is strongly advised. See: https://urllib3.readthedocs.io/en/latest/advanced-usage.html#tls-warnings\n",
      "  warnings.warn(\n"
     ]
    },
    {
     "name": "stdout",
     "output_type": "stream",
     "text": [
      "U3E2MVpWYUxzVXgwdVJWYXFwYmlkQT09 코넥티브(주) Backend  Engineer\n",
      "2024-10-01 00:00:00\n",
      "시스템 소프트웨어 개발 및 공급업\n",
      "2021년 4월 26일\n",
      "2021-04-26 00:00:00\n",
      "49094678\n"
     ]
    },
    {
     "name": "stderr",
     "output_type": "stream",
     "text": [
      "/home/cook/venv/eda_venv/lib/python3.10/site-packages/urllib3/connectionpool.py:1099: InsecureRequestWarning: Unverified HTTPS request is being made to host 'www.saramin.co.kr'. Adding certificate verification is strongly advised. See: https://urllib3.readthedocs.io/en/latest/advanced-usage.html#tls-warnings\n",
      "  warnings.warn(\n"
     ]
    },
    {
     "name": "stdout",
     "output_type": "stream",
     "text": [
      "eHJyTG9SQ2lycThKYnVpRUlxN0NaQT09 (주)파워로직스 파워로직스 분야별(BSW개발, ASW개발, Pack개발) 인력 모집\n",
      "2024-09-27 15:00:00\n",
      "전기회로 개폐, 보호장치 제조업\n",
      "1997년 9월 3일\n",
      "1997-09-03 00:00:00\n",
      "www.powerlogics.kr\n",
      "49094639\n"
     ]
    },
    {
     "name": "stderr",
     "output_type": "stream",
     "text": [
      "/home/cook/venv/eda_venv/lib/python3.10/site-packages/urllib3/connectionpool.py:1099: InsecureRequestWarning: Unverified HTTPS request is being made to host 'www.saramin.co.kr'. Adding certificate verification is strongly advised. See: https://urllib3.readthedocs.io/en/latest/advanced-usage.html#tls-warnings\n",
      "  warnings.warn(\n"
     ]
    },
    {
     "name": "stdout",
     "output_type": "stream",
     "text": [
      "NkplYnVhUHJzYWFERFVtRTB4RzZUdz09 (주)모빌테크 [모빌테크] 인사/급여 담당자 모집 (경력)\n",
      "2024-09-27 15:00:00\n",
      "전기ㆍ전자공학 연구개발업\n",
      "2017년 4월 10일\n",
      "2017-04-10 00:00:00\n",
      "www.mobiltech.io\n",
      "49093663\n"
     ]
    },
    {
     "name": "stderr",
     "output_type": "stream",
     "text": [
      "/home/cook/venv/eda_venv/lib/python3.10/site-packages/urllib3/connectionpool.py:1099: InsecureRequestWarning: Unverified HTTPS request is being made to host 'www.saramin.co.kr'. Adding certificate verification is strongly advised. See: https://urllib3.readthedocs.io/en/latest/advanced-usage.html#tls-warnings\n",
      "  warnings.warn(\n"
     ]
    },
    {
     "name": "stdout",
     "output_type": "stream",
     "text": [
      "RW95TkcyTGtmWi9ZMG1JL21NdGVOdz09 낙스넷(주) OT 및 IT 보안관제 및 보안솔루션 장기 운영 - DPI RAS SIEM\n",
      "2024-09-27 13:00:00\n",
      "응용 소프트웨어 개발 및 공급업\n",
      "1993년 12월 13일\n",
      "1993-12-13 00:00:00\n",
      "www.nacss.com\n",
      "49092939\n"
     ]
    },
    {
     "name": "stderr",
     "output_type": "stream",
     "text": [
      "/home/cook/venv/eda_venv/lib/python3.10/site-packages/urllib3/connectionpool.py:1099: InsecureRequestWarning: Unverified HTTPS request is being made to host 'www.saramin.co.kr'. Adding certificate verification is strongly advised. See: https://urllib3.readthedocs.io/en/latest/advanced-usage.html#tls-warnings\n",
      "  warnings.warn(\n"
     ]
    },
    {
     "name": "stdout",
     "output_type": "stream",
     "text": [
      "d055R3c0aUZoTjJmU1l2cVJRM0F4dz09 (주)크래블 임베디드(펌웨어) 개발자\n",
      "2024-09-27 00:00:00\n",
      "49091900\n"
     ]
    },
    {
     "name": "stderr",
     "output_type": "stream",
     "text": [
      "/home/cook/venv/eda_venv/lib/python3.10/site-packages/urllib3/connectionpool.py:1099: InsecureRequestWarning: Unverified HTTPS request is being made to host 'www.saramin.co.kr'. Adding certificate verification is strongly advised. See: https://urllib3.readthedocs.io/en/latest/advanced-usage.html#tls-warnings\n",
      "  warnings.warn(\n"
     ]
    },
    {
     "name": "stdout",
     "output_type": "stream",
     "text": [
      "UXNYbzYyZWdrbHZZYXlPcWE5b2ZmUT09 (주)휴민로보틱스 PLC제어 개발자 채용\n",
      "2024-09-27 11:00:00\n",
      "반도체 제조용 기계 제조업\n",
      "2010년 2월 1일\n",
      "2010-02-01 00:00:00\n",
      "www.ihumin.co.kr\n",
      "49091777\n"
     ]
    },
    {
     "name": "stderr",
     "output_type": "stream",
     "text": [
      "/home/cook/venv/eda_venv/lib/python3.10/site-packages/urllib3/connectionpool.py:1099: InsecureRequestWarning: Unverified HTTPS request is being made to host 'www.saramin.co.kr'. Adding certificate verification is strongly advised. See: https://urllib3.readthedocs.io/en/latest/advanced-usage.html#tls-warnings\n",
      "  warnings.warn(\n"
     ]
    },
    {
     "name": "stdout",
     "output_type": "stream",
     "text": [
      "WjVrbDR3YkZHZnkrUnp0bmZBRi96dz09 (주)테스프 로봇 및 S/W 프로젝트 관리 담당자 모집\n",
      "2024-09-27 11:00:00\n",
      "기타 자연과학 연구개발업\n",
      "2023년 1월 11일\n",
      "2023-01-11 00:00:00\n",
      "http://tespekr.com/\n",
      "49091341\n"
     ]
    },
    {
     "name": "stderr",
     "output_type": "stream",
     "text": [
      "/home/cook/venv/eda_venv/lib/python3.10/site-packages/urllib3/connectionpool.py:1099: InsecureRequestWarning: Unverified HTTPS request is being made to host 'www.saramin.co.kr'. Adding certificate verification is strongly advised. See: https://urllib3.readthedocs.io/en/latest/advanced-usage.html#tls-warnings\n",
      "  warnings.warn(\n"
     ]
    },
    {
     "name": "stdout",
     "output_type": "stream",
     "text": [
      "K1hBL2ZTN3JtWEt3MGJMWWsyeFRsZz09 (주)시에라베이스 자율점검 드론/로봇 개발자 모집(신입 석사이상)\n",
      "2024-09-27 00:00:00\n",
      "응용 소프트웨어 개발 및 공급업\n",
      "2019년 6월 11일\n",
      "2019-06-11 00:00:00\n",
      "www.sierrabase.co.kr\n",
      "49090791\n"
     ]
    },
    {
     "name": "stderr",
     "output_type": "stream",
     "text": [
      "/home/cook/venv/eda_venv/lib/python3.10/site-packages/urllib3/connectionpool.py:1099: InsecureRequestWarning: Unverified HTTPS request is being made to host 'www.saramin.co.kr'. Adding certificate verification is strongly advised. See: https://urllib3.readthedocs.io/en/latest/advanced-usage.html#tls-warnings\n",
      "  warnings.warn(\n"
     ]
    },
    {
     "name": "stdout",
     "output_type": "stream",
     "text": [
      "WDNTS1dmbENiM3dOc0pBZGEwTWEvdz09 (주)드림에이치알 로봇IT시스템개발-종합물류 대기업\n",
      "2024-09-27 10:00:00\n",
      "상용 인력 공급 및 인사관리 서비스업\n",
      "2003년 2월 12일\n",
      "2003-02-12 00:00:00\n",
      "http://www.dreamhr.com\n",
      "49090385\n"
     ]
    },
    {
     "name": "stderr",
     "output_type": "stream",
     "text": [
      "/home/cook/venv/eda_venv/lib/python3.10/site-packages/urllib3/connectionpool.py:1099: InsecureRequestWarning: Unverified HTTPS request is being made to host 'www.saramin.co.kr'. Adding certificate verification is strongly advised. See: https://urllib3.readthedocs.io/en/latest/advanced-usage.html#tls-warnings\n",
      "  warnings.warn(\n"
     ]
    },
    {
     "name": "stdout",
     "output_type": "stream",
     "text": [
      "S0hPQnFNWTdWS1Q4WjMxaFBDOFJJdz09 (주)아데코코리아 [자율주행/서울] Robotics SW Engineer\n",
      "2024-09-27 10:00:00\n",
      "상용 인력 공급 및 인사관리 서비스업\n",
      "1999년 5월 6일\n",
      "1999-05-06 00:00:00\n",
      "www.adecco.co.kr\n",
      "49089931\n"
     ]
    },
    {
     "name": "stderr",
     "output_type": "stream",
     "text": [
      "/home/cook/venv/eda_venv/lib/python3.10/site-packages/urllib3/connectionpool.py:1099: InsecureRequestWarning: Unverified HTTPS request is being made to host 'www.saramin.co.kr'. Adding certificate verification is strongly advised. See: https://urllib3.readthedocs.io/en/latest/advanced-usage.html#tls-warnings\n",
      "  warnings.warn(\n"
     ]
    },
    {
     "name": "stdout",
     "output_type": "stream",
     "text": [
      "WnN3eDA3UG9LbnpoQUZyMm1FeHpTZz09 그레이스앤파트너스(주) 투자 심사역/(컴퓨터 공학,AI,반도체 등 ) - 대기업 벤처투자\n",
      "2024-09-27 09:00:00\n",
      "49089775\n"
     ]
    },
    {
     "name": "stderr",
     "output_type": "stream",
     "text": [
      "/home/cook/venv/eda_venv/lib/python3.10/site-packages/urllib3/connectionpool.py:1099: InsecureRequestWarning: Unverified HTTPS request is being made to host 'www.saramin.co.kr'. Adding certificate verification is strongly advised. See: https://urllib3.readthedocs.io/en/latest/advanced-usage.html#tls-warnings\n",
      "  warnings.warn(\n"
     ]
    },
    {
     "name": "stdout",
     "output_type": "stream",
     "text": [
      "K1RVeXZicmt6YlJuTzNyRkl0UGtadz09 (주)벰로보틱스 S/W 개발자 채용 (경력자우대)\n",
      "2024-09-27 09:00:00\n",
      "시스템 소프트웨어 개발 및 공급업\n",
      "2017년 1월 13일\n",
      "2017-01-13 00:00:00\n",
      "www.bemsoft.com\n",
      "49089618\n"
     ]
    },
    {
     "name": "stderr",
     "output_type": "stream",
     "text": [
      "/home/cook/venv/eda_venv/lib/python3.10/site-packages/urllib3/connectionpool.py:1099: InsecureRequestWarning: Unverified HTTPS request is being made to host 'www.saramin.co.kr'. Adding certificate verification is strongly advised. See: https://urllib3.readthedocs.io/en/latest/advanced-usage.html#tls-warnings\n",
      "  warnings.warn(\n"
     ]
    },
    {
     "name": "stdout",
     "output_type": "stream",
     "text": [
      "Y3VRdjFtRHlXZjJuQlRhOWM5dlNCZz09 (주)시즐 (주)시즐 사업팀 PM 정규직 모집(경력)\n",
      "2024-09-27 09:00:00\n",
      "컴퓨터 프로그래밍 서비스업\n",
      "2016년 8월 4일\n",
      "2016-08-04 00:00:00\n",
      "https://sizl.co.kr/\n",
      "49089599\n"
     ]
    },
    {
     "name": "stderr",
     "output_type": "stream",
     "text": [
      "/home/cook/venv/eda_venv/lib/python3.10/site-packages/urllib3/connectionpool.py:1099: InsecureRequestWarning: Unverified HTTPS request is being made to host 'www.saramin.co.kr'. Adding certificate verification is strongly advised. See: https://urllib3.readthedocs.io/en/latest/advanced-usage.html#tls-warnings\n",
      "  warnings.warn(\n"
     ]
    },
    {
     "name": "stdout",
     "output_type": "stream",
     "text": [
      "Y3VRdjFtRHlXZjJuQlRhOWM5dlNCZz09 (주)시즐 (주)시즐 사업본부 개발PM 정규직 모집(경력)\n",
      "2024-09-27 09:00:00\n",
      "컴퓨터 프로그래밍 서비스업\n",
      "2016년 8월 4일\n",
      "2016-08-04 00:00:00\n",
      "https://sizl.co.kr/\n",
      "49089574\n"
     ]
    },
    {
     "name": "stderr",
     "output_type": "stream",
     "text": [
      "/home/cook/venv/eda_venv/lib/python3.10/site-packages/urllib3/connectionpool.py:1099: InsecureRequestWarning: Unverified HTTPS request is being made to host 'www.saramin.co.kr'. Adding certificate verification is strongly advised. See: https://urllib3.readthedocs.io/en/latest/advanced-usage.html#tls-warnings\n",
      "  warnings.warn(\n"
     ]
    },
    {
     "name": "stdout",
     "output_type": "stream",
     "text": [
      "amFwR1JFMFBoVG9ib0ZaSTFZbDRUZz09 (주)피엠에프 로봇 소프트웨어 경력직 채용 (코딩테스트 필수)\n",
      "2024-09-27 09:00:00\n",
      "전기회로 접속장치 제조업\n",
      "2022년 9월 19일\n",
      "2022-09-19 00:00:00\n",
      "https://www.pmotionf.com/\n",
      "49089453\n"
     ]
    },
    {
     "name": "stderr",
     "output_type": "stream",
     "text": [
      "/home/cook/venv/eda_venv/lib/python3.10/site-packages/urllib3/connectionpool.py:1099: InsecureRequestWarning: Unverified HTTPS request is being made to host 'www.saramin.co.kr'. Adding certificate verification is strongly advised. See: https://urllib3.readthedocs.io/en/latest/advanced-usage.html#tls-warnings\n",
      "  warnings.warn(\n"
     ]
    },
    {
     "name": "stdout",
     "output_type": "stream",
     "text": [
      "NGJqRDg5S0pDbkpCNjdXbE15bUIxdz09 (주)휴먼트리월드와이드 [국내 코스피상장업체]  로봇제품개발PM\n",
      "2024-09-27 09:00:00\n",
      "경영 컨설팅업\n",
      "2011년 6월 24일\n",
      "2011-06-24 00:00:00\n",
      "49089319\n"
     ]
    },
    {
     "name": "stderr",
     "output_type": "stream",
     "text": [
      "/home/cook/venv/eda_venv/lib/python3.10/site-packages/urllib3/connectionpool.py:1099: InsecureRequestWarning: Unverified HTTPS request is being made to host 'www.saramin.co.kr'. Adding certificate verification is strongly advised. See: https://urllib3.readthedocs.io/en/latest/advanced-usage.html#tls-warnings\n",
      "  warnings.warn(\n"
     ]
    },
    {
     "name": "stdout",
     "output_type": "stream",
     "text": [
      "cDNlNzFteTM1N1pZTmJMNlh6WUY2UT09 두산로보틱스(주) 2024년 두산로보틱스 채용연계형 인턴 채용(로봇 운용 SW)\n",
      "2024-09-23 00:00:00\n",
      "산업용 로봇 제조업\n",
      "2015년 7월 31일\n",
      "2015-07-31 00:00:00\n",
      "http://www.doosanrobotics.com\n",
      "49089184\n"
     ]
    },
    {
     "name": "stderr",
     "output_type": "stream",
     "text": [
      "/home/cook/venv/eda_venv/lib/python3.10/site-packages/urllib3/connectionpool.py:1099: InsecureRequestWarning: Unverified HTTPS request is being made to host 'www.saramin.co.kr'. Adding certificate verification is strongly advised. See: https://urllib3.readthedocs.io/en/latest/advanced-usage.html#tls-warnings\n",
      "  warnings.warn(\n"
     ]
    },
    {
     "name": "stdout",
     "output_type": "stream",
     "text": [
      "clI2cFZ4WCtBaWZiSnJKN2l2RlZ2Zz09 다임리서치(주) Daim Research 솔루션 SDET(QA Engineer) 모집\n",
      "2024-09-27 09:00:00\n",
      "컴퓨터시스템 통합 자문 및 구축 서비스업\n",
      "2020년 2월 5일\n",
      "2020-02-05 00:00:00\n",
      "www.daimresearch.com/\n",
      "49088833\n"
     ]
    },
    {
     "name": "stderr",
     "output_type": "stream",
     "text": [
      "/home/cook/venv/eda_venv/lib/python3.10/site-packages/urllib3/connectionpool.py:1099: InsecureRequestWarning: Unverified HTTPS request is being made to host 'www.saramin.co.kr'. Adding certificate verification is strongly advised. See: https://urllib3.readthedocs.io/en/latest/advanced-usage.html#tls-warnings\n",
      "  warnings.warn(\n"
     ]
    },
    {
     "name": "stdout",
     "output_type": "stream",
     "text": [
      "akxWaGNVUmpFM0tOVkwyMXFJa0tJUT09 탑커리어인사이트 임베디드SW개발/연봉제한없음\n",
      "2024-09-27 08:00:00\n",
      "서비스업\n",
      "www.topcareerinsight.co.kr\n",
      "49088773\n"
     ]
    },
    {
     "name": "stderr",
     "output_type": "stream",
     "text": [
      "/home/cook/venv/eda_venv/lib/python3.10/site-packages/urllib3/connectionpool.py:1099: InsecureRequestWarning: Unverified HTTPS request is being made to host 'www.saramin.co.kr'. Adding certificate verification is strongly advised. See: https://urllib3.readthedocs.io/en/latest/advanced-usage.html#tls-warnings\n",
      "  warnings.warn(\n"
     ]
    },
    {
     "name": "stdout",
     "output_type": "stream",
     "text": [
      "RjA5RlhjM1JTMXZjdzZzNEpqNWNadz09 (주)다인큐브 임베디드 시스템 소프트웨어 및 펌웨어 개발자 (Linux 환경)\n",
      "2024-09-27 08:00:00\n",
      "그 외 기타 전자부품 제조업\n",
      "2005년 4월 15일\n",
      "2005-04-15 00:00:00\n",
      "www.daincube.com\n",
      "49088117\n"
     ]
    },
    {
     "name": "stderr",
     "output_type": "stream",
     "text": [
      "/home/cook/venv/eda_venv/lib/python3.10/site-packages/urllib3/connectionpool.py:1099: InsecureRequestWarning: Unverified HTTPS request is being made to host 'www.saramin.co.kr'. Adding certificate verification is strongly advised. See: https://urllib3.readthedocs.io/en/latest/advanced-usage.html#tls-warnings\n",
      "  warnings.warn(\n"
     ]
    },
    {
     "name": "stdout",
     "output_type": "stream",
     "text": [
      "S0hPQnFNWTdWS1Q4WjMxaFBDOFJJdz09 (주)아데코코리아 [자율주행/서울] Infrastructure/IoT PM\n",
      "2024-09-26 19:00:00\n",
      "상용 인력 공급 및 인사관리 서비스업\n",
      "1999년 5월 6일\n",
      "1999-05-06 00:00:00\n",
      "www.adecco.co.kr\n",
      "49087863\n"
     ]
    },
    {
     "name": "stderr",
     "output_type": "stream",
     "text": [
      "/home/cook/venv/eda_venv/lib/python3.10/site-packages/urllib3/connectionpool.py:1099: InsecureRequestWarning: Unverified HTTPS request is being made to host 'www.saramin.co.kr'. Adding certificate verification is strongly advised. See: https://urllib3.readthedocs.io/en/latest/advanced-usage.html#tls-warnings\n",
      "  warnings.warn(\n"
     ]
    },
    {
     "name": "stdout",
     "output_type": "stream",
     "text": [
      "Z0ZiN2hPU3pxcHdoVTRPNEZOaHhKUT09 (주)화인코왁 '24년도 (주)화인코왁 무인항공시스템 부문 신입/경력 채용\n",
      "2024-09-26 18:00:00\n",
      "그 외 기타 특수목적용 기계 제조업\n",
      "1992년 3월 16일\n",
      "1992-03-16 00:00:00\n",
      "www.finekowac.com\n",
      "49087773\n"
     ]
    },
    {
     "name": "stderr",
     "output_type": "stream",
     "text": [
      "/home/cook/venv/eda_venv/lib/python3.10/site-packages/urllib3/connectionpool.py:1099: InsecureRequestWarning: Unverified HTTPS request is being made to host 'www.saramin.co.kr'. Adding certificate verification is strongly advised. See: https://urllib3.readthedocs.io/en/latest/advanced-usage.html#tls-warnings\n",
      "  warnings.warn(\n"
     ]
    },
    {
     "name": "stdout",
     "output_type": "stream",
     "text": [
      "aUZzSWg2dFh4R3dlWGdVbnJqT0tkQT09 (주)휴톰 [HUTOM] 의료기기 소프트웨어 / 필드서비스 담당자 모집\n",
      "2024-09-26 17:00:00\n",
      "49087575\n"
     ]
    },
    {
     "name": "stderr",
     "output_type": "stream",
     "text": [
      "/home/cook/venv/eda_venv/lib/python3.10/site-packages/urllib3/connectionpool.py:1099: InsecureRequestWarning: Unverified HTTPS request is being made to host 'www.saramin.co.kr'. Adding certificate verification is strongly advised. See: https://urllib3.readthedocs.io/en/latest/advanced-usage.html#tls-warnings\n",
      "  warnings.warn(\n"
     ]
    },
    {
     "name": "stdout",
     "output_type": "stream",
     "text": [
      "cWlKYzY4dHdEM2FXMkQwRTFoU0Mwdz09 (주)디스펙터 로보틱스 AI 및 SW 개발자 채용공고 (석사)\n",
      "2024-09-26 17:00:00\n",
      "컴퓨터 프로그래밍 서비스업\n",
      "2022년 6월 28일\n",
      "2022-06-28 00:00:00\n",
      "49087209\n"
     ]
    },
    {
     "name": "stderr",
     "output_type": "stream",
     "text": [
      "/home/cook/venv/eda_venv/lib/python3.10/site-packages/urllib3/connectionpool.py:1099: InsecureRequestWarning: Unverified HTTPS request is being made to host 'www.saramin.co.kr'. Adding certificate verification is strongly advised. See: https://urllib3.readthedocs.io/en/latest/advanced-usage.html#tls-warnings\n",
      "  warnings.warn(\n"
     ]
    },
    {
     "name": "stdout",
     "output_type": "stream",
     "text": [
      "cUxkWEJNNk5zdmNIYm5sYWNCbjlLQT09 (주)페이히어 [페이히어] 필드 서비스 설치 매니저 (부산)\n",
      "2024-09-26 17:00:00\n",
      "2019년 8월 1일\n",
      "2019-08-01 00:00:00\n",
      "http://payhere.in/\n",
      "49086971\n"
     ]
    },
    {
     "name": "stderr",
     "output_type": "stream",
     "text": [
      "/home/cook/venv/eda_venv/lib/python3.10/site-packages/urllib3/connectionpool.py:1099: InsecureRequestWarning: Unverified HTTPS request is being made to host 'www.saramin.co.kr'. Adding certificate verification is strongly advised. See: https://urllib3.readthedocs.io/en/latest/advanced-usage.html#tls-warnings\n",
      "  warnings.warn(\n"
     ]
    },
    {
     "name": "stdout",
     "output_type": "stream",
     "text": [
      "ZmZPZkM0MU9lekc2T3RIaENuT2lYZz09 (주)엑소시스템즈 디지털헬스케어 플랫폼 임베디드 개발자 (병역특례 가능)\n",
      "2024-09-27 00:00:00\n",
      "전기식 진단 및 요법 기기 제조업\n",
      "2017년 1월 4일\n",
      "2017-01-04 00:00:00\n",
      "www.exosystems.io\n",
      "49086965\n"
     ]
    },
    {
     "name": "stderr",
     "output_type": "stream",
     "text": [
      "/home/cook/venv/eda_venv/lib/python3.10/site-packages/urllib3/connectionpool.py:1099: InsecureRequestWarning: Unverified HTTPS request is being made to host 'www.saramin.co.kr'. Adding certificate verification is strongly advised. See: https://urllib3.readthedocs.io/en/latest/advanced-usage.html#tls-warnings\n",
      "  warnings.warn(\n"
     ]
    },
    {
     "name": "stdout",
     "output_type": "stream",
     "text": [
      "ZmZPZkM0MU9lekc2T3RIaENuT2lYZz09 (주)엑소시스템즈 디지털헬스케어 플랫폼 SW개발자(병역특례 가능)\n",
      "2024-09-27 00:00:00\n",
      "전기식 진단 및 요법 기기 제조업\n",
      "2017년 1월 4일\n",
      "2017-01-04 00:00:00\n",
      "www.exosystems.io\n",
      "49086959\n"
     ]
    },
    {
     "name": "stderr",
     "output_type": "stream",
     "text": [
      "/home/cook/venv/eda_venv/lib/python3.10/site-packages/urllib3/connectionpool.py:1099: InsecureRequestWarning: Unverified HTTPS request is being made to host 'www.saramin.co.kr'. Adding certificate verification is strongly advised. See: https://urllib3.readthedocs.io/en/latest/advanced-usage.html#tls-warnings\n",
      "  warnings.warn(\n"
     ]
    },
    {
     "name": "stdout",
     "output_type": "stream",
     "text": [
      "ZmZPZkM0MU9lekc2T3RIaENuT2lYZz09 (주)엑소시스템즈 디지털헬스케어 플랫폼 AI 엔지니어 (병역특례 가능)\n",
      "2024-09-27 00:00:00\n",
      "전기식 진단 및 요법 기기 제조업\n",
      "2017년 1월 4일\n",
      "2017-01-04 00:00:00\n",
      "www.exosystems.io\n",
      "49086387\n"
     ]
    },
    {
     "name": "stderr",
     "output_type": "stream",
     "text": [
      "/home/cook/venv/eda_venv/lib/python3.10/site-packages/urllib3/connectionpool.py:1099: InsecureRequestWarning: Unverified HTTPS request is being made to host 'www.saramin.co.kr'. Adding certificate verification is strongly advised. See: https://urllib3.readthedocs.io/en/latest/advanced-usage.html#tls-warnings\n",
      "  warnings.warn(\n"
     ]
    },
    {
     "name": "stdout",
     "output_type": "stream",
     "text": [
      "bkcvMzNoSmZoVjNrbjI4d3RTWURQQT09 (주)토르드라이브 [ThorDrive] Robotics Software Engineer\n",
      "2024-09-26 16:00:00\n",
      "49086216\n"
     ]
    },
    {
     "name": "stderr",
     "output_type": "stream",
     "text": [
      "/home/cook/venv/eda_venv/lib/python3.10/site-packages/urllib3/connectionpool.py:1099: InsecureRequestWarning: Unverified HTTPS request is being made to host 'www.saramin.co.kr'. Adding certificate verification is strongly advised. See: https://urllib3.readthedocs.io/en/latest/advanced-usage.html#tls-warnings\n",
      "  warnings.warn(\n"
     ]
    },
    {
     "name": "stdout",
     "output_type": "stream",
     "text": [
      "bkcvMzNoSmZoVjNrbjI4d3RTWURQQT09 (주)토르드라이브 [ThorDrive] 자율주행로봇(AMR) 멀티에이전트 알고리즘 개발\n",
      "2024-09-26 15:00:00\n",
      "49086148\n"
     ]
    },
    {
     "name": "stderr",
     "output_type": "stream",
     "text": [
      "/home/cook/venv/eda_venv/lib/python3.10/site-packages/urllib3/connectionpool.py:1099: InsecureRequestWarning: Unverified HTTPS request is being made to host 'www.saramin.co.kr'. Adding certificate verification is strongly advised. See: https://urllib3.readthedocs.io/en/latest/advanced-usage.html#tls-warnings\n",
      "  warnings.warn(\n"
     ]
    },
    {
     "name": "stdout",
     "output_type": "stream",
     "text": [
      "bkcvMzNoSmZoVjNrbjI4d3RTWURQQT09 (주)토르드라이브 [ThorDrive] 자율주행로봇(AMR) 경로계획 SW 개발\n",
      "2024-09-26 15:00:00\n",
      "49084793\n"
     ]
    },
    {
     "name": "stderr",
     "output_type": "stream",
     "text": [
      "/home/cook/venv/eda_venv/lib/python3.10/site-packages/urllib3/connectionpool.py:1099: InsecureRequestWarning: Unverified HTTPS request is being made to host 'www.saramin.co.kr'. Adding certificate verification is strongly advised. See: https://urllib3.readthedocs.io/en/latest/advanced-usage.html#tls-warnings\n",
      "  warnings.warn(\n"
     ]
    },
    {
     "name": "stdout",
     "output_type": "stream",
     "text": [
      "aGRYbWRuMHlxV21kMTVNVjNCYWkxZz09 (주)에프에스솔루션 [경력] AI 동영상 편집 플랫폼 기획자 모집\n",
      "2024-09-26 14:00:00\n",
      "응용 소프트웨어 개발 및 공급업\n",
      "2015년 12월 18일\n",
      "2015-12-18 00:00:00\n",
      "www.fslabs.ai\n",
      "49084592\n"
     ]
    },
    {
     "name": "stderr",
     "output_type": "stream",
     "text": [
      "/home/cook/venv/eda_venv/lib/python3.10/site-packages/urllib3/connectionpool.py:1099: InsecureRequestWarning: Unverified HTTPS request is being made to host 'www.saramin.co.kr'. Adding certificate verification is strongly advised. See: https://urllib3.readthedocs.io/en/latest/advanced-usage.html#tls-warnings\n",
      "  warnings.warn(\n"
     ]
    },
    {
     "name": "stdout",
     "output_type": "stream",
     "text": [
      "NDR0am12cGlGdU9Hb0hadndzaWhNZz09 (주)엔티렉스 [REXBOT] 장비 엔지니어 모집(정규직/신입 가능)\n",
      "2024-09-26 13:00:00\n",
      "산업용 로봇 제조업\n",
      "2003년 12월 17일\n",
      "2003-12-17 00:00:00\n",
      "www.ntrex.co.kr\n"
     ]
    },
    {
     "name": "stderr",
     "output_type": "stream",
     "text": [
      "/home/cook/venv/eda_venv/lib/python3.10/site-packages/urllib3/connectionpool.py:1099: InsecureRequestWarning: Unverified HTTPS request is being made to host 'www.saramin.co.kr'. Adding certificate verification is strongly advised. See: https://urllib3.readthedocs.io/en/latest/advanced-usage.html#tls-warnings\n",
      "  warnings.warn(\n"
     ]
    },
    {
     "name": "stdout",
     "output_type": "stream",
     "text": [
      "49084108\n"
     ]
    },
    {
     "name": "stderr",
     "output_type": "stream",
     "text": [
      "/home/cook/venv/eda_venv/lib/python3.10/site-packages/urllib3/connectionpool.py:1099: InsecureRequestWarning: Unverified HTTPS request is being made to host 'www.saramin.co.kr'. Adding certificate verification is strongly advised. See: https://urllib3.readthedocs.io/en/latest/advanced-usage.html#tls-warnings\n",
      "  warnings.warn(\n"
     ]
    },
    {
     "name": "stdout",
     "output_type": "stream",
     "text": [
      "QlJLZFE3OGY2dEhBaVFmV085NktoUT09 (주)글로비트 [(주)글로비트] 기술연구소 SW개발자(경력3년 이상) 채용\n",
      "2024-09-26 13:00:00\n",
      "기타 반도체소자 제조업\n",
      "2011년 12월 28일\n",
      "2011-12-28 00:00:00\n",
      "http://globit.co.kr\n",
      "49084035\n"
     ]
    },
    {
     "name": "stderr",
     "output_type": "stream",
     "text": [
      "/home/cook/venv/eda_venv/lib/python3.10/site-packages/urllib3/connectionpool.py:1099: InsecureRequestWarning: Unverified HTTPS request is being made to host 'www.saramin.co.kr'. Adding certificate verification is strongly advised. See: https://urllib3.readthedocs.io/en/latest/advanced-usage.html#tls-warnings\n",
      "  warnings.warn(\n"
     ]
    },
    {
     "name": "stdout",
     "output_type": "stream",
     "text": [
      "QlJLZFE3OGY2dEhBaVFmV085NktoUT09 (주)글로비트 [(주)글로비트] 기술연구소 하드웨어 개발자(신입/경력) 채용\n",
      "2024-09-26 13:00:00\n",
      "기타 반도체소자 제조업\n",
      "2011년 12월 28일\n",
      "2011-12-28 00:00:00\n",
      "http://globit.co.kr\n",
      "49083964\n"
     ]
    },
    {
     "name": "stderr",
     "output_type": "stream",
     "text": [
      "/home/cook/venv/eda_venv/lib/python3.10/site-packages/urllib3/connectionpool.py:1099: InsecureRequestWarning: Unverified HTTPS request is being made to host 'www.saramin.co.kr'. Adding certificate verification is strongly advised. See: https://urllib3.readthedocs.io/en/latest/advanced-usage.html#tls-warnings\n",
      "  warnings.warn(\n"
     ]
    },
    {
     "name": "stdout",
     "output_type": "stream",
     "text": [
      "RVpPUFMxUzVsU1NNK1YvVU5YS2Radz09 서울다이나믹스(주) [서울다이나믹스] 자동제어(automatic control) 담당자 모집\n",
      "2024-09-26 13:00:00\n",
      "화물자동차 및 특수목적용 자동차 제조업\n",
      "2022년 7월 15일\n",
      "2022-07-15 00:00:00\n",
      "www.seouldynamics.com\n",
      "49083902\n"
     ]
    },
    {
     "name": "stderr",
     "output_type": "stream",
     "text": [
      "/home/cook/venv/eda_venv/lib/python3.10/site-packages/urllib3/connectionpool.py:1099: InsecureRequestWarning: Unverified HTTPS request is being made to host 'www.saramin.co.kr'. Adding certificate verification is strongly advised. See: https://urllib3.readthedocs.io/en/latest/advanced-usage.html#tls-warnings\n",
      "  warnings.warn(\n"
     ]
    },
    {
     "name": "stdout",
     "output_type": "stream",
     "text": [
      "RVpPUFMxUzVsU1NNK1YvVU5YS2Radz09 서울다이나믹스(주) [서울다이나믹스]경영전략/시장분석 신입 및 인턴 채용\n",
      "2024-09-26 11:00:00\n",
      "화물자동차 및 특수목적용 자동차 제조업\n",
      "2022년 7월 15일\n",
      "2022-07-15 00:00:00\n",
      "www.seouldynamics.com\n",
      "49083202\n"
     ]
    },
    {
     "name": "stderr",
     "output_type": "stream",
     "text": [
      "/home/cook/venv/eda_venv/lib/python3.10/site-packages/urllib3/connectionpool.py:1099: InsecureRequestWarning: Unverified HTTPS request is being made to host 'www.saramin.co.kr'. Adding certificate verification is strongly advised. See: https://urllib3.readthedocs.io/en/latest/advanced-usage.html#tls-warnings\n",
      "  warnings.warn(\n"
     ]
    },
    {
     "name": "stdout",
     "output_type": "stream",
     "text": [
      "RVpPUFMxUzVsU1NNK1YvVU5YS2Radz09 서울다이나믹스(주) [서울다이나믹스] CNC 기계조작원 정규직 채용\n",
      "2024-09-26 11:00:00\n",
      "화물자동차 및 특수목적용 자동차 제조업\n",
      "2022년 7월 15일\n",
      "2022-07-15 00:00:00\n",
      "www.seouldynamics.com\n",
      "49083187\n"
     ]
    },
    {
     "name": "stderr",
     "output_type": "stream",
     "text": [
      "/home/cook/venv/eda_venv/lib/python3.10/site-packages/urllib3/connectionpool.py:1099: InsecureRequestWarning: Unverified HTTPS request is being made to host 'www.saramin.co.kr'. Adding certificate verification is strongly advised. See: https://urllib3.readthedocs.io/en/latest/advanced-usage.html#tls-warnings\n",
      "  warnings.warn(\n"
     ]
    },
    {
     "name": "stdout",
     "output_type": "stream",
     "text": [
      "N3VpN1djZ1JJeFJKSk1MdGllRldTUT09 그린에이아이 IT 사업계획서 및 제안서 작성 직무와 관련되신 분을 찾습니다.\n",
      "2024-09-26 11:00:00\n",
      "응용 소프트웨어 개발 및 공급업\n",
      "49083023\n"
     ]
    },
    {
     "name": "stderr",
     "output_type": "stream",
     "text": [
      "/home/cook/venv/eda_venv/lib/python3.10/site-packages/urllib3/connectionpool.py:1099: InsecureRequestWarning: Unverified HTTPS request is being made to host 'www.saramin.co.kr'. Adding certificate verification is strongly advised. See: https://urllib3.readthedocs.io/en/latest/advanced-usage.html#tls-warnings\n",
      "  warnings.warn(\n"
     ]
    },
    {
     "name": "stdout",
     "output_type": "stream",
     "text": [
      "SWJGTmxSUE11blBIR0VFL1ZtYlBxUT09 (주)유니트론텍 기업부설연구소 Application개발자 경력사원 채용\n",
      "2024-09-26 11:00:00\n",
      "전기용 기계ㆍ장비 및 관련 기자재 도매업\n",
      "1996년 6월 19일\n",
      "1996-06-19 00:00:00\n",
      "http://unitrontech.com\n",
      "49082484\n"
     ]
    },
    {
     "name": "stderr",
     "output_type": "stream",
     "text": [
      "/home/cook/venv/eda_venv/lib/python3.10/site-packages/urllib3/connectionpool.py:1099: InsecureRequestWarning: Unverified HTTPS request is being made to host 'www.saramin.co.kr'. Adding certificate verification is strongly advised. See: https://urllib3.readthedocs.io/en/latest/advanced-usage.html#tls-warnings\n",
      "  warnings.warn(\n"
     ]
    },
    {
     "name": "stdout",
     "output_type": "stream",
     "text": [
      "b1JFb3lmRTliT2FGQStYUlVmNkhxUT09 (주)투비파트너즈 [인재채용] FPGA SW개발자(Verilog, 대리 이상)부문 경력 채용\n",
      "2024-09-26 10:00:00\n",
      "고용 알선업\n",
      "2016년 5월 20일\n",
      "2016-05-20 00:00:00\n",
      "tbps.co.kr\n",
      "49081121\n"
     ]
    },
    {
     "name": "stderr",
     "output_type": "stream",
     "text": [
      "/home/cook/venv/eda_venv/lib/python3.10/site-packages/urllib3/connectionpool.py:1099: InsecureRequestWarning: Unverified HTTPS request is being made to host 'www.saramin.co.kr'. Adding certificate verification is strongly advised. See: https://urllib3.readthedocs.io/en/latest/advanced-usage.html#tls-warnings\n",
      "  warnings.warn(\n"
     ]
    },
    {
     "name": "stdout",
     "output_type": "stream",
     "text": [
      "N1RwdnBkdTVSZGpReHJnNlV3eUlwUT09 (주)피플케어코리아 국내 최대 종합 렌탈기업 전략영업본부장 채용건\n",
      "2024-09-26 09:00:00\n",
      "경영 컨설팅업\n",
      "49080197\n"
     ]
    },
    {
     "name": "stderr",
     "output_type": "stream",
     "text": [
      "/home/cook/venv/eda_venv/lib/python3.10/site-packages/urllib3/connectionpool.py:1099: InsecureRequestWarning: Unverified HTTPS request is being made to host 'www.saramin.co.kr'. Adding certificate verification is strongly advised. See: https://urllib3.readthedocs.io/en/latest/advanced-usage.html#tls-warnings\n",
      "  warnings.warn(\n"
     ]
    },
    {
     "name": "stdout",
     "output_type": "stream",
     "text": [
      "RFovUjJwNmRVMjNrUC83LzVRNkVmdz09 반석써치(주) 코스닥로봇기업 기구설계 / PLC / Project PM\n",
      "2024-09-26 07:00:00\n",
      "상품 종합 도매업\n",
      "2007년 2월 22일\n",
      "2007-02-22 00:00:00\n",
      "http://www.banseog.co.kr/\n",
      "49080044\n"
     ]
    },
    {
     "name": "stderr",
     "output_type": "stream",
     "text": [
      "/home/cook/venv/eda_venv/lib/python3.10/site-packages/urllib3/connectionpool.py:1099: InsecureRequestWarning: Unverified HTTPS request is being made to host 'www.saramin.co.kr'. Adding certificate verification is strongly advised. See: https://urllib3.readthedocs.io/en/latest/advanced-usage.html#tls-warnings\n",
      "  warnings.warn(\n"
     ]
    },
    {
     "name": "stdout",
     "output_type": "stream",
     "text": [
      "QmVTdStDbU8xNkFmRGVXQ2lNU2dMdz09 (주)랩투마켓 로봇/기계 설계 분야 경력자 채용\n",
      "2024-09-25 23:00:00\n",
      "그 외 기타 특수목적용 기계 제조업\n",
      "2015년 3월 9일\n",
      "2015-03-09 00:00:00\n",
      "www.lab2m.com\n",
      "49079418\n"
     ]
    },
    {
     "name": "stderr",
     "output_type": "stream",
     "text": [
      "/home/cook/venv/eda_venv/lib/python3.10/site-packages/urllib3/connectionpool.py:1099: InsecureRequestWarning: Unverified HTTPS request is being made to host 'www.saramin.co.kr'. Adding certificate verification is strongly advised. See: https://urllib3.readthedocs.io/en/latest/advanced-usage.html#tls-warnings\n",
      "  warnings.warn(\n"
     ]
    },
    {
     "name": "stdout",
     "output_type": "stream",
     "text": [
      "WFBMV2tvNGdwZllPTGFObVhoMmJyQT09 주식회사 매이드 (MADDE Inc.) [현대자동차 분사스타트업] (주) 매이드 연구개발 엔지니어 채용\n",
      "2024-09-25 18:00:00\n",
      "기계·설비·자동차\n",
      "www.madde.co.kr\n",
      "49079173\n"
     ]
    },
    {
     "name": "stderr",
     "output_type": "stream",
     "text": [
      "/home/cook/venv/eda_venv/lib/python3.10/site-packages/urllib3/connectionpool.py:1099: InsecureRequestWarning: Unverified HTTPS request is being made to host 'www.saramin.co.kr'. Adding certificate verification is strongly advised. See: https://urllib3.readthedocs.io/en/latest/advanced-usage.html#tls-warnings\n",
      "  warnings.warn(\n"
     ]
    },
    {
     "name": "stdout",
     "output_type": "stream",
     "text": [
      "ZVZaQjdCQzNKUnNaNmRaZm5KQ1hJQT09 (주)메디인테크 의료기기 마케팅  신입 및 경력 채용\n",
      "2024-09-25 17:00:00\n",
      "그 외 기타 의료용 기기 제조업\n",
      "2020년 2월 12일\n",
      "2020-02-12 00:00:00\n",
      "medintech.co.kr\n",
      "49078611\n"
     ]
    },
    {
     "name": "stderr",
     "output_type": "stream",
     "text": [
      "/home/cook/venv/eda_venv/lib/python3.10/site-packages/urllib3/connectionpool.py:1099: InsecureRequestWarning: Unverified HTTPS request is being made to host 'www.saramin.co.kr'. Adding certificate verification is strongly advised. See: https://urllib3.readthedocs.io/en/latest/advanced-usage.html#tls-warnings\n",
      "  warnings.warn(\n"
     ]
    },
    {
     "name": "stdout",
     "output_type": "stream",
     "text": [
      "d0V2bzBtTVRvT25KRVo5MThmQXhUdz09 (주)에이트테크 Software Engineer 정규직원 채용\n",
      "2024-09-25 00:00:00\n",
      "산업용 로봇 제조업\n",
      "2020년 5월 28일\n",
      "2020-05-28 00:00:00\n",
      "aetech.co.kr\n",
      "49078478\n"
     ]
    },
    {
     "name": "stderr",
     "output_type": "stream",
     "text": [
      "/home/cook/venv/eda_venv/lib/python3.10/site-packages/urllib3/connectionpool.py:1099: InsecureRequestWarning: Unverified HTTPS request is being made to host 'www.saramin.co.kr'. Adding certificate verification is strongly advised. See: https://urllib3.readthedocs.io/en/latest/advanced-usage.html#tls-warnings\n",
      "  warnings.warn(\n"
     ]
    },
    {
     "name": "stdout",
     "output_type": "stream",
     "text": [
      "NStpb0lGZlVHZlVlakFZNGljbjR0UT09 라이프앤사이언스(주) 로보토리 교육 콘텐츠 기획 및 개발 과장 or 대리 급 모집\n",
      "2024-09-25 17:00:00\n",
      "산업용 로봇 제조업\n",
      "2008년 1월 11일\n",
      "2008-01-11 00:00:00\n",
      "http://lnsworld.co.kr/\n",
      "49078047\n"
     ]
    },
    {
     "name": "stderr",
     "output_type": "stream",
     "text": [
      "/home/cook/venv/eda_venv/lib/python3.10/site-packages/urllib3/connectionpool.py:1099: InsecureRequestWarning: Unverified HTTPS request is being made to host 'www.saramin.co.kr'. Adding certificate verification is strongly advised. See: https://urllib3.readthedocs.io/en/latest/advanced-usage.html#tls-warnings\n",
      "  warnings.warn(\n"
     ]
    },
    {
     "name": "stdout",
     "output_type": "stream",
     "text": [
      "bzNpRTFlYkZ6dlgyWUxHd0hVbEJ2Zz09 (주)스탠튼체이스코리아 Global Automotive 기업 생산기술 (경력 5년 이상)\n",
      "2024-09-25 16:00:00\n",
      "임시 및 일용 인력 공급업\n",
      "49077842\n"
     ]
    },
    {
     "name": "stderr",
     "output_type": "stream",
     "text": [
      "/home/cook/venv/eda_venv/lib/python3.10/site-packages/urllib3/connectionpool.py:1099: InsecureRequestWarning: Unverified HTTPS request is being made to host 'www.saramin.co.kr'. Adding certificate verification is strongly advised. See: https://urllib3.readthedocs.io/en/latest/advanced-usage.html#tls-warnings\n",
      "  warnings.warn(\n"
     ]
    },
    {
     "name": "stdout",
     "output_type": "stream",
     "text": [
      "NHBZWUhZcG1oWUtzeitvM0VzdjNjQT09 (주)한컴아카데미 [판교 본사] 한국어교육사업부 교육사업팀원 채용\n",
      "2024-09-25 15:00:00\n",
      "응용 소프트웨어 개발 및 공급업\n",
      "2020년 3월 13일\n",
      "2020-03-13 00:00:00\n",
      "hancomacademy.com\n",
      "49077450\n"
     ]
    },
    {
     "name": "stderr",
     "output_type": "stream",
     "text": [
      "/home/cook/venv/eda_venv/lib/python3.10/site-packages/urllib3/connectionpool.py:1099: InsecureRequestWarning: Unverified HTTPS request is being made to host 'www.saramin.co.kr'. Adding certificate verification is strongly advised. See: https://urllib3.readthedocs.io/en/latest/advanced-usage.html#tls-warnings\n",
      "  warnings.warn(\n"
     ]
    },
    {
     "name": "stdout",
     "output_type": "stream",
     "text": [
      "TTY2SDZqTllvQXlCYXhMdFJnMUtNQT09 한맥콘트롤즈(주) 각 부문 신입 및 경력직 모집\n",
      "2024-09-25 00:00:00\n",
      "산업처리공정 제어장비 제조업\n",
      "2000년 2월 21일\n",
      "2000-02-21 00:00:00\n",
      "han-mech.co.kr\n",
      "49077171\n"
     ]
    },
    {
     "name": "stderr",
     "output_type": "stream",
     "text": [
      "/home/cook/venv/eda_venv/lib/python3.10/site-packages/urllib3/connectionpool.py:1099: InsecureRequestWarning: Unverified HTTPS request is being made to host 'www.saramin.co.kr'. Adding certificate verification is strongly advised. See: https://urllib3.readthedocs.io/en/latest/advanced-usage.html#tls-warnings\n",
      "  warnings.warn(\n"
     ]
    },
    {
     "name": "stdout",
     "output_type": "stream",
     "text": [
      "S3E4a0lTYXdabFV6L2RuaW9wNXZnUT09 주) 석세스코리아컨설팅 [중견 상장기업] ACS 개발자(c#, Java, Javascript)를 모십니다.\n",
      "2024-09-25 15:00:00\n",
      "경영 컨설팅업\n",
      "2011년 7월 15일\n",
      "2011-07-15 00:00:00\n",
      "http://successkorea.com\n",
      "49076964\n"
     ]
    },
    {
     "name": "stderr",
     "output_type": "stream",
     "text": [
      "/home/cook/venv/eda_venv/lib/python3.10/site-packages/urllib3/connectionpool.py:1099: InsecureRequestWarning: Unverified HTTPS request is being made to host 'www.saramin.co.kr'. Adding certificate verification is strongly advised. See: https://urllib3.readthedocs.io/en/latest/advanced-usage.html#tls-warnings\n",
      "  warnings.warn(\n"
     ]
    },
    {
     "name": "stdout",
     "output_type": "stream",
     "text": [
      "S3E4a0lTYXdabFV6L2RuaW9wNXZnUT09 주) 석세스코리아컨설팅 [중견 상장기업] R&D SW(C/C++) 담당자를 모십니다.\n",
      "2024-09-25 14:00:00\n",
      "경영 컨설팅업\n",
      "2011년 7월 15일\n",
      "2011-07-15 00:00:00\n",
      "http://successkorea.com\n",
      "49076374\n"
     ]
    },
    {
     "name": "stderr",
     "output_type": "stream",
     "text": [
      "/home/cook/venv/eda_venv/lib/python3.10/site-packages/urllib3/connectionpool.py:1099: InsecureRequestWarning: Unverified HTTPS request is being made to host 'www.saramin.co.kr'. Adding certificate verification is strongly advised. See: https://urllib3.readthedocs.io/en/latest/advanced-usage.html#tls-warnings\n",
      "  warnings.warn(\n"
     ]
    },
    {
     "name": "stdout",
     "output_type": "stream",
     "text": [
      "b0p2MmFPMXBSZnlxSEQ3Q29sVmRuZz09 에이치알포유(주) 프론트엔드 / 백엔드 개발자 모집 (물류자동화 시스템 개발)\n",
      "2024-09-25 14:00:00\n",
      "49075846\n"
     ]
    },
    {
     "name": "stderr",
     "output_type": "stream",
     "text": [
      "/home/cook/venv/eda_venv/lib/python3.10/site-packages/urllib3/connectionpool.py:1099: InsecureRequestWarning: Unverified HTTPS request is being made to host 'www.saramin.co.kr'. Adding certificate verification is strongly advised. See: https://urllib3.readthedocs.io/en/latest/advanced-usage.html#tls-warnings\n",
      "  warnings.warn(\n"
     ]
    },
    {
     "name": "stdout",
     "output_type": "stream",
     "text": [
      "M2pTZmxZT04weVh2aFlqV3NtckNlZz09 로봇앤컴(주) [로봇앤컴주식회사] 인사 담당자 채용\n",
      "2024-09-25 13:00:00\n",
      "robotncom.com\n",
      "49075244\n"
     ]
    },
    {
     "name": "stderr",
     "output_type": "stream",
     "text": [
      "/home/cook/venv/eda_venv/lib/python3.10/site-packages/urllib3/connectionpool.py:1099: InsecureRequestWarning: Unverified HTTPS request is being made to host 'www.saramin.co.kr'. Adding certificate verification is strongly advised. See: https://urllib3.readthedocs.io/en/latest/advanced-usage.html#tls-warnings\n",
      "  warnings.warn(\n"
     ]
    },
    {
     "name": "stdout",
     "output_type": "stream",
     "text": [
      "bUQvNjByTXdUWml0L0R6QWZ0Wmg2Zz09 (주)디에스케이 머신비젼,모션제어 S/W 개발 직원 채용 (2차전지/Display)\n",
      "2024-09-25 12:00:00\n",
      "디스플레이 제조용 기계 제조업\n",
      "1995년 2월 6일\n",
      "1995-02-06 00:00:00\n",
      "www.dsk.co.kr\n",
      "49075058\n"
     ]
    },
    {
     "name": "stderr",
     "output_type": "stream",
     "text": [
      "/home/cook/venv/eda_venv/lib/python3.10/site-packages/urllib3/connectionpool.py:1099: InsecureRequestWarning: Unverified HTTPS request is being made to host 'www.saramin.co.kr'. Adding certificate verification is strongly advised. See: https://urllib3.readthedocs.io/en/latest/advanced-usage.html#tls-warnings\n",
      "  warnings.warn(\n"
     ]
    },
    {
     "name": "stdout",
     "output_type": "stream",
     "text": [
      "UjdHVytEQVhDQmVOQjlUNXhSZWpmUT09 (주)바스토테크놀로지스 (주)바스토테크놀로지스 경영지원팀 채용\n",
      "2024-09-25 12:00:00\n",
      "광고 대행업\n",
      "2023년 1월 6일\n",
      "2023-01-06 00:00:00\n",
      "https://bobstr.co.kr\n",
      "49074596\n"
     ]
    },
    {
     "name": "stderr",
     "output_type": "stream",
     "text": [
      "/home/cook/venv/eda_venv/lib/python3.10/site-packages/urllib3/connectionpool.py:1099: InsecureRequestWarning: Unverified HTTPS request is being made to host 'www.saramin.co.kr'. Adding certificate verification is strongly advised. See: https://urllib3.readthedocs.io/en/latest/advanced-usage.html#tls-warnings\n",
      "  warnings.warn(\n"
     ]
    },
    {
     "name": "stdout",
     "output_type": "stream",
     "text": [
      "b0p2MmFPMXBSZnlxSEQ3Q29sVmRuZz09 에이치알포유(주) 물류자동화솔루션 영업 팀장 및 팀원\n",
      "2024-09-25 11:00:00\n",
      "49074572\n"
     ]
    },
    {
     "name": "stderr",
     "output_type": "stream",
     "text": [
      "/home/cook/venv/eda_venv/lib/python3.10/site-packages/urllib3/connectionpool.py:1099: InsecureRequestWarning: Unverified HTTPS request is being made to host 'www.saramin.co.kr'. Adding certificate verification is strongly advised. See: https://urllib3.readthedocs.io/en/latest/advanced-usage.html#tls-warnings\n",
      "  warnings.warn(\n"
     ]
    },
    {
     "name": "stdout",
     "output_type": "stream",
     "text": [
      "b0p2MmFPMXBSZnlxSEQ3Q29sVmRuZz09 에이치알포유(주) 물류자동화솔루션  개발팀장 선발\n",
      "2024-09-25 11:00:00\n",
      "49073760\n"
     ]
    },
    {
     "name": "stderr",
     "output_type": "stream",
     "text": [
      "/home/cook/venv/eda_venv/lib/python3.10/site-packages/urllib3/connectionpool.py:1099: InsecureRequestWarning: Unverified HTTPS request is being made to host 'www.saramin.co.kr'. Adding certificate verification is strongly advised. See: https://urllib3.readthedocs.io/en/latest/advanced-usage.html#tls-warnings\n",
      "  warnings.warn(\n"
     ]
    },
    {
     "name": "stdout",
     "output_type": "stream",
     "text": [
      "M25Lc3NXbjNUU0hKT0RORHVFU1pYUT09 (주)복주 제품개발 지원 및 품질인증 부문 연구원 모집\n",
      "2024-09-26 00:00:00\n",
      "금속탱크 및 저장용기 제조업\n",
      "2009년 7월 16일\n",
      "2009-07-16 00:00:00\n",
      "www.bokju.com\n",
      "49073714\n"
     ]
    },
    {
     "name": "stderr",
     "output_type": "stream",
     "text": [
      "/home/cook/venv/eda_venv/lib/python3.10/site-packages/urllib3/connectionpool.py:1099: InsecureRequestWarning: Unverified HTTPS request is being made to host 'www.saramin.co.kr'. Adding certificate verification is strongly advised. See: https://urllib3.readthedocs.io/en/latest/advanced-usage.html#tls-warnings\n",
      "  warnings.warn(\n"
     ]
    },
    {
     "name": "stdout",
     "output_type": "stream",
     "text": [
      "clI2cFZ4WCtBaWZiSnJKN2l2RlZ2Zz09 다임리서치(주) Daim Research의 DT솔루션을 위한 Unity 3D 시니어 개발자 모집\n",
      "2024-09-25 10:00:00\n",
      "컴퓨터시스템 통합 자문 및 구축 서비스업\n",
      "2020년 2월 5일\n",
      "2020-02-05 00:00:00\n",
      "www.daimresearch.com/\n",
      "49073695\n"
     ]
    },
    {
     "name": "stderr",
     "output_type": "stream",
     "text": [
      "/home/cook/venv/eda_venv/lib/python3.10/site-packages/urllib3/connectionpool.py:1099: InsecureRequestWarning: Unverified HTTPS request is being made to host 'www.saramin.co.kr'. Adding certificate verification is strongly advised. See: https://urllib3.readthedocs.io/en/latest/advanced-usage.html#tls-warnings\n",
      "  warnings.warn(\n"
     ]
    },
    {
     "name": "stdout",
     "output_type": "stream",
     "text": [
      "clI2cFZ4WCtBaWZiSnJKN2l2RlZ2Zz09 다임리서치(주) Daim Research 공장자동화 Factory Designer 모집\n",
      "2024-09-25 10:00:00\n",
      "컴퓨터시스템 통합 자문 및 구축 서비스업\n",
      "2020년 2월 5일\n",
      "2020-02-05 00:00:00\n",
      "www.daimresearch.com/\n",
      "49073143\n"
     ]
    },
    {
     "name": "stderr",
     "output_type": "stream",
     "text": [
      "/home/cook/venv/eda_venv/lib/python3.10/site-packages/urllib3/connectionpool.py:1099: InsecureRequestWarning: Unverified HTTPS request is being made to host 'www.saramin.co.kr'. Adding certificate verification is strongly advised. See: https://urllib3.readthedocs.io/en/latest/advanced-usage.html#tls-warnings\n",
      "  warnings.warn(\n"
     ]
    },
    {
     "name": "stdout",
     "output_type": "stream",
     "text": [
      "aDJMWlBEMm0wT2laRVJ2dW50MEwrQT09 (주)맨파워코리아 [외국계 의료로봇] 소프트웨어 QA 담당 채용\n",
      "2024-09-25 10:00:00\n",
      "상용 인력 공급 및 인사관리 서비스업\n",
      "1999년 1월 18일\n",
      "1999-01-18 00:00:00\n",
      "www.manpower.co.kr\n",
      "49073025\n"
     ]
    },
    {
     "name": "stderr",
     "output_type": "stream",
     "text": [
      "/home/cook/venv/eda_venv/lib/python3.10/site-packages/urllib3/connectionpool.py:1099: InsecureRequestWarning: Unverified HTTPS request is being made to host 'www.saramin.co.kr'. Adding certificate verification is strongly advised. See: https://urllib3.readthedocs.io/en/latest/advanced-usage.html#tls-warnings\n",
      "  warnings.warn(\n"
     ]
    },
    {
     "name": "stdout",
     "output_type": "stream",
     "text": [
      "RW1RUy9UVVdEV1pySm0rODdyNnIzUT09 지엠비코리아(주) 2024년 지엠비코리아 부문별 신입 및 경력사원 채용\n",
      "2024-09-25 00:00:00\n",
      "그 외 자동차용 신품 부품 제조업\n",
      "1979년 2월 23일\n",
      "1979-02-23 00:00:00\n",
      "www.gmb.co.kr\n",
      "49072979\n"
     ]
    },
    {
     "name": "stderr",
     "output_type": "stream",
     "text": [
      "/home/cook/venv/eda_venv/lib/python3.10/site-packages/urllib3/connectionpool.py:1099: InsecureRequestWarning: Unverified HTTPS request is being made to host 'www.saramin.co.kr'. Adding certificate verification is strongly advised. See: https://urllib3.readthedocs.io/en/latest/advanced-usage.html#tls-warnings\n",
      "  warnings.warn(\n"
     ]
    },
    {
     "name": "stdout",
     "output_type": "stream",
     "text": [
      "KzRhWkI5UjlQb0tsb3JWZnk1ZFRSUT09 (주)디엠에스 각 부문별 채용(회계, IR/공시, 풍력/기술영업, 기구/기계설계, 펌웨어(F/W), PC제어(S/W), R&D기획관리 등)\n",
      "2024-09-25 00:00:00\n",
      "그 외 기타 특수목적용 기계 제조업\n",
      "1999년 7월 8일\n",
      "1999-07-08 00:00:00\n",
      "www.dms21.co.kr\n",
      "49072514\n"
     ]
    },
    {
     "name": "stderr",
     "output_type": "stream",
     "text": [
      "/home/cook/venv/eda_venv/lib/python3.10/site-packages/urllib3/connectionpool.py:1099: InsecureRequestWarning: Unverified HTTPS request is being made to host 'www.saramin.co.kr'. Adding certificate verification is strongly advised. See: https://urllib3.readthedocs.io/en/latest/advanced-usage.html#tls-warnings\n",
      "  warnings.warn(\n"
     ]
    },
    {
     "name": "stdout",
     "output_type": "stream",
     "text": [
      "LzQ2MFlJR1NTZW1mcFlZeUJ5V0NNUT09 (주)미래컴퍼니 2024년 하반기 각 사업부 신입/경력 채용\n",
      "2024-09-25 00:00:00\n",
      "반도체 제조용 기계 제조업\n",
      "1984년 11월 1일\n",
      "1984-11-01 00:00:00\n",
      "www.meerecompany.com\n",
      "49072241\n"
     ]
    },
    {
     "name": "stderr",
     "output_type": "stream",
     "text": [
      "/home/cook/venv/eda_venv/lib/python3.10/site-packages/urllib3/connectionpool.py:1099: InsecureRequestWarning: Unverified HTTPS request is being made to host 'www.saramin.co.kr'. Adding certificate verification is strongly advised. See: https://urllib3.readthedocs.io/en/latest/advanced-usage.html#tls-warnings\n",
      "  warnings.warn(\n"
     ]
    },
    {
     "name": "stdout",
     "output_type": "stream",
     "text": [
      "blV6aStSM0NFdW5DR0FkM3BGdTVPZz09 (주)에스더블유엠 [SWM] 사업/전략 기획자 채용 (전략기획실)\n",
      "2024-09-25 09:00:00\n",
      "응용 소프트웨어 개발 및 공급업\n",
      "2005년 4월 29일\n",
      "2005-04-29 00:00:00\n",
      "swm.ai\n",
      "49071662\n"
     ]
    },
    {
     "name": "stderr",
     "output_type": "stream",
     "text": [
      "/home/cook/venv/eda_venv/lib/python3.10/site-packages/urllib3/connectionpool.py:1099: InsecureRequestWarning: Unverified HTTPS request is being made to host 'www.saramin.co.kr'. Adding certificate verification is strongly advised. See: https://urllib3.readthedocs.io/en/latest/advanced-usage.html#tls-warnings\n",
      "  warnings.warn(\n"
     ]
    },
    {
     "name": "stdout",
     "output_type": "stream",
     "text": [
      "M3ZWbzdKUzY2QllYM09ob0tlSW9SZz09 (주)인스케이프 (주)인스케이프 기업부설연구소 경력인재 채용\n",
      "2024-09-25 08:00:00\n",
      "www.enscape.co.kr\n",
      "49071574\n"
     ]
    },
    {
     "name": "stderr",
     "output_type": "stream",
     "text": [
      "/home/cook/venv/eda_venv/lib/python3.10/site-packages/urllib3/connectionpool.py:1099: InsecureRequestWarning: Unverified HTTPS request is being made to host 'www.saramin.co.kr'. Adding certificate verification is strongly advised. See: https://urllib3.readthedocs.io/en/latest/advanced-usage.html#tls-warnings\n",
      "  warnings.warn(\n"
     ]
    },
    {
     "name": "stdout",
     "output_type": "stream",
     "text": [
      "Skh5N1B0U3VsbXgrMHljdUltMVgyUT09 SMI [경기 동탄] 반도체장비사 소프트웨어 개발\n",
      "2024-09-25 08:00:00\n",
      "2011년 7월 1일\n",
      "2011-07-01 00:00:00\n",
      "www.visionsmi.com\n",
      "49071569\n"
     ]
    },
    {
     "name": "stderr",
     "output_type": "stream",
     "text": [
      "/home/cook/venv/eda_venv/lib/python3.10/site-packages/urllib3/connectionpool.py:1099: InsecureRequestWarning: Unverified HTTPS request is being made to host 'www.saramin.co.kr'. Adding certificate verification is strongly advised. See: https://urllib3.readthedocs.io/en/latest/advanced-usage.html#tls-warnings\n",
      "  warnings.warn(\n"
     ]
    },
    {
     "name": "stdout",
     "output_type": "stream",
     "text": [
      "Skh5N1B0U3VsbXgrMHljdUltMVgyUT09 SMI [안휘성 합비시] 기계/화학사 AMHS S/W 전문가\n",
      "2024-09-25 08:00:00\n",
      "2011년 7월 1일\n",
      "2011-07-01 00:00:00\n",
      "www.visionsmi.com\n",
      "49071033\n"
     ]
    },
    {
     "name": "stderr",
     "output_type": "stream",
     "text": [
      "/home/cook/venv/eda_venv/lib/python3.10/site-packages/urllib3/connectionpool.py:1099: InsecureRequestWarning: Unverified HTTPS request is being made to host 'www.saramin.co.kr'. Adding certificate verification is strongly advised. See: https://urllib3.readthedocs.io/en/latest/advanced-usage.html#tls-warnings\n",
      "  warnings.warn(\n"
     ]
    },
    {
     "name": "stdout",
     "output_type": "stream",
     "text": [
      "SlNwN0NFZWJlanhxSzhoa2ttcjF5Zz09 (주)플라잎 [판교 / 로봇 스타트업] 기술영업 Technical Sales Manager\n",
      "2024-09-24 21:00:00\n",
      "시스템 소프트웨어 개발 및 공급업\n",
      "2020년 1월 29일\n",
      "2020-01-29 00:00:00\n",
      "www.plaif.com\n",
      "49069599\n"
     ]
    },
    {
     "name": "stderr",
     "output_type": "stream",
     "text": [
      "/home/cook/venv/eda_venv/lib/python3.10/site-packages/urllib3/connectionpool.py:1099: InsecureRequestWarning: Unverified HTTPS request is being made to host 'www.saramin.co.kr'. Adding certificate verification is strongly advised. See: https://urllib3.readthedocs.io/en/latest/advanced-usage.html#tls-warnings\n",
      "  warnings.warn(\n"
     ]
    },
    {
     "name": "stdout",
     "output_type": "stream",
     "text": [
      "TWM1VGhuZklZZGtHNzJpVUtyb2oydz09 (주)리브스메드 [연구소 로봇] Instrument 기구설계 Engineer (과장-부장급)\n",
      "2024-09-24 17:00:00\n",
      "49069498\n"
     ]
    },
    {
     "name": "stderr",
     "output_type": "stream",
     "text": [
      "/home/cook/venv/eda_venv/lib/python3.10/site-packages/urllib3/connectionpool.py:1099: InsecureRequestWarning: Unverified HTTPS request is being made to host 'www.saramin.co.kr'. Adding certificate verification is strongly advised. See: https://urllib3.readthedocs.io/en/latest/advanced-usage.html#tls-warnings\n",
      "  warnings.warn(\n"
     ]
    },
    {
     "name": "stdout",
     "output_type": "stream",
     "text": [
      "VVNicVVSU0U2UDdIVWx6S3h1cnkrdz09 (주)와이파워원 SW/솔루션 정규직 채용\n",
      "2024-09-24 00:00:00\n",
      "그 외 기타 전기장비 제조업\n",
      "2018년 2월 12일\n",
      "2018-02-12 00:00:00\n",
      "www.wipowerone.com\n"
     ]
    },
    {
     "name": "stderr",
     "output_type": "stream",
     "text": [
      "/home/cook/venv/eda_venv/lib/python3.10/site-packages/urllib3/connectionpool.py:1099: InsecureRequestWarning: Unverified HTTPS request is being made to host 'www.saramin.co.kr'. Adding certificate verification is strongly advised. See: https://urllib3.readthedocs.io/en/latest/advanced-usage.html#tls-warnings\n",
      "  warnings.warn(\n"
     ]
    },
    {
     "name": "stdout",
     "output_type": "stream",
     "text": [
      "49069125\n"
     ]
    },
    {
     "name": "stderr",
     "output_type": "stream",
     "text": [
      "/home/cook/venv/eda_venv/lib/python3.10/site-packages/urllib3/connectionpool.py:1099: InsecureRequestWarning: Unverified HTTPS request is being made to host 'www.saramin.co.kr'. Adding certificate verification is strongly advised. See: https://urllib3.readthedocs.io/en/latest/advanced-usage.html#tls-warnings\n",
      "  warnings.warn(\n"
     ]
    },
    {
     "name": "stdout",
     "output_type": "stream",
     "text": [
      "V2lHV2h4R3p2c2dxMEwvVmM0RlhmQT09 애니모션텍(주) 비젼 소프트웨어개발 경력자 모집(반도체 측정/검사분야)\n",
      "2024-09-24 16:00:00\n",
      "반도체 제조용 기계 제조업\n",
      "2007년 10월 1일\n",
      "2007-10-01 00:00:00\n",
      "www.animotion.co.kr\n",
      "49069108\n"
     ]
    },
    {
     "name": "stderr",
     "output_type": "stream",
     "text": [
      "/home/cook/venv/eda_venv/lib/python3.10/site-packages/urllib3/connectionpool.py:1099: InsecureRequestWarning: Unverified HTTPS request is being made to host 'www.saramin.co.kr'. Adding certificate verification is strongly advised. See: https://urllib3.readthedocs.io/en/latest/advanced-usage.html#tls-warnings\n",
      "  warnings.warn(\n"
     ]
    },
    {
     "name": "stdout",
     "output_type": "stream",
     "text": [
      "V2lHV2h4R3p2c2dxMEwvVmM0RlhmQT09 애니모션텍(주) [애니모션텍]시스템 기술영업(초정밀 스테이지 외)경력 채용\n",
      "2024-09-24 16:00:00\n",
      "반도체 제조용 기계 제조업\n",
      "2007년 10월 1일\n",
      "2007-10-01 00:00:00\n",
      "www.animotion.co.kr\n",
      "49069031\n"
     ]
    },
    {
     "name": "stderr",
     "output_type": "stream",
     "text": [
      "/home/cook/venv/eda_venv/lib/python3.10/site-packages/urllib3/connectionpool.py:1099: InsecureRequestWarning: Unverified HTTPS request is being made to host 'www.saramin.co.kr'. Adding certificate verification is strongly advised. See: https://urllib3.readthedocs.io/en/latest/advanced-usage.html#tls-warnings\n",
      "  warnings.warn(\n"
     ]
    },
    {
     "name": "stdout",
     "output_type": "stream",
     "text": [
      "VGNGWXczSkZzay9FMTRhL2pnU2I2QT09 (주)에스티씨엔지니어링 제어팀(PC제어/전장/PLC제어) 신입 및 경력직 채용\n",
      "2024-09-24 16:00:00\n",
      "그 외 기타 특수목적용 기계 제조업\n",
      "2015년 5월 27일\n",
      "2015-05-27 00:00:00\n",
      "www.stceng.com\n",
      "49068855\n"
     ]
    },
    {
     "name": "stderr",
     "output_type": "stream",
     "text": [
      "/home/cook/venv/eda_venv/lib/python3.10/site-packages/urllib3/connectionpool.py:1099: InsecureRequestWarning: Unverified HTTPS request is being made to host 'www.saramin.co.kr'. Adding certificate verification is strongly advised. See: https://urllib3.readthedocs.io/en/latest/advanced-usage.html#tls-warnings\n",
      "  warnings.warn(\n"
     ]
    },
    {
     "name": "stdout",
     "output_type": "stream",
     "text": [
      "SlVmSnA0RTV1eGJNbmFBSUt5V2ZOdz09 (주)케이엔알시스템 2024년 본사 및 기술연구소 신입/경력 모집\n",
      "2024-09-24 00:00:00\n",
      "물질 검사, 측정 및 분석기구 제조업\n",
      "2000년 7월 15일\n",
      "2000-07-15 00:00:00\n",
      "www.knrsys.com\n",
      "49068533\n"
     ]
    },
    {
     "name": "stderr",
     "output_type": "stream",
     "text": [
      "/home/cook/venv/eda_venv/lib/python3.10/site-packages/urllib3/connectionpool.py:1099: InsecureRequestWarning: Unverified HTTPS request is being made to host 'www.saramin.co.kr'. Adding certificate verification is strongly advised. See: https://urllib3.readthedocs.io/en/latest/advanced-usage.html#tls-warnings\n",
      "  warnings.warn(\n"
     ]
    },
    {
     "name": "stdout",
     "output_type": "stream",
     "text": [
      "K1dXYlUwb3dsYWh1cmU2N0hqZ1NIdz09 (주)알오지스틱스 알오지스틱스 자율주행 로봇 SW개발자 모집\n",
      "2024-09-24 15:00:00\n",
      "응용 소프트웨어 개발 및 공급업\n",
      "2023년 6월 15일\n",
      "2023-06-15 00:00:00\n",
      "http://www.rogistics.co.kr\n",
      "49068450\n"
     ]
    },
    {
     "name": "stderr",
     "output_type": "stream",
     "text": [
      "/home/cook/venv/eda_venv/lib/python3.10/site-packages/urllib3/connectionpool.py:1099: InsecureRequestWarning: Unverified HTTPS request is being made to host 'www.saramin.co.kr'. Adding certificate verification is strongly advised. See: https://urllib3.readthedocs.io/en/latest/advanced-usage.html#tls-warnings\n",
      "  warnings.warn(\n"
     ]
    },
    {
     "name": "stdout",
     "output_type": "stream",
     "text": [
      "bWxaTEhKY2Y3ODZJWjk1OENaWnNCZz09 (주)우주일렉트로닉스 FFC 설계 및 개발 정규직 인력 채용\n",
      "2024-09-24 15:00:00\n",
      "전기회로 접속장치 제조업\n",
      "1999년 8월 16일\n",
      "1999-08-16 00:00:00\n",
      "www.uju.com\n",
      "49067669\n"
     ]
    },
    {
     "name": "stderr",
     "output_type": "stream",
     "text": [
      "/home/cook/venv/eda_venv/lib/python3.10/site-packages/urllib3/connectionpool.py:1099: InsecureRequestWarning: Unverified HTTPS request is being made to host 'www.saramin.co.kr'. Adding certificate verification is strongly advised. See: https://urllib3.readthedocs.io/en/latest/advanced-usage.html#tls-warnings\n",
      "  warnings.warn(\n"
     ]
    },
    {
     "name": "stdout",
     "output_type": "stream",
     "text": [
      "T1RySEJGdkFqbXlhcy9Ea2ZwYW1CZz09 (주)바른인사컨설팅 [대기업] 로봇 QA(엔지니어 보조) 신입 채용\n",
      "2024-09-24 14:00:00\n",
      "상용 인력 공급 및 인사관리 서비스업\n",
      "2016년 9월 12일\n",
      "2016-09-12 00:00:00\n",
      "www.baruninsa.com\n",
      "49066422\n"
     ]
    },
    {
     "name": "stderr",
     "output_type": "stream",
     "text": [
      "/home/cook/venv/eda_venv/lib/python3.10/site-packages/urllib3/connectionpool.py:1099: InsecureRequestWarning: Unverified HTTPS request is being made to host 'www.saramin.co.kr'. Adding certificate verification is strongly advised. See: https://urllib3.readthedocs.io/en/latest/advanced-usage.html#tls-warnings\n",
      "  warnings.warn(\n"
     ]
    },
    {
     "name": "stdout",
     "output_type": "stream",
     "text": [
      "K1dXYlUwb3dsYWh1cmU2N0hqZ1NIdz09 (주)알오지스틱스 알오지스틱스 자율주행 로봇 SW/HW 개발자 모집\n",
      "2024-09-24 13:00:00\n",
      "응용 소프트웨어 개발 및 공급업\n",
      "2023년 6월 15일\n",
      "2023-06-15 00:00:00\n",
      "http://www.rogistics.co.kr\n",
      "49066115\n"
     ]
    },
    {
     "name": "stderr",
     "output_type": "stream",
     "text": [
      "/home/cook/venv/eda_venv/lib/python3.10/site-packages/urllib3/connectionpool.py:1099: InsecureRequestWarning: Unverified HTTPS request is being made to host 'www.saramin.co.kr'. Adding certificate verification is strongly advised. See: https://urllib3.readthedocs.io/en/latest/advanced-usage.html#tls-warnings\n",
      "  warnings.warn(\n"
     ]
    },
    {
     "name": "stdout",
     "output_type": "stream",
     "text": [
      "TUZGUzV4V21Jd1lmK3AxT3I5bFBPQT09 (주)가치소프트 영업 경력직 모집 - 자동화 시스템 비전 솔루션 영업\n",
      "2024-09-24 13:00:00\n",
      "응용 소프트웨어 개발 및 공급업\n",
      "2012년 1월 26일\n",
      "2012-01-26 00:00:00\n",
      "www.gachisoft.com\n",
      "49065545\n"
     ]
    },
    {
     "name": "stderr",
     "output_type": "stream",
     "text": [
      "/home/cook/venv/eda_venv/lib/python3.10/site-packages/urllib3/connectionpool.py:1099: InsecureRequestWarning: Unverified HTTPS request is being made to host 'www.saramin.co.kr'. Adding certificate verification is strongly advised. See: https://urllib3.readthedocs.io/en/latest/advanced-usage.html#tls-warnings\n",
      "  warnings.warn(\n"
     ]
    },
    {
     "name": "stdout",
     "output_type": "stream",
     "text": [
      "MG9TdUV5L0g4NDZ4eVRRM0szcG10Zz09 (주)TPC메카트로닉스 [인천 서구] MCT 머시닝센터 생산직 모집합니다. :)\n",
      "2024-09-24 12:00:00\n",
      "그 외 기타 일반목적용 기계 제조업\n",
      "1979년 1월 23일\n",
      "1979-01-23 00:00:00\n",
      "www.TPCpage.co.kr\n",
      "49064958\n"
     ]
    },
    {
     "name": "stderr",
     "output_type": "stream",
     "text": [
      "/home/cook/venv/eda_venv/lib/python3.10/site-packages/urllib3/connectionpool.py:1099: InsecureRequestWarning: Unverified HTTPS request is being made to host 'www.saramin.co.kr'. Adding certificate verification is strongly advised. See: https://urllib3.readthedocs.io/en/latest/advanced-usage.html#tls-warnings\n",
      "  warnings.warn(\n"
     ]
    },
    {
     "name": "stdout",
     "output_type": "stream",
     "text": [
      "SU80TWdLbkp2VmZSSzZ1VjVuMnhUQT09 버슘머트리얼즈한양기공(주) 로봇 기계 엔지니어 (로봇 엔지니어링 경력자, 안산 근무)\n",
      "2024-09-24 11:00:00\n",
      "반도체 제조용 기계 제조업\n",
      "1986년 5월 27일\n",
      "1986-05-27 00:00:00\n",
      "www.versummaterials.com\n",
      "49064860\n"
     ]
    },
    {
     "name": "stderr",
     "output_type": "stream",
     "text": [
      "/home/cook/venv/eda_venv/lib/python3.10/site-packages/urllib3/connectionpool.py:1099: InsecureRequestWarning: Unverified HTTPS request is being made to host 'www.saramin.co.kr'. Adding certificate verification is strongly advised. See: https://urllib3.readthedocs.io/en/latest/advanced-usage.html#tls-warnings\n",
      "  warnings.warn(\n"
     ]
    },
    {
     "name": "stdout",
     "output_type": "stream",
     "text": [
      "QVJhUmdOVHdSY24vRzJWOWRPQmc0QT09 주식회사 지니어스 [독일계/중견기업] 로봇 엔지니어 채용 (Junior)\n",
      "2024-09-24 11:00:00\n",
      "시설관리·경비·용역\n",
      "49064521\n"
     ]
    },
    {
     "name": "stderr",
     "output_type": "stream",
     "text": [
      "/home/cook/venv/eda_venv/lib/python3.10/site-packages/urllib3/connectionpool.py:1099: InsecureRequestWarning: Unverified HTTPS request is being made to host 'www.saramin.co.kr'. Adding certificate verification is strongly advised. See: https://urllib3.readthedocs.io/en/latest/advanced-usage.html#tls-warnings\n",
      "  warnings.warn(\n"
     ]
    },
    {
     "name": "stdout",
     "output_type": "stream",
     "text": [
      "LzZDSHVLdThSWFA2TW14TnpvYWlKdz09 (주)딥인사이트 라이다 3D 스캐너 엔지니어 모집\n",
      "2024-09-24 11:00:00\n",
      "컴퓨터 프로그래밍 서비스업\n",
      "2020년 6월 25일\n",
      "2020-06-25 00:00:00\n",
      "https://www.dinsight.ai/\n",
      "49064446\n"
     ]
    },
    {
     "name": "stderr",
     "output_type": "stream",
     "text": [
      "/home/cook/venv/eda_venv/lib/python3.10/site-packages/urllib3/connectionpool.py:1099: InsecureRequestWarning: Unverified HTTPS request is being made to host 'www.saramin.co.kr'. Adding certificate verification is strongly advised. See: https://urllib3.readthedocs.io/en/latest/advanced-usage.html#tls-warnings\n",
      "  warnings.warn(\n"
     ]
    },
    {
     "name": "stdout",
     "output_type": "stream",
     "text": [
      "TkgxVUg4VklLTEE4dEhiVUtkNFIrZz09 ㈜하우리 (주)하우리 백신소프트웨어 개발자 모집\n",
      "2024-09-24 11:00:00\n",
      "시스템 소프트웨어 개발 및 공급업\n",
      "1998년 3월 12일\n",
      "1998-03-12 00:00:00\n",
      "www.hauri.co.kr\n",
      "49063646\n"
     ]
    },
    {
     "name": "stderr",
     "output_type": "stream",
     "text": [
      "/home/cook/venv/eda_venv/lib/python3.10/site-packages/urllib3/connectionpool.py:1099: InsecureRequestWarning: Unverified HTTPS request is being made to host 'www.saramin.co.kr'. Adding certificate verification is strongly advised. See: https://urllib3.readthedocs.io/en/latest/advanced-usage.html#tls-warnings\n",
      "  warnings.warn(\n"
     ]
    },
    {
     "name": "stdout",
     "output_type": "stream",
     "text": [
      "c1J5cnFra1h4OFJWMmgrN1Ywc2dpUT09 (주)케이티 2024년 KT 신입석사 2차 채용\n",
      "2024-09-24 00:00:00\n",
      "무선 및 위성 통신업\n",
      "1997년 10월 1일\n",
      "1997-10-01 00:00:00\n",
      "www.kt.co.kr\n",
      "49062018\n"
     ]
    },
    {
     "name": "stderr",
     "output_type": "stream",
     "text": [
      "/home/cook/venv/eda_venv/lib/python3.10/site-packages/urllib3/connectionpool.py:1099: InsecureRequestWarning: Unverified HTTPS request is being made to host 'www.saramin.co.kr'. Adding certificate verification is strongly advised. See: https://urllib3.readthedocs.io/en/latest/advanced-usage.html#tls-warnings\n",
      "  warnings.warn(\n"
     ]
    },
    {
     "name": "stdout",
     "output_type": "stream",
     "text": [
      "b3R4ZG1XTjB4NlhmTnVFSEhaeGdFQT09 (주)스마트큐브 기구기계설계 경력자 채용\n",
      "2024-09-24 09:00:00\n",
      "금속 가구 제조업\n",
      "2011년 7월 29일\n",
      "2011-07-29 00:00:00\n",
      "smartlocker.co.kr/\n",
      "49061121\n"
     ]
    },
    {
     "name": "stderr",
     "output_type": "stream",
     "text": [
      "/home/cook/venv/eda_venv/lib/python3.10/site-packages/urllib3/connectionpool.py:1099: InsecureRequestWarning: Unverified HTTPS request is being made to host 'www.saramin.co.kr'. Adding certificate verification is strongly advised. See: https://urllib3.readthedocs.io/en/latest/advanced-usage.html#tls-warnings\n",
      "  warnings.warn(\n"
     ]
    },
    {
     "name": "stdout",
     "output_type": "stream",
     "text": [
      "MG5ZcU9qL2FTenY3cjdya3ZMTzNyQT09 (주)와이씨코퍼레이션 임베디드 시스템 개발자 채용 #성수역-도보3분 #스마트팩토리\n",
      "2024-09-23 21:00:00\n",
      "응용 소프트웨어 개발 및 공급업\n",
      "2022년 3월 25일\n",
      "2022-03-25 00:00:00\n",
      "www.ycgroup.co.kr\n",
      "49060410\n"
     ]
    },
    {
     "name": "stderr",
     "output_type": "stream",
     "text": [
      "/home/cook/venv/eda_venv/lib/python3.10/site-packages/urllib3/connectionpool.py:1099: InsecureRequestWarning: Unverified HTTPS request is being made to host 'www.saramin.co.kr'. Adding certificate verification is strongly advised. See: https://urllib3.readthedocs.io/en/latest/advanced-usage.html#tls-warnings\n",
      "  warnings.warn(\n"
     ]
    },
    {
     "name": "stdout",
     "output_type": "stream",
     "text": [
      "MzBnMTVtaUlpQTBIV0VjVExML29SUT09 (주)알텐코리아 [ALTEN KOREA] 생산 자동화 설비 필드 엔지니어\n",
      "2024-09-23 17:00:00\n",
      "기타 엔지니어링 서비스업\n",
      "2003년 1월 3일\n",
      "2003-01-03 00:00:00\n",
      "www.alten-korea.com\n",
      "49059541\n"
     ]
    },
    {
     "name": "stderr",
     "output_type": "stream",
     "text": [
      "/home/cook/venv/eda_venv/lib/python3.10/site-packages/urllib3/connectionpool.py:1099: InsecureRequestWarning: Unverified HTTPS request is being made to host 'www.saramin.co.kr'. Adding certificate verification is strongly advised. See: https://urllib3.readthedocs.io/en/latest/advanced-usage.html#tls-warnings\n",
      "  warnings.warn(\n"
     ]
    },
    {
     "name": "stdout",
     "output_type": "stream",
     "text": [
      "YVF3S1NhcWgvaDMrZnNUYmI4QjZTUT09 한트(주) 제품촬영 자동화 솔루션 오터리(Ortery) 국내 영업직 구인\n",
      "2024-09-23 16:00:00\n",
      "상업용 사진 촬영업\n",
      "2022년 2월 21일\n",
      "2022-02-21 00:00:00\n",
      "www.pixen.co.kr\n",
      "49057790\n"
     ]
    },
    {
     "name": "stderr",
     "output_type": "stream",
     "text": [
      "/home/cook/venv/eda_venv/lib/python3.10/site-packages/urllib3/connectionpool.py:1099: InsecureRequestWarning: Unverified HTTPS request is being made to host 'www.saramin.co.kr'. Adding certificate verification is strongly advised. See: https://urllib3.readthedocs.io/en/latest/advanced-usage.html#tls-warnings\n",
      "  warnings.warn(\n"
     ]
    },
    {
     "name": "stdout",
     "output_type": "stream",
     "text": [
      "bHBHMXI3c201NEZpR3dsdWhkbTNmQT09 (주)레이언스 [레이언스] 인사 담당자 채용\n",
      "2024-09-23 15:00:00\n",
      "방사선 장치 제조업\n",
      "2011년 5월 3일\n",
      "2011-05-03 00:00:00\n",
      "www.rayence.com\n",
      "49057581\n"
     ]
    },
    {
     "name": "stderr",
     "output_type": "stream",
     "text": [
      "/home/cook/venv/eda_venv/lib/python3.10/site-packages/urllib3/connectionpool.py:1099: InsecureRequestWarning: Unverified HTTPS request is being made to host 'www.saramin.co.kr'. Adding certificate verification is strongly advised. See: https://urllib3.readthedocs.io/en/latest/advanced-usage.html#tls-warnings\n",
      "  warnings.warn(\n"
     ]
    },
    {
     "name": "stdout",
     "output_type": "stream",
     "text": [
      "b2FPMitxMUc0Z3A0ckRtVXdjRjhNdz09 (주)애드인에듀 자율주행 인공지능 로봇분야 양성 교육생 모집 (6개월/2개월)\n",
      "2024-09-23 00:00:00\n",
      "컴퓨터 학원\n",
      "2020년 12월 9일\n",
      "2020-12-09 00:00:00\n",
      "49057351\n"
     ]
    },
    {
     "name": "stderr",
     "output_type": "stream",
     "text": [
      "/home/cook/venv/eda_venv/lib/python3.10/site-packages/urllib3/connectionpool.py:1099: InsecureRequestWarning: Unverified HTTPS request is being made to host 'www.saramin.co.kr'. Adding certificate verification is strongly advised. See: https://urllib3.readthedocs.io/en/latest/advanced-usage.html#tls-warnings\n",
      "  warnings.warn(\n"
     ]
    },
    {
     "name": "stdout",
     "output_type": "stream",
     "text": [
      "b2gzc2t4UmJ3NnJpRXdCdG1yNmZ4Zz09 (주)큐링이노스 [(주)큐링이노스] 백엔드 개발자 경력 모집\n",
      "2024-09-23 15:00:00\n",
      "컴퓨터시스템 통합 자문 및 구축 서비스업\n",
      "2021년 4월 29일\n",
      "2021-04-29 00:00:00\n",
      "49056895\n"
     ]
    },
    {
     "name": "stderr",
     "output_type": "stream",
     "text": [
      "/home/cook/venv/eda_venv/lib/python3.10/site-packages/urllib3/connectionpool.py:1099: InsecureRequestWarning: Unverified HTTPS request is being made to host 'www.saramin.co.kr'. Adding certificate verification is strongly advised. See: https://urllib3.readthedocs.io/en/latest/advanced-usage.html#tls-warnings\n",
      "  warnings.warn(\n"
     ]
    },
    {
     "name": "stdout",
     "output_type": "stream",
     "text": [
      "R1NScnY5elFFU0Y4VjVWdlZYd0wrQT09 (주)옵트에이아이 임베디드 AI 개발자 (C++) (병역특례)\n",
      "2024-09-24 00:00:00\n",
      "응용 소프트웨어 개발 및 공급업\n",
      "2021년 11월 5일\n",
      "2021-11-05 00:00:00\n",
      "www.opt-ai.kr\n",
      "49056887\n"
     ]
    },
    {
     "name": "stderr",
     "output_type": "stream",
     "text": [
      "/home/cook/venv/eda_venv/lib/python3.10/site-packages/urllib3/connectionpool.py:1099: InsecureRequestWarning: Unverified HTTPS request is being made to host 'www.saramin.co.kr'. Adding certificate verification is strongly advised. See: https://urllib3.readthedocs.io/en/latest/advanced-usage.html#tls-warnings\n",
      "  warnings.warn(\n"
     ]
    },
    {
     "name": "stdout",
     "output_type": "stream",
     "text": [
      "R1NScnY5elFFU0Y4VjVWdlZYd0wrQT09 (주)옵트에이아이 임베디드 AI 개발자 (C++)\n",
      "2024-09-24 00:00:00\n",
      "응용 소프트웨어 개발 및 공급업\n",
      "2021년 11월 5일\n",
      "2021-11-05 00:00:00\n",
      "www.opt-ai.kr\n",
      "49056885\n"
     ]
    },
    {
     "name": "stderr",
     "output_type": "stream",
     "text": [
      "/home/cook/venv/eda_venv/lib/python3.10/site-packages/urllib3/connectionpool.py:1099: InsecureRequestWarning: Unverified HTTPS request is being made to host 'www.saramin.co.kr'. Adding certificate verification is strongly advised. See: https://urllib3.readthedocs.io/en/latest/advanced-usage.html#tls-warnings\n",
      "  warnings.warn(\n"
     ]
    },
    {
     "name": "stdout",
     "output_type": "stream",
     "text": [
      "R1NScnY5elFFU0Y4VjVWdlZYd0wrQT09 (주)옵트에이아이 Model Compression Research Engineer  (병역특례)\n",
      "2024-09-24 00:00:00\n",
      "응용 소프트웨어 개발 및 공급업\n",
      "2021년 11월 5일\n",
      "2021-11-05 00:00:00\n",
      "www.opt-ai.kr\n",
      "49056877\n"
     ]
    },
    {
     "name": "stderr",
     "output_type": "stream",
     "text": [
      "/home/cook/venv/eda_venv/lib/python3.10/site-packages/urllib3/connectionpool.py:1099: InsecureRequestWarning: Unverified HTTPS request is being made to host 'www.saramin.co.kr'. Adding certificate verification is strongly advised. See: https://urllib3.readthedocs.io/en/latest/advanced-usage.html#tls-warnings\n",
      "  warnings.warn(\n"
     ]
    },
    {
     "name": "stdout",
     "output_type": "stream",
     "text": [
      "R1NScnY5elFFU0Y4VjVWdlZYd0wrQT09 (주)옵트에이아이 Model Compression Research Engineer\n",
      "2024-09-24 00:00:00\n",
      "응용 소프트웨어 개발 및 공급업\n",
      "2021년 11월 5일\n",
      "2021-11-05 00:00:00\n",
      "www.opt-ai.kr\n",
      "49056872\n"
     ]
    },
    {
     "name": "stderr",
     "output_type": "stream",
     "text": [
      "/home/cook/venv/eda_venv/lib/python3.10/site-packages/urllib3/connectionpool.py:1099: InsecureRequestWarning: Unverified HTTPS request is being made to host 'www.saramin.co.kr'. Adding certificate verification is strongly advised. See: https://urllib3.readthedocs.io/en/latest/advanced-usage.html#tls-warnings\n",
      "  warnings.warn(\n"
     ]
    },
    {
     "name": "stdout",
     "output_type": "stream",
     "text": [
      "R1NScnY5elFFU0Y4VjVWdlZYd0wrQT09 (주)옵트에이아이 Vision AI Application Engineer (병역특례)\n",
      "2024-09-24 00:00:00\n",
      "응용 소프트웨어 개발 및 공급업\n",
      "2021년 11월 5일\n",
      "2021-11-05 00:00:00\n",
      "www.opt-ai.kr\n",
      "49056871\n"
     ]
    },
    {
     "name": "stderr",
     "output_type": "stream",
     "text": [
      "/home/cook/venv/eda_venv/lib/python3.10/site-packages/urllib3/connectionpool.py:1099: InsecureRequestWarning: Unverified HTTPS request is being made to host 'www.saramin.co.kr'. Adding certificate verification is strongly advised. See: https://urllib3.readthedocs.io/en/latest/advanced-usage.html#tls-warnings\n",
      "  warnings.warn(\n"
     ]
    },
    {
     "name": "stdout",
     "output_type": "stream",
     "text": [
      "R1NScnY5elFFU0Y4VjVWdlZYd0wrQT09 (주)옵트에이아이 Vision AI Application Engineer\n",
      "2024-09-24 00:00:00\n",
      "응용 소프트웨어 개발 및 공급업\n",
      "2021년 11월 5일\n",
      "2021-11-05 00:00:00\n",
      "www.opt-ai.kr\n",
      "49056867\n"
     ]
    },
    {
     "name": "stderr",
     "output_type": "stream",
     "text": [
      "/home/cook/venv/eda_venv/lib/python3.10/site-packages/urllib3/connectionpool.py:1099: InsecureRequestWarning: Unverified HTTPS request is being made to host 'www.saramin.co.kr'. Adding certificate verification is strongly advised. See: https://urllib3.readthedocs.io/en/latest/advanced-usage.html#tls-warnings\n",
      "  warnings.warn(\n"
     ]
    },
    {
     "name": "stdout",
     "output_type": "stream",
     "text": [
      "R1NScnY5elFFU0Y4VjVWdlZYd0wrQT09 (주)옵트에이아이 LLM Research Engineer (병역특례)\n",
      "2024-09-24 00:00:00\n",
      "응용 소프트웨어 개발 및 공급업\n",
      "2021년 11월 5일\n",
      "2021-11-05 00:00:00\n",
      "www.opt-ai.kr\n",
      "49056859\n"
     ]
    },
    {
     "name": "stderr",
     "output_type": "stream",
     "text": [
      "/home/cook/venv/eda_venv/lib/python3.10/site-packages/urllib3/connectionpool.py:1099: InsecureRequestWarning: Unverified HTTPS request is being made to host 'www.saramin.co.kr'. Adding certificate verification is strongly advised. See: https://urllib3.readthedocs.io/en/latest/advanced-usage.html#tls-warnings\n",
      "  warnings.warn(\n"
     ]
    },
    {
     "name": "stdout",
     "output_type": "stream",
     "text": [
      "R1NScnY5elFFU0Y4VjVWdlZYd0wrQT09 (주)옵트에이아이 LLM Research Engineer\n",
      "2024-09-24 00:00:00\n",
      "응용 소프트웨어 개발 및 공급업\n",
      "2021년 11월 5일\n",
      "2021-11-05 00:00:00\n",
      "www.opt-ai.kr\n",
      "49056793\n"
     ]
    },
    {
     "name": "stderr",
     "output_type": "stream",
     "text": [
      "/home/cook/venv/eda_venv/lib/python3.10/site-packages/urllib3/connectionpool.py:1099: InsecureRequestWarning: Unverified HTTPS request is being made to host 'www.saramin.co.kr'. Adding certificate verification is strongly advised. See: https://urllib3.readthedocs.io/en/latest/advanced-usage.html#tls-warnings\n",
      "  warnings.warn(\n"
     ]
    },
    {
     "name": "stdout",
     "output_type": "stream",
     "text": [
      "Y1FpWVZkaXhnOU1kTDd4QXBUaEllUT09 (주)로아스 LOAS와 함께 미래를 그릴 인재 모집_각 부문별 채용\n",
      "2024-09-23 00:00:00\n",
      "물질 검사, 측정 및 분석기구 제조업\n",
      "2020년 4월 29일\n",
      "2020-04-29 00:00:00\n",
      "https://www.loas.ai/\n",
      "49056400\n"
     ]
    },
    {
     "name": "stderr",
     "output_type": "stream",
     "text": [
      "/home/cook/venv/eda_venv/lib/python3.10/site-packages/urllib3/connectionpool.py:1099: InsecureRequestWarning: Unverified HTTPS request is being made to host 'www.saramin.co.kr'. Adding certificate verification is strongly advised. See: https://urllib3.readthedocs.io/en/latest/advanced-usage.html#tls-warnings\n",
      "  warnings.warn(\n"
     ]
    },
    {
     "name": "stdout",
     "output_type": "stream",
     "text": [
      "UzB2YUZUUGhZTVY5dXVGam1OempJdz09 (주)라온서치 [가정용 기구제조 대기업] AI가전 기술영업 (10년이상)\n",
      "2024-09-23 14:00:00\n",
      "고용 알선업\n",
      "2013년 8월 23일\n",
      "2013-08-23 00:00:00\n",
      "http://www.raonsearch.co.kr\n",
      "49056110\n"
     ]
    },
    {
     "name": "stderr",
     "output_type": "stream",
     "text": [
      "/home/cook/venv/eda_venv/lib/python3.10/site-packages/urllib3/connectionpool.py:1099: InsecureRequestWarning: Unverified HTTPS request is being made to host 'www.saramin.co.kr'. Adding certificate verification is strongly advised. See: https://urllib3.readthedocs.io/en/latest/advanced-usage.html#tls-warnings\n",
      "  warnings.warn(\n"
     ]
    },
    {
     "name": "stdout",
     "output_type": "stream",
     "text": [
      "bC9RTGlFTS9oUldOR0RKVUdKcjdSZz09 씨드로닉스(주) 로보틱스 엔지니어 신입/경력 채용\n",
      "2024-09-23 14:00:00\n",
      "무인 항공기 및 무인 비행장치 제조업\n",
      "2015년 12월 1일\n",
      "2015-12-01 00:00:00\n",
      "www.seadronix.com\n",
      "49055685\n"
     ]
    },
    {
     "name": "stderr",
     "output_type": "stream",
     "text": [
      "/home/cook/venv/eda_venv/lib/python3.10/site-packages/urllib3/connectionpool.py:1099: InsecureRequestWarning: Unverified HTTPS request is being made to host 'www.saramin.co.kr'. Adding certificate verification is strongly advised. See: https://urllib3.readthedocs.io/en/latest/advanced-usage.html#tls-warnings\n",
      "  warnings.warn(\n"
     ]
    },
    {
     "name": "stdout",
     "output_type": "stream",
     "text": [
      "UTliTHd4WVp1aWx1V3BqM3B6NzhqZz09 (주)이노시뮬레이션 드라이빙 시뮬레이터 C 개발자(2년이상)\n",
      "2024-09-23 13:00:00\n",
      "시스템 소프트웨어 개발 및 공급업\n",
      "2000년 5월 24일\n",
      "2000-05-24 00:00:00\n",
      "www.innosim.com\n",
      "49055427\n"
     ]
    },
    {
     "name": "stderr",
     "output_type": "stream",
     "text": [
      "/home/cook/venv/eda_venv/lib/python3.10/site-packages/urllib3/connectionpool.py:1099: InsecureRequestWarning: Unverified HTTPS request is being made to host 'www.saramin.co.kr'. Adding certificate verification is strongly advised. See: https://urllib3.readthedocs.io/en/latest/advanced-usage.html#tls-warnings\n",
      "  warnings.warn(\n"
     ]
    },
    {
     "name": "stdout",
     "output_type": "stream",
     "text": [
      "eTl6anFRNDg1TzNmaWdmcnJoZURKZz09 (주)씽크소프트 주 4.5일제 자동화 설비 PC제어 개발자 엔지니어 영입\n",
      "2024-09-23 13:00:00\n",
      "시스템 소프트웨어 개발 및 공급업\n",
      "2017년 5월 22일\n",
      "2017-05-22 00:00:00\n",
      "www.think-soft.co.kr\n",
      "49055133\n"
     ]
    },
    {
     "name": "stderr",
     "output_type": "stream",
     "text": [
      "/home/cook/venv/eda_venv/lib/python3.10/site-packages/urllib3/connectionpool.py:1099: InsecureRequestWarning: Unverified HTTPS request is being made to host 'www.saramin.co.kr'. Adding certificate verification is strongly advised. See: https://urllib3.readthedocs.io/en/latest/advanced-usage.html#tls-warnings\n",
      "  warnings.warn(\n"
     ]
    },
    {
     "name": "stdout",
     "output_type": "stream",
     "text": [
      "RUUzTFRPcTlIUTdvMTk5eTNqR1hYQT09 (주)스마트캐스트 (주)스마트캐스트 운영팀 KIOSK 설치 및 A/S 직원 모집(차량지원\n",
      "2024-09-23 13:00:00\n",
      "응용 소프트웨어 개발 및 공급업\n",
      "2014년 6월 16일\n",
      "2014-06-16 00:00:00\n",
      "http://www.smartcast.co.kr\n",
      "49054983\n"
     ]
    },
    {
     "name": "stderr",
     "output_type": "stream",
     "text": [
      "/home/cook/venv/eda_venv/lib/python3.10/site-packages/urllib3/connectionpool.py:1099: InsecureRequestWarning: Unverified HTTPS request is being made to host 'www.saramin.co.kr'. Adding certificate verification is strongly advised. See: https://urllib3.readthedocs.io/en/latest/advanced-usage.html#tls-warnings\n",
      "  warnings.warn(\n"
     ]
    },
    {
     "name": "stdout",
     "output_type": "stream",
     "text": [
      "cnRsSFJOc3dpVU5KaitQVVhOci9YQT09 (주)필에너지 [제어팀] 2차전지 모션제어 채용\n",
      "2024-09-23 00:00:00\n",
      "그 외 기타 특수목적용 기계 제조업\n",
      "2020년 4월 2일\n",
      "2020-04-02 00:00:00\n",
      "http://www.philenergy.co.kr/kr/index.php\n",
      "49054962\n"
     ]
    },
    {
     "name": "stderr",
     "output_type": "stream",
     "text": [
      "/home/cook/venv/eda_venv/lib/python3.10/site-packages/urllib3/connectionpool.py:1099: InsecureRequestWarning: Unverified HTTPS request is being made to host 'www.saramin.co.kr'. Adding certificate verification is strongly advised. See: https://urllib3.readthedocs.io/en/latest/advanced-usage.html#tls-warnings\n",
      "  warnings.warn(\n"
     ]
    },
    {
     "name": "stdout",
     "output_type": "stream",
     "text": [
      "cnRsSFJOc3dpVU5KaitQVVhOci9YQT09 (주)필에너지 [제품개발실] 2차전지 공정광학 경력 모집\n",
      "2024-09-23 00:00:00\n",
      "그 외 기타 특수목적용 기계 제조업\n",
      "2020년 4월 2일\n",
      "2020-04-02 00:00:00\n",
      "http://www.philenergy.co.kr/kr/index.php\n",
      "49054944\n"
     ]
    },
    {
     "name": "stderr",
     "output_type": "stream",
     "text": [
      "/home/cook/venv/eda_venv/lib/python3.10/site-packages/urllib3/connectionpool.py:1099: InsecureRequestWarning: Unverified HTTPS request is being made to host 'www.saramin.co.kr'. Adding certificate verification is strongly advised. See: https://urllib3.readthedocs.io/en/latest/advanced-usage.html#tls-warnings\n",
      "  warnings.warn(\n"
     ]
    },
    {
     "name": "stdout",
     "output_type": "stream",
     "text": [
      "cnRsSFJOc3dpVU5KaitQVVhOci9YQT09 (주)필에너지 [제품개발실] 2차전지 PC제어 경력 모집\n",
      "2024-09-23 00:00:00\n",
      "그 외 기타 특수목적용 기계 제조업\n",
      "2020년 4월 2일\n",
      "2020-04-02 00:00:00\n",
      "http://www.philenergy.co.kr/kr/index.php\n",
      "49054923\n"
     ]
    },
    {
     "name": "stderr",
     "output_type": "stream",
     "text": [
      "/home/cook/venv/eda_venv/lib/python3.10/site-packages/urllib3/connectionpool.py:1099: InsecureRequestWarning: Unverified HTTPS request is being made to host 'www.saramin.co.kr'. Adding certificate verification is strongly advised. See: https://urllib3.readthedocs.io/en/latest/advanced-usage.html#tls-warnings\n",
      "  warnings.warn(\n"
     ]
    },
    {
     "name": "stdout",
     "output_type": "stream",
     "text": [
      "cnRsSFJOc3dpVU5KaitQVVhOci9YQT09 (주)필에너지 [제품개발실] 2차전지 모션제어 경력\n",
      "2024-09-23 00:00:00\n",
      "그 외 기타 특수목적용 기계 제조업\n",
      "2020년 4월 2일\n",
      "2020-04-02 00:00:00\n",
      "http://www.philenergy.co.kr/kr/index.php\n"
     ]
    },
    {
     "name": "stderr",
     "output_type": "stream",
     "text": [
      "/home/cook/venv/eda_venv/lib/python3.10/site-packages/urllib3/connectionpool.py:1099: InsecureRequestWarning: Unverified HTTPS request is being made to host 'www.saramin.co.kr'. Adding certificate verification is strongly advised. See: https://urllib3.readthedocs.io/en/latest/advanced-usage.html#tls-warnings\n",
      "  warnings.warn(\n"
     ]
    },
    {
     "name": "stdout",
     "output_type": "stream",
     "text": [
      "49053491\n"
     ]
    },
    {
     "name": "stderr",
     "output_type": "stream",
     "text": [
      "/home/cook/venv/eda_venv/lib/python3.10/site-packages/urllib3/connectionpool.py:1099: InsecureRequestWarning: Unverified HTTPS request is being made to host 'www.saramin.co.kr'. Adding certificate verification is strongly advised. See: https://urllib3.readthedocs.io/en/latest/advanced-usage.html#tls-warnings\n",
      "  warnings.warn(\n"
     ]
    },
    {
     "name": "stdout",
     "output_type": "stream",
     "text": [
      "NkplYnVhUHJzYWFERFVtRTB4RzZUdz09 (주)모빌테크 [모빌테크] SLAM Engineer 모집 (신입/경력)\n",
      "2024-09-23 11:00:00\n",
      "전기ㆍ전자공학 연구개발업\n",
      "2017년 4월 10일\n",
      "2017-04-10 00:00:00\n",
      "www.mobiltech.io\n",
      "49053134\n"
     ]
    },
    {
     "name": "stderr",
     "output_type": "stream",
     "text": [
      "/home/cook/venv/eda_venv/lib/python3.10/site-packages/urllib3/connectionpool.py:1099: InsecureRequestWarning: Unverified HTTPS request is being made to host 'www.saramin.co.kr'. Adding certificate verification is strongly advised. See: https://urllib3.readthedocs.io/en/latest/advanced-usage.html#tls-warnings\n",
      "  warnings.warn(\n"
     ]
    },
    {
     "name": "stdout",
     "output_type": "stream",
     "text": [
      "WW1lcUtBbUtlNkNCdUpBY21xa1UxUT09 (주)넥스틴 반도체 검사 장비 제어 SW 개발 인력 채용 경력\n",
      "2024-09-23 11:00:00\n",
      "그 외 기타 특수목적용 기계 제조업\n",
      "2010년 6월 23일\n",
      "2010-06-23 00:00:00\n",
      "www.nextinsol.com\n",
      "49053046\n"
     ]
    },
    {
     "name": "stderr",
     "output_type": "stream",
     "text": [
      "/home/cook/venv/eda_venv/lib/python3.10/site-packages/urllib3/connectionpool.py:1099: InsecureRequestWarning: Unverified HTTPS request is being made to host 'www.saramin.co.kr'. Adding certificate verification is strongly advised. See: https://urllib3.readthedocs.io/en/latest/advanced-usage.html#tls-warnings\n",
      "  warnings.warn(\n"
     ]
    },
    {
     "name": "stdout",
     "output_type": "stream",
     "text": [
      "WmhmdS9OOStqeFpWWVBrOEI0UUtEdz09 (주)아이지 국내사업부에서 함께 일할 인재를 모십니다.\n",
      "2024-09-23 11:00:00\n",
      "기타 측정, 시험, 항해, 제어 및 정밀기..\n",
      "2009년 3월 2일\n",
      "2009-03-02 00:00:00\n",
      "www.ieg.kr\n",
      "49053014\n"
     ]
    },
    {
     "name": "stderr",
     "output_type": "stream",
     "text": [
      "/home/cook/venv/eda_venv/lib/python3.10/site-packages/urllib3/connectionpool.py:1099: InsecureRequestWarning: Unverified HTTPS request is being made to host 'www.saramin.co.kr'. Adding certificate verification is strongly advised. See: https://urllib3.readthedocs.io/en/latest/advanced-usage.html#tls-warnings\n",
      "  warnings.warn(\n"
     ]
    },
    {
     "name": "stdout",
     "output_type": "stream",
     "text": [
      "L25VTkJRbS9wYXN2NS9tZFhHODJkdz09 (주)코라스로보틱스 (HW) 로봇  하드웨어 엔지니어\n",
      "2024-09-23 00:00:00\n",
      "산업용 로봇 제조업\n",
      "2022년 6월 21일\n",
      "2022-06-21 00:00:00\n",
      "www.korasrobotics.com\n",
      "49052894\n"
     ]
    },
    {
     "name": "stderr",
     "output_type": "stream",
     "text": [
      "/home/cook/venv/eda_venv/lib/python3.10/site-packages/urllib3/connectionpool.py:1099: InsecureRequestWarning: Unverified HTTPS request is being made to host 'www.saramin.co.kr'. Adding certificate verification is strongly advised. See: https://urllib3.readthedocs.io/en/latest/advanced-usage.html#tls-warnings\n",
      "  warnings.warn(\n"
     ]
    },
    {
     "name": "stdout",
     "output_type": "stream",
     "text": [
      "QTlQMlVLelFMa0NiaEpGUmh0QWFUZz09 주식회사 엠스텍 소프트웨어 테스트 신입/경력 사원 모집\n",
      "2024-09-23 11:00:00\n",
      "기타 엔지니어링 서비스업\n",
      "2012년 6월 1일\n",
      "2012-06-01 00:00:00\n",
      "http://www.mstech-one.com\n",
      "49052654\n"
     ]
    },
    {
     "name": "stderr",
     "output_type": "stream",
     "text": [
      "/home/cook/venv/eda_venv/lib/python3.10/site-packages/urllib3/connectionpool.py:1099: InsecureRequestWarning: Unverified HTTPS request is being made to host 'www.saramin.co.kr'. Adding certificate verification is strongly advised. See: https://urllib3.readthedocs.io/en/latest/advanced-usage.html#tls-warnings\n",
      "  warnings.warn(\n"
     ]
    },
    {
     "name": "stdout",
     "output_type": "stream",
     "text": [
      "bkcvMzNoSmZoVjNrbjI4d3RTWURQQT09 (주)토르드라이브 Robotics Software Engineer\n",
      "2024-09-23 00:00:00\n",
      "49052641\n"
     ]
    },
    {
     "name": "stderr",
     "output_type": "stream",
     "text": [
      "/home/cook/venv/eda_venv/lib/python3.10/site-packages/urllib3/connectionpool.py:1099: InsecureRequestWarning: Unverified HTTPS request is being made to host 'www.saramin.co.kr'. Adding certificate verification is strongly advised. See: https://urllib3.readthedocs.io/en/latest/advanced-usage.html#tls-warnings\n",
      "  warnings.warn(\n"
     ]
    },
    {
     "name": "stdout",
     "output_type": "stream",
     "text": [
      "bkcvMzNoSmZoVjNrbjI4d3RTWURQQT09 (주)토르드라이브 자율주행로봇(AMR) 경로계획 SW 개발 (전문연구요원 가능)\n",
      "2024-09-23 00:00:00\n",
      "49052634\n"
     ]
    },
    {
     "name": "stderr",
     "output_type": "stream",
     "text": [
      "/home/cook/venv/eda_venv/lib/python3.10/site-packages/urllib3/connectionpool.py:1099: InsecureRequestWarning: Unverified HTTPS request is being made to host 'www.saramin.co.kr'. Adding certificate verification is strongly advised. See: https://urllib3.readthedocs.io/en/latest/advanced-usage.html#tls-warnings\n",
      "  warnings.warn(\n"
     ]
    },
    {
     "name": "stdout",
     "output_type": "stream",
     "text": [
      "bkcvMzNoSmZoVjNrbjI4d3RTWURQQT09 (주)토르드라이브 자율주행로봇(AMR) 멀티에이전트 알고리즘 개발 (전문연구요원 가능)\n",
      "2024-09-23 00:00:00\n",
      "49052331\n"
     ]
    },
    {
     "name": "stderr",
     "output_type": "stream",
     "text": [
      "/home/cook/venv/eda_venv/lib/python3.10/site-packages/urllib3/connectionpool.py:1099: InsecureRequestWarning: Unverified HTTPS request is being made to host 'www.saramin.co.kr'. Adding certificate verification is strongly advised. See: https://urllib3.readthedocs.io/en/latest/advanced-usage.html#tls-warnings\n",
      "  warnings.warn(\n"
     ]
    },
    {
     "name": "stdout",
     "output_type": "stream",
     "text": [
      "b3RCRERDL01NM1JRQ3NaMHpmZTdMQT09 (주)비전나비로보틱스코리아 자동화 설비(무인지게차 )솔루션 엔지니어(SE) 채용 합니다.\n",
      "2024-09-23 10:00:00\n",
      "49052194\n"
     ]
    },
    {
     "name": "stderr",
     "output_type": "stream",
     "text": [
      "/home/cook/venv/eda_venv/lib/python3.10/site-packages/urllib3/connectionpool.py:1099: InsecureRequestWarning: Unverified HTTPS request is being made to host 'www.saramin.co.kr'. Adding certificate verification is strongly advised. See: https://urllib3.readthedocs.io/en/latest/advanced-usage.html#tls-warnings\n",
      "  warnings.warn(\n"
     ]
    },
    {
     "name": "stdout",
     "output_type": "stream",
     "text": [
      "MmVkOVBWMEovRER5cU1FOWtmbWhVZz09 (주)칼만 로봇 개발자\n",
      "2024-09-23 00:00:00\n",
      "산업용 로봇 제조업\n",
      "2020년 9월 10일\n",
      "2020-09-10 00:00:00\n",
      "kalman.kr\n",
      "49051008\n"
     ]
    },
    {
     "name": "stderr",
     "output_type": "stream",
     "text": [
      "/home/cook/venv/eda_venv/lib/python3.10/site-packages/urllib3/connectionpool.py:1099: InsecureRequestWarning: Unverified HTTPS request is being made to host 'www.saramin.co.kr'. Adding certificate verification is strongly advised. See: https://urllib3.readthedocs.io/en/latest/advanced-usage.html#tls-warnings\n",
      "  warnings.warn(\n"
     ]
    },
    {
     "name": "stdout",
     "output_type": "stream",
     "text": [
      "aVllSWdManl0aFJlQTdsanNxbkRCUT09 (주)시스콘로보틱스 AGV/LGV/AMR 관제시스템 개발자 모집\n",
      "2024-09-23 09:00:00\n",
      "www.syscon.kr\n",
      "49050209\n"
     ]
    },
    {
     "name": "stderr",
     "output_type": "stream",
     "text": [
      "/home/cook/venv/eda_venv/lib/python3.10/site-packages/urllib3/connectionpool.py:1099: InsecureRequestWarning: Unverified HTTPS request is being made to host 'www.saramin.co.kr'. Adding certificate verification is strongly advised. See: https://urllib3.readthedocs.io/en/latest/advanced-usage.html#tls-warnings\n",
      "  warnings.warn(\n"
     ]
    },
    {
     "name": "stdout",
     "output_type": "stream",
     "text": [
      "NC9Rc3ppTnRwUjlabEJIZFJrdVlVdz09 (주)로아스 로봇 자동화 엔지니어 채용\n",
      "2024-09-23 00:00:00\n",
      "산업용 로봇 제조업\n",
      "2020년 3월 3일\n",
      "2020-03-03 00:00:00\n",
      "www.roas.co.kr\n",
      "49050117\n"
     ]
    },
    {
     "name": "stderr",
     "output_type": "stream",
     "text": [
      "/home/cook/venv/eda_venv/lib/python3.10/site-packages/urllib3/connectionpool.py:1099: InsecureRequestWarning: Unverified HTTPS request is being made to host 'www.saramin.co.kr'. Adding certificate verification is strongly advised. See: https://urllib3.readthedocs.io/en/latest/advanced-usage.html#tls-warnings\n",
      "  warnings.warn(\n"
     ]
    },
    {
     "name": "stdout",
     "output_type": "stream",
     "text": [
      "VFBNSkFGVXRBc0k2aTB1b3p5OWUyZz09 (주)트위니 [로봇사업본부] 자율주행로봇 기술영업 담당자 채용\n",
      "2024-09-23 09:00:00\n",
      "산업용 로봇 제조업\n",
      "2015년 8월 27일\n",
      "2015-08-27 00:00:00\n",
      "twinny.ai\n",
      "49049017\n"
     ]
    },
    {
     "name": "stderr",
     "output_type": "stream",
     "text": [
      "/home/cook/venv/eda_venv/lib/python3.10/site-packages/urllib3/connectionpool.py:1099: InsecureRequestWarning: Unverified HTTPS request is being made to host 'www.saramin.co.kr'. Adding certificate verification is strongly advised. See: https://urllib3.readthedocs.io/en/latest/advanced-usage.html#tls-warnings\n",
      "  warnings.warn(\n"
     ]
    },
    {
     "name": "stdout",
     "output_type": "stream",
     "text": [
      "OTdLUmhvMTlYeUl2MVZWNlZ2c3BKZz09 (주)엘로이랩 [서울지점/AI 초분광 솔루션] HW본부 장비/기구설계 채용(경력)\n",
      "2024-09-23 08:00:00\n",
      "응용 소프트웨어 개발 및 공급업\n",
      "2020년 6월 24일\n",
      "2020-06-24 00:00:00\n",
      "http://elroilab.com/\n",
      "49048528\n"
     ]
    },
    {
     "name": "stderr",
     "output_type": "stream",
     "text": [
      "/home/cook/venv/eda_venv/lib/python3.10/site-packages/urllib3/connectionpool.py:1099: InsecureRequestWarning: Unverified HTTPS request is being made to host 'www.saramin.co.kr'. Adding certificate verification is strongly advised. See: https://urllib3.readthedocs.io/en/latest/advanced-usage.html#tls-warnings\n",
      "  warnings.warn(\n"
     ]
    },
    {
     "name": "stdout",
     "output_type": "stream",
     "text": [
      "b0p2MmFPMXBSZnlxSEQ3Q29sVmRuZz09 에이치알포유(주) 상장회사 자회사,  PM(IT 기획)  [5년이상]\n",
      "2024-09-22 21:00:00\n",
      "49048445\n"
     ]
    },
    {
     "name": "stderr",
     "output_type": "stream",
     "text": [
      "/home/cook/venv/eda_venv/lib/python3.10/site-packages/urllib3/connectionpool.py:1099: InsecureRequestWarning: Unverified HTTPS request is being made to host 'www.saramin.co.kr'. Adding certificate verification is strongly advised. See: https://urllib3.readthedocs.io/en/latest/advanced-usage.html#tls-warnings\n",
      "  warnings.warn(\n"
     ]
    },
    {
     "name": "stdout",
     "output_type": "stream",
     "text": [
      "bGMrbnZwV2x1T09JR2FLUkpWYnowdz09 프로페셔날핸즈인핸즈코리아(주) 물류자동화 자동창고 솔루션.시스템 기술영업 대리..부장(세종시\n",
      "2024-09-22 20:00:00\n",
      "경영 컨설팅업\n",
      "2003년 1월 2일\n",
      "2003-01-02 00:00:00\n",
      "http://www.prohanzkorea.com\n",
      "49048429\n"
     ]
    },
    {
     "name": "stderr",
     "output_type": "stream",
     "text": [
      "/home/cook/venv/eda_venv/lib/python3.10/site-packages/urllib3/connectionpool.py:1099: InsecureRequestWarning: Unverified HTTPS request is being made to host 'www.saramin.co.kr'. Adding certificate verification is strongly advised. See: https://urllib3.readthedocs.io/en/latest/advanced-usage.html#tls-warnings\n",
      "  warnings.warn(\n"
     ]
    },
    {
     "name": "stdout",
     "output_type": "stream",
     "text": [
      "bGMrbnZwV2x1T09JR2FLUkpWYnowdz09 프로페셔날핸즈인핸즈코리아(주) 물류자동화 솔루션.시스템 우량기업 영업 본부장(서초구, 세종시\n",
      "2024-09-22 19:00:00\n",
      "경영 컨설팅업\n",
      "2003년 1월 2일\n",
      "2003-01-02 00:00:00\n",
      "http://www.prohanzkorea.com\n",
      "49047284\n"
     ]
    },
    {
     "name": "stderr",
     "output_type": "stream",
     "text": [
      "/home/cook/venv/eda_venv/lib/python3.10/site-packages/urllib3/connectionpool.py:1099: InsecureRequestWarning: Unverified HTTPS request is being made to host 'www.saramin.co.kr'. Adding certificate verification is strongly advised. See: https://urllib3.readthedocs.io/en/latest/advanced-usage.html#tls-warnings\n",
      "  warnings.warn(\n"
     ]
    },
    {
     "name": "stdout",
     "output_type": "stream",
     "text": [
      "ZU5Vc0tIVVd6UnJDNHFwd3hYTUh0dz09 (주)스카우트플랜 자동화/로봇 제어 알고리즘 설계(C/C++, C#, Python, ROS 경력)\n",
      "2024-09-21 18:00:00\n",
      "연구소·컨설팅·조사\n",
      "2012년 1월 1일\n",
      "2012-01-01 00:00:00\n",
      "https://www.scoutplan.co.kr\n",
      "49046663\n"
     ]
    },
    {
     "name": "stderr",
     "output_type": "stream",
     "text": [
      "/home/cook/venv/eda_venv/lib/python3.10/site-packages/urllib3/connectionpool.py:1099: InsecureRequestWarning: Unverified HTTPS request is being made to host 'www.saramin.co.kr'. Adding certificate verification is strongly advised. See: https://urllib3.readthedocs.io/en/latest/advanced-usage.html#tls-warnings\n",
      "  warnings.warn(\n"
     ]
    },
    {
     "name": "stdout",
     "output_type": "stream",
     "text": [
      "M1FjRDRyMEl0QUd2T3JNM2lML2liUT09 (유)포리코리아 [포리코리아]  자동차 검사장비 S/W 프로그래밍\n",
      "2024-09-21 13:00:00\n",
      "기타 측정, 시험, 항해, 제어 및 정밀기..\n",
      "1997년 8월 4일\n",
      "1997-08-04 00:00:00\n",
      "www.foriauto.com\n",
      "49045914\n"
     ]
    },
    {
     "name": "stderr",
     "output_type": "stream",
     "text": [
      "/home/cook/venv/eda_venv/lib/python3.10/site-packages/urllib3/connectionpool.py:1099: InsecureRequestWarning: Unverified HTTPS request is being made to host 'www.saramin.co.kr'. Adding certificate verification is strongly advised. See: https://urllib3.readthedocs.io/en/latest/advanced-usage.html#tls-warnings\n",
      "  warnings.warn(\n"
     ]
    },
    {
     "name": "stdout",
     "output_type": "stream",
     "text": [
      "Skh5N1B0U3VsbXgrMHljdUltMVgyUT09 SMI [안휘성 합비시] 기계/화학사 OLED 설비 제어 SW 전문가\n",
      "2024-09-21 09:00:00\n",
      "2011년 7월 1일\n",
      "2011-07-01 00:00:00\n",
      "www.visionsmi.com\n",
      "49045627\n"
     ]
    },
    {
     "name": "stderr",
     "output_type": "stream",
     "text": [
      "/home/cook/venv/eda_venv/lib/python3.10/site-packages/urllib3/connectionpool.py:1099: InsecureRequestWarning: Unverified HTTPS request is being made to host 'www.saramin.co.kr'. Adding certificate verification is strongly advised. See: https://urllib3.readthedocs.io/en/latest/advanced-usage.html#tls-warnings\n",
      "  warnings.warn(\n"
     ]
    },
    {
     "name": "stdout",
     "output_type": "stream",
     "text": [
      "VjFQNTZTNVY0bndJc1E5TmVvcTcyQT09 (주)백그라운드 /유명 코스닥  로봇기업/ 백엔드 개발 - 대전\n",
      "2024-09-20 23:00:00\n",
      "경영 컨설팅업\n",
      "2022년 10월 12일\n",
      "2022-10-12 00:00:00\n",
      "https://www.baekground.co.kr\n",
      "49043635\n"
     ]
    },
    {
     "name": "stderr",
     "output_type": "stream",
     "text": [
      "/home/cook/venv/eda_venv/lib/python3.10/site-packages/urllib3/connectionpool.py:1099: InsecureRequestWarning: Unverified HTTPS request is being made to host 'www.saramin.co.kr'. Adding certificate verification is strongly advised. See: https://urllib3.readthedocs.io/en/latest/advanced-usage.html#tls-warnings\n",
      "  warnings.warn(\n"
     ]
    },
    {
     "name": "stdout",
     "output_type": "stream",
     "text": [
      "ZmZPZkM0MU9lekc2T3RIaENuT2lYZz09 (주)엑소시스템즈 [디지털헬스케어] 프로덕트 UI/UX 디자이너\n",
      "2024-09-20 16:00:00\n",
      "전기식 진단 및 요법 기기 제조업\n",
      "2017년 1월 4일\n",
      "2017-01-04 00:00:00\n",
      "www.exosystems.io\n",
      "49043618\n"
     ]
    },
    {
     "name": "stderr",
     "output_type": "stream",
     "text": [
      "/home/cook/venv/eda_venv/lib/python3.10/site-packages/urllib3/connectionpool.py:1099: InsecureRequestWarning: Unverified HTTPS request is being made to host 'www.saramin.co.kr'. Adding certificate verification is strongly advised. See: https://urllib3.readthedocs.io/en/latest/advanced-usage.html#tls-warnings\n",
      "  warnings.warn(\n"
     ]
    },
    {
     "name": "stdout",
     "output_type": "stream",
     "text": [
      "ZmZPZkM0MU9lekc2T3RIaENuT2lYZz09 (주)엑소시스템즈 [디지털헬스케어] 세일즈 마케팅 매니저\n",
      "2024-09-20 16:00:00\n",
      "전기식 진단 및 요법 기기 제조업\n",
      "2017년 1월 4일\n",
      "2017-01-04 00:00:00\n",
      "www.exosystems.io\n",
      "49043611\n"
     ]
    },
    {
     "name": "stderr",
     "output_type": "stream",
     "text": [
      "/home/cook/venv/eda_venv/lib/python3.10/site-packages/urllib3/connectionpool.py:1099: InsecureRequestWarning: Unverified HTTPS request is being made to host 'www.saramin.co.kr'. Adding certificate verification is strongly advised. See: https://urllib3.readthedocs.io/en/latest/advanced-usage.html#tls-warnings\n",
      "  warnings.warn(\n"
     ]
    },
    {
     "name": "stdout",
     "output_type": "stream",
     "text": [
      "ZmZPZkM0MU9lekc2T3RIaENuT2lYZz09 (주)엑소시스템즈 [디지털헬스케어] 방문요양 장기요양기관 운영인력 (센터장/가산\n",
      "2024-09-20 16:00:00\n",
      "전기식 진단 및 요법 기기 제조업\n",
      "2017년 1월 4일\n",
      "2017-01-04 00:00:00\n",
      "www.exosystems.io\n",
      "49043592\n"
     ]
    },
    {
     "name": "stderr",
     "output_type": "stream",
     "text": [
      "/home/cook/venv/eda_venv/lib/python3.10/site-packages/urllib3/connectionpool.py:1099: InsecureRequestWarning: Unverified HTTPS request is being made to host 'www.saramin.co.kr'. Adding certificate verification is strongly advised. See: https://urllib3.readthedocs.io/en/latest/advanced-usage.html#tls-warnings\n",
      "  warnings.warn(\n"
     ]
    },
    {
     "name": "stdout",
     "output_type": "stream",
     "text": [
      "ZmZPZkM0MU9lekc2T3RIaENuT2lYZz09 (주)엑소시스템즈 [디지털헬스케어] AI 엔지니어 (병역특례 / CTO 레벨 가능)\n",
      "2024-09-20 16:00:00\n",
      "전기식 진단 및 요법 기기 제조업\n",
      "2017년 1월 4일\n",
      "2017-01-04 00:00:00\n",
      "www.exosystems.io\n",
      "49043575\n"
     ]
    },
    {
     "name": "stderr",
     "output_type": "stream",
     "text": [
      "/home/cook/venv/eda_venv/lib/python3.10/site-packages/urllib3/connectionpool.py:1099: InsecureRequestWarning: Unverified HTTPS request is being made to host 'www.saramin.co.kr'. Adding certificate verification is strongly advised. See: https://urllib3.readthedocs.io/en/latest/advanced-usage.html#tls-warnings\n",
      "  warnings.warn(\n"
     ]
    },
    {
     "name": "stdout",
     "output_type": "stream",
     "text": [
      "ZmZPZkM0MU9lekc2T3RIaENuT2lYZz09 (주)엑소시스템즈 [디지털 헬스케어] 디지털 의료기기 세일즈\n",
      "2024-09-20 16:00:00\n",
      "전기식 진단 및 요법 기기 제조업\n",
      "2017년 1월 4일\n",
      "2017-01-04 00:00:00\n",
      "www.exosystems.io\n",
      "49043546\n"
     ]
    },
    {
     "name": "stderr",
     "output_type": "stream",
     "text": [
      "/home/cook/venv/eda_venv/lib/python3.10/site-packages/urllib3/connectionpool.py:1099: InsecureRequestWarning: Unverified HTTPS request is being made to host 'www.saramin.co.kr'. Adding certificate verification is strongly advised. See: https://urllib3.readthedocs.io/en/latest/advanced-usage.html#tls-warnings\n",
      "  warnings.warn(\n"
     ]
    },
    {
     "name": "stdout",
     "output_type": "stream",
     "text": [
      "TnRyd1E2NGxLUklUdlgrWEowQjdnZz09 (주)엑스와이지 [서비스 로봇] Front-end 엔지니어(3년 이상)\n",
      "2024-09-20 16:00:00\n",
      "49043399\n"
     ]
    },
    {
     "name": "stderr",
     "output_type": "stream",
     "text": [
      "/home/cook/venv/eda_venv/lib/python3.10/site-packages/urllib3/connectionpool.py:1099: InsecureRequestWarning: Unverified HTTPS request is being made to host 'www.saramin.co.kr'. Adding certificate verification is strongly advised. See: https://urllib3.readthedocs.io/en/latest/advanced-usage.html#tls-warnings\n",
      "  warnings.warn(\n"
     ]
    },
    {
     "name": "stdout",
     "output_type": "stream",
     "text": [
      "SlNwN0NFZWJlanhxSzhoa2ttcjF5Zz09 (주)플라잎 [판교 / 로봇 스타트업] 컴퓨터 비전 엔지니어 채용(전문연구)\n",
      "2024-09-20 16:00:00\n",
      "시스템 소프트웨어 개발 및 공급업\n",
      "2020년 1월 29일\n",
      "2020-01-29 00:00:00\n",
      "www.plaif.com\n",
      "49043390\n"
     ]
    },
    {
     "name": "stderr",
     "output_type": "stream",
     "text": [
      "/home/cook/venv/eda_venv/lib/python3.10/site-packages/urllib3/connectionpool.py:1099: InsecureRequestWarning: Unverified HTTPS request is being made to host 'www.saramin.co.kr'. Adding certificate verification is strongly advised. See: https://urllib3.readthedocs.io/en/latest/advanced-usage.html#tls-warnings\n",
      "  warnings.warn(\n"
     ]
    },
    {
     "name": "stdout",
     "output_type": "stream",
     "text": [
      "SlNwN0NFZWJlanhxSzhoa2ttcjF5Zz09 (주)플라잎 [판교 / 로봇 스타트업] Robot Control Engineer (전문연구)\n",
      "2024-09-20 16:00:00\n",
      "시스템 소프트웨어 개발 및 공급업\n",
      "2020년 1월 29일\n",
      "2020-01-29 00:00:00\n",
      "www.plaif.com\n",
      "49043385\n"
     ]
    },
    {
     "name": "stderr",
     "output_type": "stream",
     "text": [
      "/home/cook/venv/eda_venv/lib/python3.10/site-packages/urllib3/connectionpool.py:1099: InsecureRequestWarning: Unverified HTTPS request is being made to host 'www.saramin.co.kr'. Adding certificate verification is strongly advised. See: https://urllib3.readthedocs.io/en/latest/advanced-usage.html#tls-warnings\n",
      "  warnings.warn(\n"
     ]
    },
    {
     "name": "stdout",
     "output_type": "stream",
     "text": [
      "SlNwN0NFZWJlanhxSzhoa2ttcjF5Zz09 (주)플라잎 리눅스 엔지니어 [ 판교 / 전문연구 / AI협동로봇 스타트업 ]\n",
      "2024-09-20 16:00:00\n",
      "시스템 소프트웨어 개발 및 공급업\n",
      "2020년 1월 29일\n",
      "2020-01-29 00:00:00\n",
      "www.plaif.com\n",
      "49043373\n"
     ]
    },
    {
     "name": "stderr",
     "output_type": "stream",
     "text": [
      "/home/cook/venv/eda_venv/lib/python3.10/site-packages/urllib3/connectionpool.py:1099: InsecureRequestWarning: Unverified HTTPS request is being made to host 'www.saramin.co.kr'. Adding certificate verification is strongly advised. See: https://urllib3.readthedocs.io/en/latest/advanced-usage.html#tls-warnings\n",
      "  warnings.warn(\n"
     ]
    },
    {
     "name": "stdout",
     "output_type": "stream",
     "text": [
      "SlNwN0NFZWJlanhxSzhoa2ttcjF5Zz09 (주)플라잎 [ 판교 / 로봇 스타트업 ] 머신러닝 엔지니어 (전문연구)\n",
      "2024-09-20 16:00:00\n",
      "시스템 소프트웨어 개발 및 공급업\n",
      "2020년 1월 29일\n",
      "2020-01-29 00:00:00\n",
      "www.plaif.com\n",
      "49042509\n"
     ]
    },
    {
     "name": "stderr",
     "output_type": "stream",
     "text": [
      "/home/cook/venv/eda_venv/lib/python3.10/site-packages/urllib3/connectionpool.py:1099: InsecureRequestWarning: Unverified HTTPS request is being made to host 'www.saramin.co.kr'. Adding certificate verification is strongly advised. See: https://urllib3.readthedocs.io/en/latest/advanced-usage.html#tls-warnings\n",
      "  warnings.warn(\n"
     ]
    },
    {
     "name": "stdout",
     "output_type": "stream",
     "text": [
      "WmhmdS9OOStqeFpWWVBrOEI0UUtEdz09 (주)아이지 (주)아이지 기구설계 채용(신입/경력)\n",
      "2024-09-20 15:00:00\n",
      "기타 측정, 시험, 항해, 제어 및 정밀기..\n",
      "2009년 3월 2일\n",
      "2009-03-02 00:00:00\n",
      "www.ieg.kr\n",
      "49041522\n"
     ]
    },
    {
     "name": "stderr",
     "output_type": "stream",
     "text": [
      "/home/cook/venv/eda_venv/lib/python3.10/site-packages/urllib3/connectionpool.py:1099: InsecureRequestWarning: Unverified HTTPS request is being made to host 'www.saramin.co.kr'. Adding certificate verification is strongly advised. See: https://urllib3.readthedocs.io/en/latest/advanced-usage.html#tls-warnings\n",
      "  warnings.warn(\n"
     ]
    },
    {
     "name": "stdout",
     "output_type": "stream",
     "text": [
      "ZTdzaUNpWXlRUjdxam9aQjBnYlRpQT09 에스아이오티(주) MR IoT ( 로봇, 장치, 임베디드 시스템 ) 개발자 모집\n",
      "2024-09-20 14:00:00\n",
      "산업처리공정 제어장비 제조업\n",
      "2014년 10월 28일\n",
      "2014-10-28 00:00:00\n",
      "http://s-iot.kr\n",
      "49041390\n"
     ]
    },
    {
     "name": "stderr",
     "output_type": "stream",
     "text": [
      "/home/cook/venv/eda_venv/lib/python3.10/site-packages/urllib3/connectionpool.py:1099: InsecureRequestWarning: Unverified HTTPS request is being made to host 'www.saramin.co.kr'. Adding certificate verification is strongly advised. See: https://urllib3.readthedocs.io/en/latest/advanced-usage.html#tls-warnings\n",
      "  warnings.warn(\n"
     ]
    },
    {
     "name": "stdout",
     "output_type": "stream",
     "text": [
      "ZU5Vc0tIVVd6UnJDNHFwd3hYTUh0dz09 (주)스카우트플랜 전기/전자/반도체 분야 헤드헌터 (신입/경력)\n",
      "2024-09-20 14:00:00\n",
      "연구소·컨설팅·조사\n",
      "2012년 1월 1일\n",
      "2012-01-01 00:00:00\n",
      "https://www.scoutplan.co.kr\n",
      "49041367\n"
     ]
    },
    {
     "name": "stderr",
     "output_type": "stream",
     "text": [
      "/home/cook/venv/eda_venv/lib/python3.10/site-packages/urllib3/connectionpool.py:1099: InsecureRequestWarning: Unverified HTTPS request is being made to host 'www.saramin.co.kr'. Adding certificate verification is strongly advised. See: https://urllib3.readthedocs.io/en/latest/advanced-usage.html#tls-warnings\n",
      "  warnings.warn(\n"
     ]
    },
    {
     "name": "stdout",
     "output_type": "stream",
     "text": [
      "STQ2clFrdUtFb292cWZjcG9ma2pBUT09 커리어위즈 전략기획실 사업전략기획\n",
      "2024-09-20 14:00:00\n",
      "시설관리·경비·용역\n",
      "49041268\n"
     ]
    },
    {
     "name": "stderr",
     "output_type": "stream",
     "text": [
      "/home/cook/venv/eda_venv/lib/python3.10/site-packages/urllib3/connectionpool.py:1099: InsecureRequestWarning: Unverified HTTPS request is being made to host 'www.saramin.co.kr'. Adding certificate verification is strongly advised. See: https://urllib3.readthedocs.io/en/latest/advanced-usage.html#tls-warnings\n",
      "  warnings.warn(\n"
     ]
    },
    {
     "name": "stdout",
     "output_type": "stream",
     "text": [
      "K0R2SEhhRzhBSERBMHZDOFFmUmlrQT09 주토스(주) [주토스] 3D 로봇비전 알고리즘 개발자 모집\n",
      "2024-09-20 14:00:00\n",
      "시스템 소프트웨어 개발 및 공급업\n",
      "www.zootos.com\n",
      "49040770\n"
     ]
    },
    {
     "name": "stderr",
     "output_type": "stream",
     "text": [
      "/home/cook/venv/eda_venv/lib/python3.10/site-packages/urllib3/connectionpool.py:1099: InsecureRequestWarning: Unverified HTTPS request is being made to host 'www.saramin.co.kr'. Adding certificate verification is strongly advised. See: https://urllib3.readthedocs.io/en/latest/advanced-usage.html#tls-warnings\n",
      "  warnings.warn(\n"
     ]
    },
    {
     "name": "stdout",
     "output_type": "stream",
     "text": [
      "WmcwTC9DL2Q5U1MzeHY5OEdLcTBUQT09 (주)아디아랩 (주)아디아랩 개발자 모집\n",
      "2024-09-20 13:00:00\n",
      "컴퓨터시스템 통합 자문 및 구축 서비스업\n",
      "2019년 8월 8일\n",
      "2019-08-08 00:00:00\n",
      "49040649\n"
     ]
    },
    {
     "name": "stderr",
     "output_type": "stream",
     "text": [
      "/home/cook/venv/eda_venv/lib/python3.10/site-packages/urllib3/connectionpool.py:1099: InsecureRequestWarning: Unverified HTTPS request is being made to host 'www.saramin.co.kr'. Adding certificate verification is strongly advised. See: https://urllib3.readthedocs.io/en/latest/advanced-usage.html#tls-warnings\n",
      "  warnings.warn(\n"
     ]
    },
    {
     "name": "stdout",
     "output_type": "stream",
     "text": [
      "NkplYnVhUHJzYWFERFVtRTB4RzZUdz09 (주)모빌테크 [모빌테크] 회계/재무 담당자 모집 (경력)\n",
      "2024-09-20 13:00:00\n",
      "전기ㆍ전자공학 연구개발업\n",
      "2017년 4월 10일\n",
      "2017-04-10 00:00:00\n",
      "www.mobiltech.io\n",
      "49040512\n"
     ]
    },
    {
     "name": "stderr",
     "output_type": "stream",
     "text": [
      "/home/cook/venv/eda_venv/lib/python3.10/site-packages/urllib3/connectionpool.py:1099: InsecureRequestWarning: Unverified HTTPS request is being made to host 'www.saramin.co.kr'. Adding certificate verification is strongly advised. See: https://urllib3.readthedocs.io/en/latest/advanced-usage.html#tls-warnings\n",
      "  warnings.warn(\n"
     ]
    },
    {
     "name": "stdout",
     "output_type": "stream",
     "text": [
      "RWV5b1cwQWtFdmtQUjhDT2NNT01WUT09 코너스톤코리아(주) 무인지게차 시운전 엔지니어 신입사원 모집\n",
      "2024-09-20 00:00:00\n",
      "경영 컨설팅업\n",
      "2008년 1월 4일\n",
      "2008-01-04 00:00:00\n",
      "49039233\n"
     ]
    },
    {
     "name": "stderr",
     "output_type": "stream",
     "text": [
      "/home/cook/venv/eda_venv/lib/python3.10/site-packages/urllib3/connectionpool.py:1099: InsecureRequestWarning: Unverified HTTPS request is being made to host 'www.saramin.co.kr'. Adding certificate verification is strongly advised. See: https://urllib3.readthedocs.io/en/latest/advanced-usage.html#tls-warnings\n",
      "  warnings.warn(\n"
     ]
    },
    {
     "name": "stdout",
     "output_type": "stream",
     "text": [
      "MEs4RDRuZEZGTk9UOC80WWhPV1Y1Zz09 에이치알에스코리아(주) 2024년 경력사원 및 신입사원 모집\n",
      "2024-09-23 00:00:00\n",
      "그 외 기타 전자부품 제조업\n",
      "1985년 10월 30일\n",
      "1985-10-30 00:00:00\n",
      "www.hirose.co.kr\n"
     ]
    },
    {
     "name": "stderr",
     "output_type": "stream",
     "text": [
      "/home/cook/venv/eda_venv/lib/python3.10/site-packages/urllib3/connectionpool.py:1099: InsecureRequestWarning: Unverified HTTPS request is being made to host 'www.saramin.co.kr'. Adding certificate verification is strongly advised. See: https://urllib3.readthedocs.io/en/latest/advanced-usage.html#tls-warnings\n",
      "  warnings.warn(\n"
     ]
    },
    {
     "name": "stdout",
     "output_type": "stream",
     "text": [
      "49038788\n"
     ]
    },
    {
     "name": "stderr",
     "output_type": "stream",
     "text": [
      "/home/cook/venv/eda_venv/lib/python3.10/site-packages/urllib3/connectionpool.py:1099: InsecureRequestWarning: Unverified HTTPS request is being made to host 'www.saramin.co.kr'. Adding certificate verification is strongly advised. See: https://urllib3.readthedocs.io/en/latest/advanced-usage.html#tls-warnings\n",
      "  warnings.warn(\n"
     ]
    },
    {
     "name": "stdout",
     "output_type": "stream",
     "text": [
      "dGdBSlpZODE3cTBWK0IweVZLbmZuZz09 (주)메이븐앤컴퍼니 [유명 2차전지 자동화설비 제조 코스닥상장사] 로봇 S/W 개발\n",
      "2024-09-20 11:00:00\n",
      "경영 컨설팅업\n",
      "2005년 2월 23일\n",
      "2005-02-23 00:00:00\n",
      "www.maven.company\n",
      "49038371\n"
     ]
    },
    {
     "name": "stderr",
     "output_type": "stream",
     "text": [
      "/home/cook/venv/eda_venv/lib/python3.10/site-packages/urllib3/connectionpool.py:1099: InsecureRequestWarning: Unverified HTTPS request is being made to host 'www.saramin.co.kr'. Adding certificate verification is strongly advised. See: https://urllib3.readthedocs.io/en/latest/advanced-usage.html#tls-warnings\n",
      "  warnings.warn(\n"
     ]
    },
    {
     "name": "stdout",
     "output_type": "stream",
     "text": [
      "QlJrM1VvQzhYT3FyMmswTjc5T1N1QT09 인셀(주) 인셀(주) C/S(제품유지보수) 팀 정규직원 채용\n",
      "2024-09-20 10:00:00\n",
      "축전지 제조업\n",
      "2004년 1월 1일\n",
      "2004-01-01 00:00:00\n",
      "www.incell.kr\n",
      "49037987\n"
     ]
    },
    {
     "name": "stderr",
     "output_type": "stream",
     "text": [
      "/home/cook/venv/eda_venv/lib/python3.10/site-packages/urllib3/connectionpool.py:1099: InsecureRequestWarning: Unverified HTTPS request is being made to host 'www.saramin.co.kr'. Adding certificate verification is strongly advised. See: https://urllib3.readthedocs.io/en/latest/advanced-usage.html#tls-warnings\n",
      "  warnings.warn(\n"
     ]
    },
    {
     "name": "stdout",
     "output_type": "stream",
     "text": [
      "RUUzTFRPcTlIUTdvMTk5eTNqR1hYQT09 (주)스마트캐스트 (주)스마트캐스트 운영 재고/장비세팅/출고/외주관리 인원모집\n",
      "2024-09-20 10:00:00\n",
      "응용 소프트웨어 개발 및 공급업\n",
      "2014년 6월 16일\n",
      "2014-06-16 00:00:00\n",
      "http://www.smartcast.co.kr\n",
      "49037985\n"
     ]
    },
    {
     "name": "stderr",
     "output_type": "stream",
     "text": [
      "/home/cook/venv/eda_venv/lib/python3.10/site-packages/urllib3/connectionpool.py:1099: InsecureRequestWarning: Unverified HTTPS request is being made to host 'www.saramin.co.kr'. Adding certificate verification is strongly advised. See: https://urllib3.readthedocs.io/en/latest/advanced-usage.html#tls-warnings\n",
      "  warnings.warn(\n"
     ]
    },
    {
     "name": "stdout",
     "output_type": "stream",
     "text": [
      "U1lYalhYMGE4NUxGUUFhU0tVeU9YQT09 (주)트리즈엔지니어링 2024년 하반기 각 부문별 신입/경력 모집\n",
      "2024-09-21 00:00:00\n",
      "기타 엔지니어링 서비스업\n",
      "2013년 4월 30일\n",
      "2013-04-30 00:00:00\n",
      "www.treeze-eng.com\n",
      "49037906\n"
     ]
    },
    {
     "name": "stderr",
     "output_type": "stream",
     "text": [
      "/home/cook/venv/eda_venv/lib/python3.10/site-packages/urllib3/connectionpool.py:1099: InsecureRequestWarning: Unverified HTTPS request is being made to host 'www.saramin.co.kr'. Adding certificate verification is strongly advised. See: https://urllib3.readthedocs.io/en/latest/advanced-usage.html#tls-warnings\n",
      "  warnings.warn(\n"
     ]
    },
    {
     "name": "stdout",
     "output_type": "stream",
     "text": [
      "VmZGYVc0RGt4b2hXeVZucCs2VTdaZz09 호전실업(주) 웹/앱 및 응용 소프트웨어 개발자\n",
      "2024-09-20 00:00:00\n",
      "그 외 기타 봉제의복 제조업\n",
      "1985년 3월 5일\n",
      "1985-03-05 00:00:00\n",
      "www.hojeon.co.kr\n",
      "49036322\n"
     ]
    },
    {
     "name": "stderr",
     "output_type": "stream",
     "text": [
      "/home/cook/venv/eda_venv/lib/python3.10/site-packages/urllib3/connectionpool.py:1099: InsecureRequestWarning: Unverified HTTPS request is being made to host 'www.saramin.co.kr'. Adding certificate verification is strongly advised. See: https://urllib3.readthedocs.io/en/latest/advanced-usage.html#tls-warnings\n",
      "  warnings.warn(\n"
     ]
    },
    {
     "name": "stdout",
     "output_type": "stream",
     "text": [
      "aDJMWlBEMm0wT2laRVJ2dW50MEwrQT09 (주)맨파워코리아 [외국계 의료로봇] 네트워크 프로그래머 포지션 채용\n",
      "2024-09-20 09:00:00\n",
      "상용 인력 공급 및 인사관리 서비스업\n",
      "1999년 1월 18일\n",
      "1999-01-18 00:00:00\n",
      "www.manpower.co.kr\n",
      "49036153\n"
     ]
    },
    {
     "name": "stderr",
     "output_type": "stream",
     "text": [
      "/home/cook/venv/eda_venv/lib/python3.10/site-packages/urllib3/connectionpool.py:1099: InsecureRequestWarning: Unverified HTTPS request is being made to host 'www.saramin.co.kr'. Adding certificate verification is strongly advised. See: https://urllib3.readthedocs.io/en/latest/advanced-usage.html#tls-warnings\n",
      "  warnings.warn(\n"
     ]
    },
    {
     "name": "stdout",
     "output_type": "stream",
     "text": [
      "b3MrcEhoaHBTMHQ0N1VKSE9MaU1zQT09 (주)인피닉 [마곡] SW 테스트 엔지니어(QA) 신입 채용\n",
      "2024-09-20 09:00:00\n",
      "응용 소프트웨어 개발 및 공급업\n",
      "2005년 3월 7일\n",
      "2005-03-07 00:00:00\n",
      "www.infiniq.co.kr\n",
      "49035117\n"
     ]
    },
    {
     "name": "stderr",
     "output_type": "stream",
     "text": [
      "/home/cook/venv/eda_venv/lib/python3.10/site-packages/urllib3/connectionpool.py:1099: InsecureRequestWarning: Unverified HTTPS request is being made to host 'www.saramin.co.kr'. Adding certificate verification is strongly advised. See: https://urllib3.readthedocs.io/en/latest/advanced-usage.html#tls-warnings\n",
      "  warnings.warn(\n"
     ]
    },
    {
     "name": "stdout",
     "output_type": "stream",
     "text": [
      "SU93Uk9OM2xMbU44eklEMzhiYzhadz09 (주)유니컨 [경력] F/W 엔지니어 채용\n",
      "2024-09-19 22:00:00\n",
      "www.uniqconn.com\n",
      "49035090\n"
     ]
    },
    {
     "name": "stderr",
     "output_type": "stream",
     "text": [
      "/home/cook/venv/eda_venv/lib/python3.10/site-packages/urllib3/connectionpool.py:1099: InsecureRequestWarning: Unverified HTTPS request is being made to host 'www.saramin.co.kr'. Adding certificate verification is strongly advised. See: https://urllib3.readthedocs.io/en/latest/advanced-usage.html#tls-warnings\n",
      "  warnings.warn(\n"
     ]
    },
    {
     "name": "stdout",
     "output_type": "stream",
     "text": [
      "TnZiMmFXTFplYU5jalF4QkMxcUtsUT09 건솔루션(주) 스마트공장 구축 PM 모집(스마트팩토리)/ 경력12년차 이상 우대\n",
      "2024-09-19 22:00:00\n",
      "응용 소프트웨어 개발 및 공급업\n",
      "2011년 12월 20일\n",
      "2011-12-20 00:00:00\n",
      "http://www.gunsol.com\n",
      "49034853\n"
     ]
    },
    {
     "name": "stderr",
     "output_type": "stream",
     "text": [
      "/home/cook/venv/eda_venv/lib/python3.10/site-packages/urllib3/connectionpool.py:1099: InsecureRequestWarning: Unverified HTTPS request is being made to host 'www.saramin.co.kr'. Adding certificate verification is strongly advised. See: https://urllib3.readthedocs.io/en/latest/advanced-usage.html#tls-warnings\n",
      "  warnings.warn(\n"
     ]
    },
    {
     "name": "stdout",
     "output_type": "stream",
     "text": [
      "VHpSTlE0b2N1OWQreTZhalZoRXZZQT09 (주)바인컨설팅 머신비전&모바일 로봇 글로벌 기업 기술지원(팀장)\n",
      "2024-09-19 20:00:00\n",
      "경영 컨설팅업\n",
      "2015년 12월 2일\n",
      "2015-12-02 00:00:00\n",
      "www.vineconsulting.co.kr\n",
      "49034844\n"
     ]
    },
    {
     "name": "stderr",
     "output_type": "stream",
     "text": [
      "/home/cook/venv/eda_venv/lib/python3.10/site-packages/urllib3/connectionpool.py:1099: InsecureRequestWarning: Unverified HTTPS request is being made to host 'www.saramin.co.kr'. Adding certificate verification is strongly advised. See: https://urllib3.readthedocs.io/en/latest/advanced-usage.html#tls-warnings\n",
      "  warnings.warn(\n"
     ]
    },
    {
     "name": "stdout",
     "output_type": "stream",
     "text": [
      "VHpSTlE0b2N1OWQreTZhalZoRXZZQT09 (주)바인컨설팅 코스닥 상장 로봇기업 SI/SW개발(신입/대리)\n",
      "2024-09-19 20:00:00\n",
      "경영 컨설팅업\n",
      "2015년 12월 2일\n",
      "2015-12-02 00:00:00\n",
      "www.vineconsulting.co.kr\n",
      "49034722\n"
     ]
    },
    {
     "name": "stderr",
     "output_type": "stream",
     "text": [
      "/home/cook/venv/eda_venv/lib/python3.10/site-packages/urllib3/connectionpool.py:1099: InsecureRequestWarning: Unverified HTTPS request is being made to host 'www.saramin.co.kr'. Adding certificate verification is strongly advised. See: https://urllib3.readthedocs.io/en/latest/advanced-usage.html#tls-warnings\n",
      "  warnings.warn(\n",
      "/home/cook/venv/eda_venv/lib/python3.10/site-packages/urllib3/connectionpool.py:1099: InsecureRequestWarning: Unverified HTTPS request is being made to host 'www.saramin.co.kr'. Adding certificate verification is strongly advised. See: https://urllib3.readthedocs.io/en/latest/advanced-usage.html#tls-warnings\n",
      "  warnings.warn(\n"
     ]
    },
    {
     "name": "stdout",
     "output_type": "stream",
     "text": [
      "VHpSTlE0b2N1OWQreTZhalZoRXZZQT09 (주)바인컨설팅 머신비전&모바일 로봇 글로벌 기업 기술지원(팀원)\n",
      "2024-09-19 19:00:00\n",
      "경영 컨설팅업\n",
      "2015년 12월 2일\n",
      "2015-12-02 00:00:00\n",
      "www.vineconsulting.co.kr\n",
      "49034671\n"
     ]
    },
    {
     "name": "stderr",
     "output_type": "stream",
     "text": [
      "/home/cook/venv/eda_venv/lib/python3.10/site-packages/urllib3/connectionpool.py:1099: InsecureRequestWarning: Unverified HTTPS request is being made to host 'www.saramin.co.kr'. Adding certificate verification is strongly advised. See: https://urllib3.readthedocs.io/en/latest/advanced-usage.html#tls-warnings\n",
      "  warnings.warn(\n"
     ]
    },
    {
     "name": "stdout",
     "output_type": "stream",
     "text": [
      "NC9Rc3ppTnRwUjlabEJIZFJrdVlVdz09 (주)로아스 [로아스] 영업팀 영업지원 인재채용\n",
      "2024-09-19 19:00:00\n",
      "산업용 로봇 제조업\n",
      "2020년 3월 3일\n",
      "2020-03-03 00:00:00\n",
      "www.roas.co.kr\n",
      "49034373\n"
     ]
    },
    {
     "name": "stderr",
     "output_type": "stream",
     "text": [
      "/home/cook/venv/eda_venv/lib/python3.10/site-packages/urllib3/connectionpool.py:1099: InsecureRequestWarning: Unverified HTTPS request is being made to host 'www.saramin.co.kr'. Adding certificate verification is strongly advised. See: https://urllib3.readthedocs.io/en/latest/advanced-usage.html#tls-warnings\n",
      "  warnings.warn(\n"
     ]
    },
    {
     "name": "stdout",
     "output_type": "stream",
     "text": [
      "WXRMbEg4Q3kvc085c0RMZy85OE9TUT09 (주)에니아이 Production Engineer(NPI(New Product Introduction) Engineer)\n",
      "2024-09-19 18:00:00\n",
      "전기·전자·제어\n",
      "2020년 7월 30일\n",
      "2020-07-30 00:00:00\n",
      "kr.aniai/ai\n",
      "49034213\n"
     ]
    },
    {
     "name": "stderr",
     "output_type": "stream",
     "text": [
      "/home/cook/venv/eda_venv/lib/python3.10/site-packages/urllib3/connectionpool.py:1099: InsecureRequestWarning: Unverified HTTPS request is being made to host 'www.saramin.co.kr'. Adding certificate verification is strongly advised. See: https://urllib3.readthedocs.io/en/latest/advanced-usage.html#tls-warnings\n",
      "  warnings.warn(\n"
     ]
    },
    {
     "name": "stdout",
     "output_type": "stream",
     "text": [
      "bndjK3pJVDlXOGYwUkU3NWVzSTBqQT09 (주)디엠테크컨설팅 웹 JAVA SPRING 개발자[경력] 채용공고\n",
      "2024-09-19 18:00:00\n",
      "응용 소프트웨어 개발 및 공급업\n",
      "2019년 11월 13일\n",
      "2019-11-13 00:00:00\n",
      "스마트공장장.com\n",
      "49034210\n"
     ]
    },
    {
     "name": "stderr",
     "output_type": "stream",
     "text": [
      "/home/cook/venv/eda_venv/lib/python3.10/site-packages/urllib3/connectionpool.py:1099: InsecureRequestWarning: Unverified HTTPS request is being made to host 'www.saramin.co.kr'. Adding certificate verification is strongly advised. See: https://urllib3.readthedocs.io/en/latest/advanced-usage.html#tls-warnings\n",
      "  warnings.warn(\n"
     ]
    },
    {
     "name": "stdout",
     "output_type": "stream",
     "text": [
      "b2FPMitxMUc0Z3A0ckRtVXdjRjhNdz09 (주)애드인에듀 첨단산업 인공지능 로봇분야 훈련교강사 채용\n",
      "2024-09-19 17:00:00\n",
      "컴퓨터 학원\n",
      "2020년 12월 9일\n",
      "2020-12-09 00:00:00\n",
      "49033928\n"
     ]
    },
    {
     "name": "stderr",
     "output_type": "stream",
     "text": [
      "/home/cook/venv/eda_venv/lib/python3.10/site-packages/urllib3/connectionpool.py:1099: InsecureRequestWarning: Unverified HTTPS request is being made to host 'www.saramin.co.kr'. Adding certificate verification is strongly advised. See: https://urllib3.readthedocs.io/en/latest/advanced-usage.html#tls-warnings\n",
      "  warnings.warn(\n"
     ]
    },
    {
     "name": "stdout",
     "output_type": "stream",
     "text": [
      "TGpOV0RXR0xZSVNLeGlaSUJucWUyQT09 모벤시스(주) 마케팅 커뮤니케이션 담당자 채용(경력)\n",
      "2024-09-19 17:00:00\n",
      "2014년 3월 10일\n",
      "2014-03-10 00:00:00\n",
      "www.movensys.com\n",
      "49033723\n"
     ]
    },
    {
     "name": "stderr",
     "output_type": "stream",
     "text": [
      "/home/cook/venv/eda_venv/lib/python3.10/site-packages/urllib3/connectionpool.py:1099: InsecureRequestWarning: Unverified HTTPS request is being made to host 'www.saramin.co.kr'. Adding certificate verification is strongly advised. See: https://urllib3.readthedocs.io/en/latest/advanced-usage.html#tls-warnings\n",
      "  warnings.warn(\n"
     ]
    },
    {
     "name": "stdout",
     "output_type": "stream",
     "text": [
      "dnVpNUxFS0ZxdlMxd015YWluZy9MUT09 (주)로보스타 [LG계열사/로보스타] 로봇 SW 개발 연구원 모집\n",
      "2024-09-19 17:00:00\n",
      "산업용 로봇 제조업\n",
      "1999년 2월 26일\n",
      "1999-02-26 00:00:00\n",
      "www.robostar.com\n",
      "49033378\n"
     ]
    },
    {
     "name": "stderr",
     "output_type": "stream",
     "text": [
      "/home/cook/venv/eda_venv/lib/python3.10/site-packages/urllib3/connectionpool.py:1099: InsecureRequestWarning: Unverified HTTPS request is being made to host 'www.saramin.co.kr'. Adding certificate verification is strongly advised. See: https://urllib3.readthedocs.io/en/latest/advanced-usage.html#tls-warnings\n",
      "  warnings.warn(\n"
     ]
    },
    {
     "name": "stdout",
     "output_type": "stream",
     "text": [
      "QUpMaU1UMFdac1ExVXNtZnlaMDRuQT09 (주)메뉴톡 [판교 IT기업] 디자인 파트 담당자 채용\n",
      "2024-09-19 17:00:00\n",
      "2021년 9월 14일\n",
      "2021-09-14 00:00:00\n",
      "menutok.co.kr\n",
      "49033368\n"
     ]
    },
    {
     "name": "stderr",
     "output_type": "stream",
     "text": [
      "/home/cook/venv/eda_venv/lib/python3.10/site-packages/urllib3/connectionpool.py:1099: InsecureRequestWarning: Unverified HTTPS request is being made to host 'www.saramin.co.kr'. Adding certificate verification is strongly advised. See: https://urllib3.readthedocs.io/en/latest/advanced-usage.html#tls-warnings\n",
      "  warnings.warn(\n"
     ]
    },
    {
     "name": "stdout",
     "output_type": "stream",
     "text": [
      "dnVpNUxFS0ZxdlMxd015YWluZy9MUT09 (주)로보스타 [LG계열사/로보스타] 로봇 HW 설계/개발 연구원 모집\n",
      "2024-09-19 17:00:00\n",
      "산업용 로봇 제조업\n",
      "1999년 2월 26일\n",
      "1999-02-26 00:00:00\n",
      "www.robostar.com\n",
      "49033293\n"
     ]
    },
    {
     "name": "stderr",
     "output_type": "stream",
     "text": [
      "/home/cook/venv/eda_venv/lib/python3.10/site-packages/urllib3/connectionpool.py:1099: InsecureRequestWarning: Unverified HTTPS request is being made to host 'www.saramin.co.kr'. Adding certificate verification is strongly advised. See: https://urllib3.readthedocs.io/en/latest/advanced-usage.html#tls-warnings\n",
      "  warnings.warn(\n"
     ]
    },
    {
     "name": "stdout",
     "output_type": "stream",
     "text": [
      "QUpMaU1UMFdac1ExVXNtZnlaMDRuQT09 (주)메뉴톡 [판교 IT기업] 마케팅 파트 담당자 채용\n",
      "2024-09-19 16:00:00\n",
      "2021년 9월 14일\n",
      "2021-09-14 00:00:00\n",
      "menutok.co.kr\n",
      "49033170\n"
     ]
    },
    {
     "name": "stderr",
     "output_type": "stream",
     "text": [
      "/home/cook/venv/eda_venv/lib/python3.10/site-packages/urllib3/connectionpool.py:1099: InsecureRequestWarning: Unverified HTTPS request is being made to host 'www.saramin.co.kr'. Adding certificate verification is strongly advised. See: https://urllib3.readthedocs.io/en/latest/advanced-usage.html#tls-warnings\n",
      "  warnings.warn(\n"
     ]
    },
    {
     "name": "stdout",
     "output_type": "stream",
     "text": [
      "SHJEYUhrV1pHcytQVlRjanlwQ1B3QT09 (주)로보에테크놀로지 AI 로보틱스 소프트웨어 엔지니어 경력사원 모집\n",
      "2024-09-19 16:00:00\n",
      "응용 소프트웨어 개발 및 공급업\n",
      "2021년 4월 26일\n",
      "2021-04-26 00:00:00\n",
      "49032795\n"
     ]
    },
    {
     "name": "stderr",
     "output_type": "stream",
     "text": [
      "/home/cook/venv/eda_venv/lib/python3.10/site-packages/urllib3/connectionpool.py:1099: InsecureRequestWarning: Unverified HTTPS request is being made to host 'www.saramin.co.kr'. Adding certificate verification is strongly advised. See: https://urllib3.readthedocs.io/en/latest/advanced-usage.html#tls-warnings\n",
      "  warnings.warn(\n"
     ]
    },
    {
     "name": "stdout",
     "output_type": "stream",
     "text": [
      "c3BHeWp2VHdVUzF3UkpncG5QZS91UT09 엔터웨이파트너스 물류 자동화 제어시스템 연구개발 팀장\n",
      "2024-09-19 16:00:00\n",
      "고용 알선업\n",
      "2000년 06월\n",
      "ValueError\n",
      "www.nterway.com\n",
      "49032340\n"
     ]
    },
    {
     "name": "stderr",
     "output_type": "stream",
     "text": [
      "/home/cook/venv/eda_venv/lib/python3.10/site-packages/urllib3/connectionpool.py:1099: InsecureRequestWarning: Unverified HTTPS request is being made to host 'www.saramin.co.kr'. Adding certificate verification is strongly advised. See: https://urllib3.readthedocs.io/en/latest/advanced-usage.html#tls-warnings\n",
      "  warnings.warn(\n"
     ]
    },
    {
     "name": "stdout",
     "output_type": "stream",
     "text": [
      "Y0tyczA0YlJBcHMxSmVQQk9PR2Zmdz09 (주)이지메디봇 [의료기기] 의료용 로봇장비 S/W 개발 경력직 채용\n",
      "2024-09-19 16:00:00\n",
      "시스템 소프트웨어 개발 및 공급업\n",
      "2021년 9월 13일\n",
      "2021-09-13 00:00:00\n",
      "49031532\n"
     ]
    },
    {
     "name": "stderr",
     "output_type": "stream",
     "text": [
      "/home/cook/venv/eda_venv/lib/python3.10/site-packages/urllib3/connectionpool.py:1099: InsecureRequestWarning: Unverified HTTPS request is being made to host 'www.saramin.co.kr'. Adding certificate verification is strongly advised. See: https://urllib3.readthedocs.io/en/latest/advanced-usage.html#tls-warnings\n",
      "  warnings.warn(\n"
     ]
    },
    {
     "name": "stdout",
     "output_type": "stream",
     "text": [
      "MG5EYi9oS3FrVjJWK2lYckMyRzJpdz09 고트레이즈(유) 인사팀 경력 채용\n",
      "2024-09-19 15:00:00\n",
      "상품 종합 도매업\n",
      "2023년 8월 18일\n",
      "2023-08-18 00:00:00\n",
      "https://www.muchenworld.com\n",
      "49031011\n"
     ]
    },
    {
     "name": "stderr",
     "output_type": "stream",
     "text": [
      "/home/cook/venv/eda_venv/lib/python3.10/site-packages/urllib3/connectionpool.py:1099: InsecureRequestWarning: Unverified HTTPS request is being made to host 'www.saramin.co.kr'. Adding certificate verification is strongly advised. See: https://urllib3.readthedocs.io/en/latest/advanced-usage.html#tls-warnings\n",
      "  warnings.warn(\n"
     ]
    },
    {
     "name": "stdout",
     "output_type": "stream",
     "text": [
      "RFovUjJwNmRVMjNrUC83LzVRNkVmdz09 반석써치(주) [중견 자동차 그룹] 계열사-PM/서비스 기획\n",
      "2024-09-19 14:00:00\n",
      "상품 종합 도매업\n",
      "2007년 2월 22일\n",
      "2007-02-22 00:00:00\n",
      "http://www.banseog.co.kr/\n",
      "49030207\n"
     ]
    },
    {
     "name": "stderr",
     "output_type": "stream",
     "text": [
      "/home/cook/venv/eda_venv/lib/python3.10/site-packages/urllib3/connectionpool.py:1099: InsecureRequestWarning: Unverified HTTPS request is being made to host 'www.saramin.co.kr'. Adding certificate verification is strongly advised. See: https://urllib3.readthedocs.io/en/latest/advanced-usage.html#tls-warnings\n",
      "  warnings.warn(\n"
     ]
    },
    {
     "name": "stdout",
     "output_type": "stream",
     "text": [
      "aTc1RVBIZklBZWU4Tzk1VGFWeFFIZz09 (주)클로봇 물류 및 공장 자동화 시스템 솔루션 영업 채용\n",
      "2024-09-19 00:00:00\n",
      "응용 소프트웨어 개발 및 공급업\n",
      "2017년 5월 8일\n",
      "2017-05-08 00:00:00\n",
      "www.clobot.co.kr\n",
      "49030193\n"
     ]
    },
    {
     "name": "stderr",
     "output_type": "stream",
     "text": [
      "/home/cook/venv/eda_venv/lib/python3.10/site-packages/urllib3/connectionpool.py:1099: InsecureRequestWarning: Unverified HTTPS request is being made to host 'www.saramin.co.kr'. Adding certificate verification is strongly advised. See: https://urllib3.readthedocs.io/en/latest/advanced-usage.html#tls-warnings\n",
      "  warnings.warn(\n"
     ]
    },
    {
     "name": "stdout",
     "output_type": "stream",
     "text": [
      "aTc1RVBIZklBZWU4Tzk1VGFWeFFIZz09 (주)클로봇 로봇 엔지니어 채용\n",
      "2024-09-19 00:00:00\n",
      "응용 소프트웨어 개발 및 공급업\n",
      "2017년 5월 8일\n",
      "2017-05-08 00:00:00\n",
      "www.clobot.co.kr\n",
      "49030172\n"
     ]
    },
    {
     "name": "stderr",
     "output_type": "stream",
     "text": [
      "/home/cook/venv/eda_venv/lib/python3.10/site-packages/urllib3/connectionpool.py:1099: InsecureRequestWarning: Unverified HTTPS request is being made to host 'www.saramin.co.kr'. Adding certificate verification is strongly advised. See: https://urllib3.readthedocs.io/en/latest/advanced-usage.html#tls-warnings\n",
      "  warnings.warn(\n"
     ]
    },
    {
     "name": "stdout",
     "output_type": "stream",
     "text": [
      "aTc1RVBIZklBZWU4Tzk1VGFWeFFIZz09 (주)클로봇 비전(2D/3D) 엔지니어 채용\n",
      "2024-09-19 00:00:00\n",
      "응용 소프트웨어 개발 및 공급업\n",
      "2017년 5월 8일\n",
      "2017-05-08 00:00:00\n",
      "www.clobot.co.kr\n",
      "49030152\n"
     ]
    },
    {
     "name": "stderr",
     "output_type": "stream",
     "text": [
      "/home/cook/venv/eda_venv/lib/python3.10/site-packages/urllib3/connectionpool.py:1099: InsecureRequestWarning: Unverified HTTPS request is being made to host 'www.saramin.co.kr'. Adding certificate verification is strongly advised. See: https://urllib3.readthedocs.io/en/latest/advanced-usage.html#tls-warnings\n",
      "  warnings.warn(\n"
     ]
    },
    {
     "name": "stdout",
     "output_type": "stream",
     "text": [
      "aTc1RVBIZklBZWU4Tzk1VGFWeFFIZz09 (주)클로봇 물류 이송용 모바일 로봇&자동화 설비 기술 영업 채용\n",
      "2024-09-19 00:00:00\n",
      "응용 소프트웨어 개발 및 공급업\n",
      "2017년 5월 8일\n",
      "2017-05-08 00:00:00\n",
      "www.clobot.co.kr\n",
      "49030126\n"
     ]
    },
    {
     "name": "stderr",
     "output_type": "stream",
     "text": [
      "/home/cook/venv/eda_venv/lib/python3.10/site-packages/urllib3/connectionpool.py:1099: InsecureRequestWarning: Unverified HTTPS request is being made to host 'www.saramin.co.kr'. Adding certificate verification is strongly advised. See: https://urllib3.readthedocs.io/en/latest/advanced-usage.html#tls-warnings\n",
      "  warnings.warn(\n"
     ]
    },
    {
     "name": "stdout",
     "output_type": "stream",
     "text": [
      "aTc1RVBIZklBZWU4Tzk1VGFWeFFIZz09 (주)클로봇 물류 자동화 설비 및 이송 모바일로봇 설치/이행 채용\n",
      "2024-09-19 00:00:00\n",
      "응용 소프트웨어 개발 및 공급업\n",
      "2017년 5월 8일\n",
      "2017-05-08 00:00:00\n",
      "www.clobot.co.kr\n",
      "49030094\n"
     ]
    },
    {
     "name": "stderr",
     "output_type": "stream",
     "text": [
      "/home/cook/venv/eda_venv/lib/python3.10/site-packages/urllib3/connectionpool.py:1099: InsecureRequestWarning: Unverified HTTPS request is being made to host 'www.saramin.co.kr'. Adding certificate verification is strongly advised. See: https://urllib3.readthedocs.io/en/latest/advanced-usage.html#tls-warnings\n",
      "  warnings.warn(\n"
     ]
    },
    {
     "name": "stdout",
     "output_type": "stream",
     "text": [
      "aTc1RVBIZklBZWU4Tzk1VGFWeFFIZz09 (주)클로봇 로봇 관제 시스템(CROMS) 서비스 기획 채용\n",
      "2024-09-19 00:00:00\n",
      "응용 소프트웨어 개발 및 공급업\n",
      "2017년 5월 8일\n",
      "2017-05-08 00:00:00\n",
      "www.clobot.co.kr\n",
      "49029980\n"
     ]
    },
    {
     "name": "stderr",
     "output_type": "stream",
     "text": [
      "/home/cook/venv/eda_venv/lib/python3.10/site-packages/urllib3/connectionpool.py:1099: InsecureRequestWarning: Unverified HTTPS request is being made to host 'www.saramin.co.kr'. Adding certificate verification is strongly advised. See: https://urllib3.readthedocs.io/en/latest/advanced-usage.html#tls-warnings\n",
      "  warnings.warn(\n"
     ]
    },
    {
     "name": "stdout",
     "output_type": "stream",
     "text": [
      "c0daSktDWHplbUlVTW9EOEliUnNxZz09 (주)로봇앤드디자인 [로봇앤드디자인] 바이오 자동화 및 로봇 S/W 개발자 모집\n",
      "2024-09-19 13:00:00\n",
      "산업용 로봇 제조업\n",
      "1999년 3월 22일\n",
      "1999-03-22 00:00:00\n",
      "www.rnd.re.kr\n",
      "49028224\n"
     ]
    },
    {
     "name": "stderr",
     "output_type": "stream",
     "text": [
      "/home/cook/venv/eda_venv/lib/python3.10/site-packages/urllib3/connectionpool.py:1099: InsecureRequestWarning: Unverified HTTPS request is being made to host 'www.saramin.co.kr'. Adding certificate verification is strongly advised. See: https://urllib3.readthedocs.io/en/latest/advanced-usage.html#tls-warnings\n",
      "  warnings.warn(\n"
     ]
    },
    {
     "name": "stdout",
     "output_type": "stream",
     "text": [
      "QmZkeUFWZzFhVXRyRXVOakxYeFpQUT09 (주)세스텍 전장 제작 및 셋업  모집\n",
      "2024-09-19 11:00:00\n",
      "산업용 로봇 제조업\n",
      "1999년 9월 27일\n",
      "1999-09-27 00:00:00\n",
      "www.sestech.co.kr\n",
      "49027817\n"
     ]
    },
    {
     "name": "stderr",
     "output_type": "stream",
     "text": [
      "/home/cook/venv/eda_venv/lib/python3.10/site-packages/urllib3/connectionpool.py:1099: InsecureRequestWarning: Unverified HTTPS request is being made to host 'www.saramin.co.kr'. Adding certificate verification is strongly advised. See: https://urllib3.readthedocs.io/en/latest/advanced-usage.html#tls-warnings\n",
      "  warnings.warn(\n"
     ]
    },
    {
     "name": "stdout",
     "output_type": "stream",
     "text": [
      "WVdjZ0lsck9ZTW5hdFRUWE54R2RwUT09 골든비네트워크(주) 장비 제어 S/W 개발 - 자동화 레이저 응용\n",
      "2024-09-19 11:00:00\n",
      "고용 알선업\n",
      "2011년 10월 10일\n",
      "2011-10-10 00:00:00\n",
      "www.goldenbeenet.com\n",
      "49027664\n"
     ]
    },
    {
     "name": "stderr",
     "output_type": "stream",
     "text": [
      "/home/cook/venv/eda_venv/lib/python3.10/site-packages/urllib3/connectionpool.py:1099: InsecureRequestWarning: Unverified HTTPS request is being made to host 'www.saramin.co.kr'. Adding certificate verification is strongly advised. See: https://urllib3.readthedocs.io/en/latest/advanced-usage.html#tls-warnings\n",
      "  warnings.warn(\n"
     ]
    },
    {
     "name": "stdout",
     "output_type": "stream",
     "text": [
      "WVdjZ0lsck9ZTW5hdFRUWE54R2RwUT09 골든비네트워크(주) 장비 제어 S/W 개발 - 자동화 레이저 응용 장비분야\n",
      "2024-09-19 11:00:00\n",
      "고용 알선업\n",
      "2011년 10월 10일\n",
      "2011-10-10 00:00:00\n",
      "www.goldenbeenet.com\n",
      "49027353\n"
     ]
    },
    {
     "name": "stderr",
     "output_type": "stream",
     "text": [
      "/home/cook/venv/eda_venv/lib/python3.10/site-packages/urllib3/connectionpool.py:1099: InsecureRequestWarning: Unverified HTTPS request is being made to host 'www.saramin.co.kr'. Adding certificate verification is strongly advised. See: https://urllib3.readthedocs.io/en/latest/advanced-usage.html#tls-warnings\n",
      "  warnings.warn(\n"
     ]
    },
    {
     "name": "stdout",
     "output_type": "stream",
     "text": [
      "WHIyaWN1YThDcCs3TlF4YkJFam5ZQT09 (재)구미전자정보기술원 제2024-172호 구미전자정보기술원 하반기 정규직 직원 채용 공고\n",
      "2024-09-19 11:00:00\n",
      "전기ㆍ전자공학 연구개발업\n",
      "http://www.geri.re.kr/site/main.do\n",
      "49027102\n"
     ]
    },
    {
     "name": "stderr",
     "output_type": "stream",
     "text": [
      "/home/cook/venv/eda_venv/lib/python3.10/site-packages/urllib3/connectionpool.py:1099: InsecureRequestWarning: Unverified HTTPS request is being made to host 'www.saramin.co.kr'. Adding certificate verification is strongly advised. See: https://urllib3.readthedocs.io/en/latest/advanced-usage.html#tls-warnings\n",
      "  warnings.warn(\n"
     ]
    },
    {
     "name": "stdout",
     "output_type": "stream",
     "text": [
      "cUNDdzE1b3RvdjAvRUUwNjlFTGMwUT09 (주)니어스랩 항공 및 로보틱스 엔지니어\n",
      "2024-09-19 00:00:00\n",
      "시스템 소프트웨어 개발 및 공급업\n",
      "2015년 5월 14일\n",
      "2015-05-14 00:00:00\n",
      "www.nearthlab.com\n",
      "49026963\n"
     ]
    },
    {
     "name": "stderr",
     "output_type": "stream",
     "text": [
      "/home/cook/venv/eda_venv/lib/python3.10/site-packages/urllib3/connectionpool.py:1099: InsecureRequestWarning: Unverified HTTPS request is being made to host 'www.saramin.co.kr'. Adding certificate verification is strongly advised. See: https://urllib3.readthedocs.io/en/latest/advanced-usage.html#tls-warnings\n",
      "  warnings.warn(\n"
     ]
    },
    {
     "name": "stdout",
     "output_type": "stream",
     "text": [
      "WDNTS1dmbENiM3dOc0pBZGEwTWEvdz09 (주)드림에이치알 로봇SI 팀리더-국내 최대의 종합 렌탈 기업\n",
      "2024-09-19 11:00:00\n",
      "상용 인력 공급 및 인사관리 서비스업\n",
      "2003년 2월 12일\n",
      "2003-02-12 00:00:00\n",
      "http://www.dreamhr.com\n",
      "49026666\n"
     ]
    },
    {
     "name": "stderr",
     "output_type": "stream",
     "text": [
      "/home/cook/venv/eda_venv/lib/python3.10/site-packages/urllib3/connectionpool.py:1099: InsecureRequestWarning: Unverified HTTPS request is being made to host 'www.saramin.co.kr'. Adding certificate verification is strongly advised. See: https://urllib3.readthedocs.io/en/latest/advanced-usage.html#tls-warnings\n",
      "  warnings.warn(\n"
     ]
    },
    {
     "name": "stdout",
     "output_type": "stream",
     "text": [
      "VDNnbyszZ1hNUkFISEt3aW1yM0tJUT09 (주)시스템알앤디 생산기술팀(로봇자동화시스템) 경력직원 모집\n",
      "2024-09-19 10:00:00\n",
      "배전반 및 전기 자동제어반 제조업\n",
      "2022년 3월 3일\n",
      "2022-03-03 00:00:00\n",
      "www.systemrnd.com\n"
     ]
    },
    {
     "name": "stderr",
     "output_type": "stream",
     "text": [
      "/home/cook/venv/eda_venv/lib/python3.10/site-packages/urllib3/connectionpool.py:1099: InsecureRequestWarning: Unverified HTTPS request is being made to host 'www.saramin.co.kr'. Adding certificate verification is strongly advised. See: https://urllib3.readthedocs.io/en/latest/advanced-usage.html#tls-warnings\n",
      "  warnings.warn(\n"
     ]
    },
    {
     "name": "stdout",
     "output_type": "stream",
     "text": [
      "49026656\n"
     ]
    },
    {
     "name": "stderr",
     "output_type": "stream",
     "text": [
      "/home/cook/venv/eda_venv/lib/python3.10/site-packages/urllib3/connectionpool.py:1099: InsecureRequestWarning: Unverified HTTPS request is being made to host 'www.saramin.co.kr'. Adding certificate verification is strongly advised. See: https://urllib3.readthedocs.io/en/latest/advanced-usage.html#tls-warnings\n",
      "  warnings.warn(\n"
     ]
    },
    {
     "name": "stdout",
     "output_type": "stream",
     "text": [
      "cUNDdzE1b3RvdjAvRUUwNjlFTGMwUT09 (주)니어스랩 QA엔지니어(SW)\n",
      "2024-09-19 00:00:00\n",
      "시스템 소프트웨어 개발 및 공급업\n",
      "2015년 5월 14일\n",
      "2015-05-14 00:00:00\n",
      "www.nearthlab.com\n",
      "49026324\n"
     ]
    },
    {
     "name": "stderr",
     "output_type": "stream",
     "text": [
      "/home/cook/venv/eda_venv/lib/python3.10/site-packages/urllib3/connectionpool.py:1099: InsecureRequestWarning: Unverified HTTPS request is being made to host 'www.saramin.co.kr'. Adding certificate verification is strongly advised. See: https://urllib3.readthedocs.io/en/latest/advanced-usage.html#tls-warnings\n",
      "  warnings.warn(\n"
     ]
    },
    {
     "name": "stdout",
     "output_type": "stream",
     "text": [
      "UTN4MENLRWxSQVdjVFEwYmVqN051UT09 HR Tube  [가전제조 대기업] 연구소 AI기술개발팀장(과장~차/부장) 채용\n",
      "2024-09-19 10:00:00\n",
      "고용 알선업\n",
      "2017년 5월 8일\n",
      "2017-05-08 00:00:00\n",
      "http://www.hrtube.co.kr\n",
      "49025715\n"
     ]
    },
    {
     "name": "stderr",
     "output_type": "stream",
     "text": [
      "/home/cook/venv/eda_venv/lib/python3.10/site-packages/urllib3/connectionpool.py:1099: InsecureRequestWarning: Unverified HTTPS request is being made to host 'www.saramin.co.kr'. Adding certificate verification is strongly advised. See: https://urllib3.readthedocs.io/en/latest/advanced-usage.html#tls-warnings\n",
      "  warnings.warn(\n"
     ]
    },
    {
     "name": "stdout",
     "output_type": "stream",
     "text": [
      "b2lOcDJyQmhWNHdpRHJ3eVlLMnRoUT09 드림픽셀 (평택-헤드헌팅) 반도체/디스플레이 장비 S/W 설계\n",
      "2024-09-19 10:00:00\n",
      "데이터베이스 및 온라인정보 제공업\n",
      "2021년 12월 16일\n",
      "2021-12-16 00:00:00\n",
      "dreampixel.co.kr\n",
      "49025610\n"
     ]
    },
    {
     "name": "stderr",
     "output_type": "stream",
     "text": [
      "/home/cook/venv/eda_venv/lib/python3.10/site-packages/urllib3/connectionpool.py:1099: InsecureRequestWarning: Unverified HTTPS request is being made to host 'www.saramin.co.kr'. Adding certificate verification is strongly advised. See: https://urllib3.readthedocs.io/en/latest/advanced-usage.html#tls-warnings\n",
      "  warnings.warn(\n"
     ]
    },
    {
     "name": "stdout",
     "output_type": "stream",
     "text": [
      "b2lOcDJyQmhWNHdpRHJ3eVlLMnRoUT09 드림픽셀 (수원-헤드헌팅) 자동화장비 제어 SW 엔지니어\n",
      "2024-09-19 10:00:00\n",
      "데이터베이스 및 온라인정보 제공업\n",
      "2021년 12월 16일\n",
      "2021-12-16 00:00:00\n",
      "dreampixel.co.kr\n",
      "49025325\n"
     ]
    },
    {
     "name": "stderr",
     "output_type": "stream",
     "text": [
      "/home/cook/venv/eda_venv/lib/python3.10/site-packages/urllib3/connectionpool.py:1099: InsecureRequestWarning: Unverified HTTPS request is being made to host 'www.saramin.co.kr'. Adding certificate verification is strongly advised. See: https://urllib3.readthedocs.io/en/latest/advanced-usage.html#tls-warnings\n",
      "  warnings.warn(\n"
     ]
    },
    {
     "name": "stdout",
     "output_type": "stream",
     "text": [
      "M2NSWGk3T1o0RWEvNjFsWUt4U2gxZz09 (주)브릴스 [브릴스(BRILS)] 생산기술본부(PM부) 인재모집\n",
      "2024-09-19 10:00:00\n",
      "기기용 자동측정 및 제어장치 제조업\n",
      "2015년 2월 6일\n",
      "2015-02-06 00:00:00\n",
      "https://www.brils.co.kr/\n",
      "49024108\n"
     ]
    },
    {
     "name": "stderr",
     "output_type": "stream",
     "text": [
      "/home/cook/venv/eda_venv/lib/python3.10/site-packages/urllib3/connectionpool.py:1099: InsecureRequestWarning: Unverified HTTPS request is being made to host 'www.saramin.co.kr'. Adding certificate verification is strongly advised. See: https://urllib3.readthedocs.io/en/latest/advanced-usage.html#tls-warnings\n",
      "  warnings.warn(\n"
     ]
    },
    {
     "name": "stdout",
     "output_type": "stream",
     "text": [
      "aDRXTCs0QVpwdTBrWWRtajFNWUQ2UT09 (주)원익홀딩스 2024 원익그룹 신입 공채 모집\n",
      "2024-09-27 00:00:00\n",
      "산업용 가스 제조업\n",
      "1991년 9월 19일\n",
      "1991-09-19 00:00:00\n",
      "http://www.wonikholdings.kr\n",
      "49021920\n"
     ]
    },
    {
     "name": "stderr",
     "output_type": "stream",
     "text": [
      "/home/cook/venv/eda_venv/lib/python3.10/site-packages/urllib3/connectionpool.py:1099: InsecureRequestWarning: Unverified HTTPS request is being made to host 'www.saramin.co.kr'. Adding certificate verification is strongly advised. See: https://urllib3.readthedocs.io/en/latest/advanced-usage.html#tls-warnings\n",
      "  warnings.warn(\n"
     ]
    },
    {
     "name": "stdout",
     "output_type": "stream",
     "text": [
      "L2M2VzA0MlRicVcydGNKd2hlME1GUT09 (주)핀커스코리아 [TOP 서빙 로봇사] 로봇 - Planning - SW개발\n",
      "2024-09-18 22:00:00\n",
      "고용 알선업\n",
      "2011년 1월 25일\n",
      "2011-01-25 00:00:00\n",
      "www.pincus.co.kr\n",
      "49021918\n"
     ]
    },
    {
     "name": "stderr",
     "output_type": "stream",
     "text": [
      "/home/cook/venv/eda_venv/lib/python3.10/site-packages/urllib3/connectionpool.py:1099: InsecureRequestWarning: Unverified HTTPS request is being made to host 'www.saramin.co.kr'. Adding certificate verification is strongly advised. See: https://urllib3.readthedocs.io/en/latest/advanced-usage.html#tls-warnings\n",
      "  warnings.warn(\n"
     ]
    },
    {
     "name": "stdout",
     "output_type": "stream",
     "text": [
      "L2M2VzA0MlRicVcydGNKd2hlME1GUT09 (주)핀커스코리아 [TOP 서빙 로봇사] 시스템 SW개발\n",
      "2024-09-18 22:00:00\n",
      "고용 알선업\n",
      "2011년 1월 25일\n",
      "2011-01-25 00:00:00\n",
      "www.pincus.co.kr\n",
      "49021916\n"
     ]
    },
    {
     "name": "stderr",
     "output_type": "stream",
     "text": [
      "/home/cook/venv/eda_venv/lib/python3.10/site-packages/urllib3/connectionpool.py:1099: InsecureRequestWarning: Unverified HTTPS request is being made to host 'www.saramin.co.kr'. Adding certificate verification is strongly advised. See: https://urllib3.readthedocs.io/en/latest/advanced-usage.html#tls-warnings\n",
      "  warnings.warn(\n"
     ]
    },
    {
     "name": "stdout",
     "output_type": "stream",
     "text": [
      "L2M2VzA0MlRicVcydGNKd2hlME1GUT09 (주)핀커스코리아 [TOP 서빙 로봇] SW개발\n",
      "2024-09-18 22:00:00\n",
      "고용 알선업\n",
      "2011년 1월 25일\n",
      "2011-01-25 00:00:00\n",
      "www.pincus.co.kr\n",
      "49021664\n"
     ]
    },
    {
     "name": "stderr",
     "output_type": "stream",
     "text": [
      "/home/cook/venv/eda_venv/lib/python3.10/site-packages/urllib3/connectionpool.py:1099: InsecureRequestWarning: Unverified HTTPS request is being made to host 'www.saramin.co.kr'. Adding certificate verification is strongly advised. See: https://urllib3.readthedocs.io/en/latest/advanced-usage.html#tls-warnings\n",
      "  warnings.warn(\n"
     ]
    },
    {
     "name": "stdout",
     "output_type": "stream",
     "text": [
      "c0hmNDE0cjhsZ1hReXpseldsdE8rUT09 (주)에스유스카우트 [카메라모듈] 소프트웨어 그룹장 (코스닥 상장)\n",
      "2024-09-18 20:00:00\n",
      "고용 알선업\n",
      "2009년 9월 21일\n",
      "2009-09-21 00:00:00\n",
      "www.suscout.com\n",
      "49021650\n"
     ]
    },
    {
     "name": "stderr",
     "output_type": "stream",
     "text": [
      "/home/cook/venv/eda_venv/lib/python3.10/site-packages/urllib3/connectionpool.py:1099: InsecureRequestWarning: Unverified HTTPS request is being made to host 'www.saramin.co.kr'. Adding certificate verification is strongly advised. See: https://urllib3.readthedocs.io/en/latest/advanced-usage.html#tls-warnings\n",
      "  warnings.warn(\n"
     ]
    },
    {
     "name": "stdout",
     "output_type": "stream",
     "text": [
      "c0hmNDE0cjhsZ1hReXpseldsdE8rUT09 (주)에스유스카우트 [AI/ML] ML Engineer\n",
      "2024-09-18 20:00:00\n",
      "고용 알선업\n",
      "2009년 9월 21일\n",
      "2009-09-21 00:00:00\n",
      "www.suscout.com\n",
      "49021307\n"
     ]
    },
    {
     "name": "stderr",
     "output_type": "stream",
     "text": [
      "/home/cook/venv/eda_venv/lib/python3.10/site-packages/urllib3/connectionpool.py:1099: InsecureRequestWarning: Unverified HTTPS request is being made to host 'www.saramin.co.kr'. Adding certificate verification is strongly advised. See: https://urllib3.readthedocs.io/en/latest/advanced-usage.html#tls-warnings\n",
      "  warnings.warn(\n"
     ]
    },
    {
     "name": "stdout",
     "output_type": "stream",
     "text": [
      "T2NNVWprTTBndXN6Q3R5alplU3hYUT09 (주)유엔디 로봇스타트업 소프트웨어 엔지니어 모집 (대구/구미)\n",
      "2024-09-18 16:00:00\n",
      "산업용 로봇 제조업\n",
      "2013년 4월 1일\n",
      "2013-04-01 00:00:00\n",
      "www.magbot.kr\n",
      "49021203\n"
     ]
    },
    {
     "name": "stderr",
     "output_type": "stream",
     "text": [
      "/home/cook/venv/eda_venv/lib/python3.10/site-packages/urllib3/connectionpool.py:1099: InsecureRequestWarning: Unverified HTTPS request is being made to host 'www.saramin.co.kr'. Adding certificate verification is strongly advised. See: https://urllib3.readthedocs.io/en/latest/advanced-usage.html#tls-warnings\n",
      "  warnings.warn(\n"
     ]
    },
    {
     "name": "stdout",
     "output_type": "stream",
     "text": [
      "UWRxQW03bkkxTUZ1REZHOW52U1pMUT09 (주)다민로봇 서비스로봇 기구설계 엔지니어 채용\n",
      "2024-09-18 15:00:00\n",
      "응용 소프트웨어 개발 및 공급업\n",
      "2019년 10월 16일\n",
      "2019-10-16 00:00:00\n",
      "49019739\n"
     ]
    },
    {
     "name": "stderr",
     "output_type": "stream",
     "text": [
      "/home/cook/venv/eda_venv/lib/python3.10/site-packages/urllib3/connectionpool.py:1099: InsecureRequestWarning: Unverified HTTPS request is being made to host 'www.saramin.co.kr'. Adding certificate verification is strongly advised. See: https://urllib3.readthedocs.io/en/latest/advanced-usage.html#tls-warnings\n",
      "  warnings.warn(\n"
     ]
    },
    {
     "name": "stdout",
     "output_type": "stream",
     "text": [
      "MkZ6VFkyeEhOR3BlRnNkS3BLazE3UT09 (주)엠시스랩 AI 딥러닝 비전 소프트웨어 개발 및 검증 프로젝트 매니저\n",
      "2024-09-17 00:00:00\n",
      "응용 소프트웨어 개발 및 공급업\n",
      "2018년 11월 30일\n",
      "2018-11-30 00:00:00\n",
      "49019738\n"
     ]
    },
    {
     "name": "stderr",
     "output_type": "stream",
     "text": [
      "/home/cook/venv/eda_venv/lib/python3.10/site-packages/urllib3/connectionpool.py:1099: InsecureRequestWarning: Unverified HTTPS request is being made to host 'www.saramin.co.kr'. Adding certificate verification is strongly advised. See: https://urllib3.readthedocs.io/en/latest/advanced-usage.html#tls-warnings\n",
      "  warnings.warn(\n"
     ]
    },
    {
     "name": "stdout",
     "output_type": "stream",
     "text": [
      "MkZ6VFkyeEhOR3BlRnNkS3BLazE3UT09 (주)엠시스랩 AI 비전 시스템  및 AI 로봇 설치, 기술지원\n",
      "2024-09-17 00:00:00\n",
      "응용 소프트웨어 개발 및 공급업\n",
      "2018년 11월 30일\n",
      "2018-11-30 00:00:00\n",
      "49018908\n"
     ]
    },
    {
     "name": "stderr",
     "output_type": "stream",
     "text": [
      "/home/cook/venv/eda_venv/lib/python3.10/site-packages/urllib3/connectionpool.py:1099: InsecureRequestWarning: Unverified HTTPS request is being made to host 'www.saramin.co.kr'. Adding certificate verification is strongly advised. See: https://urllib3.readthedocs.io/en/latest/advanced-usage.html#tls-warnings\n",
      "  warnings.warn(\n"
     ]
    },
    {
     "name": "stdout",
     "output_type": "stream",
     "text": [
      "Si9JemFLK3NDLzJUVFFLb09uRy9YQT09 파워에이치알 [로봇헬스케어]S/W Application 개발 (5년이상 )\n",
      "2024-09-15 21:00:00\n",
      "시설관리·경비·용역\n",
      "49018907\n"
     ]
    },
    {
     "name": "stderr",
     "output_type": "stream",
     "text": [
      "/home/cook/venv/eda_venv/lib/python3.10/site-packages/urllib3/connectionpool.py:1099: InsecureRequestWarning: Unverified HTTPS request is being made to host 'www.saramin.co.kr'. Adding certificate verification is strongly advised. See: https://urllib3.readthedocs.io/en/latest/advanced-usage.html#tls-warnings\n",
      "  warnings.warn(\n"
     ]
    },
    {
     "name": "stdout",
     "output_type": "stream",
     "text": [
      "Si9JemFLK3NDLzJUVFFLb09uRy9YQT09 파워에이치알 [로봇헬스케어] 로봇 시스템 F/W 개발(3년이상)\n",
      "2024-09-15 21:00:00\n",
      "시설관리·경비·용역\n",
      "49018156\n"
     ]
    },
    {
     "name": "stderr",
     "output_type": "stream",
     "text": [
      "/home/cook/venv/eda_venv/lib/python3.10/site-packages/urllib3/connectionpool.py:1099: InsecureRequestWarning: Unverified HTTPS request is being made to host 'www.saramin.co.kr'. Adding certificate verification is strongly advised. See: https://urllib3.readthedocs.io/en/latest/advanced-usage.html#tls-warnings\n",
      "  warnings.warn(\n"
     ]
    },
    {
     "name": "stdout",
     "output_type": "stream",
     "text": [
      "L2M2VzA0MlRicVcydGNKd2hlME1GUT09 (주)핀커스코리아 (공장 자동화설비 솔루션 기업) 기업부설연구소 / 연구원\n",
      "2024-09-14 21:00:00\n",
      "고용 알선업\n",
      "2011년 1월 25일\n",
      "2011-01-25 00:00:00\n",
      "www.pincus.co.kr\n",
      "49017763\n"
     ]
    },
    {
     "name": "stderr",
     "output_type": "stream",
     "text": [
      "/home/cook/venv/eda_venv/lib/python3.10/site-packages/urllib3/connectionpool.py:1099: InsecureRequestWarning: Unverified HTTPS request is being made to host 'www.saramin.co.kr'. Adding certificate verification is strongly advised. See: https://urllib3.readthedocs.io/en/latest/advanced-usage.html#tls-warnings\n",
      "  warnings.warn(\n"
     ]
    },
    {
     "name": "stdout",
     "output_type": "stream",
     "text": [
      "TEk5dFRNRldyYVRnNjkzQ2VZME1vdz09 일취 [일본 2024하반기채용공고] 자동차 · 부품 설계 엔지니어\n",
      "2024-09-14 14:00:00\n",
      "시설관리·경비·용역\n",
      "2022년 7월 1일\n",
      "2022-07-01 00:00:00\n",
      "www.ilchwi.com\n",
      "49016278\n"
     ]
    },
    {
     "name": "stderr",
     "output_type": "stream",
     "text": [
      "/home/cook/venv/eda_venv/lib/python3.10/site-packages/urllib3/connectionpool.py:1099: InsecureRequestWarning: Unverified HTTPS request is being made to host 'www.saramin.co.kr'. Adding certificate verification is strongly advised. See: https://urllib3.readthedocs.io/en/latest/advanced-usage.html#tls-warnings\n",
      "  warnings.warn(\n"
     ]
    },
    {
     "name": "stdout",
     "output_type": "stream",
     "text": [
      "QWVkQzlMVkk1K3hvM3cxd1RFVlRLQT09 태경전자(주) 드론 소프트웨어 S/W 개발 담당자모집\n",
      "2024-09-13 18:00:00\n",
      "그 외 기타 전자부품 제조업\n",
      "2014년 12월 10일\n",
      "2014-12-10 00:00:00\n",
      "www.etaekyung.com\n",
      "49015815\n"
     ]
    },
    {
     "name": "stderr",
     "output_type": "stream",
     "text": [
      "/home/cook/venv/eda_venv/lib/python3.10/site-packages/urllib3/connectionpool.py:1099: InsecureRequestWarning: Unverified HTTPS request is being made to host 'www.saramin.co.kr'. Adding certificate verification is strongly advised. See: https://urllib3.readthedocs.io/en/latest/advanced-usage.html#tls-warnings\n",
      "  warnings.warn(\n"
     ]
    },
    {
     "name": "stdout",
     "output_type": "stream",
     "text": [
      "cEgrNkZqQmhDOXc0dlZqQUFZd2FPZz09 (주)이화로컴 [마케팅전략] 농작업로봇 상품시획 및 마케팅 담당자 채\n",
      "2024-09-13 17:00:00\n",
      "농업 및 임업용 기계 제조업\n",
      "2011년 10월 17일\n",
      "2011-10-17 00:00:00\n",
      "49014772\n"
     ]
    },
    {
     "name": "stderr",
     "output_type": "stream",
     "text": [
      "/home/cook/venv/eda_venv/lib/python3.10/site-packages/urllib3/connectionpool.py:1099: InsecureRequestWarning: Unverified HTTPS request is being made to host 'www.saramin.co.kr'. Adding certificate verification is strongly advised. See: https://urllib3.readthedocs.io/en/latest/advanced-usage.html#tls-warnings\n",
      "  warnings.warn(\n"
     ]
    },
    {
     "name": "stdout",
     "output_type": "stream",
     "text": [
      "b3MrcEhoaHBTMHQ0N1VKSE9MaU1zQT09 (주)인피닉 [마곡] SW 테스트 엔지니어 (QA) 신입 및 경력 채용\n",
      "2024-09-13 15:00:00\n",
      "응용 소프트웨어 개발 및 공급업\n",
      "2005년 3월 7일\n",
      "2005-03-07 00:00:00\n",
      "www.infiniq.co.kr\n",
      "49014484\n"
     ]
    },
    {
     "name": "stderr",
     "output_type": "stream",
     "text": [
      "/home/cook/venv/eda_venv/lib/python3.10/site-packages/urllib3/connectionpool.py:1099: InsecureRequestWarning: Unverified HTTPS request is being made to host 'www.saramin.co.kr'. Adding certificate verification is strongly advised. See: https://urllib3.readthedocs.io/en/latest/advanced-usage.html#tls-warnings\n",
      "  warnings.warn(\n"
     ]
    },
    {
     "name": "stdout",
     "output_type": "stream",
     "text": [
      "L3ZUMTc5K3Y1MXVySkd4N3J5MVpwdz09 아비만엔지니어링(주) 아비만엔지니어링(주) 로봇개발팀 경력사원 채용\n",
      "2024-09-13 15:00:00\n",
      "그 외 기타 특수목적용 기계 제조업\n",
      "2003년 4월 23일\n",
      "2003-04-23 00:00:00\n",
      "www.abimaneng.com\n",
      "49014057\n"
     ]
    },
    {
     "name": "stderr",
     "output_type": "stream",
     "text": [
      "/home/cook/venv/eda_venv/lib/python3.10/site-packages/urllib3/connectionpool.py:1099: InsecureRequestWarning: Unverified HTTPS request is being made to host 'www.saramin.co.kr'. Adding certificate verification is strongly advised. See: https://urllib3.readthedocs.io/en/latest/advanced-usage.html#tls-warnings\n",
      "  warnings.warn(\n"
     ]
    },
    {
     "name": "stdout",
     "output_type": "stream",
     "text": [
      "VkhEem0wVTAwakltSW43aVFwZ1Rzdz09 (주)싸이맥스 생산본부 SYSTEM생산팀 (신입or경력)\n",
      "2024-09-13 14:00:00\n",
      "반도체 제조용 기계 제조업\n",
      "2005년 12월 1일\n",
      "2005-12-01 00:00:00\n",
      "www.cymechs.com\n",
      "49013843\n"
     ]
    },
    {
     "name": "stderr",
     "output_type": "stream",
     "text": [
      "/home/cook/venv/eda_venv/lib/python3.10/site-packages/urllib3/connectionpool.py:1099: InsecureRequestWarning: Unverified HTTPS request is being made to host 'www.saramin.co.kr'. Adding certificate verification is strongly advised. See: https://urllib3.readthedocs.io/en/latest/advanced-usage.html#tls-warnings\n",
      "  warnings.warn(\n"
     ]
    },
    {
     "name": "stdout",
     "output_type": "stream",
     "text": [
      "aVdiRHhZcVpIQ0QxSTJDSzhpZGxsdz09 (주)아이브 제어SW Junior 개발자\n",
      "2024-09-13 00:00:00\n",
      "시스템 소프트웨어 개발 및 공급업\n",
      "2020년 2월 18일\n",
      "2020-02-18 00:00:00\n",
      "www.aiv.ai\n",
      "49013731\n"
     ]
    },
    {
     "name": "stderr",
     "output_type": "stream",
     "text": [
      "/home/cook/venv/eda_venv/lib/python3.10/site-packages/urllib3/connectionpool.py:1099: InsecureRequestWarning: Unverified HTTPS request is being made to host 'www.saramin.co.kr'. Adding certificate verification is strongly advised. See: https://urllib3.readthedocs.io/en/latest/advanced-usage.html#tls-warnings\n",
      "  warnings.warn(\n"
     ]
    },
    {
     "name": "stdout",
     "output_type": "stream",
     "text": [
      "bGMrbnZwV2x1T09JR2FLUkpWYnowdz09 프로페셔날핸즈인핸즈코리아(주) 중견 대기업 로봇제어 설계/sw개발(4년~)(충북)\n",
      "2024-09-13 14:00:00\n",
      "경영 컨설팅업\n",
      "2006년 6월 28일\n",
      "2006-06-28 00:00:00\n",
      "http://www.prohanzkorea.com\n",
      "49013661\n"
     ]
    },
    {
     "name": "stderr",
     "output_type": "stream",
     "text": [
      "/home/cook/venv/eda_venv/lib/python3.10/site-packages/urllib3/connectionpool.py:1099: InsecureRequestWarning: Unverified HTTPS request is being made to host 'www.saramin.co.kr'. Adding certificate verification is strongly advised. See: https://urllib3.readthedocs.io/en/latest/advanced-usage.html#tls-warnings\n",
      "  warnings.warn(\n"
     ]
    },
    {
     "name": "stdout",
     "output_type": "stream",
     "text": [
      "aVdiRHhZcVpIQ0QxSTJDSzhpZGxsdz09 (주)아이브 Robot Vision Researcher\n",
      "2024-09-13 00:00:00\n",
      "시스템 소프트웨어 개발 및 공급업\n",
      "2020년 2월 18일\n",
      "2020-02-18 00:00:00\n",
      "www.aiv.ai\n",
      "49013373\n"
     ]
    },
    {
     "name": "stderr",
     "output_type": "stream",
     "text": [
      "/home/cook/venv/eda_venv/lib/python3.10/site-packages/urllib3/connectionpool.py:1099: InsecureRequestWarning: Unverified HTTPS request is being made to host 'www.saramin.co.kr'. Adding certificate verification is strongly advised. See: https://urllib3.readthedocs.io/en/latest/advanced-usage.html#tls-warnings\n",
      "  warnings.warn(\n"
     ]
    },
    {
     "name": "stdout",
     "output_type": "stream",
     "text": [
      "VmZPN1VIdUJwcmFwSllQcllOR1V6Zz09 (주)모아소프트 [모아소프트] SF사업부 유동해석 엔지니어 채용(신입/경력)\n",
      "2024-09-13 13:00:00\n",
      "www.moasoftware.co.kr\n",
      "49013356\n"
     ]
    },
    {
     "name": "stderr",
     "output_type": "stream",
     "text": [
      "/home/cook/venv/eda_venv/lib/python3.10/site-packages/urllib3/connectionpool.py:1099: InsecureRequestWarning: Unverified HTTPS request is being made to host 'www.saramin.co.kr'. Adding certificate verification is strongly advised. See: https://urllib3.readthedocs.io/en/latest/advanced-usage.html#tls-warnings\n",
      "  warnings.warn(\n"
     ]
    },
    {
     "name": "stdout",
     "output_type": "stream",
     "text": [
      "VmZPN1VIdUJwcmFwSllQcllOR1V6Zz09 (주)모아소프트 [모아소프트](서울/대전) 소프트웨어 신뢰성 검증 인력 채용\n",
      "2024-09-13 13:00:00\n",
      "www.moasoftware.co.kr\n",
      "49013349\n"
     ]
    },
    {
     "name": "stderr",
     "output_type": "stream",
     "text": [
      "/home/cook/venv/eda_venv/lib/python3.10/site-packages/urllib3/connectionpool.py:1099: InsecureRequestWarning: Unverified HTTPS request is being made to host 'www.saramin.co.kr'. Adding certificate verification is strongly advised. See: https://urllib3.readthedocs.io/en/latest/advanced-usage.html#tls-warnings\n",
      "  warnings.warn(\n"
     ]
    },
    {
     "name": "stdout",
     "output_type": "stream",
     "text": [
      "aVdiRHhZcVpIQ0QxSTJDSzhpZGxsdz09 (주)아이브 기구/설계 엔지니어 채용\n",
      "2024-09-13 00:00:00\n",
      "시스템 소프트웨어 개발 및 공급업\n",
      "2020년 2월 18일\n",
      "2020-02-18 00:00:00\n",
      "www.aiv.ai\n",
      "49013334\n"
     ]
    },
    {
     "name": "stderr",
     "output_type": "stream",
     "text": [
      "/home/cook/venv/eda_venv/lib/python3.10/site-packages/urllib3/connectionpool.py:1099: InsecureRequestWarning: Unverified HTTPS request is being made to host 'www.saramin.co.kr'. Adding certificate verification is strongly advised. See: https://urllib3.readthedocs.io/en/latest/advanced-usage.html#tls-warnings\n",
      "  warnings.warn(\n"
     ]
    },
    {
     "name": "stdout",
     "output_type": "stream",
     "text": [
      "aVdiRHhZcVpIQ0QxSTJDSzhpZGxsdz09 (주)아이브 기계/광학/전장(제어) 엔지니어 채용\n",
      "2024-09-13 00:00:00\n",
      "시스템 소프트웨어 개발 및 공급업\n",
      "2020년 2월 18일\n",
      "2020-02-18 00:00:00\n",
      "www.aiv.ai\n",
      "49013330\n"
     ]
    },
    {
     "name": "stderr",
     "output_type": "stream",
     "text": [
      "/home/cook/venv/eda_venv/lib/python3.10/site-packages/urllib3/connectionpool.py:1099: InsecureRequestWarning: Unverified HTTPS request is being made to host 'www.saramin.co.kr'. Adding certificate verification is strongly advised. See: https://urllib3.readthedocs.io/en/latest/advanced-usage.html#tls-warnings\n",
      "  warnings.warn(\n"
     ]
    },
    {
     "name": "stdout",
     "output_type": "stream",
     "text": [
      "TU1uUlVRRW1nSEJRenZmU2VpbnFUZz09 (주)일렉트릭스 로봇 영업담당자모집 - 협동로봇 및 자율주행로봇\n",
      "2024-09-13 13:00:00\n",
      "전기용 기계ㆍ장비 및 관련 기자재 도매업\n",
      "2011년 6월 14일\n",
      "2011-06-14 00:00:00\n",
      "electrix.co.kr\n",
      "49012809\n"
     ]
    },
    {
     "name": "stderr",
     "output_type": "stream",
     "text": [
      "/home/cook/venv/eda_venv/lib/python3.10/site-packages/urllib3/connectionpool.py:1099: InsecureRequestWarning: Unverified HTTPS request is being made to host 'www.saramin.co.kr'. Adding certificate verification is strongly advised. See: https://urllib3.readthedocs.io/en/latest/advanced-usage.html#tls-warnings\n",
      "  warnings.warn(\n"
     ]
    },
    {
     "name": "stdout",
     "output_type": "stream",
     "text": [
      "SlNwN0NFZWJlanhxSzhoa2ttcjF5Zz09 (주)플라잎 Field Engineer\n",
      "2024-09-15 00:00:00\n",
      "시스템 소프트웨어 개발 및 공급업\n",
      "2020년 1월 29일\n",
      "2020-01-29 00:00:00\n",
      "www.plaif.com\n",
      "49012191\n"
     ]
    },
    {
     "name": "stderr",
     "output_type": "stream",
     "text": [
      "/home/cook/venv/eda_venv/lib/python3.10/site-packages/urllib3/connectionpool.py:1099: InsecureRequestWarning: Unverified HTTPS request is being made to host 'www.saramin.co.kr'. Adding certificate verification is strongly advised. See: https://urllib3.readthedocs.io/en/latest/advanced-usage.html#tls-warnings\n",
      "  warnings.warn(\n"
     ]
    },
    {
     "name": "stdout",
     "output_type": "stream",
     "text": [
      "alBENlp4b3pJRjVjdit0UlUvZ3JlZz09 (주)엘라인 [경력, 로봇S/W개발] 물류로봇 S/W개발직 경력사원 채용\n",
      "2024-09-13 11:00:00\n",
      "그 외 기타 전자부품 제조업\n",
      "2023년 3월 13일\n",
      "2023-03-13 00:00:00\n",
      "www.l-line.co.kr/\n",
      "49011781\n"
     ]
    },
    {
     "name": "stderr",
     "output_type": "stream",
     "text": [
      "/home/cook/venv/eda_venv/lib/python3.10/site-packages/urllib3/connectionpool.py:1099: InsecureRequestWarning: Unverified HTTPS request is being made to host 'www.saramin.co.kr'. Adding certificate verification is strongly advised. See: https://urllib3.readthedocs.io/en/latest/advanced-usage.html#tls-warnings\n",
      "  warnings.warn(\n"
     ]
    },
    {
     "name": "stdout",
     "output_type": "stream",
     "text": [
      "NEp5RFhETDVueUtpemZpTDR4NWJzUT09 (주)엔모션 임베디드 제어 SW HW 개발 정규직 경력자 모집\n",
      "2024-09-13 11:00:00\n",
      "전기ㆍ전자공학 연구개발업\n",
      "2020년 12월 21일\n",
      "2020-12-21 00:00:00\n",
      "49011198\n"
     ]
    },
    {
     "name": "stderr",
     "output_type": "stream",
     "text": [
      "/home/cook/venv/eda_venv/lib/python3.10/site-packages/urllib3/connectionpool.py:1099: InsecureRequestWarning: Unverified HTTPS request is being made to host 'www.saramin.co.kr'. Adding certificate verification is strongly advised. See: https://urllib3.readthedocs.io/en/latest/advanced-usage.html#tls-warnings\n",
      "  warnings.warn(\n"
     ]
    },
    {
     "name": "stdout",
     "output_type": "stream",
     "text": [
      "SlNwN0NFZWJlanhxSzhoa2ttcjF5Zz09 (주)플라잎 Linux Engineer(전문연구요원 가능)\n",
      "2024-09-19 00:00:00\n",
      "시스템 소프트웨어 개발 및 공급업\n",
      "2020년 1월 29일\n",
      "2020-01-29 00:00:00\n",
      "www.plaif.com\n",
      "49011086\n"
     ]
    },
    {
     "name": "stderr",
     "output_type": "stream",
     "text": [
      "/home/cook/venv/eda_venv/lib/python3.10/site-packages/urllib3/connectionpool.py:1099: InsecureRequestWarning: Unverified HTTPS request is being made to host 'www.saramin.co.kr'. Adding certificate verification is strongly advised. See: https://urllib3.readthedocs.io/en/latest/advanced-usage.html#tls-warnings\n",
      "  warnings.warn(\n"
     ]
    },
    {
     "name": "stdout",
     "output_type": "stream",
     "text": [
      "d055R3c0aUZoTjJmU1l2cVJRM0F4dz09 (주)크래블 필드 엔지니어 채용\n",
      "2024-09-13 00:00:00\n",
      "49011068\n"
     ]
    },
    {
     "name": "stderr",
     "output_type": "stream",
     "text": [
      "/home/cook/venv/eda_venv/lib/python3.10/site-packages/urllib3/connectionpool.py:1099: InsecureRequestWarning: Unverified HTTPS request is being made to host 'www.saramin.co.kr'. Adding certificate verification is strongly advised. See: https://urllib3.readthedocs.io/en/latest/advanced-usage.html#tls-warnings\n",
      "  warnings.warn(\n"
     ]
    },
    {
     "name": "stdout",
     "output_type": "stream",
     "text": [
      "OGxPSCt5d1RqUHh3MmZqOWVrbG1aUT09 (주)비밀리 프론트엔드 개발자(Frontend)\n",
      "2024-09-19 00:00:00\n",
      "응용 소프트웨어 개발 및 공급업\n",
      "2020년 7월 3일\n",
      "2020-07-03 00:00:00\n",
      "https://www.family-town.com\n",
      "49011061\n"
     ]
    },
    {
     "name": "stderr",
     "output_type": "stream",
     "text": [
      "/home/cook/venv/eda_venv/lib/python3.10/site-packages/urllib3/connectionpool.py:1099: InsecureRequestWarning: Unverified HTTPS request is being made to host 'www.saramin.co.kr'. Adding certificate verification is strongly advised. See: https://urllib3.readthedocs.io/en/latest/advanced-usage.html#tls-warnings\n",
      "  warnings.warn(\n"
     ]
    },
    {
     "name": "stdout",
     "output_type": "stream",
     "text": [
      "OGxPSCt5d1RqUHh3MmZqOWVrbG1aUT09 (주)비밀리 백엔드 서버 개발자 (Backend)\n",
      "2024-09-19 00:00:00\n",
      "응용 소프트웨어 개발 및 공급업\n",
      "2020년 7월 3일\n",
      "2020-07-03 00:00:00\n",
      "https://www.family-town.com\n",
      "49010281\n"
     ]
    },
    {
     "name": "stderr",
     "output_type": "stream",
     "text": [
      "/home/cook/venv/eda_venv/lib/python3.10/site-packages/urllib3/connectionpool.py:1099: InsecureRequestWarning: Unverified HTTPS request is being made to host 'www.saramin.co.kr'. Adding certificate verification is strongly advised. See: https://urllib3.readthedocs.io/en/latest/advanced-usage.html#tls-warnings\n",
      "  warnings.warn(\n"
     ]
    },
    {
     "name": "stdout",
     "output_type": "stream",
     "text": [
      "QWIydm5DTS9XM1lrdDE4aStZZ2dndz09 (주)오픈에스지 [오픈에스지] AI&Cloud팀 개발자 채용(신입/경력)\n",
      "2024-09-13 09:00:00\n"
     ]
    },
    {
     "name": "stderr",
     "output_type": "stream",
     "text": [
      "/home/cook/venv/eda_venv/lib/python3.10/site-packages/urllib3/connectionpool.py:1099: InsecureRequestWarning: Unverified HTTPS request is being made to host 'www.saramin.co.kr'. Adding certificate verification is strongly advised. See: https://urllib3.readthedocs.io/en/latest/advanced-usage.html#tls-warnings\n",
      "  warnings.warn(\n"
     ]
    },
    {
     "name": "stdout",
     "output_type": "stream",
     "text": [
      "49009963\n"
     ]
    },
    {
     "name": "stderr",
     "output_type": "stream",
     "text": [
      "/home/cook/venv/eda_venv/lib/python3.10/site-packages/urllib3/connectionpool.py:1099: InsecureRequestWarning: Unverified HTTPS request is being made to host 'www.saramin.co.kr'. Adding certificate verification is strongly advised. See: https://urllib3.readthedocs.io/en/latest/advanced-usage.html#tls-warnings\n",
      "  warnings.warn(\n"
     ]
    },
    {
     "name": "stdout",
     "output_type": "stream",
     "text": [
      "ZVZaQjdCQzNKUnNaNmRaZm5KQ1hJQT09 (주)메디인테크 구매관리 경력직 채용\n",
      "2024-09-13 09:00:00\n",
      "그 외 기타 의료용 기기 제조업\n",
      "2020년 2월 12일\n",
      "2020-02-12 00:00:00\n",
      "medintech.co.kr\n",
      "49009750\n"
     ]
    },
    {
     "name": "stderr",
     "output_type": "stream",
     "text": [
      "/home/cook/venv/eda_venv/lib/python3.10/site-packages/urllib3/connectionpool.py:1099: InsecureRequestWarning: Unverified HTTPS request is being made to host 'www.saramin.co.kr'. Adding certificate verification is strongly advised. See: https://urllib3.readthedocs.io/en/latest/advanced-usage.html#tls-warnings\n",
      "  warnings.warn(\n"
     ]
    },
    {
     "name": "stdout",
     "output_type": "stream",
     "text": [
      "dStHa0twVkR2OHBsSlZQelhtdnhjZz09 (주)프라코 (주)프라코 품질보증 신입/경력직 모집\n",
      "2024-09-13 09:00:00\n",
      "자동차 차체용 신품 부품 제조업\n",
      "1989년 2월 9일\n",
      "1989-02-09 00:00:00\n",
      "www.plakor.co.kr\n",
      "49009504\n"
     ]
    },
    {
     "name": "stderr",
     "output_type": "stream",
     "text": [
      "/home/cook/venv/eda_venv/lib/python3.10/site-packages/urllib3/connectionpool.py:1099: InsecureRequestWarning: Unverified HTTPS request is being made to host 'www.saramin.co.kr'. Adding certificate verification is strongly advised. See: https://urllib3.readthedocs.io/en/latest/advanced-usage.html#tls-warnings\n",
      "  warnings.warn(\n"
     ]
    },
    {
     "name": "stdout",
     "output_type": "stream",
     "text": [
      "Y0U4bUdzUjVSeWJzTWFucC9NMk9GUT09 (주)와따에이아이 비젼 SLAM 개발자 모집[WATA Inc/판교]\n",
      "2024-09-13 00:00:00\n",
      "응용 소프트웨어 개발 및 공급업\n",
      "2019년 4월 29일\n",
      "2019-04-29 00:00:00\n",
      "www.watanow.com\n",
      "49009415\n"
     ]
    },
    {
     "name": "stderr",
     "output_type": "stream",
     "text": [
      "/home/cook/venv/eda_venv/lib/python3.10/site-packages/urllib3/connectionpool.py:1099: InsecureRequestWarning: Unverified HTTPS request is being made to host 'www.saramin.co.kr'. Adding certificate verification is strongly advised. See: https://urllib3.readthedocs.io/en/latest/advanced-usage.html#tls-warnings\n",
      "  warnings.warn(\n"
     ]
    },
    {
     "name": "stdout",
     "output_type": "stream",
     "text": [
      "NC9Rc3ppTnRwUjlabEJIZFJrdVlVdz09 (주)로아스 [로아스] 영업지원 마케팅 담당자 채용\n",
      "2024-09-13 09:00:00\n",
      "산업용 로봇 제조업\n",
      "2020년 3월 3일\n",
      "2020-03-03 00:00:00\n",
      "www.roas.co.kr\n",
      "49009259\n"
     ]
    },
    {
     "name": "stderr",
     "output_type": "stream",
     "text": [
      "/home/cook/venv/eda_venv/lib/python3.10/site-packages/urllib3/connectionpool.py:1099: InsecureRequestWarning: Unverified HTTPS request is being made to host 'www.saramin.co.kr'. Adding certificate verification is strongly advised. See: https://urllib3.readthedocs.io/en/latest/advanced-usage.html#tls-warnings\n",
      "  warnings.warn(\n"
     ]
    },
    {
     "name": "stdout",
     "output_type": "stream",
     "text": [
      "VXlWNUxwcUlNWkhpbEdwYVR6TlNNdz09 (주)다날핀테크\t 다날핀테크 페이코인 CS 운영/관리 담당자 경력 채용\n",
      "2024-09-13 08:00:00\n",
      "시스템 소프트웨어 개발 및 공급업\n",
      "2019년 1월 17일\n",
      "2019-01-17 00:00:00\n",
      "www.danalfintech.com\n",
      "49008656\n"
     ]
    },
    {
     "name": "stderr",
     "output_type": "stream",
     "text": [
      "/home/cook/venv/eda_venv/lib/python3.10/site-packages/urllib3/connectionpool.py:1099: InsecureRequestWarning: Unverified HTTPS request is being made to host 'www.saramin.co.kr'. Adding certificate verification is strongly advised. See: https://urllib3.readthedocs.io/en/latest/advanced-usage.html#tls-warnings\n",
      "  warnings.warn(\n"
     ]
    },
    {
     "name": "stdout",
     "output_type": "stream",
     "text": [
      "bXpiL2JqNmpXc3MvT1htNjdZdDJhQT09 주식회사 마이스맥스 [서울대 스핀오프 스타트업] 시니어 개발자\n",
      "2024-09-12 21:00:00\n",
      "솔루션·SI·ERP·CRM\n",
      "49008647\n"
     ]
    },
    {
     "name": "stderr",
     "output_type": "stream",
     "text": [
      "/home/cook/venv/eda_venv/lib/python3.10/site-packages/urllib3/connectionpool.py:1099: InsecureRequestWarning: Unverified HTTPS request is being made to host 'www.saramin.co.kr'. Adding certificate verification is strongly advised. See: https://urllib3.readthedocs.io/en/latest/advanced-usage.html#tls-warnings\n",
      "  warnings.warn(\n"
     ]
    },
    {
     "name": "stdout",
     "output_type": "stream",
     "text": [
      "bXpiL2JqNmpXc3MvT1htNjdZdDJhQT09 주식회사 마이스맥스 [서울대 스핀오프 스타트업] 인하우스 디자이너\n",
      "2024-09-12 20:00:00\n",
      "솔루션·SI·ERP·CRM\n",
      "49008548\n"
     ]
    },
    {
     "name": "stderr",
     "output_type": "stream",
     "text": [
      "/home/cook/venv/eda_venv/lib/python3.10/site-packages/urllib3/connectionpool.py:1099: InsecureRequestWarning: Unverified HTTPS request is being made to host 'www.saramin.co.kr'. Adding certificate verification is strongly advised. See: https://urllib3.readthedocs.io/en/latest/advanced-usage.html#tls-warnings\n",
      "  warnings.warn(\n"
     ]
    },
    {
     "name": "stdout",
     "output_type": "stream",
     "text": [
      "RUUzTFRPcTlIUTdvMTk5eTNqR1hYQT09 (주)스마트캐스트 (주)스마트캐스트 외식 솔루션 기술지원센터 사원 모집\n",
      "2024-09-12 19:00:00\n",
      "응용 소프트웨어 개발 및 공급업\n",
      "2014년 6월 16일\n",
      "2014-06-16 00:00:00\n",
      "http://www.smartcast.co.kr\n",
      "49008525\n"
     ]
    },
    {
     "name": "stderr",
     "output_type": "stream",
     "text": [
      "/home/cook/venv/eda_venv/lib/python3.10/site-packages/urllib3/connectionpool.py:1099: InsecureRequestWarning: Unverified HTTPS request is being made to host 'www.saramin.co.kr'. Adding certificate verification is strongly advised. See: https://urllib3.readthedocs.io/en/latest/advanced-usage.html#tls-warnings\n",
      "  warnings.warn(\n"
     ]
    },
    {
     "name": "stdout",
     "output_type": "stream",
     "text": [
      "RUUzTFRPcTlIUTdvMTk5eTNqR1hYQT09 (주)스마트캐스트 (주)스마트캐스트 영업본부 경력자 모집\n",
      "2024-09-12 19:00:00\n",
      "응용 소프트웨어 개발 및 공급업\n",
      "2014년 6월 16일\n",
      "2014-06-16 00:00:00\n",
      "http://www.smartcast.co.kr\n",
      "49007866\n"
     ]
    },
    {
     "name": "stderr",
     "output_type": "stream",
     "text": [
      "/home/cook/venv/eda_venv/lib/python3.10/site-packages/urllib3/connectionpool.py:1099: InsecureRequestWarning: Unverified HTTPS request is being made to host 'www.saramin.co.kr'. Adding certificate verification is strongly advised. See: https://urllib3.readthedocs.io/en/latest/advanced-usage.html#tls-warnings\n",
      "  warnings.warn(\n"
     ]
    },
    {
     "name": "stdout",
     "output_type": "stream",
     "text": [
      "dzZCY05UTE4vcWY4alo1bWFrSk1OQT09 (주)알지에이아이엔씨 Optimization Research Engineer\n",
      "2024-09-13 00:00:00\n",
      "전기ㆍ전자공학 연구개발업\n",
      "2022년 6월 17일\n",
      "2022-06-17 00:00:00\n",
      "www.rgarobot.com\n",
      "49007863\n"
     ]
    },
    {
     "name": "stderr",
     "output_type": "stream",
     "text": [
      "/home/cook/venv/eda_venv/lib/python3.10/site-packages/urllib3/connectionpool.py:1099: InsecureRequestWarning: Unverified HTTPS request is being made to host 'www.saramin.co.kr'. Adding certificate verification is strongly advised. See: https://urllib3.readthedocs.io/en/latest/advanced-usage.html#tls-warnings\n",
      "  warnings.warn(\n"
     ]
    },
    {
     "name": "stdout",
     "output_type": "stream",
     "text": [
      "dzZCY05UTE4vcWY4alo1bWFrSk1OQT09 (주)알지에이아이엔씨 AI Language Model Engineer\n",
      "2024-09-13 00:00:00\n",
      "전기ㆍ전자공학 연구개발업\n",
      "2022년 6월 17일\n",
      "2022-06-17 00:00:00\n",
      "www.rgarobot.com\n",
      "49007859\n"
     ]
    },
    {
     "name": "stderr",
     "output_type": "stream",
     "text": [
      "/home/cook/venv/eda_venv/lib/python3.10/site-packages/urllib3/connectionpool.py:1099: InsecureRequestWarning: Unverified HTTPS request is being made to host 'www.saramin.co.kr'. Adding certificate verification is strongly advised. See: https://urllib3.readthedocs.io/en/latest/advanced-usage.html#tls-warnings\n",
      "  warnings.warn(\n"
     ]
    },
    {
     "name": "stdout",
     "output_type": "stream",
     "text": [
      "dzZCY05UTE4vcWY4alo1bWFrSk1OQT09 (주)알지에이아이엔씨 Robot Perception Engineer\n",
      "2024-09-13 00:00:00\n",
      "전기ㆍ전자공학 연구개발업\n",
      "2022년 6월 17일\n",
      "2022-06-17 00:00:00\n",
      "www.rgarobot.com\n",
      "49007857\n"
     ]
    },
    {
     "name": "stderr",
     "output_type": "stream",
     "text": [
      "/home/cook/venv/eda_venv/lib/python3.10/site-packages/urllib3/connectionpool.py:1099: InsecureRequestWarning: Unverified HTTPS request is being made to host 'www.saramin.co.kr'. Adding certificate verification is strongly advised. See: https://urllib3.readthedocs.io/en/latest/advanced-usage.html#tls-warnings\n",
      "  warnings.warn(\n"
     ]
    },
    {
     "name": "stdout",
     "output_type": "stream",
     "text": [
      "dzZCY05UTE4vcWY4alo1bWFrSk1OQT09 (주)알지에이아이엔씨 Robot Control Engineer\n",
      "2024-09-13 00:00:00\n",
      "전기ㆍ전자공학 연구개발업\n",
      "2022년 6월 17일\n",
      "2022-06-17 00:00:00\n",
      "www.rgarobot.com\n",
      "49007854\n"
     ]
    },
    {
     "name": "stderr",
     "output_type": "stream",
     "text": [
      "/home/cook/venv/eda_venv/lib/python3.10/site-packages/urllib3/connectionpool.py:1099: InsecureRequestWarning: Unverified HTTPS request is being made to host 'www.saramin.co.kr'. Adding certificate verification is strongly advised. See: https://urllib3.readthedocs.io/en/latest/advanced-usage.html#tls-warnings\n",
      "  warnings.warn(\n"
     ]
    },
    {
     "name": "stdout",
     "output_type": "stream",
     "text": [
      "dzZCY05UTE4vcWY4alo1bWFrSk1OQT09 (주)알지에이아이엔씨 Reinforcement Learning Engineer\n",
      "2024-09-13 00:00:00\n",
      "전기ㆍ전자공학 연구개발업\n",
      "2022년 6월 17일\n",
      "2022-06-17 00:00:00\n",
      "www.rgarobot.com\n",
      "49007852\n"
     ]
    },
    {
     "name": "stderr",
     "output_type": "stream",
     "text": [
      "/home/cook/venv/eda_venv/lib/python3.10/site-packages/urllib3/connectionpool.py:1099: InsecureRequestWarning: Unverified HTTPS request is being made to host 'www.saramin.co.kr'. Adding certificate verification is strongly advised. See: https://urllib3.readthedocs.io/en/latest/advanced-usage.html#tls-warnings\n",
      "  warnings.warn(\n"
     ]
    },
    {
     "name": "stdout",
     "output_type": "stream",
     "text": [
      "dzZCY05UTE4vcWY4alo1bWFrSk1OQT09 (주)알지에이아이엔씨 SLAM & Navigation Engineer\n",
      "2024-09-13 00:00:00\n",
      "전기ㆍ전자공학 연구개발업\n",
      "2022년 6월 17일\n",
      "2022-06-17 00:00:00\n",
      "www.rgarobot.com\n",
      "49007590\n"
     ]
    },
    {
     "name": "stderr",
     "output_type": "stream",
     "text": [
      "/home/cook/venv/eda_venv/lib/python3.10/site-packages/urllib3/connectionpool.py:1099: InsecureRequestWarning: Unverified HTTPS request is being made to host 'www.saramin.co.kr'. Adding certificate verification is strongly advised. See: https://urllib3.readthedocs.io/en/latest/advanced-usage.html#tls-warnings\n",
      "  warnings.warn(\n"
     ]
    },
    {
     "name": "stdout",
     "output_type": "stream",
     "text": [
      "czhtUDN5UlBQbnZDSDFtdjFFa2QyUT09 코스텍시스템(주) 반도체 장비 회사 채용(설계/공정/제어/로봇/SW)\n",
      "2024-09-13 00:00:00\n",
      "반도체 제조용 기계 제조업\n",
      "2000년 4월 11일\n",
      "2000-04-11 00:00:00\n",
      "www.kosteks.com\n",
      "49007420\n"
     ]
    },
    {
     "name": "stderr",
     "output_type": "stream",
     "text": [
      "/home/cook/venv/eda_venv/lib/python3.10/site-packages/urllib3/connectionpool.py:1099: InsecureRequestWarning: Unverified HTTPS request is being made to host 'www.saramin.co.kr'. Adding certificate verification is strongly advised. See: https://urllib3.readthedocs.io/en/latest/advanced-usage.html#tls-warnings\n",
      "  warnings.warn(\n"
     ]
    },
    {
     "name": "stdout",
     "output_type": "stream",
     "text": [
      "cUxkWEJNNk5zdmNIYm5sYWNCbjlLQT09 (주)페이히어 [페이히어] 콘텐츠 마케팅 파트 리드\n",
      "2024-09-13 10:00:00\n",
      "2019년 8월 1일\n",
      "2019-08-01 00:00:00\n",
      "http://payhere.in/\n",
      "49007065\n"
     ]
    },
    {
     "name": "stderr",
     "output_type": "stream",
     "text": [
      "/home/cook/venv/eda_venv/lib/python3.10/site-packages/urllib3/connectionpool.py:1099: InsecureRequestWarning: Unverified HTTPS request is being made to host 'www.saramin.co.kr'. Adding certificate verification is strongly advised. See: https://urllib3.readthedocs.io/en/latest/advanced-usage.html#tls-warnings\n",
      "  warnings.warn(\n"
     ]
    },
    {
     "name": "stdout",
     "output_type": "stream",
     "text": [
      "RElwaVo2M1lVQjRnMG1GMHN4QTVZQT09 (주)엠트리센 솔루션 운영/기술지원\n",
      "2024-09-12 00:00:00\n",
      "경영 컨설팅업\n",
      "2017년 7월 7일\n",
      "2017-07-07 00:00:00\n",
      "www.m3sen.com\n",
      "49006858\n"
     ]
    },
    {
     "name": "stderr",
     "output_type": "stream",
     "text": [
      "/home/cook/venv/eda_venv/lib/python3.10/site-packages/urllib3/connectionpool.py:1099: InsecureRequestWarning: Unverified HTTPS request is being made to host 'www.saramin.co.kr'. Adding certificate verification is strongly advised. See: https://urllib3.readthedocs.io/en/latest/advanced-usage.html#tls-warnings\n",
      "  warnings.warn(\n"
     ]
    },
    {
     "name": "stdout",
     "output_type": "stream",
     "text": [
      "R00vclMxZUZvYk1qWVJDdTFVbVU1QT09 시냅스이미징(주) 2024년 하반기 각 부문별 신입/경력 채용\n",
      "2024-09-12 00:00:00\n",
      "물질 검사, 측정 및 분석기구 제조업\n",
      "2002년 1월 25일\n",
      "2002-01-25 00:00:00\n",
      "www.synapseimaging.co.kr\n",
      "49005777\n"
     ]
    },
    {
     "name": "stderr",
     "output_type": "stream",
     "text": [
      "/home/cook/venv/eda_venv/lib/python3.10/site-packages/urllib3/connectionpool.py:1099: InsecureRequestWarning: Unverified HTTPS request is being made to host 'www.saramin.co.kr'. Adding certificate verification is strongly advised. See: https://urllib3.readthedocs.io/en/latest/advanced-usage.html#tls-warnings\n",
      "  warnings.warn(\n"
     ]
    },
    {
     "name": "stdout",
     "output_type": "stream",
     "text": [
      "NzFGbzRBcTFPNGducEw1QVViQXRVQT09 (주)긴트 전동기 알고리즘 개발자\n",
      "2024-09-12 00:00:00\n",
      "자동차용 신품 전기장치 제조업\n",
      "2015년 10월 2일\n",
      "2015-10-02 00:00:00\n",
      "http://www.gintlab.com\n",
      "49005497\n"
     ]
    },
    {
     "name": "stderr",
     "output_type": "stream",
     "text": [
      "/home/cook/venv/eda_venv/lib/python3.10/site-packages/urllib3/connectionpool.py:1099: InsecureRequestWarning: Unverified HTTPS request is being made to host 'www.saramin.co.kr'. Adding certificate verification is strongly advised. See: https://urllib3.readthedocs.io/en/latest/advanced-usage.html#tls-warnings\n",
      "  warnings.warn(\n"
     ]
    },
    {
     "name": "stdout",
     "output_type": "stream",
     "text": [
      "OTVZYml5T0NEV2ZPbTVoRUlpU2hVQT09 (주)위더스이십일 위더스이십일과 함께 성장할 [ 기계설비 담당자 ] 를 찾습니다\n",
      "2024-09-12 14:00:00\n",
      "컴퓨터시스템 통합 자문 및 구축 서비스업\n",
      "2001년 10월 12일\n",
      "2001-10-12 00:00:00\n",
      "www.withus21.co.kr\n",
      "49005469\n"
     ]
    },
    {
     "name": "stderr",
     "output_type": "stream",
     "text": [
      "/home/cook/venv/eda_venv/lib/python3.10/site-packages/urllib3/connectionpool.py:1099: InsecureRequestWarning: Unverified HTTPS request is being made to host 'www.saramin.co.kr'. Adding certificate verification is strongly advised. See: https://urllib3.readthedocs.io/en/latest/advanced-usage.html#tls-warnings\n",
      "  warnings.warn(\n"
     ]
    },
    {
     "name": "stdout",
     "output_type": "stream",
     "text": [
      "NzFGbzRBcTFPNGducEw1QVViQXRVQT09 (주)긴트 서비스 기획(PM) 경력 채용[자율주행/고속성장/스타트업]\n",
      "2024-09-12 00:00:00\n",
      "자동차용 신품 전기장치 제조업\n",
      "2015년 10월 2일\n",
      "2015-10-02 00:00:00\n",
      "http://www.gintlab.com\n",
      "49005112\n"
     ]
    },
    {
     "name": "stderr",
     "output_type": "stream",
     "text": [
      "/home/cook/venv/eda_venv/lib/python3.10/site-packages/urllib3/connectionpool.py:1099: InsecureRequestWarning: Unverified HTTPS request is being made to host 'www.saramin.co.kr'. Adding certificate verification is strongly advised. See: https://urllib3.readthedocs.io/en/latest/advanced-usage.html#tls-warnings\n",
      "  warnings.warn(\n"
     ]
    },
    {
     "name": "stdout",
     "output_type": "stream",
     "text": [
      "OTVZYml5T0NEV2ZPbTVoRUlpU2hVQT09 (주)위더스이십일 위더스이십일과 함께 성장할  [ JAVA개발자 ] 를 찾습니다.\n",
      "2024-09-12 11:00:00\n",
      "컴퓨터시스템 통합 자문 및 구축 서비스업\n",
      "2001년 10월 12일\n",
      "2001-10-12 00:00:00\n",
      "www.withus21.co.kr\n",
      "49004321\n"
     ]
    },
    {
     "name": "stderr",
     "output_type": "stream",
     "text": [
      "/home/cook/venv/eda_venv/lib/python3.10/site-packages/urllib3/connectionpool.py:1099: InsecureRequestWarning: Unverified HTTPS request is being made to host 'www.saramin.co.kr'. Adding certificate verification is strongly advised. See: https://urllib3.readthedocs.io/en/latest/advanced-usage.html#tls-warnings\n",
      "  warnings.warn(\n"
     ]
    },
    {
     "name": "stdout",
     "output_type": "stream",
     "text": [
      "aHBTTzlKNXVZSjA5TWhIVklNREF5UT09 두림야스카와(주) 프로젝트매니저 / 경력직 채용\n",
      "2024-09-12 11:00:00\n",
      "산업용 로봇 제조업\n",
      "1997년 6월 11일\n",
      "1997-06-11 00:00:00\n",
      "www.doolim-yaskawa.com\n",
      "49003398\n"
     ]
    },
    {
     "name": "stderr",
     "output_type": "stream",
     "text": [
      "/home/cook/venv/eda_venv/lib/python3.10/site-packages/urllib3/connectionpool.py:1099: InsecureRequestWarning: Unverified HTTPS request is being made to host 'www.saramin.co.kr'. Adding certificate verification is strongly advised. See: https://urllib3.readthedocs.io/en/latest/advanced-usage.html#tls-warnings\n",
      "  warnings.warn(\n"
     ]
    },
    {
     "name": "stdout",
     "output_type": "stream",
     "text": [
      "bHU2Z0MyV21iZEJiUXNaSGJEQng5QT09 코가로보틱스(주) [기술연구소]로봇소프트웨어 검증 및 평가 엔지니어 채용\n",
      "2024-09-12 10:00:00\n",
      "응용 소프트웨어 개발 및 공급업\n",
      "2017년 8월 24일\n",
      "2017-08-24 00:00:00\n",
      "http://coga-robotics.com/\n",
      "49003371\n"
     ]
    },
    {
     "name": "stderr",
     "output_type": "stream",
     "text": [
      "/home/cook/venv/eda_venv/lib/python3.10/site-packages/urllib3/connectionpool.py:1099: InsecureRequestWarning: Unverified HTTPS request is being made to host 'www.saramin.co.kr'. Adding certificate verification is strongly advised. See: https://urllib3.readthedocs.io/en/latest/advanced-usage.html#tls-warnings\n",
      "  warnings.warn(\n"
     ]
    },
    {
     "name": "stdout",
     "output_type": "stream",
     "text": [
      "NzFGbzRBcTFPNGducEw1QVViQXRVQT09 (주)긴트 [자율주행/고속성장/스타트업] 서비스 기획(PM)\n",
      "2024-09-12 10:00:00\n",
      "자동차용 신품 전기장치 제조업\n",
      "2015년 10월 7일\n",
      "2015-10-07 00:00:00\n",
      "http://www.gintlab.com\n",
      "49002938\n"
     ]
    },
    {
     "name": "stderr",
     "output_type": "stream",
     "text": [
      "/home/cook/venv/eda_venv/lib/python3.10/site-packages/urllib3/connectionpool.py:1099: InsecureRequestWarning: Unverified HTTPS request is being made to host 'www.saramin.co.kr'. Adding certificate verification is strongly advised. See: https://urllib3.readthedocs.io/en/latest/advanced-usage.html#tls-warnings\n",
      "  warnings.warn(\n"
     ]
    },
    {
     "name": "stdout",
     "output_type": "stream",
     "text": [
      "dHR6V3JUTWZNUERGOGRLMGp2U2YwQT09 (주)로보케어 [로보케어]소프트웨어 엔지니어 경력직 채용\n",
      "2024-09-12 10:00:00\n",
      "산업용 로봇 제조업\n",
      "2012년 10월 22일\n",
      "2012-10-22 00:00:00\n",
      "www.robocare.co.kr\n",
      "49002777\n"
     ]
    },
    {
     "name": "stderr",
     "output_type": "stream",
     "text": [
      "/home/cook/venv/eda_venv/lib/python3.10/site-packages/urllib3/connectionpool.py:1099: InsecureRequestWarning: Unverified HTTPS request is being made to host 'www.saramin.co.kr'. Adding certificate verification is strongly advised. See: https://urllib3.readthedocs.io/en/latest/advanced-usage.html#tls-warnings\n",
      "  warnings.warn(\n"
     ]
    },
    {
     "name": "stdout",
     "output_type": "stream",
     "text": [
      "Vm5iT3pEWnhhS2lWV1VnR215aWNyUT09 (주)씨유박스 물류로봇시스템 PM 채용\n",
      "2024-09-12 00:00:00\n",
      "응용 소프트웨어 개발 및 공급업\n",
      "2010년 5월 31일\n",
      "2010-05-31 00:00:00\n",
      "www.cubox.ai\n",
      "49002776\n"
     ]
    },
    {
     "name": "stderr",
     "output_type": "stream",
     "text": [
      "/home/cook/venv/eda_venv/lib/python3.10/site-packages/urllib3/connectionpool.py:1099: InsecureRequestWarning: Unverified HTTPS request is being made to host 'www.saramin.co.kr'. Adding certificate verification is strongly advised. See: https://urllib3.readthedocs.io/en/latest/advanced-usage.html#tls-warnings\n",
      "  warnings.warn(\n"
     ]
    },
    {
     "name": "stdout",
     "output_type": "stream",
     "text": [
      "S3Y4WklUSUFDanBWUWlYRGF3ajBXZz09 (주)유림정보시스템 JAVA 웹개발자,비젼,협동로봇,3D프린팅 신입 및 경력 채용- 평택\n",
      "2024-09-12 09:00:00\n",
      "컴퓨터 프로그래밍 서비스업\n",
      "2011년 12월 9일\n",
      "2011-12-09 00:00:00\n",
      "www.yurim-info.com\n",
      "49002747\n"
     ]
    },
    {
     "name": "stderr",
     "output_type": "stream",
     "text": [
      "/home/cook/venv/eda_venv/lib/python3.10/site-packages/urllib3/connectionpool.py:1099: InsecureRequestWarning: Unverified HTTPS request is being made to host 'www.saramin.co.kr'. Adding certificate verification is strongly advised. See: https://urllib3.readthedocs.io/en/latest/advanced-usage.html#tls-warnings\n",
      "  warnings.warn(\n"
     ]
    },
    {
     "name": "stdout",
     "output_type": "stream",
     "text": [
      "Vm5iT3pEWnhhS2lWV1VnR215aWNyUT09 (주)씨유박스 로봇연구소 C/S 담당자 모집\n",
      "2024-09-12 10:00:00\n",
      "응용 소프트웨어 개발 및 공급업\n",
      "2010년 5월 31일\n",
      "2010-05-31 00:00:00\n",
      "www.cubox.ai\n",
      "49002116\n"
     ]
    },
    {
     "name": "stderr",
     "output_type": "stream",
     "text": [
      "/home/cook/venv/eda_venv/lib/python3.10/site-packages/urllib3/connectionpool.py:1099: InsecureRequestWarning: Unverified HTTPS request is being made to host 'www.saramin.co.kr'. Adding certificate verification is strongly advised. See: https://urllib3.readthedocs.io/en/latest/advanced-usage.html#tls-warnings\n",
      "  warnings.warn(\n"
     ]
    },
    {
     "name": "stdout",
     "output_type": "stream",
     "text": [
      "VExyUGJ6VEk5bXJkMFg1cjM5ZjNOZz09 (주)에이텍오토 [에이텍오토] 전장설계 (PLC) 개발자 채용\n",
      "2024-09-12 09:00:00\n",
      "컨베이어장치 제조업\n",
      "2022년 3월 16일\n",
      "2022-03-16 00:00:00\n",
      "atecauto.co.kr\n",
      "49001135\n"
     ]
    },
    {
     "name": "stderr",
     "output_type": "stream",
     "text": [
      "/home/cook/venv/eda_venv/lib/python3.10/site-packages/urllib3/connectionpool.py:1099: InsecureRequestWarning: Unverified HTTPS request is being made to host 'www.saramin.co.kr'. Adding certificate verification is strongly advised. See: https://urllib3.readthedocs.io/en/latest/advanced-usage.html#tls-warnings\n",
      "  warnings.warn(\n"
     ]
    },
    {
     "name": "stdout",
     "output_type": "stream",
     "text": [
      "M2pTZmxZT04weVh2aFlqV3NtckNlZz09 로봇앤컴(주) [로봇앤컴주식회사] 기업 확장으로 재무회계본부 추가 직원 채용\n",
      "2024-09-11 20:00:00\n",
      "robotncom.com\n",
      "48999621\n"
     ]
    },
    {
     "name": "stderr",
     "output_type": "stream",
     "text": [
      "/home/cook/venv/eda_venv/lib/python3.10/site-packages/urllib3/connectionpool.py:1099: InsecureRequestWarning: Unverified HTTPS request is being made to host 'www.saramin.co.kr'. Adding certificate verification is strongly advised. See: https://urllib3.readthedocs.io/en/latest/advanced-usage.html#tls-warnings\n",
      "  warnings.warn(\n"
     ]
    },
    {
     "name": "stdout",
     "output_type": "stream",
     "text": [
      "bnoxMjhLeEpaWG9YRHNoaEtWb3N0Zz09 (주)로봇템 자동화라인 및 기계설계 경력직 모집 (관련학과 졸업예정자 지원\n",
      "2024-09-11 16:00:00\n",
      "산업용 로봇 제조업\n",
      "2016년 11월 9일\n",
      "2016-11-09 00:00:00\n",
      "48999419\n"
     ]
    },
    {
     "name": "stderr",
     "output_type": "stream",
     "text": [
      "/home/cook/venv/eda_venv/lib/python3.10/site-packages/urllib3/connectionpool.py:1099: InsecureRequestWarning: Unverified HTTPS request is being made to host 'www.saramin.co.kr'. Adding certificate verification is strongly advised. See: https://urllib3.readthedocs.io/en/latest/advanced-usage.html#tls-warnings\n",
      "  warnings.warn(\n"
     ]
    },
    {
     "name": "stdout",
     "output_type": "stream",
     "text": [
      "OTVZYml5T0NEV2ZPbTVoRUlpU2hVQT09 (주)위더스이십일 위더스이십일과 함께 성장할  [ CAD 설계원 ] 을 찾습니다.\n",
      "2024-09-11 16:00:00\n",
      "컴퓨터시스템 통합 자문 및 구축 서비스업\n",
      "2001년 10월 12일\n",
      "2001-10-12 00:00:00\n",
      "www.withus21.co.kr\n",
      "48999297\n"
     ]
    },
    {
     "name": "stderr",
     "output_type": "stream",
     "text": [
      "/home/cook/venv/eda_venv/lib/python3.10/site-packages/urllib3/connectionpool.py:1099: InsecureRequestWarning: Unverified HTTPS request is being made to host 'www.saramin.co.kr'. Adding certificate verification is strongly advised. See: https://urllib3.readthedocs.io/en/latest/advanced-usage.html#tls-warnings\n",
      "  warnings.warn(\n"
     ]
    },
    {
     "name": "stdout",
     "output_type": "stream",
     "text": [
      "bHBHMXI3c201NEZpR3dsdWhkbTNmQT09 (주)레이언스 [레이언스] CS파트 X-ray 임상지원 담당자 (Mammo FA)\n",
      "2024-09-11 15:00:00\n",
      "방사선 장치 제조업\n",
      "2011년 5월 3일\n",
      "2011-05-03 00:00:00\n",
      "www.rayence.com\n",
      "48999211\n"
     ]
    },
    {
     "name": "stderr",
     "output_type": "stream",
     "text": [
      "/home/cook/venv/eda_venv/lib/python3.10/site-packages/urllib3/connectionpool.py:1099: InsecureRequestWarning: Unverified HTTPS request is being made to host 'www.saramin.co.kr'. Adding certificate verification is strongly advised. See: https://urllib3.readthedocs.io/en/latest/advanced-usage.html#tls-warnings\n",
      "  warnings.warn(\n"
     ]
    },
    {
     "name": "stdout",
     "output_type": "stream",
     "text": [
      "dlEyS052a3NRdzd3RXJjTjVwZEpoZz09 경기산업(주) 제어로봇팀 devops/시스템엔지니어 부서장 채용\n",
      "2024-09-12 00:00:00\n",
      "그 외 기타 특수목적용 기계 제조업\n",
      "1991년 10월 26일\n",
      "1991-10-26 00:00:00\n",
      "www.kyungki.co.kr\n",
      "48998020\n"
     ]
    },
    {
     "name": "stderr",
     "output_type": "stream",
     "text": [
      "/home/cook/venv/eda_venv/lib/python3.10/site-packages/urllib3/connectionpool.py:1099: InsecureRequestWarning: Unverified HTTPS request is being made to host 'www.saramin.co.kr'. Adding certificate verification is strongly advised. See: https://urllib3.readthedocs.io/en/latest/advanced-usage.html#tls-warnings\n",
      "  warnings.warn(\n"
     ]
    },
    {
     "name": "stdout",
     "output_type": "stream",
     "text": [
      "OTZQZWVUNWYycGFzdXIvS2liQ3JuUT09 ㈜동아일렉콤 전원연구소 연구원 채용의 건(기구설계, 회로설계)\n",
      "2024-09-11 13:00:00\n",
      "유선 통신장비 제조업\n",
      "1977년 1월 1일\n",
      "1977-01-01 00:00:00\n",
      "www.dongahelecomm.co.kr\n",
      "48996486\n"
     ]
    },
    {
     "name": "stderr",
     "output_type": "stream",
     "text": [
      "/home/cook/venv/eda_venv/lib/python3.10/site-packages/urllib3/connectionpool.py:1099: InsecureRequestWarning: Unverified HTTPS request is being made to host 'www.saramin.co.kr'. Adding certificate verification is strongly advised. See: https://urllib3.readthedocs.io/en/latest/advanced-usage.html#tls-warnings\n",
      "  warnings.warn(\n"
     ]
    },
    {
     "name": "stdout",
     "output_type": "stream",
     "text": [
      "dkI0d2ZlZk1SVVNoaUxpMU5GbUVSUT09 (주)프레스토솔루션 개발팀 제어담당자 채용[경력/~과장급]\n",
      "2024-09-11 00:00:00\n",
      "기타 산업용 기계 및 장비 도매업\n",
      "2010년 8월 11일\n",
      "2010-08-11 00:00:00\n",
      "www.prestosolution.co.kr/\n",
      "48995840\n"
     ]
    },
    {
     "name": "stderr",
     "output_type": "stream",
     "text": [
      "/home/cook/venv/eda_venv/lib/python3.10/site-packages/urllib3/connectionpool.py:1099: InsecureRequestWarning: Unverified HTTPS request is being made to host 'www.saramin.co.kr'. Adding certificate verification is strongly advised. See: https://urllib3.readthedocs.io/en/latest/advanced-usage.html#tls-warnings\n",
      "  warnings.warn(\n"
     ]
    },
    {
     "name": "stdout",
     "output_type": "stream",
     "text": [
      "VUZKV0xoWG5NdUJNOWlUOHJzWEFIUT09 (주)티와이엠아이씨티 (주)TYMICT 농기계자율주행 분야 개발자모집\n",
      "2024-09-11 10:00:00\n",
      "응용 소프트웨어 개발 및 공급업\n",
      "2020년 7월 8일\n",
      "2020-07-08 00:00:00\n",
      "www.agdict.com\n",
      "48995808\n"
     ]
    },
    {
     "name": "stderr",
     "output_type": "stream",
     "text": [
      "/home/cook/venv/eda_venv/lib/python3.10/site-packages/urllib3/connectionpool.py:1099: InsecureRequestWarning: Unverified HTTPS request is being made to host 'www.saramin.co.kr'. Adding certificate verification is strongly advised. See: https://urllib3.readthedocs.io/en/latest/advanced-usage.html#tls-warnings\n",
      "  warnings.warn(\n"
     ]
    },
    {
     "name": "stdout",
     "output_type": "stream",
     "text": [
      "SkVFQm5JbUVrSDc3QWRHVDJaVERPdz09 (주)마음에이아이 (주)마음에이아이 Technical PM 채용\n",
      "2024-09-11 10:00:00\n",
      "응용 소프트웨어 개발 및 공급업\n",
      "2014년 1월 8일\n",
      "2014-01-08 00:00:00\n",
      "https://maum.ai/\n"
     ]
    },
    {
     "name": "stderr",
     "output_type": "stream",
     "text": [
      "/home/cook/venv/eda_venv/lib/python3.10/site-packages/urllib3/connectionpool.py:1099: InsecureRequestWarning: Unverified HTTPS request is being made to host 'www.saramin.co.kr'. Adding certificate verification is strongly advised. See: https://urllib3.readthedocs.io/en/latest/advanced-usage.html#tls-warnings\n",
      "  warnings.warn(\n"
     ]
    },
    {
     "name": "stdout",
     "output_type": "stream",
     "text": [
      "48995673\n"
     ]
    },
    {
     "name": "stderr",
     "output_type": "stream",
     "text": [
      "/home/cook/venv/eda_venv/lib/python3.10/site-packages/urllib3/connectionpool.py:1099: InsecureRequestWarning: Unverified HTTPS request is being made to host 'www.saramin.co.kr'. Adding certificate verification is strongly advised. See: https://urllib3.readthedocs.io/en/latest/advanced-usage.html#tls-warnings\n",
      "  warnings.warn(\n"
     ]
    },
    {
     "name": "stdout",
     "output_type": "stream",
     "text": [
      "dHp5aHJFRE1UV0dqMkNhTUhNSFZSQT09 (주)넥스트케이 미디어 서버 개발자 모집(C++ 경력)\n",
      "2024-09-11 00:00:00\n",
      "시스템 소프트웨어 개발 및 공급업\n",
      "2019년 5월 9일\n",
      "2019-05-09 00:00:00\n",
      "www.nextk.co.kr\n",
      "48995669\n"
     ]
    },
    {
     "name": "stderr",
     "output_type": "stream",
     "text": [
      "/home/cook/venv/eda_venv/lib/python3.10/site-packages/urllib3/connectionpool.py:1099: InsecureRequestWarning: Unverified HTTPS request is being made to host 'www.saramin.co.kr'. Adding certificate verification is strongly advised. See: https://urllib3.readthedocs.io/en/latest/advanced-usage.html#tls-warnings\n",
      "  warnings.warn(\n"
     ]
    },
    {
     "name": "stdout",
     "output_type": "stream",
     "text": [
      "dHp5aHJFRE1UV0dqMkNhTUhNSFZSQT09 (주)넥스트케이 AI 딥러닝 기반 영상분석 개발자 모집(경력)\n",
      "2024-09-11 00:00:00\n",
      "시스템 소프트웨어 개발 및 공급업\n",
      "2019년 5월 9일\n",
      "2019-05-09 00:00:00\n",
      "www.nextk.co.kr\n",
      "48994161\n"
     ]
    },
    {
     "name": "stderr",
     "output_type": "stream",
     "text": [
      "/home/cook/venv/eda_venv/lib/python3.10/site-packages/urllib3/connectionpool.py:1099: InsecureRequestWarning: Unverified HTTPS request is being made to host 'www.saramin.co.kr'. Adding certificate verification is strongly advised. See: https://urllib3.readthedocs.io/en/latest/advanced-usage.html#tls-warnings\n",
      "  warnings.warn(\n"
     ]
    },
    {
     "name": "stdout",
     "output_type": "stream",
     "text": [
      "WTMzenBOQ3NVaW5GdnJWOXpMVmFyUT09 (주)엔젤로보틱스 2024 엔젤로보틱스 각 분야 채용 공고\n",
      "2024-09-11 00:00:00\n",
      "산업용 로봇 제조업\n",
      "2017년 2월 10일\n",
      "2017-02-10 00:00:00\n",
      "angel-robotics.com/kr/\n",
      "48993626\n"
     ]
    },
    {
     "name": "stderr",
     "output_type": "stream",
     "text": [
      "/home/cook/venv/eda_venv/lib/python3.10/site-packages/urllib3/connectionpool.py:1099: InsecureRequestWarning: Unverified HTTPS request is being made to host 'www.saramin.co.kr'. Adding certificate verification is strongly advised. See: https://urllib3.readthedocs.io/en/latest/advanced-usage.html#tls-warnings\n",
      "  warnings.warn(\n"
     ]
    },
    {
     "name": "stdout",
     "output_type": "stream",
     "text": [
      "TEk5dFRNRldyYVRnNjkzQ2VZME1vdz09 일취 [일본 2024년 하반기 채용공고]기계/2D·3D 설계 엔지니어\n",
      "2024-09-11 00:00:00\n",
      "시설관리·경비·용역\n",
      "2022년 7월 1일\n",
      "2022-07-01 00:00:00\n",
      "www.ilchwi.com\n",
      "48992927\n"
     ]
    },
    {
     "name": "stderr",
     "output_type": "stream",
     "text": [
      "/home/cook/venv/eda_venv/lib/python3.10/site-packages/urllib3/connectionpool.py:1099: InsecureRequestWarning: Unverified HTTPS request is being made to host 'www.saramin.co.kr'. Adding certificate verification is strongly advised. See: https://urllib3.readthedocs.io/en/latest/advanced-usage.html#tls-warnings\n",
      "  warnings.warn(\n"
     ]
    },
    {
     "name": "stdout",
     "output_type": "stream",
     "text": [
      "WDFQYjlNSjUveG16K2hxaEwwTHJOUT09 에이치투오시스템테크놀로지(주) e-Business 전략기획자 (사업 전략 및 제안서 작성) 모집\n",
      "2024-09-10 17:00:00\n",
      "응용 소프트웨어 개발 및 공급업\n",
      "2001년 2월 2일\n",
      "2001-02-02 00:00:00\n",
      "www.h2osystech.com\n",
      "48992632\n"
     ]
    },
    {
     "name": "stderr",
     "output_type": "stream",
     "text": [
      "/home/cook/venv/eda_venv/lib/python3.10/site-packages/urllib3/connectionpool.py:1099: InsecureRequestWarning: Unverified HTTPS request is being made to host 'www.saramin.co.kr'. Adding certificate verification is strongly advised. See: https://urllib3.readthedocs.io/en/latest/advanced-usage.html#tls-warnings\n",
      "  warnings.warn(\n"
     ]
    },
    {
     "name": "stdout",
     "output_type": "stream",
     "text": [
      "MytBVXVIS21Ha0ZucjUvZE54elZydz09 제노소프트(주) [C# WPF] 제노소프트(주) C# WPF 개발자 채용 공고 신입 및 경력\n",
      "2024-09-10 17:00:00\n",
      "응용 소프트웨어 개발 및 공급업\n",
      "2011년 3월 8일\n",
      "2011-03-08 00:00:00\n",
      "http://www.jenaus.com/\n",
      "48991936\n"
     ]
    },
    {
     "name": "stderr",
     "output_type": "stream",
     "text": [
      "/home/cook/venv/eda_venv/lib/python3.10/site-packages/urllib3/connectionpool.py:1099: InsecureRequestWarning: Unverified HTTPS request is being made to host 'www.saramin.co.kr'. Adding certificate verification is strongly advised. See: https://urllib3.readthedocs.io/en/latest/advanced-usage.html#tls-warnings\n",
      "  warnings.warn(\n"
     ]
    },
    {
     "name": "stdout",
     "output_type": "stream",
     "text": [
      "c0IrcnFRbFBzSCtHUHNteFBISWlWQT09 울랄라랩(주) [울랄라랩 김해] 국내외 IT 솔루션 기술영업 채용(경력3년~)\n",
      "2024-09-10 16:00:00\n",
      "2011년 8월 9일\n",
      "2011-08-09 00:00:00\n",
      "www.ulalalab.com\n",
      "48991530\n"
     ]
    },
    {
     "name": "stderr",
     "output_type": "stream",
     "text": [
      "/home/cook/venv/eda_venv/lib/python3.10/site-packages/urllib3/connectionpool.py:1099: InsecureRequestWarning: Unverified HTTPS request is being made to host 'www.saramin.co.kr'. Adding certificate verification is strongly advised. See: https://urllib3.readthedocs.io/en/latest/advanced-usage.html#tls-warnings\n",
      "  warnings.warn(\n"
     ]
    },
    {
     "name": "stdout",
     "output_type": "stream",
     "text": [
      "TVUrT2lHWkZvZGZWU1RmQ2N6K1RMQT09 현대오토에버(주) 로봇기반 서비스 기획 및 개발\n",
      "2024-09-10 00:00:00\n",
      "응용 소프트웨어 개발 및 공급업\n",
      "2000년 4월 10일\n",
      "2000-04-10 00:00:00\n",
      "https://recruit.hyundai-autoever.com/\n",
      "48991211\n"
     ]
    },
    {
     "name": "stderr",
     "output_type": "stream",
     "text": [
      "/home/cook/venv/eda_venv/lib/python3.10/site-packages/urllib3/connectionpool.py:1099: InsecureRequestWarning: Unverified HTTPS request is being made to host 'www.saramin.co.kr'. Adding certificate verification is strongly advised. See: https://urllib3.readthedocs.io/en/latest/advanced-usage.html#tls-warnings\n",
      "  warnings.warn(\n"
     ]
    },
    {
     "name": "stdout",
     "output_type": "stream",
     "text": [
      "VkhEem0wVTAwakltSW43aVFwZ1Rzdz09 (주)싸이맥스 기술연구소 로봇개발팀 SW개발 (신입or경력)\n",
      "2024-09-10 14:00:00\n",
      "반도체 제조용 기계 제조업\n",
      "2005년 12월 1일\n",
      "2005-12-01 00:00:00\n",
      "www.cymechs.com\n",
      "48990857\n"
     ]
    },
    {
     "name": "stderr",
     "output_type": "stream",
     "text": [
      "/home/cook/venv/eda_venv/lib/python3.10/site-packages/urllib3/connectionpool.py:1099: InsecureRequestWarning: Unverified HTTPS request is being made to host 'www.saramin.co.kr'. Adding certificate verification is strongly advised. See: https://urllib3.readthedocs.io/en/latest/advanced-usage.html#tls-warnings\n",
      "  warnings.warn(\n"
     ]
    },
    {
     "name": "stdout",
     "output_type": "stream",
     "text": [
      "b3MrcEhoaHBTMHQ0N1VKSE9MaU1zQT09 (주)인피닉 [수원/평택] SW 테스트 엔지니어 (QA) 경력 채용\n",
      "2024-09-10 15:00:00\n",
      "응용 소프트웨어 개발 및 공급업\n",
      "2005년 3월 7일\n",
      "2005-03-07 00:00:00\n",
      "www.infiniq.co.kr\n",
      "48990767\n"
     ]
    },
    {
     "name": "stderr",
     "output_type": "stream",
     "text": [
      "/home/cook/venv/eda_venv/lib/python3.10/site-packages/urllib3/connectionpool.py:1099: InsecureRequestWarning: Unverified HTTPS request is being made to host 'www.saramin.co.kr'. Adding certificate verification is strongly advised. See: https://urllib3.readthedocs.io/en/latest/advanced-usage.html#tls-warnings\n",
      "  warnings.warn(\n"
     ]
    },
    {
     "name": "stdout",
     "output_type": "stream",
     "text": [
      "ME4zdk5IMlQxdlJZOHMwVmhReUNtdz09 (주)알티올 물류자동화 제어시스템 연구개발 팀장 채용\n",
      "2024-09-10 14:00:00\n",
      "응용 소프트웨어 개발 및 공급업\n",
      "2017년 1월 18일\n",
      "2017-01-18 00:00:00\n",
      "www.altiall.com\n",
      "48990559\n"
     ]
    },
    {
     "name": "stderr",
     "output_type": "stream",
     "text": [
      "/home/cook/venv/eda_venv/lib/python3.10/site-packages/urllib3/connectionpool.py:1099: InsecureRequestWarning: Unverified HTTPS request is being made to host 'www.saramin.co.kr'. Adding certificate verification is strongly advised. See: https://urllib3.readthedocs.io/en/latest/advanced-usage.html#tls-warnings\n",
      "  warnings.warn(\n"
     ]
    },
    {
     "name": "stdout",
     "output_type": "stream",
     "text": [
      "VkhEem0wVTAwakltSW43aVFwZ1Rzdz09 (주)싸이맥스 기술연구소 로봇개발팀 기구설계파트 (신입or경력)\n",
      "2024-09-10 14:00:00\n",
      "반도체 제조용 기계 제조업\n",
      "2005년 12월 1일\n",
      "2005-12-01 00:00:00\n",
      "www.cymechs.com\n",
      "48990558\n"
     ]
    },
    {
     "name": "stderr",
     "output_type": "stream",
     "text": [
      "/home/cook/venv/eda_venv/lib/python3.10/site-packages/urllib3/connectionpool.py:1099: InsecureRequestWarning: Unverified HTTPS request is being made to host 'www.saramin.co.kr'. Adding certificate verification is strongly advised. See: https://urllib3.readthedocs.io/en/latest/advanced-usage.html#tls-warnings\n",
      "  warnings.warn(\n"
     ]
    },
    {
     "name": "stdout",
     "output_type": "stream",
     "text": [
      "ZVBiSU0wT2tMNldzVDFrS2lIOWdJUT09 (주)크레셈 비젼개발팀 알고리즘 파트 경력 채용\n",
      "2024-09-11 00:00:00\n",
      "반도체 제조용 기계 제조업\n",
      "2014년 6월 2일\n",
      "2014-06-02 00:00:00\n",
      "www.cressem.com\n",
      "48990556\n"
     ]
    },
    {
     "name": "stderr",
     "output_type": "stream",
     "text": [
      "/home/cook/venv/eda_venv/lib/python3.10/site-packages/urllib3/connectionpool.py:1099: InsecureRequestWarning: Unverified HTTPS request is being made to host 'www.saramin.co.kr'. Adding certificate verification is strongly advised. See: https://urllib3.readthedocs.io/en/latest/advanced-usage.html#tls-warnings\n",
      "  warnings.warn(\n"
     ]
    },
    {
     "name": "stdout",
     "output_type": "stream",
     "text": [
      "ZVBiSU0wT2tMNldzVDFrS2lIOWdJUT09 (주)크레셈 비젼개발팀 Vision SW Part 경력 채용\n",
      "2024-09-11 00:00:00\n",
      "반도체 제조용 기계 제조업\n",
      "2014년 6월 2일\n",
      "2014-06-02 00:00:00\n",
      "www.cressem.com\n",
      "48990186\n"
     ]
    },
    {
     "name": "stderr",
     "output_type": "stream",
     "text": [
      "/home/cook/venv/eda_venv/lib/python3.10/site-packages/urllib3/connectionpool.py:1099: InsecureRequestWarning: Unverified HTTPS request is being made to host 'www.saramin.co.kr'. Adding certificate verification is strongly advised. See: https://urllib3.readthedocs.io/en/latest/advanced-usage.html#tls-warnings\n",
      "  warnings.warn(\n"
     ]
    },
    {
     "name": "stdout",
     "output_type": "stream",
     "text": [
      "YzJwOExnM1llNjhpeXhpQ3ZQSjNoQT09 (주)아임시스템 ㈜아임시스템 의료기기 개발 및 의료기기 인허가 신입사원 모집\n",
      "2024-09-10 14:00:00\n",
      "자연과학 및 공학 융합 연구개발업\n",
      "2019년 7월 25일\n",
      "2019-07-25 00:00:00\n",
      "48989990\n"
     ]
    },
    {
     "name": "stderr",
     "output_type": "stream",
     "text": [
      "/home/cook/venv/eda_venv/lib/python3.10/site-packages/urllib3/connectionpool.py:1099: InsecureRequestWarning: Unverified HTTPS request is being made to host 'www.saramin.co.kr'. Adding certificate verification is strongly advised. See: https://urllib3.readthedocs.io/en/latest/advanced-usage.html#tls-warnings\n",
      "  warnings.warn(\n"
     ]
    },
    {
     "name": "stdout",
     "output_type": "stream",
     "text": [
      "TWptNC9GVGdQeVNjRHBvWktvbzNzZz09 (주)원익로보틱스 전 부문 채용\n",
      "2024-09-10 00:00:00\n",
      "응용 소프트웨어 개발 및 공급업\n",
      "2004년 4월 13일\n",
      "2004-04-13 00:00:00\n",
      "www.wonikrobotics.com\n",
      "48988784\n"
     ]
    },
    {
     "name": "stderr",
     "output_type": "stream",
     "text": [
      "/home/cook/venv/eda_venv/lib/python3.10/site-packages/urllib3/connectionpool.py:1099: InsecureRequestWarning: Unverified HTTPS request is being made to host 'www.saramin.co.kr'. Adding certificate verification is strongly advised. See: https://urllib3.readthedocs.io/en/latest/advanced-usage.html#tls-warnings\n",
      "  warnings.warn(\n"
     ]
    },
    {
     "name": "stdout",
     "output_type": "stream",
     "text": [
      "eTl6anFRNDg1TzNmaWdmcnJoZURKZz09 (주)씽크소프트 주4.5일제 자동화 설비 PLC제어 개발자 엔지니어 영입\n",
      "2024-09-10 11:00:00\n",
      "시스템 소프트웨어 개발 및 공급업\n",
      "2017년 5월 22일\n",
      "2017-05-22 00:00:00\n",
      "www.think-soft.co.kr\n",
      "48988600\n"
     ]
    },
    {
     "name": "stderr",
     "output_type": "stream",
     "text": [
      "/home/cook/venv/eda_venv/lib/python3.10/site-packages/urllib3/connectionpool.py:1099: InsecureRequestWarning: Unverified HTTPS request is being made to host 'www.saramin.co.kr'. Adding certificate verification is strongly advised. See: https://urllib3.readthedocs.io/en/latest/advanced-usage.html#tls-warnings\n",
      "  warnings.warn(\n"
     ]
    },
    {
     "name": "stdout",
     "output_type": "stream",
     "text": [
      "TnZiMmFXTFplYU5jalF4QkMxcUtsUT09 건솔루션(주) 인사담당 경력 모집 채용공고\n",
      "2024-09-10 11:00:00\n",
      "응용 소프트웨어 개발 및 공급업\n",
      "2011년 12월 20일\n",
      "2011-12-20 00:00:00\n",
      "http://www.gunsol.com\n",
      "48987806\n"
     ]
    },
    {
     "name": "stderr",
     "output_type": "stream",
     "text": [
      "/home/cook/venv/eda_venv/lib/python3.10/site-packages/urllib3/connectionpool.py:1099: InsecureRequestWarning: Unverified HTTPS request is being made to host 'www.saramin.co.kr'. Adding certificate verification is strongly advised. See: https://urllib3.readthedocs.io/en/latest/advanced-usage.html#tls-warnings\n",
      "  warnings.warn(\n"
     ]
    },
    {
     "name": "stdout",
     "output_type": "stream",
     "text": [
      "OWloenN6M0d5bU05aXVRUDh0NTYrQT09 (주)라이브워크 2024 응용소프트웨어 개발 신입,경력 채용\n",
      "2024-09-10 10:00:00\n",
      "전기ㆍ전자공학 연구개발업\n",
      "2020년 7월 20일\n",
      "2020-07-20 00:00:00\n",
      "48987457\n"
     ]
    },
    {
     "name": "stderr",
     "output_type": "stream",
     "text": [
      "/home/cook/venv/eda_venv/lib/python3.10/site-packages/urllib3/connectionpool.py:1099: InsecureRequestWarning: Unverified HTTPS request is being made to host 'www.saramin.co.kr'. Adding certificate verification is strongly advised. See: https://urllib3.readthedocs.io/en/latest/advanced-usage.html#tls-warnings\n",
      "  warnings.warn(\n"
     ]
    },
    {
     "name": "stdout",
     "output_type": "stream",
     "text": [
      "T3BmQjBJVmhBUkRYZjBXdmZ4SHRKUT09 (주)창공에프에이 PLC / PC 자동제어 분야별 엔지니어 신입/경력 모집\n",
      "2024-09-10 10:00:00\n",
      "산업용 로봇 제조업\n",
      "2010년 3월 5일\n",
      "2010-03-05 00:00:00\n",
      "www.bigsky.co.kr\n",
      "48987250\n"
     ]
    },
    {
     "name": "stderr",
     "output_type": "stream",
     "text": [
      "/home/cook/venv/eda_venv/lib/python3.10/site-packages/urllib3/connectionpool.py:1099: InsecureRequestWarning: Unverified HTTPS request is being made to host 'www.saramin.co.kr'. Adding certificate verification is strongly advised. See: https://urllib3.readthedocs.io/en/latest/advanced-usage.html#tls-warnings\n",
      "  warnings.warn(\n"
     ]
    },
    {
     "name": "stdout",
     "output_type": "stream",
     "text": [
      "WXo0RjhGV3ZCOXY2a2t4dFVFc0doZz09 (주)언맨드솔루션 [세종] 로봇 운영 및 관리 파트 타임 모집\n",
      "2024-09-10 10:00:00\n",
      "응용 소프트웨어 개발 및 공급업\n",
      "2008년 2월 29일\n",
      "2008-02-29 00:00:00\n",
      "www.unmansol.com\n",
      "48987191\n"
     ]
    },
    {
     "name": "stderr",
     "output_type": "stream",
     "text": [
      "/home/cook/venv/eda_venv/lib/python3.10/site-packages/urllib3/connectionpool.py:1099: InsecureRequestWarning: Unverified HTTPS request is being made to host 'www.saramin.co.kr'. Adding certificate verification is strongly advised. See: https://urllib3.readthedocs.io/en/latest/advanced-usage.html#tls-warnings\n",
      "  warnings.warn(\n"
     ]
    },
    {
     "name": "stdout",
     "output_type": "stream",
     "text": [
      "MlU1eXBjN1I3ZWVxaGgwT2gyOVUxdz09 (주)클레 3차원 머신비전 솔루션 UX/UI 디자이너\n",
      "2024-09-10 00:00:00\n",
      "응용 소프트웨어 개발 및 공급업\n",
      "2021년 11월 12일\n",
      "2021-11-12 00:00:00\n",
      "cle.vision\n",
      "48987179\n"
     ]
    },
    {
     "name": "stderr",
     "output_type": "stream",
     "text": [
      "/home/cook/venv/eda_venv/lib/python3.10/site-packages/urllib3/connectionpool.py:1099: InsecureRequestWarning: Unverified HTTPS request is being made to host 'www.saramin.co.kr'. Adding certificate verification is strongly advised. See: https://urllib3.readthedocs.io/en/latest/advanced-usage.html#tls-warnings\n",
      "  warnings.warn(\n"
     ]
    },
    {
     "name": "stdout",
     "output_type": "stream",
     "text": [
      "d1VIZ3JWYXdzSERNVnh0NnQxU0cvZz09 (주)코트라스 하드웨어, 펌웨어 개발 경력자 채용\n",
      "2024-09-10 10:00:00\n",
      "그 외 기타 의료용 기기 제조업\n",
      "1999년 12월 13일\n",
      "1999-12-13 00:00:00\n",
      "www.cotras.co.kr\n",
      "48987172\n"
     ]
    },
    {
     "name": "stderr",
     "output_type": "stream",
     "text": [
      "/home/cook/venv/eda_venv/lib/python3.10/site-packages/urllib3/connectionpool.py:1099: InsecureRequestWarning: Unverified HTTPS request is being made to host 'www.saramin.co.kr'. Adding certificate verification is strongly advised. See: https://urllib3.readthedocs.io/en/latest/advanced-usage.html#tls-warnings\n",
      "  warnings.warn(\n"
     ]
    },
    {
     "name": "stdout",
     "output_type": "stream",
     "text": [
      "M2pTZmxZT04weVh2aFlqV3NtckNlZz09 로봇앤컴(주) [로봇앤컴주식회사] 재무회계본부 투자회계 매니저 (추가채용)\n",
      "2024-09-10 10:00:00\n",
      "robotncom.com\n",
      "48986440\n"
     ]
    },
    {
     "name": "stderr",
     "output_type": "stream",
     "text": [
      "/home/cook/venv/eda_venv/lib/python3.10/site-packages/urllib3/connectionpool.py:1099: InsecureRequestWarning: Unverified HTTPS request is being made to host 'www.saramin.co.kr'. Adding certificate verification is strongly advised. See: https://urllib3.readthedocs.io/en/latest/advanced-usage.html#tls-warnings\n",
      "  warnings.warn(\n"
     ]
    },
    {
     "name": "stdout",
     "output_type": "stream",
     "text": [
      "U1RmUDhEQ2tTb0dGZXNOSnB5clp4dz09 (주)로보티즈 [로봇 매니퓰레이터(다관절로봇)] 설계/제어/SW 개발자 모집\n",
      "2024-09-10 09:00:00\n",
      "그 외 기타 특수목적용 기계 제조업\n",
      "1999년 3월 25일\n",
      "1999-03-25 00:00:00\n",
      "www.robotis.com\n",
      "48986185\n"
     ]
    },
    {
     "name": "stderr",
     "output_type": "stream",
     "text": [
      "/home/cook/venv/eda_venv/lib/python3.10/site-packages/urllib3/connectionpool.py:1099: InsecureRequestWarning: Unverified HTTPS request is being made to host 'www.saramin.co.kr'. Adding certificate verification is strongly advised. See: https://urllib3.readthedocs.io/en/latest/advanced-usage.html#tls-warnings\n",
      "  warnings.warn(\n"
     ]
    },
    {
     "name": "stdout",
     "output_type": "stream",
     "text": [
      "bStwWllsMU0ycmtNNnoxaXFLRUJWdz09 (주)에스티에스로보테크 [ 협동로봇 자동화 시스템 설계, 개발] - 신입/경력/팀장 채용\n",
      "2024-09-10 08:00:00\n",
      "48985343\n"
     ]
    },
    {
     "name": "stderr",
     "output_type": "stream",
     "text": [
      "/home/cook/venv/eda_venv/lib/python3.10/site-packages/urllib3/connectionpool.py:1099: InsecureRequestWarning: Unverified HTTPS request is being made to host 'www.saramin.co.kr'. Adding certificate verification is strongly advised. See: https://urllib3.readthedocs.io/en/latest/advanced-usage.html#tls-warnings\n",
      "  warnings.warn(\n"
     ]
    },
    {
     "name": "stdout",
     "output_type": "stream",
     "text": [
      "U2xaQ1lwSW1sRWt1bXkwZWJ5bVVkZz09 (주)제이이노텍 기계설계팀 경력&신입 채용\n",
      "2024-09-10 00:00:00\n",
      "응용 소프트웨어 개발 및 공급업\n",
      "2014년 11월 3일\n",
      "2014-11-03 00:00:00\n",
      "www.j-innotech.com\n",
      "48984809\n"
     ]
    },
    {
     "name": "stderr",
     "output_type": "stream",
     "text": [
      "/home/cook/venv/eda_venv/lib/python3.10/site-packages/urllib3/connectionpool.py:1099: InsecureRequestWarning: Unverified HTTPS request is being made to host 'www.saramin.co.kr'. Adding certificate verification is strongly advised. See: https://urllib3.readthedocs.io/en/latest/advanced-usage.html#tls-warnings\n",
      "  warnings.warn(\n"
     ]
    },
    {
     "name": "stdout",
     "output_type": "stream",
     "text": [
      "QlJLZFE3OGY2dEhBaVFmV085NktoUT09 (주)글로비트 [전남] 설비 유지보수\n",
      "2024-09-09 18:00:00\n",
      "기타 반도체소자 제조업\n",
      "2011년 12월 28일\n",
      "2011-12-28 00:00:00\n",
      "http://globit.co.kr\n",
      "48982826\n"
     ]
    },
    {
     "name": "stderr",
     "output_type": "stream",
     "text": [
      "/home/cook/venv/eda_venv/lib/python3.10/site-packages/urllib3/connectionpool.py:1099: InsecureRequestWarning: Unverified HTTPS request is being made to host 'www.saramin.co.kr'. Adding certificate verification is strongly advised. See: https://urllib3.readthedocs.io/en/latest/advanced-usage.html#tls-warnings\n",
      "  warnings.warn(\n"
     ]
    },
    {
     "name": "stdout",
     "output_type": "stream",
     "text": [
      "bC9RTGlFTS9oUldOR0RKVUdKcjdSZz09 씨드로닉스(주) 기구설계 경력직 채용 (3년 이상)\n",
      "2024-09-09 16:00:00\n",
      "무인 항공기 및 무인 비행장치 제조업\n",
      "2015년 12월 1일\n",
      "2015-12-01 00:00:00\n",
      "www.seadronix.com\n",
      "48982370\n"
     ]
    },
    {
     "name": "stderr",
     "output_type": "stream",
     "text": [
      "/home/cook/venv/eda_venv/lib/python3.10/site-packages/urllib3/connectionpool.py:1099: InsecureRequestWarning: Unverified HTTPS request is being made to host 'www.saramin.co.kr'. Adding certificate verification is strongly advised. See: https://urllib3.readthedocs.io/en/latest/advanced-usage.html#tls-warnings\n",
      "  warnings.warn(\n"
     ]
    },
    {
     "name": "stdout",
     "output_type": "stream",
     "text": [
      "UVR6bW5nTENwczhQTUNXQklYeExaQT09 피씨엔오티(주) PLC제어/CS • 전장 제작 • 전장 설계 • S/W 개발자 채용\n",
      "2024-09-09 00:00:00\n",
      "반도체 제조용 기계 제조업\n",
      "2012년 1월 4일\n",
      "2012-01-04 00:00:00\n",
      "www.pcnot.net\n",
      "48982196\n"
     ]
    },
    {
     "name": "stderr",
     "output_type": "stream",
     "text": [
      "/home/cook/venv/eda_venv/lib/python3.10/site-packages/urllib3/connectionpool.py:1099: InsecureRequestWarning: Unverified HTTPS request is being made to host 'www.saramin.co.kr'. Adding certificate verification is strongly advised. See: https://urllib3.readthedocs.io/en/latest/advanced-usage.html#tls-warnings\n",
      "  warnings.warn(\n"
     ]
    },
    {
     "name": "stdout",
     "output_type": "stream",
     "text": [
      "QlJLZFE3OGY2dEhBaVFmV085NktoUT09 (주)글로비트 [(주)글로비트] 사업본부&제안본부 채용 공고\n",
      "2024-09-09 15:00:00\n",
      "기타 반도체소자 제조업\n",
      "2011년 12월 28일\n",
      "2011-12-28 00:00:00\n",
      "http://globit.co.kr\n",
      "48981996\n"
     ]
    },
    {
     "name": "stderr",
     "output_type": "stream",
     "text": [
      "/home/cook/venv/eda_venv/lib/python3.10/site-packages/urllib3/connectionpool.py:1099: InsecureRequestWarning: Unverified HTTPS request is being made to host 'www.saramin.co.kr'. Adding certificate verification is strongly advised. See: https://urllib3.readthedocs.io/en/latest/advanced-usage.html#tls-warnings\n",
      "  warnings.warn(\n"
     ]
    },
    {
     "name": "stdout",
     "output_type": "stream",
     "text": [
      "M1U1N2VCWmVwMGUrL0c1NkJXck9NUT09 앤스코(주) 신입 및 경력사원 채용\n",
      "2024-09-09 00:00:00\n",
      "기타 기술 시험, 검사 및 분석업\n",
      "2008년 1월 7일\n",
      "2008-01-07 00:00:00\n",
      "www.ansco.kr\n",
      "48981732\n"
     ]
    },
    {
     "name": "stderr",
     "output_type": "stream",
     "text": [
      "/home/cook/venv/eda_venv/lib/python3.10/site-packages/urllib3/connectionpool.py:1099: InsecureRequestWarning: Unverified HTTPS request is being made to host 'www.saramin.co.kr'. Adding certificate verification is strongly advised. See: https://urllib3.readthedocs.io/en/latest/advanced-usage.html#tls-warnings\n",
      "  warnings.warn(\n"
     ]
    },
    {
     "name": "stdout",
     "output_type": "stream",
     "text": [
      "QlJLZFE3OGY2dEhBaVFmV085NktoUT09 (주)글로비트 [글로비트 - 제주본점] 재무회계 경영관리업무 구인공고\n",
      "2024-09-09 14:00:00\n",
      "기타 반도체소자 제조업\n",
      "2011년 12월 28일\n",
      "2011-12-28 00:00:00\n",
      "http://globit.co.kr\n",
      "48981717\n"
     ]
    },
    {
     "name": "stderr",
     "output_type": "stream",
     "text": [
      "/home/cook/venv/eda_venv/lib/python3.10/site-packages/urllib3/connectionpool.py:1099: InsecureRequestWarning: Unverified HTTPS request is being made to host 'www.saramin.co.kr'. Adding certificate verification is strongly advised. See: https://urllib3.readthedocs.io/en/latest/advanced-usage.html#tls-warnings\n",
      "  warnings.warn(\n"
     ]
    },
    {
     "name": "stdout",
     "output_type": "stream",
     "text": [
      "V2lHV2h4R3p2c2dxMEwvVmM0RlhmQT09 애니모션텍(주) 시스템 기술영업 경력 채용\n",
      "2024-09-09 00:00:00\n",
      "반도체 제조용 기계 제조업\n",
      "2007년 8월 7일\n",
      "2007-08-07 00:00:00\n",
      "www.animotion.co.kr\n",
      "48981713\n"
     ]
    },
    {
     "name": "stderr",
     "output_type": "stream",
     "text": [
      "/home/cook/venv/eda_venv/lib/python3.10/site-packages/urllib3/connectionpool.py:1099: InsecureRequestWarning: Unverified HTTPS request is being made to host 'www.saramin.co.kr'. Adding certificate verification is strongly advised. See: https://urllib3.readthedocs.io/en/latest/advanced-usage.html#tls-warnings\n",
      "  warnings.warn(\n"
     ]
    },
    {
     "name": "stdout",
     "output_type": "stream",
     "text": [
      "bnliRXdkaWdkcW1EWkxyK2lVanA0UT09 아비만로보틱스코리아 주식회사 [아비만로보틱스코리아] 협동로봇 운영/응용 소프트웨어 개발\n",
      "2024-09-09 14:00:00\n",
      "기계·설비·자동차\n",
      "2024년 5월 20일\n",
      "2024-05-20 00:00:00\n",
      "www.abimanrobotics.com\n",
      "48981652\n"
     ]
    },
    {
     "name": "stderr",
     "output_type": "stream",
     "text": [
      "/home/cook/venv/eda_venv/lib/python3.10/site-packages/urllib3/connectionpool.py:1099: InsecureRequestWarning: Unverified HTTPS request is being made to host 'www.saramin.co.kr'. Adding certificate verification is strongly advised. See: https://urllib3.readthedocs.io/en/latest/advanced-usage.html#tls-warnings\n",
      "  warnings.warn(\n"
     ]
    },
    {
     "name": "stdout",
     "output_type": "stream",
     "text": [
      "Y3VRdjFtRHlXZjJuQlRhOWM5dlNCZz09 (주)시즐 [시즐] 개발본부 UI/UX디자이너(프론트엔드) 경력자 정규직 채용\n",
      "2024-09-09 14:00:00\n",
      "컴퓨터 프로그래밍 서비스업\n",
      "2016년 8월 4일\n",
      "2016-08-04 00:00:00\n",
      "https://sizl.co.kr/\n",
      "48981437\n"
     ]
    },
    {
     "name": "stderr",
     "output_type": "stream",
     "text": [
      "/home/cook/venv/eda_venv/lib/python3.10/site-packages/urllib3/connectionpool.py:1099: InsecureRequestWarning: Unverified HTTPS request is being made to host 'www.saramin.co.kr'. Adding certificate verification is strongly advised. See: https://urllib3.readthedocs.io/en/latest/advanced-usage.html#tls-warnings\n",
      "  warnings.warn(\n"
     ]
    },
    {
     "name": "stdout",
     "output_type": "stream",
     "text": [
      "Y2NOcklpOHZ2NHJjZDVGNW01eFpoZz09 (주)써로마인드 (주)써로마인드 개발자(머신러닝 엔지니어) 모집공고\n",
      "2024-09-09 14:00:00\n",
      "컴퓨터시스템 통합 자문 및 구축 서비스업\n",
      "2015년 7월 1일\n",
      "2015-07-01 00:00:00\n",
      "https://surromind.ai\n",
      "48981317\n"
     ]
    },
    {
     "name": "stderr",
     "output_type": "stream",
     "text": [
      "/home/cook/venv/eda_venv/lib/python3.10/site-packages/urllib3/connectionpool.py:1099: InsecureRequestWarning: Unverified HTTPS request is being made to host 'www.saramin.co.kr'. Adding certificate verification is strongly advised. See: https://urllib3.readthedocs.io/en/latest/advanced-usage.html#tls-warnings\n",
      "  warnings.warn(\n"
     ]
    },
    {
     "name": "stdout",
     "output_type": "stream",
     "text": [
      "b3MrcEhoaHBTMHQ0N1VKSE9MaU1zQT09 (주)인피닉 [수원] SW 테스트 엔지니어(QA) 신입 채용\n",
      "2024-09-09 14:00:00\n",
      "응용 소프트웨어 개발 및 공급업\n",
      "2005년 3월 7일\n",
      "2005-03-07 00:00:00\n",
      "www.infiniq.co.kr\n",
      "48981177\n"
     ]
    },
    {
     "name": "stderr",
     "output_type": "stream",
     "text": [
      "/home/cook/venv/eda_venv/lib/python3.10/site-packages/urllib3/connectionpool.py:1099: InsecureRequestWarning: Unverified HTTPS request is being made to host 'www.saramin.co.kr'. Adding certificate verification is strongly advised. See: https://urllib3.readthedocs.io/en/latest/advanced-usage.html#tls-warnings\n",
      "  warnings.warn(\n"
     ]
    },
    {
     "name": "stdout",
     "output_type": "stream",
     "text": [
      "ays0dlhWcWl1YjNwUGx4WjVRaFdodz09 (주)테솔로 로봇/로보틱스 S/W 엔지니어 모집(신입/경력/전문연구요원 가능)\n",
      "2024-09-09 14:00:00\n",
      "2019년 1월 17일\n",
      "2019-01-17 00:00:00\n",
      "www.TESOLLO.com\n",
      "48981171\n"
     ]
    },
    {
     "name": "stderr",
     "output_type": "stream",
     "text": [
      "/home/cook/venv/eda_venv/lib/python3.10/site-packages/urllib3/connectionpool.py:1099: InsecureRequestWarning: Unverified HTTPS request is being made to host 'www.saramin.co.kr'. Adding certificate verification is strongly advised. See: https://urllib3.readthedocs.io/en/latest/advanced-usage.html#tls-warnings\n",
      "  warnings.warn(\n"
     ]
    },
    {
     "name": "stdout",
     "output_type": "stream",
     "text": [
      "ays0dlhWcWl1YjNwUGx4WjVRaFdodz09 (주)테솔로 로봇/로보틱스 임베디드 엔지니어 모집(신입/경력/전문연구요원)\n",
      "2024-09-09 14:00:00\n",
      "2019년 1월 17일\n",
      "2019-01-17 00:00:00\n",
      "www.TESOLLO.com\n"
     ]
    },
    {
     "name": "stderr",
     "output_type": "stream",
     "text": [
      "/home/cook/venv/eda_venv/lib/python3.10/site-packages/urllib3/connectionpool.py:1099: InsecureRequestWarning: Unverified HTTPS request is being made to host 'www.saramin.co.kr'. Adding certificate verification is strongly advised. See: https://urllib3.readthedocs.io/en/latest/advanced-usage.html#tls-warnings\n",
      "  warnings.warn(\n"
     ]
    },
    {
     "name": "stdout",
     "output_type": "stream",
     "text": [
      "48980130\n"
     ]
    },
    {
     "name": "stderr",
     "output_type": "stream",
     "text": [
      "/home/cook/venv/eda_venv/lib/python3.10/site-packages/urllib3/connectionpool.py:1099: InsecureRequestWarning: Unverified HTTPS request is being made to host 'www.saramin.co.kr'. Adding certificate verification is strongly advised. See: https://urllib3.readthedocs.io/en/latest/advanced-usage.html#tls-warnings\n",
      "  warnings.warn(\n"
     ]
    },
    {
     "name": "stdout",
     "output_type": "stream",
     "text": [
      "V0EzeVJ3NFdWUlpQbUlIaFF5VVFQUT09 (주)아르고스다인 로봇 자율 이동 모듈 개발자\n",
      "2024-09-09 00:00:00\n",
      "무인 항공기 및 무인 비행장치 제조업\n",
      "2018년 2월 19일\n",
      "2018-02-19 00:00:00\n",
      "www.argosdyne.com\n",
      "48979346\n"
     ]
    },
    {
     "name": "stderr",
     "output_type": "stream",
     "text": [
      "/home/cook/venv/eda_venv/lib/python3.10/site-packages/urllib3/connectionpool.py:1099: InsecureRequestWarning: Unverified HTTPS request is being made to host 'www.saramin.co.kr'. Adding certificate verification is strongly advised. See: https://urllib3.readthedocs.io/en/latest/advanced-usage.html#tls-warnings\n",
      "  warnings.warn(\n"
     ]
    },
    {
     "name": "stdout",
     "output_type": "stream",
     "text": [
      "M2NSWGk3T1o0RWEvNjFsWUt4U2gxZz09 (주)브릴스 [브릴스(BRILS)] 연구개발부 인재채용\n",
      "2024-09-09 11:00:00\n",
      "기기용 자동측정 및 제어장치 제조업\n",
      "2015년 2월 6일\n",
      "2015-02-06 00:00:00\n",
      "https://www.brils.co.kr/\n",
      "48978988\n"
     ]
    },
    {
     "name": "stderr",
     "output_type": "stream",
     "text": [
      "/home/cook/venv/eda_venv/lib/python3.10/site-packages/urllib3/connectionpool.py:1099: InsecureRequestWarning: Unverified HTTPS request is being made to host 'www.saramin.co.kr'. Adding certificate verification is strongly advised. See: https://urllib3.readthedocs.io/en/latest/advanced-usage.html#tls-warnings\n",
      "  warnings.warn(\n"
     ]
    },
    {
     "name": "stdout",
     "output_type": "stream",
     "text": [
      "MGZyWDFSSXBIcm51d053Z1NON0dDZz09 (주)쉐코 [쉐코] 펌웨어 개발자 선임 / 책임급 이상 연구원 정규직 채용\n",
      "2024-09-09 11:00:00\n",
      "산업용 로봇 제조업\n",
      "2019년 6월 19일\n",
      "2019-06-19 00:00:00\n",
      "sheco.co\n",
      "48978930\n"
     ]
    },
    {
     "name": "stderr",
     "output_type": "stream",
     "text": [
      "/home/cook/venv/eda_venv/lib/python3.10/site-packages/urllib3/connectionpool.py:1099: InsecureRequestWarning: Unverified HTTPS request is being made to host 'www.saramin.co.kr'. Adding certificate verification is strongly advised. See: https://urllib3.readthedocs.io/en/latest/advanced-usage.html#tls-warnings\n",
      "  warnings.warn(\n"
     ]
    },
    {
     "name": "stdout",
     "output_type": "stream",
     "text": [
      "Vm5iT3pEWnhhS2lWV1VnR215aWNyUT09 (주)씨유박스 물류로봇시스템 제어 소프트웨어 개발\n",
      "2024-09-09 00:00:00\n",
      "응용 소프트웨어 개발 및 공급업\n",
      "2010년 5월 31일\n",
      "2010-05-31 00:00:00\n",
      "www.cubox.ai\n",
      "48978867\n"
     ]
    },
    {
     "name": "stderr",
     "output_type": "stream",
     "text": [
      "/home/cook/venv/eda_venv/lib/python3.10/site-packages/urllib3/connectionpool.py:1099: InsecureRequestWarning: Unverified HTTPS request is being made to host 'www.saramin.co.kr'. Adding certificate verification is strongly advised. See: https://urllib3.readthedocs.io/en/latest/advanced-usage.html#tls-warnings\n",
      "  warnings.warn(\n"
     ]
    },
    {
     "name": "stdout",
     "output_type": "stream",
     "text": [
      "cFlISDZaVGNsM2NWUnREV0RlNTlhQT09 (주)씨메스 AI Platform 개발자\n",
      "2024-09-09 00:00:00\n",
      "기타 광학기기 제조업\n",
      "2014년 8월 28일\n",
      "2014-08-28 00:00:00\n",
      "https://www.cmesrobotics.ai\n",
      "48978846\n"
     ]
    },
    {
     "name": "stderr",
     "output_type": "stream",
     "text": [
      "/home/cook/venv/eda_venv/lib/python3.10/site-packages/urllib3/connectionpool.py:1099: InsecureRequestWarning: Unverified HTTPS request is being made to host 'www.saramin.co.kr'. Adding certificate verification is strongly advised. See: https://urllib3.readthedocs.io/en/latest/advanced-usage.html#tls-warnings\n",
      "  warnings.warn(\n"
     ]
    },
    {
     "name": "stdout",
     "output_type": "stream",
     "text": [
      "aUZzSWg2dFh4R3dlWGdVbnJqT0tkQT09 (주)휴톰 [HUTOM] 의료기기 소프트웨어 / 해외 영업 담당자 모집\n",
      "2024-09-09 11:00:00\n",
      "48975700\n"
     ]
    },
    {
     "name": "stderr",
     "output_type": "stream",
     "text": [
      "/home/cook/venv/eda_venv/lib/python3.10/site-packages/urllib3/connectionpool.py:1099: InsecureRequestWarning: Unverified HTTPS request is being made to host 'www.saramin.co.kr'. Adding certificate verification is strongly advised. See: https://urllib3.readthedocs.io/en/latest/advanced-usage.html#tls-warnings\n",
      "  warnings.warn(\n"
     ]
    },
    {
     "name": "stdout",
     "output_type": "stream",
     "text": [
      "ZjlzdDNGQTdRVE1GSi9wY2FSVmJsZz09 (주)레인보우로보틱스 (주)레인보우로보틱스 연구소 연구개발직 채용\n",
      "2024-09-09 09:00:00\n",
      "산업용 로봇 제조업\n",
      "2011년 2월 10일\n",
      "2011-02-10 00:00:00\n",
      "www.rainbow-robotics.com\n",
      "48975599\n"
     ]
    },
    {
     "name": "stderr",
     "output_type": "stream",
     "text": [
      "/home/cook/venv/eda_venv/lib/python3.10/site-packages/urllib3/connectionpool.py:1099: InsecureRequestWarning: Unverified HTTPS request is being made to host 'www.saramin.co.kr'. Adding certificate verification is strongly advised. See: https://urllib3.readthedocs.io/en/latest/advanced-usage.html#tls-warnings\n",
      "  warnings.warn(\n"
     ]
    },
    {
     "name": "stdout",
     "output_type": "stream",
     "text": [
      "ZmZqSi9vcW8vWTNjbHZkZ21UbVdtQT09 이디코어 모델러(반도체, 디스플레이 공정, 통계분석) 및 개발자(C#,Java)\n",
      "2024-09-09 08:00:00\n",
      "응용 소프트웨어 개발 및 공급업\n",
      "2016년 7월 15일\n",
      "2016-07-15 00:00:00\n",
      "http://edcore.co.kr\n",
      "48975105\n"
     ]
    },
    {
     "name": "stderr",
     "output_type": "stream",
     "text": [
      "/home/cook/venv/eda_venv/lib/python3.10/site-packages/urllib3/connectionpool.py:1099: InsecureRequestWarning: Unverified HTTPS request is being made to host 'www.saramin.co.kr'. Adding certificate verification is strongly advised. See: https://urllib3.readthedocs.io/en/latest/advanced-usage.html#tls-warnings\n",
      "  warnings.warn(\n"
     ]
    },
    {
     "name": "stdout",
     "output_type": "stream",
     "text": [
      "MWFsSWh6djF6QUpOVVkyMTBmOTdOQT09 알에스오토메이션(주) 로봇&시스템 기술지원 엔지니어\n",
      "2024-09-09 08:00:00\n",
      "그 외 기타 전자부품 제조업\n",
      "2009년 12월 10일\n",
      "2009-12-10 00:00:00\n",
      "www.rsautomation.co.kr\n",
      "48975035\n"
     ]
    },
    {
     "name": "stderr",
     "output_type": "stream",
     "text": [
      "/home/cook/venv/eda_venv/lib/python3.10/site-packages/urllib3/connectionpool.py:1099: InsecureRequestWarning: Unverified HTTPS request is being made to host 'www.saramin.co.kr'. Adding certificate verification is strongly advised. See: https://urllib3.readthedocs.io/en/latest/advanced-usage.html#tls-warnings\n",
      "  warnings.warn(\n"
     ]
    },
    {
     "name": "stdout",
     "output_type": "stream",
     "text": [
      "S2NmYVhVY2oxalo3UmZQaTJJUDBiUT09 브이산업(주) 브이산업(주) 연구개발인력 채용공고\n",
      "2024-09-09 08:00:00\n",
      "토목시설물 건설업\n",
      "2002년 10월 10일\n",
      "2002-10-10 00:00:00\n",
      "www.veenc.kr\n",
      "48973835\n"
     ]
    },
    {
     "name": "stderr",
     "output_type": "stream",
     "text": [
      "/home/cook/venv/eda_venv/lib/python3.10/site-packages/urllib3/connectionpool.py:1099: InsecureRequestWarning: Unverified HTTPS request is being made to host 'www.saramin.co.kr'. Adding certificate verification is strongly advised. See: https://urllib3.readthedocs.io/en/latest/advanced-usage.html#tls-warnings\n",
      "  warnings.warn(\n"
     ]
    },
    {
     "name": "stdout",
     "output_type": "stream",
     "text": [
      "Qm9nMkNMb1h3eW8yTExORWliYlcrdz09 (주)한국로보틱스 (로봇스타트업) 로봇제어/기구설계/전장설계 신입 및 경력 채용\n",
      "2024-09-08 01:00:00\n",
      "산업용 로봇 제조업\n",
      "2020년 10월 14일\n",
      "2020-10-14 00:00:00\n",
      "48971485\n"
     ]
    },
    {
     "name": "stderr",
     "output_type": "stream",
     "text": [
      "/home/cook/venv/eda_venv/lib/python3.10/site-packages/urllib3/connectionpool.py:1099: InsecureRequestWarning: Unverified HTTPS request is being made to host 'www.saramin.co.kr'. Adding certificate verification is strongly advised. See: https://urllib3.readthedocs.io/en/latest/advanced-usage.html#tls-warnings\n",
      "  warnings.warn(\n"
     ]
    },
    {
     "name": "stdout",
     "output_type": "stream",
     "text": [
      "b3MrcEhoaHBTMHQ0N1VKSE9MaU1zQT09 (주)인피닉 [수원] SW 테스트 엔지니어 (QA) 신입 및 경력 채용\n",
      "2024-09-06 18:00:00\n",
      "응용 소프트웨어 개발 및 공급업\n",
      "2005년 3월 7일\n",
      "2005-03-07 00:00:00\n",
      "www.infiniq.co.kr\n",
      "48970872\n"
     ]
    },
    {
     "name": "stderr",
     "output_type": "stream",
     "text": [
      "/home/cook/venv/eda_venv/lib/python3.10/site-packages/urllib3/connectionpool.py:1099: InsecureRequestWarning: Unverified HTTPS request is being made to host 'www.saramin.co.kr'. Adding certificate verification is strongly advised. See: https://urllib3.readthedocs.io/en/latest/advanced-usage.html#tls-warnings\n",
      "  warnings.warn(\n"
     ]
    },
    {
     "name": "stdout",
     "output_type": "stream",
     "text": [
      "UUtQOU9uaDVjeWhaM2VNS0JHV1hYdz09 (주)알지티 기업부설연구소 전문연구요원(병역특례)\n",
      "2024-09-06 00:00:00\n",
      "48970749\n"
     ]
    },
    {
     "name": "stderr",
     "output_type": "stream",
     "text": [
      "/home/cook/venv/eda_venv/lib/python3.10/site-packages/urllib3/connectionpool.py:1099: InsecureRequestWarning: Unverified HTTPS request is being made to host 'www.saramin.co.kr'. Adding certificate verification is strongly advised. See: https://urllib3.readthedocs.io/en/latest/advanced-usage.html#tls-warnings\n",
      "  warnings.warn(\n"
     ]
    },
    {
     "name": "stdout",
     "output_type": "stream",
     "text": [
      "TWM1VGhuZklZZGtHNzJpVUtyb2oydz09 (주)리브스메드 [연구소 로봇] SW Engineer : Tech Lead (차장-부장급)\n",
      "2024-09-06 00:00:00\n",
      "2011년 6월 20일\n",
      "2011-06-20 00:00:00\n",
      "48970746\n"
     ]
    },
    {
     "name": "stderr",
     "output_type": "stream",
     "text": [
      "/home/cook/venv/eda_venv/lib/python3.10/site-packages/urllib3/connectionpool.py:1099: InsecureRequestWarning: Unverified HTTPS request is being made to host 'www.saramin.co.kr'. Adding certificate verification is strongly advised. See: https://urllib3.readthedocs.io/en/latest/advanced-usage.html#tls-warnings\n",
      "  warnings.warn(\n"
     ]
    },
    {
     "name": "stdout",
     "output_type": "stream",
     "text": [
      "TWM1VGhuZklZZGtHNzJpVUtyb2oydz09 (주)리브스메드 [연구소 로봇] SW Engineer (2) : Senior (과장~부장급)\n",
      "2024-09-06 00:00:00\n",
      "2011년 6월 20일\n",
      "2011-06-20 00:00:00\n",
      "48970742\n"
     ]
    },
    {
     "name": "stderr",
     "output_type": "stream",
     "text": [
      "/home/cook/venv/eda_venv/lib/python3.10/site-packages/urllib3/connectionpool.py:1099: InsecureRequestWarning: Unverified HTTPS request is being made to host 'www.saramin.co.kr'. Adding certificate verification is strongly advised. See: https://urllib3.readthedocs.io/en/latest/advanced-usage.html#tls-warnings\n",
      "  warnings.warn(\n"
     ]
    },
    {
     "name": "stdout",
     "output_type": "stream",
     "text": [
      "TWM1VGhuZklZZGtHNzJpVUtyb2oydz09 (주)리브스메드 [연구소 로봇] Robotics/SW Engineer : 제어 알고리즘 (1) (과장~부장급)\n",
      "2024-09-06 00:00:00\n",
      "2011년 6월 20일\n",
      "2011-06-20 00:00:00\n",
      "48969641\n"
     ]
    },
    {
     "name": "stderr",
     "output_type": "stream",
     "text": [
      "/home/cook/venv/eda_venv/lib/python3.10/site-packages/urllib3/connectionpool.py:1099: InsecureRequestWarning: Unverified HTTPS request is being made to host 'www.saramin.co.kr'. Adding certificate verification is strongly advised. See: https://urllib3.readthedocs.io/en/latest/advanced-usage.html#tls-warnings\n",
      "  warnings.warn(\n"
     ]
    },
    {
     "name": "stdout",
     "output_type": "stream",
     "text": [
      "V0tkS2l3cm11aGNQZEh6aVZsS2hNUT09 빅웨이브로보틱스(주) 로봇 자동화 B2B 기술영업\n",
      "2024-09-08 00:00:00\n",
      "응용 소프트웨어 개발 및 공급업\n",
      "2020년 9월 29일\n",
      "2020-09-29 00:00:00\n",
      "www.myrobotsolution.com\n",
      "48968552\n"
     ]
    },
    {
     "name": "stderr",
     "output_type": "stream",
     "text": [
      "/home/cook/venv/eda_venv/lib/python3.10/site-packages/urllib3/connectionpool.py:1099: InsecureRequestWarning: Unverified HTTPS request is being made to host 'www.saramin.co.kr'. Adding certificate verification is strongly advised. See: https://urllib3.readthedocs.io/en/latest/advanced-usage.html#tls-warnings\n",
      "  warnings.warn(\n"
     ]
    },
    {
     "name": "stdout",
     "output_type": "stream",
     "text": [
      "aVdiRHhZcVpIQ0QxSTJDSzhpZGxsdz09 (주)아이브 구매/자재 담당자 경력 채용\n",
      "2024-09-06 00:00:00\n",
      "시스템 소프트웨어 개발 및 공급업\n",
      "2020년 2월 18일\n",
      "2020-02-18 00:00:00\n",
      "www.aiv.ai\n",
      "48968382\n"
     ]
    },
    {
     "name": "stderr",
     "output_type": "stream",
     "text": [
      "/home/cook/venv/eda_venv/lib/python3.10/site-packages/urllib3/connectionpool.py:1099: InsecureRequestWarning: Unverified HTTPS request is being made to host 'www.saramin.co.kr'. Adding certificate verification is strongly advised. See: https://urllib3.readthedocs.io/en/latest/advanced-usage.html#tls-warnings\n",
      "  warnings.warn(\n"
     ]
    },
    {
     "name": "stdout",
     "output_type": "stream",
     "text": [
      "aVdiRHhZcVpIQ0QxSTJDSzhpZGxsdz09 (주)아이브 서비스기획자 경력 채용\n",
      "2024-09-06 00:00:00\n",
      "시스템 소프트웨어 개발 및 공급업\n",
      "2020년 2월 18일\n",
      "2020-02-18 00:00:00\n",
      "www.aiv.ai\n",
      "48967393\n"
     ]
    },
    {
     "name": "stderr",
     "output_type": "stream",
     "text": [
      "/home/cook/venv/eda_venv/lib/python3.10/site-packages/urllib3/connectionpool.py:1099: InsecureRequestWarning: Unverified HTTPS request is being made to host 'www.saramin.co.kr'. Adding certificate verification is strongly advised. See: https://urllib3.readthedocs.io/en/latest/advanced-usage.html#tls-warnings\n",
      "  warnings.warn(\n"
     ]
    },
    {
     "name": "stdout",
     "output_type": "stream",
     "text": [
      "SDJtK1NKL1ZBTC9aeVg5ODhTdzBMUT09 인아텍앤코포 (주) 스마트팩토리 및 물류자동화 기술영업 채용 (신입/경력)\n",
      "2024-09-06 12:00:00\n",
      "기계·설비·자동차\n",
      "48967385\n"
     ]
    },
    {
     "name": "stderr",
     "output_type": "stream",
     "text": [
      "/home/cook/venv/eda_venv/lib/python3.10/site-packages/urllib3/connectionpool.py:1099: InsecureRequestWarning: Unverified HTTPS request is being made to host 'www.saramin.co.kr'. Adding certificate verification is strongly advised. See: https://urllib3.readthedocs.io/en/latest/advanced-usage.html#tls-warnings\n",
      "  warnings.warn(\n"
     ]
    },
    {
     "name": "stdout",
     "output_type": "stream",
     "text": [
      "SDJtK1NKL1ZBTC9aeVg5ODhTdzBMUT09 인아텍앤코포 (주) 기구설계(물류자동화 및 자동화설비) 경력직 직원채용\n",
      "2024-09-06 12:00:00\n",
      "기계·설비·자동차\n",
      "48967380\n"
     ]
    },
    {
     "name": "stderr",
     "output_type": "stream",
     "text": [
      "/home/cook/venv/eda_venv/lib/python3.10/site-packages/urllib3/connectionpool.py:1099: InsecureRequestWarning: Unverified HTTPS request is being made to host 'www.saramin.co.kr'. Adding certificate verification is strongly advised. See: https://urllib3.readthedocs.io/en/latest/advanced-usage.html#tls-warnings\n",
      "  warnings.warn(\n"
     ]
    },
    {
     "name": "stdout",
     "output_type": "stream",
     "text": [
      "SDJtK1NKL1ZBTC9aeVg5ODhTdzBMUT09 인아텍앤코포 (주) 스마트팩토리 및 물류자동화 SW개발자 채용\n",
      "2024-09-06 12:00:00\n",
      "기계·설비·자동차\n",
      "48967250\n"
     ]
    },
    {
     "name": "stderr",
     "output_type": "stream",
     "text": [
      "/home/cook/venv/eda_venv/lib/python3.10/site-packages/urllib3/connectionpool.py:1099: InsecureRequestWarning: Unverified HTTPS request is being made to host 'www.saramin.co.kr'. Adding certificate verification is strongly advised. See: https://urllib3.readthedocs.io/en/latest/advanced-usage.html#tls-warnings\n",
      "  warnings.warn(\n"
     ]
    },
    {
     "name": "stdout",
     "output_type": "stream",
     "text": [
      "U3E2MVpWYUxzVXgwdVJWYXFwYmlkQT09 코넥티브(주) Backend  Engineer\n",
      "2024-09-06 00:00:00\n",
      "시스템 소프트웨어 개발 및 공급업\n",
      "2021년 4월 26일\n",
      "2021-04-26 00:00:00\n",
      "48966935\n"
     ]
    },
    {
     "name": "stderr",
     "output_type": "stream",
     "text": [
      "/home/cook/venv/eda_venv/lib/python3.10/site-packages/urllib3/connectionpool.py:1099: InsecureRequestWarning: Unverified HTTPS request is being made to host 'www.saramin.co.kr'. Adding certificate verification is strongly advised. See: https://urllib3.readthedocs.io/en/latest/advanced-usage.html#tls-warnings\n",
      "  warnings.warn(\n"
     ]
    },
    {
     "name": "stdout",
     "output_type": "stream",
     "text": [
      "NkplYnVhUHJzYWFERFVtRTB4RzZUdz09 (주)모빌테크 [모빌테크] 기구 및 pcb 설계 모집 (신입/경력)\n",
      "2024-09-06 11:00:00\n",
      "전기ㆍ전자공학 연구개발업\n",
      "2017년 4월 10일\n",
      "2017-04-10 00:00:00\n",
      "www.mobiltech.io\n",
      "48966932\n"
     ]
    },
    {
     "name": "stderr",
     "output_type": "stream",
     "text": [
      "/home/cook/venv/eda_venv/lib/python3.10/site-packages/urllib3/connectionpool.py:1099: InsecureRequestWarning: Unverified HTTPS request is being made to host 'www.saramin.co.kr'. Adding certificate verification is strongly advised. See: https://urllib3.readthedocs.io/en/latest/advanced-usage.html#tls-warnings\n",
      "  warnings.warn(\n"
     ]
    },
    {
     "name": "stdout",
     "output_type": "stream",
     "text": [
      "Qm45c1kvejJ2R2poN1NMTDgxK1RsUT09 (주)사람인에이치에스 [서울/정규직/근무환경우수] Vision AI 엔지니어 경력직 채용\n",
      "2024-09-06 11:00:00\n",
      "임시 및 일용 인력 공급업\n",
      "2016년 5월 2일\n",
      "2016-05-02 00:00:00\n",
      "http://www.saraminhs.co.kr\n",
      "48966817\n"
     ]
    },
    {
     "name": "stderr",
     "output_type": "stream",
     "text": [
      "/home/cook/venv/eda_venv/lib/python3.10/site-packages/urllib3/connectionpool.py:1099: InsecureRequestWarning: Unverified HTTPS request is being made to host 'www.saramin.co.kr'. Adding certificate verification is strongly advised. See: https://urllib3.readthedocs.io/en/latest/advanced-usage.html#tls-warnings\n",
      "  warnings.warn(\n"
     ]
    },
    {
     "name": "stdout",
     "output_type": "stream",
     "text": [
      "NkplYnVhUHJzYWFERFVtRTB4RzZUdz09 (주)모빌테크 [모빌테크] 차량 리웍 및 연구 지원 모집 (신입/경력)\n",
      "2024-09-06 11:00:00\n",
      "전기ㆍ전자공학 연구개발업\n",
      "2017년 4월 10일\n",
      "2017-04-10 00:00:00\n",
      "www.mobiltech.io\n",
      "48966405\n"
     ]
    },
    {
     "name": "stderr",
     "output_type": "stream",
     "text": [
      "/home/cook/venv/eda_venv/lib/python3.10/site-packages/urllib3/connectionpool.py:1099: InsecureRequestWarning: Unverified HTTPS request is being made to host 'www.saramin.co.kr'. Adding certificate verification is strongly advised. See: https://urllib3.readthedocs.io/en/latest/advanced-usage.html#tls-warnings\n",
      "  warnings.warn(\n"
     ]
    },
    {
     "name": "stdout",
     "output_type": "stream",
     "text": [
      "eVpwVlc1bkRPeE93SnM5bnNrYnd2QT09 (주)유진로봇 개발본부 C/C++ 엔지니어(Middleware)\n",
      "2024-09-06 00:00:00\n",
      "산업용 로봇 제조업\n",
      "1993년 12월 7일\n",
      "1993-12-07 00:00:00\n",
      "www.yujinrobot.com\n",
      "48966402\n"
     ]
    },
    {
     "name": "stderr",
     "output_type": "stream",
     "text": [
      "/home/cook/venv/eda_venv/lib/python3.10/site-packages/urllib3/connectionpool.py:1099: InsecureRequestWarning: Unverified HTTPS request is being made to host 'www.saramin.co.kr'. Adding certificate verification is strongly advised. See: https://urllib3.readthedocs.io/en/latest/advanced-usage.html#tls-warnings\n",
      "  warnings.warn(\n"
     ]
    },
    {
     "name": "stdout",
     "output_type": "stream",
     "text": [
      "eVpwVlc1bkRPeE93SnM5bnNrYnd2QT09 (주)유진로봇 백엔드(Back-end) 개발자 (경력 7년이상)\n",
      "2024-09-06 00:00:00\n",
      "산업용 로봇 제조업\n",
      "1993년 12월 7일\n",
      "1993-12-07 00:00:00\n",
      "www.yujinrobot.com\n",
      "48965117\n"
     ]
    },
    {
     "name": "stderr",
     "output_type": "stream",
     "text": [
      "/home/cook/venv/eda_venv/lib/python3.10/site-packages/urllib3/connectionpool.py:1099: InsecureRequestWarning: Unverified HTTPS request is being made to host 'www.saramin.co.kr'. Adding certificate verification is strongly advised. See: https://urllib3.readthedocs.io/en/latest/advanced-usage.html#tls-warnings\n",
      "  warnings.warn(\n"
     ]
    },
    {
     "name": "stdout",
     "output_type": "stream",
     "text": [
      "aVdiRHhZcVpIQ0QxSTJDSzhpZGxsdz09 (주)아이브 Project manager(PM) 채용\n",
      "2024-09-07 00:00:00\n",
      "시스템 소프트웨어 개발 및 공급업\n",
      "2020년 2월 18일\n",
      "2020-02-18 00:00:00\n",
      "www.aiv.ai\n",
      "48965035\n"
     ]
    },
    {
     "name": "stderr",
     "output_type": "stream",
     "text": [
      "/home/cook/venv/eda_venv/lib/python3.10/site-packages/urllib3/connectionpool.py:1099: InsecureRequestWarning: Unverified HTTPS request is being made to host 'www.saramin.co.kr'. Adding certificate verification is strongly advised. See: https://urllib3.readthedocs.io/en/latest/advanced-usage.html#tls-warnings\n",
      "  warnings.warn(\n"
     ]
    },
    {
     "name": "stdout",
     "output_type": "stream",
     "text": [
      "b3MrcEhoaHBTMHQ0N1VKSE9MaU1zQT09 (주)인피닉 [수원] SW 및 HW 테스트 엔지니어 (QA) 신입 채용\n",
      "2024-09-06 09:00:00\n",
      "응용 소프트웨어 개발 및 공급업\n",
      "2005년 3월 7일\n",
      "2005-03-07 00:00:00\n",
      "www.infiniq.co.kr\n",
      "48964903\n"
     ]
    },
    {
     "name": "stderr",
     "output_type": "stream",
     "text": [
      "/home/cook/venv/eda_venv/lib/python3.10/site-packages/urllib3/connectionpool.py:1099: InsecureRequestWarning: Unverified HTTPS request is being made to host 'www.saramin.co.kr'. Adding certificate verification is strongly advised. See: https://urllib3.readthedocs.io/en/latest/advanced-usage.html#tls-warnings\n",
      "  warnings.warn(\n"
     ]
    },
    {
     "name": "stdout",
     "output_type": "stream",
     "text": [
      "eFVVMEQvNHpQYnhrNFRuWVk4MHNqUT09 주식회사 이노스 기술연구소 메카 개발 연구원 모집의 건\n",
      "2024-09-06 09:00:00\n",
      "사무용 기계 및 장비 제조업\n",
      "2015년 2월 16일\n",
      "2015-02-16 00:00:00\n",
      "https://innos-inc.com\n",
      "48964880\n"
     ]
    },
    {
     "name": "stderr",
     "output_type": "stream",
     "text": [
      "/home/cook/venv/eda_venv/lib/python3.10/site-packages/urllib3/connectionpool.py:1099: InsecureRequestWarning: Unverified HTTPS request is being made to host 'www.saramin.co.kr'. Adding certificate verification is strongly advised. See: https://urllib3.readthedocs.io/en/latest/advanced-usage.html#tls-warnings\n",
      "  warnings.warn(\n"
     ]
    },
    {
     "name": "stdout",
     "output_type": "stream",
     "text": [
      "eFVVMEQvNHpQYnhrNFRuWVk4MHNqUT09 주식회사 이노스 기술연구소 S/W 개발 연구원 모집의 건\n",
      "2024-09-06 09:00:00\n",
      "사무용 기계 및 장비 제조업\n",
      "2015년 2월 16일\n",
      "2015-02-16 00:00:00\n",
      "https://innos-inc.com\n",
      "48964865\n"
     ]
    },
    {
     "name": "stderr",
     "output_type": "stream",
     "text": [
      "/home/cook/venv/eda_venv/lib/python3.10/site-packages/urllib3/connectionpool.py:1099: InsecureRequestWarning: Unverified HTTPS request is being made to host 'www.saramin.co.kr'. Adding certificate verification is strongly advised. See: https://urllib3.readthedocs.io/en/latest/advanced-usage.html#tls-warnings\n",
      "  warnings.warn(\n"
     ]
    },
    {
     "name": "stdout",
     "output_type": "stream",
     "text": [
      "eFVVMEQvNHpQYnhrNFRuWVk4MHNqUT09 주식회사 이노스 기술연구소 H/W 담당자 모집(MCU 및 임베디스 H/W 설계)\n",
      "2024-09-06 09:00:00\n",
      "사무용 기계 및 장비 제조업\n",
      "2015년 2월 16일\n",
      "2015-02-16 00:00:00\n",
      "https://innos-inc.com\n",
      "48964816\n"
     ]
    },
    {
     "name": "stderr",
     "output_type": "stream",
     "text": [
      "/home/cook/venv/eda_venv/lib/python3.10/site-packages/urllib3/connectionpool.py:1099: InsecureRequestWarning: Unverified HTTPS request is being made to host 'www.saramin.co.kr'. Adding certificate verification is strongly advised. See: https://urllib3.readthedocs.io/en/latest/advanced-usage.html#tls-warnings\n",
      "  warnings.warn(\n"
     ]
    },
    {
     "name": "stdout",
     "output_type": "stream",
     "text": [
      "QjdWTnVFelF6cXNKcXhvUFFLOVVJZz09 (주)하이비젼시스템 차세대연구소 로봇제어기 SW개발 엔지니어 채용\n",
      "2024-09-08 00:00:00\n",
      "사진기, 영사기 및 관련 장비 제조업\n",
      "2010년 4월 8일\n",
      "2010-04-08 00:00:00\n",
      "https://www.hyvision.co.kr\n",
      "48962566\n"
     ]
    },
    {
     "name": "stderr",
     "output_type": "stream",
     "text": [
      "/home/cook/venv/eda_venv/lib/python3.10/site-packages/urllib3/connectionpool.py:1099: InsecureRequestWarning: Unverified HTTPS request is being made to host 'www.saramin.co.kr'. Adding certificate verification is strongly advised. See: https://urllib3.readthedocs.io/en/latest/advanced-usage.html#tls-warnings\n",
      "  warnings.warn(\n"
     ]
    },
    {
     "name": "stdout",
     "output_type": "stream",
     "text": [
      "d0JLTGNkaTZoa1J5bTRScTdvNU9FZz09 (주)엠플러스 하반기 기술부문 우수 인재 채용\n",
      "2024-09-06 00:00:00\n",
      "그 외 기타 특수목적용 기계 제조업\n",
      "2003년 4월 8일\n",
      "2003-04-08 00:00:00\n",
      "www.mplusi.co.kr\n",
      "48962556\n"
     ]
    },
    {
     "name": "stderr",
     "output_type": "stream",
     "text": [
      "/home/cook/venv/eda_venv/lib/python3.10/site-packages/urllib3/connectionpool.py:1099: InsecureRequestWarning: Unverified HTTPS request is being made to host 'www.saramin.co.kr'. Adding certificate verification is strongly advised. See: https://urllib3.readthedocs.io/en/latest/advanced-usage.html#tls-warnings\n",
      "  warnings.warn(\n"
     ]
    },
    {
     "name": "stdout",
     "output_type": "stream",
     "text": [
      "T2huQ1dQQTAwV00xd1djMmo0b2lqdz09 (주)모빌리티원 [드론 및 드론 소프트웨어 기술지원] 경력직 채용\n",
      "2024-09-05 16:00:00\n",
      "48962364\n"
     ]
    },
    {
     "name": "stderr",
     "output_type": "stream",
     "text": [
      "/home/cook/venv/eda_venv/lib/python3.10/site-packages/urllib3/connectionpool.py:1099: InsecureRequestWarning: Unverified HTTPS request is being made to host 'www.saramin.co.kr'. Adding certificate verification is strongly advised. See: https://urllib3.readthedocs.io/en/latest/advanced-usage.html#tls-warnings\n",
      "  warnings.warn(\n"
     ]
    },
    {
     "name": "stdout",
     "output_type": "stream",
     "text": [
      "WXRMbEg4Q3kvc085c0RMZy85OE9TUT09 (주)에니아이 로봇 제조 공장 생산직 조장 모집\n",
      "2024-09-05 16:00:00\n",
      "전기·전자·제어\n",
      "2020년 7월 30일\n",
      "2020-07-30 00:00:00\n",
      "kr.aniai/ai\n",
      "48962331\n"
     ]
    },
    {
     "name": "stderr",
     "output_type": "stream",
     "text": [
      "/home/cook/venv/eda_venv/lib/python3.10/site-packages/urllib3/connectionpool.py:1099: InsecureRequestWarning: Unverified HTTPS request is being made to host 'www.saramin.co.kr'. Adding certificate verification is strongly advised. See: https://urllib3.readthedocs.io/en/latest/advanced-usage.html#tls-warnings\n",
      "  warnings.warn(\n"
     ]
    },
    {
     "name": "stdout",
     "output_type": "stream",
     "text": [
      "TGpOV0RXR0xZSVNLeGlaSUJucWUyQT09 모벤시스(주) SCM 신입/경력 담당자 채용\n",
      "2024-09-05 16:00:00\n",
      "2014년 3월 10일\n",
      "2014-03-10 00:00:00\n",
      "www.movensys.com\n",
      "48962186\n"
     ]
    },
    {
     "name": "stderr",
     "output_type": "stream",
     "text": [
      "/home/cook/venv/eda_venv/lib/python3.10/site-packages/urllib3/connectionpool.py:1099: InsecureRequestWarning: Unverified HTTPS request is being made to host 'www.saramin.co.kr'. Adding certificate verification is strongly advised. See: https://urllib3.readthedocs.io/en/latest/advanced-usage.html#tls-warnings\n",
      "  warnings.warn(\n"
     ]
    },
    {
     "name": "stdout",
     "output_type": "stream",
     "text": [
      "aTc1RVBIZklBZWU4Tzk1VGFWeFFIZz09 (주)클로봇 프론트엔드 개발자 채용 (서비스개발팀)\n",
      "2024-09-05 00:00:00\n",
      "응용 소프트웨어 개발 및 공급업\n",
      "2017년 5월 8일\n",
      "2017-05-08 00:00:00\n",
      "www.clobot.co.kr\n",
      "48962113\n"
     ]
    },
    {
     "name": "stderr",
     "output_type": "stream",
     "text": [
      "/home/cook/venv/eda_venv/lib/python3.10/site-packages/urllib3/connectionpool.py:1099: InsecureRequestWarning: Unverified HTTPS request is being made to host 'www.saramin.co.kr'. Adding certificate verification is strongly advised. See: https://urllib3.readthedocs.io/en/latest/advanced-usage.html#tls-warnings\n",
      "  warnings.warn(\n"
     ]
    },
    {
     "name": "stdout",
     "output_type": "stream",
     "text": [
      "OWdueGZLRVM3V2RVaEIvbFV2ZFNaQT09 (주)하이퍼놀로지 [하이퍼놀로지] AI R&D 연구소장 모집\n",
      "2024-09-05 16:00:00\n",
      "응용 소프트웨어 개발 및 공급업\n",
      "2022년 2월 22일\n",
      "2022-02-22 00:00:00\n",
      "www.hypernology.net\n"
     ]
    },
    {
     "name": "stderr",
     "output_type": "stream",
     "text": [
      "/home/cook/venv/eda_venv/lib/python3.10/site-packages/urllib3/connectionpool.py:1099: InsecureRequestWarning: Unverified HTTPS request is being made to host 'www.saramin.co.kr'. Adding certificate verification is strongly advised. See: https://urllib3.readthedocs.io/en/latest/advanced-usage.html#tls-warnings\n",
      "  warnings.warn(\n"
     ]
    },
    {
     "name": "stdout",
     "output_type": "stream",
     "text": [
      "48962055\n"
     ]
    },
    {
     "name": "stderr",
     "output_type": "stream",
     "text": [
      "/home/cook/venv/eda_venv/lib/python3.10/site-packages/urllib3/connectionpool.py:1099: InsecureRequestWarning: Unverified HTTPS request is being made to host 'www.saramin.co.kr'. Adding certificate verification is strongly advised. See: https://urllib3.readthedocs.io/en/latest/advanced-usage.html#tls-warnings\n",
      "  warnings.warn(\n"
     ]
    },
    {
     "name": "stdout",
     "output_type": "stream",
     "text": [
      "OWdueGZLRVM3V2RVaEIvbFV2ZFNaQT09 (주)하이퍼놀로지 [하이퍼놀로지] AI 비전 R&D 신입/경력 모집\n",
      "2024-09-05 16:00:00\n",
      "응용 소프트웨어 개발 및 공급업\n",
      "2022년 2월 22일\n",
      "2022-02-22 00:00:00\n",
      "www.hypernology.net\n",
      "48961118\n"
     ]
    },
    {
     "name": "stderr",
     "output_type": "stream",
     "text": [
      "/home/cook/venv/eda_venv/lib/python3.10/site-packages/urllib3/connectionpool.py:1099: InsecureRequestWarning: Unverified HTTPS request is being made to host 'www.saramin.co.kr'. Adding certificate verification is strongly advised. See: https://urllib3.readthedocs.io/en/latest/advanced-usage.html#tls-warnings\n",
      "  warnings.warn(\n"
     ]
    },
    {
     "name": "stdout",
     "output_type": "stream",
     "text": [
      "N3FWUi9UTGFqemE5c2J3ZzFETVNwdz09 (주)아이엠알 인사 및 총무 인력 모집\n",
      "2024-09-05 15:00:00\n",
      "응용 소프트웨어 개발 및 공급업\n",
      "2010년 1월 5일\n",
      "2010-01-05 00:00:00\n",
      "www.imrbiz.co.kr\n",
      "48961040\n"
     ]
    },
    {
     "name": "stderr",
     "output_type": "stream",
     "text": [
      "/home/cook/venv/eda_venv/lib/python3.10/site-packages/urllib3/connectionpool.py:1099: InsecureRequestWarning: Unverified HTTPS request is being made to host 'www.saramin.co.kr'. Adding certificate verification is strongly advised. See: https://urllib3.readthedocs.io/en/latest/advanced-usage.html#tls-warnings\n",
      "  warnings.warn(\n"
     ]
    },
    {
     "name": "stdout",
     "output_type": "stream",
     "text": [
      "aTc1RVBIZklBZWU4Tzk1VGFWeFFIZz09 (주)클로봇 로봇 필드 엔지니어 (FE팀)\n",
      "2024-09-05 00:00:00\n",
      "응용 소프트웨어 개발 및 공급업\n",
      "2017년 5월 8일\n",
      "2017-05-08 00:00:00\n",
      "www.clobot.co.kr\n",
      "48961036\n"
     ]
    },
    {
     "name": "stderr",
     "output_type": "stream",
     "text": [
      "/home/cook/venv/eda_venv/lib/python3.10/site-packages/urllib3/connectionpool.py:1099: InsecureRequestWarning: Unverified HTTPS request is being made to host 'www.saramin.co.kr'. Adding certificate verification is strongly advised. See: https://urllib3.readthedocs.io/en/latest/advanced-usage.html#tls-warnings\n",
      "  warnings.warn(\n"
     ]
    },
    {
     "name": "stdout",
     "output_type": "stream",
     "text": [
      "aTc1RVBIZklBZWU4Tzk1VGFWeFFIZz09 (주)클로봇 물류 자동화 설비 및 이송 모바일로봇(AGV/AMR) 설치 및 이행 담당 (MR구축팀)\n",
      "2024-09-05 00:00:00\n",
      "응용 소프트웨어 개발 및 공급업\n",
      "2017년 5월 8일\n",
      "2017-05-08 00:00:00\n",
      "www.clobot.co.kr\n",
      "48961034\n"
     ]
    },
    {
     "name": "stderr",
     "output_type": "stream",
     "text": [
      "/home/cook/venv/eda_venv/lib/python3.10/site-packages/urllib3/connectionpool.py:1099: InsecureRequestWarning: Unverified HTTPS request is being made to host 'www.saramin.co.kr'. Adding certificate verification is strongly advised. See: https://urllib3.readthedocs.io/en/latest/advanced-usage.html#tls-warnings\n",
      "  warnings.warn(\n"
     ]
    },
    {
     "name": "stdout",
     "output_type": "stream",
     "text": [
      "aTc1RVBIZklBZWU4Tzk1VGFWeFFIZz09 (주)클로봇 비전(2D, 3D) 엔지니어 (RX구축팀)\n",
      "2024-09-05 00:00:00\n",
      "응용 소프트웨어 개발 및 공급업\n",
      "2017년 5월 8일\n",
      "2017-05-08 00:00:00\n",
      "www.clobot.co.kr\n",
      "48961032\n"
     ]
    },
    {
     "name": "stderr",
     "output_type": "stream",
     "text": [
      "/home/cook/venv/eda_venv/lib/python3.10/site-packages/urllib3/connectionpool.py:1099: InsecureRequestWarning: Unverified HTTPS request is being made to host 'www.saramin.co.kr'. Adding certificate verification is strongly advised. See: https://urllib3.readthedocs.io/en/latest/advanced-usage.html#tls-warnings\n",
      "  warnings.warn(\n"
     ]
    },
    {
     "name": "stdout",
     "output_type": "stream",
     "text": [
      "aTc1RVBIZklBZWU4Tzk1VGFWeFFIZz09 (주)클로봇 로봇 엔지니어 (RX구축팀)\n",
      "2024-09-05 00:00:00\n",
      "응용 소프트웨어 개발 및 공급업\n",
      "2017년 5월 8일\n",
      "2017-05-08 00:00:00\n",
      "www.clobot.co.kr\n",
      "48960760\n"
     ]
    },
    {
     "name": "stderr",
     "output_type": "stream",
     "text": [
      "/home/cook/venv/eda_venv/lib/python3.10/site-packages/urllib3/connectionpool.py:1099: InsecureRequestWarning: Unverified HTTPS request is being made to host 'www.saramin.co.kr'. Adding certificate verification is strongly advised. See: https://urllib3.readthedocs.io/en/latest/advanced-usage.html#tls-warnings\n",
      "  warnings.warn(\n"
     ]
    },
    {
     "name": "stdout",
     "output_type": "stream",
     "text": [
      "K1hBL2ZTN3JtWEt3MGJMWWsyeFRsZz09 (주)시에라베이스 자율점검 드론/로봇 개발자 모집\n",
      "2024-09-05 00:00:00\n",
      "응용 소프트웨어 개발 및 공급업\n",
      "2019년 6월 11일\n",
      "2019-06-11 00:00:00\n",
      "www.sierrabase.co.kr\n",
      "48960705\n"
     ]
    },
    {
     "name": "stderr",
     "output_type": "stream",
     "text": [
      "/home/cook/venv/eda_venv/lib/python3.10/site-packages/urllib3/connectionpool.py:1099: InsecureRequestWarning: Unverified HTTPS request is being made to host 'www.saramin.co.kr'. Adding certificate verification is strongly advised. See: https://urllib3.readthedocs.io/en/latest/advanced-usage.html#tls-warnings\n",
      "  warnings.warn(\n"
     ]
    },
    {
     "name": "stdout",
     "output_type": "stream",
     "text": [
      "bld3L3IxWU1PN0Z1Y1V6WHlSVFVtQT09 발레오모빌리티코리아(주) [발레오/대구 공장] 보전 기능직 채용\n",
      "2024-09-05 14:00:00\n",
      "기타 자동차 신품 부품 및 내장품 판매업\n",
      "2022년 8월 24일\n",
      "2022-08-24 00:00:00\n",
      "www.valeo.com\n",
      "48959792\n"
     ]
    },
    {
     "name": "stderr",
     "output_type": "stream",
     "text": [
      "/home/cook/venv/eda_venv/lib/python3.10/site-packages/urllib3/connectionpool.py:1099: InsecureRequestWarning: Unverified HTTPS request is being made to host 'www.saramin.co.kr'. Adding certificate verification is strongly advised. See: https://urllib3.readthedocs.io/en/latest/advanced-usage.html#tls-warnings\n",
      "  warnings.warn(\n"
     ]
    },
    {
     "name": "stdout",
     "output_type": "stream",
     "text": [
      "LzZDSHVLdThSWFA2TW14TnpvYWlKdz09 (주)딥인사이트 라이다 3D 스캐너 엔지니어\n",
      "2024-09-05 00:00:00\n",
      "컴퓨터 프로그래밍 서비스업\n",
      "2020년 6월 16일\n",
      "2020-06-16 00:00:00\n",
      "https://www.dinsight.ai/\n",
      "48959566\n"
     ]
    },
    {
     "name": "stderr",
     "output_type": "stream",
     "text": [
      "/home/cook/venv/eda_venv/lib/python3.10/site-packages/urllib3/connectionpool.py:1099: InsecureRequestWarning: Unverified HTTPS request is being made to host 'www.saramin.co.kr'. Adding certificate verification is strongly advised. See: https://urllib3.readthedocs.io/en/latest/advanced-usage.html#tls-warnings\n",
      "  warnings.warn(\n"
     ]
    },
    {
     "name": "stdout",
     "output_type": "stream",
     "text": [
      "dnVpNUxFS0ZxdlMxd015YWluZy9MUT09 (주)로보스타 [LG계열사/로보스타] 로봇고객지원팀 채용\n",
      "2024-09-05 11:00:00\n",
      "산업용 로봇 제조업\n",
      "1999년 2월 26일\n",
      "1999-02-26 00:00:00\n",
      "www.robostar.com\n",
      "48959204\n"
     ]
    },
    {
     "name": "stderr",
     "output_type": "stream",
     "text": [
      "/home/cook/venv/eda_venv/lib/python3.10/site-packages/urllib3/connectionpool.py:1099: InsecureRequestWarning: Unverified HTTPS request is being made to host 'www.saramin.co.kr'. Adding certificate verification is strongly advised. See: https://urllib3.readthedocs.io/en/latest/advanced-usage.html#tls-warnings\n",
      "  warnings.warn(\n"
     ]
    },
    {
     "name": "stdout",
     "output_type": "stream",
     "text": [
      "bHU2Z0MyV21iZEJiUXNaSGJEQng5QT09 코가로보틱스(주) [자율주행 R&D] 자율주행로봇 SW / 알고리즘 개발자 채용\n",
      "2024-09-05 11:00:00\n",
      "응용 소프트웨어 개발 및 공급업\n",
      "2017년 8월 24일\n",
      "2017-08-24 00:00:00\n",
      "http://coga-robotics.com/\n",
      "48959060\n"
     ]
    },
    {
     "name": "stderr",
     "output_type": "stream",
     "text": [
      "/home/cook/venv/eda_venv/lib/python3.10/site-packages/urllib3/connectionpool.py:1099: InsecureRequestWarning: Unverified HTTPS request is being made to host 'www.saramin.co.kr'. Adding certificate verification is strongly advised. See: https://urllib3.readthedocs.io/en/latest/advanced-usage.html#tls-warnings\n",
      "  warnings.warn(\n"
     ]
    },
    {
     "name": "stdout",
     "output_type": "stream",
     "text": [
      "eVpwVlc1bkRPeE93SnM5bnNrYnd2QT09 (주)유진로봇 AMS사업부 FAE (기술지원 엔지니어)\n",
      "2024-09-05 00:00:00\n",
      "산업용 로봇 제조업\n",
      "1993년 12월 7일\n",
      "1993-12-07 00:00:00\n",
      "www.yujinrobot.com\n",
      "48959052\n"
     ]
    },
    {
     "name": "stderr",
     "output_type": "stream",
     "text": [
      "/home/cook/venv/eda_venv/lib/python3.10/site-packages/urllib3/connectionpool.py:1099: InsecureRequestWarning: Unverified HTTPS request is being made to host 'www.saramin.co.kr'. Adding certificate verification is strongly advised. See: https://urllib3.readthedocs.io/en/latest/advanced-usage.html#tls-warnings\n",
      "  warnings.warn(\n"
     ]
    },
    {
     "name": "stdout",
     "output_type": "stream",
     "text": [
      "eVpwVlc1bkRPeE93SnM5bnNrYnd2QT09 (주)유진로봇 AMS사업부 SI팀 SW(ACS) 개발자\n",
      "2024-09-05 00:00:00\n",
      "산업용 로봇 제조업\n",
      "1993년 12월 7일\n",
      "1993-12-07 00:00:00\n",
      "www.yujinrobot.com\n",
      "48959046\n"
     ]
    },
    {
     "name": "stderr",
     "output_type": "stream",
     "text": [
      "/home/cook/venv/eda_venv/lib/python3.10/site-packages/urllib3/connectionpool.py:1099: InsecureRequestWarning: Unverified HTTPS request is being made to host 'www.saramin.co.kr'. Adding certificate verification is strongly advised. See: https://urllib3.readthedocs.io/en/latest/advanced-usage.html#tls-warnings\n",
      "  warnings.warn(\n"
     ]
    },
    {
     "name": "stdout",
     "output_type": "stream",
     "text": [
      "eVpwVlc1bkRPeE93SnM5bnNrYnd2QT09 (주)유진로봇 SAS사업부 글로벌프로젝트 SW(PLC) 채용\n",
      "2024-09-05 00:00:00\n",
      "산업용 로봇 제조업\n",
      "1993년 12월 7일\n",
      "1993-12-07 00:00:00\n",
      "www.yujinrobot.com\n",
      "48959029\n"
     ]
    },
    {
     "name": "stderr",
     "output_type": "stream",
     "text": [
      "/home/cook/venv/eda_venv/lib/python3.10/site-packages/urllib3/connectionpool.py:1099: InsecureRequestWarning: Unverified HTTPS request is being made to host 'www.saramin.co.kr'. Adding certificate verification is strongly advised. See: https://urllib3.readthedocs.io/en/latest/advanced-usage.html#tls-warnings\n",
      "  warnings.warn(\n"
     ]
    },
    {
     "name": "stdout",
     "output_type": "stream",
     "text": [
      "eVpwVlc1bkRPeE93SnM5bnNrYnd2QT09 (주)유진로봇 SAS사업부 SW(PLC) 채용\n",
      "2024-09-05 00:00:00\n",
      "산업용 로봇 제조업\n",
      "1993년 12월 7일\n",
      "1993-12-07 00:00:00\n",
      "www.yujinrobot.com\n",
      "48958397\n"
     ]
    },
    {
     "name": "stderr",
     "output_type": "stream",
     "text": [
      "/home/cook/venv/eda_venv/lib/python3.10/site-packages/urllib3/connectionpool.py:1099: InsecureRequestWarning: Unverified HTTPS request is being made to host 'www.saramin.co.kr'. Adding certificate verification is strongly advised. See: https://urllib3.readthedocs.io/en/latest/advanced-usage.html#tls-warnings\n",
      "  warnings.warn(\n"
     ]
    },
    {
     "name": "stdout",
     "output_type": "stream",
     "text": [
      "MlU1eXBjN1I3ZWVxaGgwT2gyOVUxdz09 (주)클레 3차원 머신비전 솔루션 S/W 테스터\n",
      "2024-09-05 00:00:00\n",
      "응용 소프트웨어 개발 및 공급업\n",
      "2021년 11월 12일\n",
      "2021-11-12 00:00:00\n",
      "cle.vision\n",
      "48958374\n"
     ]
    },
    {
     "name": "stderr",
     "output_type": "stream",
     "text": [
      "/home/cook/venv/eda_venv/lib/python3.10/site-packages/urllib3/connectionpool.py:1099: InsecureRequestWarning: Unverified HTTPS request is being made to host 'www.saramin.co.kr'. Adding certificate verification is strongly advised. See: https://urllib3.readthedocs.io/en/latest/advanced-usage.html#tls-warnings\n",
      "  warnings.warn(\n"
     ]
    },
    {
     "name": "stdout",
     "output_type": "stream",
     "text": [
      "MlU1eXBjN1I3ZWVxaGgwT2gyOVUxdz09 (주)클레 데스크탑 앱 개발자\n",
      "2024-09-05 00:00:00\n",
      "응용 소프트웨어 개발 및 공급업\n",
      "2021년 11월 12일\n",
      "2021-11-12 00:00:00\n",
      "cle.vision\n",
      "48956007\n"
     ]
    },
    {
     "name": "stderr",
     "output_type": "stream",
     "text": [
      "/home/cook/venv/eda_venv/lib/python3.10/site-packages/urllib3/connectionpool.py:1099: InsecureRequestWarning: Unverified HTTPS request is being made to host 'www.saramin.co.kr'. Adding certificate verification is strongly advised. See: https://urllib3.readthedocs.io/en/latest/advanced-usage.html#tls-warnings\n",
      "  warnings.warn(\n"
     ]
    },
    {
     "name": "stdout",
     "output_type": "stream",
     "text": [
      "K1RVeXZicmt6YlJuTzNyRkl0UGtadz09 (주)벰로보틱스 해외 모니터링 및 PM 채용\n",
      "2024-09-05 08:00:00\n",
      "시스템 소프트웨어 개발 및 공급업\n",
      "2017년 1월 13일\n",
      "2017-01-13 00:00:00\n",
      "www.bemsoft.com\n",
      "48955194\n"
     ]
    },
    {
     "name": "stderr",
     "output_type": "stream",
     "text": [
      "/home/cook/venv/eda_venv/lib/python3.10/site-packages/urllib3/connectionpool.py:1099: InsecureRequestWarning: Unverified HTTPS request is being made to host 'www.saramin.co.kr'. Adding certificate verification is strongly advised. See: https://urllib3.readthedocs.io/en/latest/advanced-usage.html#tls-warnings\n",
      "  warnings.warn(\n"
     ]
    },
    {
     "name": "stdout",
     "output_type": "stream",
     "text": [
      "UFRsMnZ4Z2ZpWjFrRmE2dmZONnBEdz09 (주)쌤토스 R&D 개발 정규직 채용  제어팀 각각 [S/W팀  &  H/W팀]\n",
      "2024-09-04 18:00:00\n",
      "기타 반도체소자 제조업\n",
      "2015년 8월 31일\n",
      "2015-08-31 00:00:00\n",
      "www.semtos.co.kr\n",
      "48955079\n"
     ]
    },
    {
     "name": "stderr",
     "output_type": "stream",
     "text": [
      "/home/cook/venv/eda_venv/lib/python3.10/site-packages/urllib3/connectionpool.py:1099: InsecureRequestWarning: Unverified HTTPS request is being made to host 'www.saramin.co.kr'. Adding certificate verification is strongly advised. See: https://urllib3.readthedocs.io/en/latest/advanced-usage.html#tls-warnings\n",
      "  warnings.warn(\n"
     ]
    },
    {
     "name": "stdout",
     "output_type": "stream",
     "text": [
      "dmo5ckVoczRGckhEY0pTRmpSR01pUT09 (주)휴비스 [(주) 휴비스] 기술연구소 C/C++ 개발자 신입 및 경력자 모집\n",
      "2024-09-04 18:00:00\n",
      "배전반 및 전기 자동제어반 제조업\n",
      "2009년 11월 20일\n",
      "2009-11-20 00:00:00\n",
      "www.hubis.co.kr\n",
      "48953715\n"
     ]
    },
    {
     "name": "stderr",
     "output_type": "stream",
     "text": [
      "/home/cook/venv/eda_venv/lib/python3.10/site-packages/urllib3/connectionpool.py:1099: InsecureRequestWarning: Unverified HTTPS request is being made to host 'www.saramin.co.kr'. Adding certificate verification is strongly advised. See: https://urllib3.readthedocs.io/en/latest/advanced-usage.html#tls-warnings\n",
      "  warnings.warn(\n"
     ]
    },
    {
     "name": "stdout",
     "output_type": "stream",
     "text": [
      "cUxkWEJNNk5zdmNIYm5sYWNCbjlLQT09 (주)페이히어 [페이히어] 세일즈 교육 매니저\n",
      "2024-09-04 15:00:00\n",
      "2019년 8월 1일\n",
      "2019-08-01 00:00:00\n",
      "http://payhere.in/\n",
      "48952349\n"
     ]
    },
    {
     "name": "stderr",
     "output_type": "stream",
     "text": [
      "/home/cook/venv/eda_venv/lib/python3.10/site-packages/urllib3/connectionpool.py:1099: InsecureRequestWarning: Unverified HTTPS request is being made to host 'www.saramin.co.kr'. Adding certificate verification is strongly advised. See: https://urllib3.readthedocs.io/en/latest/advanced-usage.html#tls-warnings\n",
      "  warnings.warn(\n"
     ]
    },
    {
     "name": "stdout",
     "output_type": "stream",
     "text": [
      "eENJbVc0Wm45eTZEWjRCR2RrcFlhdz09 (주)쓰리디오토메이션 [경력직] 생산기술 / 공정 설계 엔지니어 모집\n",
      "2024-09-04 14:00:00\n",
      "기타 엔지니어링 서비스업\n",
      "2017년 2월 3일\n",
      "2017-02-03 00:00:00\n",
      "http://www.3dautomation.kr/\n",
      "48951723\n"
     ]
    },
    {
     "name": "stderr",
     "output_type": "stream",
     "text": [
      "/home/cook/venv/eda_venv/lib/python3.10/site-packages/urllib3/connectionpool.py:1099: InsecureRequestWarning: Unverified HTTPS request is being made to host 'www.saramin.co.kr'. Adding certificate verification is strongly advised. See: https://urllib3.readthedocs.io/en/latest/advanced-usage.html#tls-warnings\n",
      "  warnings.warn(\n"
     ]
    },
    {
     "name": "stdout",
     "output_type": "stream",
     "text": [
      "a1M3bmpodFQrTDJQSDdZaStzemZvUT09 (주)에이알247 로봇 제작 생산 및 필드 테스트 연구\n",
      "2024-09-04 13:00:00\n",
      "상품 종합 중개업\n",
      "2020년 1월 1일\n",
      "2020-01-01 00:00:00\n",
      "www.ar247.co.kr\n",
      "48951647\n"
     ]
    },
    {
     "name": "stderr",
     "output_type": "stream",
     "text": [
      "/home/cook/venv/eda_venv/lib/python3.10/site-packages/urllib3/connectionpool.py:1099: InsecureRequestWarning: Unverified HTTPS request is being made to host 'www.saramin.co.kr'. Adding certificate verification is strongly advised. See: https://urllib3.readthedocs.io/en/latest/advanced-usage.html#tls-warnings\n",
      "  warnings.warn(\n"
     ]
    },
    {
     "name": "stdout",
     "output_type": "stream",
     "text": [
      "bEhCc3lSSENVQkFnSGVQQ2dBWldaUT09 (주)더테스트 [SK매직/화성공장] 임베디드 SW Test(소프트웨어 검증)직원채용\n",
      "2024-09-04 13:00:00\n",
      "응용 소프트웨어 개발 및 공급업\n",
      "2019년 11월 21일\n",
      "2019-11-21 00:00:00\n",
      "thetest.kr\n",
      "48948805\n"
     ]
    },
    {
     "name": "stderr",
     "output_type": "stream",
     "text": [
      "/home/cook/venv/eda_venv/lib/python3.10/site-packages/urllib3/connectionpool.py:1099: InsecureRequestWarning: Unverified HTTPS request is being made to host 'www.saramin.co.kr'. Adding certificate verification is strongly advised. See: https://urllib3.readthedocs.io/en/latest/advanced-usage.html#tls-warnings\n",
      "  warnings.warn(\n"
     ]
    },
    {
     "name": "stdout",
     "output_type": "stream",
     "text": [
      "TnRyd1E2NGxLUklUdlgrWEowQjdnZz09 (주)엑스와이지 [서비스 로봇] 연구 프로젝트 기술총괄(시니어, 석/박사)\n",
      "2024-09-04 09:00:00\n",
      "48948767\n"
     ]
    },
    {
     "name": "stderr",
     "output_type": "stream",
     "text": [
      "/home/cook/venv/eda_venv/lib/python3.10/site-packages/urllib3/connectionpool.py:1099: InsecureRequestWarning: Unverified HTTPS request is being made to host 'www.saramin.co.kr'. Adding certificate verification is strongly advised. See: https://urllib3.readthedocs.io/en/latest/advanced-usage.html#tls-warnings\n",
      "  warnings.warn(\n"
     ]
    },
    {
     "name": "stdout",
     "output_type": "stream",
     "text": [
      "TnRyd1E2NGxLUklUdlgrWEowQjdnZz09 (주)엑스와이지 [서비스 로봇] AI로봇 비전 개발자(3년 이상)\n",
      "2024-09-04 09:00:00\n",
      "48947568\n"
     ]
    },
    {
     "name": "stderr",
     "output_type": "stream",
     "text": [
      "/home/cook/venv/eda_venv/lib/python3.10/site-packages/urllib3/connectionpool.py:1099: InsecureRequestWarning: Unverified HTTPS request is being made to host 'www.saramin.co.kr'. Adding certificate verification is strongly advised. See: https://urllib3.readthedocs.io/en/latest/advanced-usage.html#tls-warnings\n",
      "  warnings.warn(\n"
     ]
    },
    {
     "name": "stdout",
     "output_type": "stream",
     "text": [
      "VFlrd3VhVlNBQ2JYL0htZEtXM1Y2UT09 (주)알씨테크 반도체 제조장비 SW(소프트웨어) 개발 엔지니어(신입/경력)채용\n",
      "2024-09-04 08:00:00\n",
      "반도체 제조용 기계 제조업\n",
      "2019년 8월 12일\n",
      "2019-08-12 00:00:00\n",
      "www.rc-tech.co.kr\n",
      "48946488\n"
     ]
    },
    {
     "name": "stderr",
     "output_type": "stream",
     "text": [
      "/home/cook/venv/eda_venv/lib/python3.10/site-packages/urllib3/connectionpool.py:1099: InsecureRequestWarning: Unverified HTTPS request is being made to host 'www.saramin.co.kr'. Adding certificate verification is strongly advised. See: https://urllib3.readthedocs.io/en/latest/advanced-usage.html#tls-warnings\n",
      "  warnings.warn(\n"
     ]
    },
    {
     "name": "stdout",
     "output_type": "stream",
     "text": [
      "SUhCT2diMGRGekZKUDVBUEc2b1FSQT09 주식회사디든로보틱스 로봇 전장부 및 임베디드 시스템 개발자 모집\n",
      "2024-09-04 00:00:00\n",
      "솔루션·SI·ERP·CRM\n",
      "48945551\n"
     ]
    },
    {
     "name": "stderr",
     "output_type": "stream",
     "text": [
      "/home/cook/venv/eda_venv/lib/python3.10/site-packages/urllib3/connectionpool.py:1099: InsecureRequestWarning: Unverified HTTPS request is being made to host 'www.saramin.co.kr'. Adding certificate verification is strongly advised. See: https://urllib3.readthedocs.io/en/latest/advanced-usage.html#tls-warnings\n",
      "  warnings.warn(\n"
     ]
    },
    {
     "name": "stdout",
     "output_type": "stream",
     "text": [
      "RzdVSERuZzlJbzVrY0VpV3ZLWHdPdz09 베스트모션㈜ 평택 [시스템소프트웨어 개발자] 모집\n",
      "2024-09-03 16:00:00\n",
      "항공기용 부품 제조업\n",
      "2006년 5월 15일\n",
      "2006-05-15 00:00:00\n",
      "www.bestmotion.co.kr\n",
      "48945437\n"
     ]
    },
    {
     "name": "stderr",
     "output_type": "stream",
     "text": [
      "/home/cook/venv/eda_venv/lib/python3.10/site-packages/urllib3/connectionpool.py:1099: InsecureRequestWarning: Unverified HTTPS request is being made to host 'www.saramin.co.kr'. Adding certificate verification is strongly advised. See: https://urllib3.readthedocs.io/en/latest/advanced-usage.html#tls-warnings\n",
      "  warnings.warn(\n"
     ]
    },
    {
     "name": "stdout",
     "output_type": "stream",
     "text": [
      "YVMzSzBCWjRLRnVHYVB5dnI4T242QT09 (주)티로보틱스 (주)티로보틱스 IT/보안 담당자 채용\n",
      "2024-09-03 16:00:00\n",
      "산업용 로봇 제조업\n",
      "2004년 10월 27일\n",
      "2004-10-27 00:00:00\n",
      "www.t-robotics.co.kr\n",
      "48944693\n"
     ]
    },
    {
     "name": "stderr",
     "output_type": "stream",
     "text": [
      "/home/cook/venv/eda_venv/lib/python3.10/site-packages/urllib3/connectionpool.py:1099: InsecureRequestWarning: Unverified HTTPS request is being made to host 'www.saramin.co.kr'. Adding certificate verification is strongly advised. See: https://urllib3.readthedocs.io/en/latest/advanced-usage.html#tls-warnings\n",
      "  warnings.warn(\n"
     ]
    },
    {
     "name": "stdout",
     "output_type": "stream",
     "text": [
      "dS84dlV6WVB5bzFrREdyWVp5ZU8xUT09 (주)이브이링크 연구직(이차전지 순환 이용성 향상을 위한 배터리 신속 진단 기술 개발) 채용\n",
      "2024-09-03 00:00:00\n",
      "기타 비철금속 제련, 정련 및 합금 제조업\n",
      "2021년 8월 10일\n",
      "2021-08-10 00:00:00\n",
      "48943642\n"
     ]
    },
    {
     "name": "stderr",
     "output_type": "stream",
     "text": [
      "/home/cook/venv/eda_venv/lib/python3.10/site-packages/urllib3/connectionpool.py:1099: InsecureRequestWarning: Unverified HTTPS request is being made to host 'www.saramin.co.kr'. Adding certificate verification is strongly advised. See: https://urllib3.readthedocs.io/en/latest/advanced-usage.html#tls-warnings\n",
      "  warnings.warn(\n"
     ]
    },
    {
     "name": "stdout",
     "output_type": "stream",
     "text": [
      "TGpOV0RXR0xZSVNLeGlaSUJucWUyQT09 모벤시스(주) R&D- 소프트웨어 개발자 채용(Application Team)\n",
      "2024-09-03 14:00:00\n",
      "2014년 3월 10일\n",
      "2014-03-10 00:00:00\n",
      "www.movensys.com\n",
      "48943494\n"
     ]
    },
    {
     "name": "stderr",
     "output_type": "stream",
     "text": [
      "/home/cook/venv/eda_venv/lib/python3.10/site-packages/urllib3/connectionpool.py:1099: InsecureRequestWarning: Unverified HTTPS request is being made to host 'www.saramin.co.kr'. Adding certificate verification is strongly advised. See: https://urllib3.readthedocs.io/en/latest/advanced-usage.html#tls-warnings\n",
      "  warnings.warn(\n"
     ]
    },
    {
     "name": "stdout",
     "output_type": "stream",
     "text": [
      "TGpOV0RXR0xZSVNLeGlaSUJucWUyQT09 모벤시스(주) 기술지원팀 담당자 채용(신입/경력)\n",
      "2024-09-03 14:00:00\n",
      "2014년 3월 10일\n",
      "2014-03-10 00:00:00\n",
      "www.movensys.com\n",
      "48943457\n"
     ]
    },
    {
     "name": "stderr",
     "output_type": "stream",
     "text": [
      "/home/cook/venv/eda_venv/lib/python3.10/site-packages/urllib3/connectionpool.py:1099: InsecureRequestWarning: Unverified HTTPS request is being made to host 'www.saramin.co.kr'. Adding certificate verification is strongly advised. See: https://urllib3.readthedocs.io/en/latest/advanced-usage.html#tls-warnings\n",
      "  warnings.warn(\n"
     ]
    },
    {
     "name": "stdout",
     "output_type": "stream",
     "text": [
      "UDBxUC95NU01RkZHTjM2OXB4azFUQT09 (주)티라로보틱스 로봇 개발자(필드 엔지니어) 모집\n",
      "2024-09-03 14:00:00\n",
      "그 외 기타 특수목적용 기계 제조업\n",
      "2022년 1월 4일\n",
      "2022-01-04 00:00:00\n",
      "thirarobotics.com\n",
      "48943338\n"
     ]
    },
    {
     "name": "stderr",
     "output_type": "stream",
     "text": [
      "/home/cook/venv/eda_venv/lib/python3.10/site-packages/urllib3/connectionpool.py:1099: InsecureRequestWarning: Unverified HTTPS request is being made to host 'www.saramin.co.kr'. Adding certificate verification is strongly advised. See: https://urllib3.readthedocs.io/en/latest/advanced-usage.html#tls-warnings\n",
      "  warnings.warn(\n"
     ]
    },
    {
     "name": "stdout",
     "output_type": "stream",
     "text": [
      "S3hCdW9qVk1IaENOZitZL2ZPL1RSdz09 오큐브(주) 오큐브(주) 기획 및 디자이너 공개 채용(대구)\n",
      "2024-09-03 14:00:00\n",
      "2007년 3월 29일\n",
      "2007-03-29 00:00:00\n",
      "www.ocube.co.kr\n",
      "48942807\n"
     ]
    },
    {
     "name": "stderr",
     "output_type": "stream",
     "text": [
      "/home/cook/venv/eda_venv/lib/python3.10/site-packages/urllib3/connectionpool.py:1099: InsecureRequestWarning: Unverified HTTPS request is being made to host 'www.saramin.co.kr'. Adding certificate verification is strongly advised. See: https://urllib3.readthedocs.io/en/latest/advanced-usage.html#tls-warnings\n",
      "  warnings.warn(\n"
     ]
    },
    {
     "name": "stdout",
     "output_type": "stream",
     "text": [
      "SUhCT2diMGRGekZKUDVBUEc2b1FSQT09 주식회사디든로보틱스 로봇 전장부 및 임베디드 시스템 개발자 모집\n",
      "2024-09-03 13:00:00\n",
      "솔루션·SI·ERP·CRM\n",
      "48941475\n"
     ]
    },
    {
     "name": "stderr",
     "output_type": "stream",
     "text": [
      "/home/cook/venv/eda_venv/lib/python3.10/site-packages/urllib3/connectionpool.py:1099: InsecureRequestWarning: Unverified HTTPS request is being made to host 'www.saramin.co.kr'. Adding certificate verification is strongly advised. See: https://urllib3.readthedocs.io/en/latest/advanced-usage.html#tls-warnings\n",
      "  warnings.warn(\n"
     ]
    },
    {
     "name": "stdout",
     "output_type": "stream",
     "text": [
      "cWdNNmdOUFdVN0FZMnBuZjdzaFZLZz09 (주)테스트웍스 [잠실 IT 기업] Robot Vision 엔지니어\n",
      "2024-09-03 11:00:00\n",
      "응용 소프트웨어 개발 및 공급업\n",
      "2015년 6월 12일\n",
      "2015-06-12 00:00:00\n",
      "www.testworks.co.kr\n",
      "48941192\n"
     ]
    },
    {
     "name": "stderr",
     "output_type": "stream",
     "text": [
      "/home/cook/venv/eda_venv/lib/python3.10/site-packages/urllib3/connectionpool.py:1099: InsecureRequestWarning: Unverified HTTPS request is being made to host 'www.saramin.co.kr'. Adding certificate verification is strongly advised. See: https://urllib3.readthedocs.io/en/latest/advanced-usage.html#tls-warnings\n",
      "  warnings.warn(\n"
     ]
    },
    {
     "name": "stdout",
     "output_type": "stream",
     "text": [
      "RElwaVo2M1lVQjRnMG1GMHN4QTVZQT09 (주)엠트리센 펌웨어(FW)/임베디드/시스템소프트웨어\n",
      "2024-09-03 00:00:00\n",
      "경영 컨설팅업\n",
      "2017년 7월 7일\n",
      "2017-07-07 00:00:00\n",
      "www.m3sen.com\n",
      "48941122\n"
     ]
    },
    {
     "name": "stderr",
     "output_type": "stream",
     "text": [
      "/home/cook/venv/eda_venv/lib/python3.10/site-packages/urllib3/connectionpool.py:1099: InsecureRequestWarning: Unverified HTTPS request is being made to host 'www.saramin.co.kr'. Adding certificate verification is strongly advised. See: https://urllib3.readthedocs.io/en/latest/advanced-usage.html#tls-warnings\n",
      "  warnings.warn(\n"
     ]
    },
    {
     "name": "stdout",
     "output_type": "stream",
     "text": [
      "cFlISDZaVGNsM2NWUnREV0RlNTlhQT09 (주)씨메스 AI 로보틱스 소프트웨어 개발 관리\n",
      "2024-09-03 00:00:00\n",
      "기타 광학기기 제조업\n",
      "2014년 8월 28일\n",
      "2014-08-28 00:00:00\n",
      "https://www.cmesrobotics.ai\n",
      "48940996\n"
     ]
    },
    {
     "name": "stderr",
     "output_type": "stream",
     "text": [
      "/home/cook/venv/eda_venv/lib/python3.10/site-packages/urllib3/connectionpool.py:1099: InsecureRequestWarning: Unverified HTTPS request is being made to host 'www.saramin.co.kr'. Adding certificate verification is strongly advised. See: https://urllib3.readthedocs.io/en/latest/advanced-usage.html#tls-warnings\n",
      "  warnings.warn(\n"
     ]
    },
    {
     "name": "stdout",
     "output_type": "stream",
     "text": [
      "aTU0WER6Q00yNXhrRkttVEdNY1Z3UT09 (주)티오더 [t'order] 로봇사업팀 영업지원 담당자 모집\n",
      "2024-09-02 18:00:00\n",
      "응용 소프트웨어 개발 및 공급업\n",
      "2019년 1월 3일\n",
      "2019-01-03 00:00:00\n",
      "torder.com\n"
     ]
    },
    {
     "name": "stderr",
     "output_type": "stream",
     "text": [
      "/home/cook/venv/eda_venv/lib/python3.10/site-packages/urllib3/connectionpool.py:1099: InsecureRequestWarning: Unverified HTTPS request is being made to host 'www.saramin.co.kr'. Adding certificate verification is strongly advised. See: https://urllib3.readthedocs.io/en/latest/advanced-usage.html#tls-warnings\n",
      "  warnings.warn(\n"
     ]
    },
    {
     "name": "stdout",
     "output_type": "stream",
     "text": [
      "48939986\n"
     ]
    },
    {
     "name": "stderr",
     "output_type": "stream",
     "text": [
      "/home/cook/venv/eda_venv/lib/python3.10/site-packages/urllib3/connectionpool.py:1099: InsecureRequestWarning: Unverified HTTPS request is being made to host 'www.saramin.co.kr'. Adding certificate verification is strongly advised. See: https://urllib3.readthedocs.io/en/latest/advanced-usage.html#tls-warnings\n",
      "  warnings.warn(\n"
     ]
    },
    {
     "name": "stdout",
     "output_type": "stream",
     "text": [
      "N3VpN1djZ1JJeFJKSk1MdGllRldTUT09 그린에이아이 경영기획 / 마케팅 폭풍 성장할 분 찾습니다\n",
      "2024-09-03 10:00:00\n",
      "응용 소프트웨어 개발 및 공급업\n",
      "48937240\n"
     ]
    },
    {
     "name": "stderr",
     "output_type": "stream",
     "text": [
      "/home/cook/venv/eda_venv/lib/python3.10/site-packages/urllib3/connectionpool.py:1099: InsecureRequestWarning: Unverified HTTPS request is being made to host 'www.saramin.co.kr'. Adding certificate verification is strongly advised. See: https://urllib3.readthedocs.io/en/latest/advanced-usage.html#tls-warnings\n",
      "  warnings.warn(\n"
     ]
    },
    {
     "name": "stdout",
     "output_type": "stream",
     "text": [
      "dmJYYmEwMlVzdnhlbGM3RENNUzZKZz09 (주)에이피텍 (주)에이피텍  PC제어팀 경력직 채용 (본사)\n",
      "2024-09-02 18:00:00\n",
      "반도체 제조용 기계 제조업\n",
      "www.ap-tech.co.kr\n",
      "48937134\n"
     ]
    },
    {
     "name": "stderr",
     "output_type": "stream",
     "text": [
      "/home/cook/venv/eda_venv/lib/python3.10/site-packages/urllib3/connectionpool.py:1099: InsecureRequestWarning: Unverified HTTPS request is being made to host 'www.saramin.co.kr'. Adding certificate verification is strongly advised. See: https://urllib3.readthedocs.io/en/latest/advanced-usage.html#tls-warnings\n",
      "  warnings.warn(\n"
     ]
    },
    {
     "name": "stdout",
     "output_type": "stream",
     "text": [
      "bTRLa2VqenIzWTR6N2FJOHlobVVQZz09 (주)한국해양벤처투자 석박사 연구원 채용\n",
      "2024-09-02 18:00:00\n",
      "경영 컨설팅업\n",
      "2021년 2월 4일\n",
      "2021-02-04 00:00:00\n",
      "48936797\n"
     ]
    },
    {
     "name": "stderr",
     "output_type": "stream",
     "text": [
      "/home/cook/venv/eda_venv/lib/python3.10/site-packages/urllib3/connectionpool.py:1099: InsecureRequestWarning: Unverified HTTPS request is being made to host 'www.saramin.co.kr'. Adding certificate verification is strongly advised. See: https://urllib3.readthedocs.io/en/latest/advanced-usage.html#tls-warnings\n",
      "  warnings.warn(\n"
     ]
    },
    {
     "name": "stdout",
     "output_type": "stream",
     "text": [
      "M01TdzZnUlZTVlVSUWtLY3J2b200UT09 오토엘(주) F/W 펌웨어 개발\n",
      "2024-09-03 00:00:00\n",
      "레이더, 항행용 무선기기 및 측량기구 제..\n",
      "2021년 4월 30일\n",
      "2021-04-30 00:00:00\n",
      "autol.co.kr\n",
      "48936791\n"
     ]
    },
    {
     "name": "stderr",
     "output_type": "stream",
     "text": [
      "/home/cook/venv/eda_venv/lib/python3.10/site-packages/urllib3/connectionpool.py:1099: InsecureRequestWarning: Unverified HTTPS request is being made to host 'www.saramin.co.kr'. Adding certificate verification is strongly advised. See: https://urllib3.readthedocs.io/en/latest/advanced-usage.html#tls-warnings\n",
      "  warnings.warn(\n"
     ]
    },
    {
     "name": "stdout",
     "output_type": "stream",
     "text": [
      "M01TdzZnUlZTVlVSUWtLY3J2b200UT09 오토엘(주) 임베디드 소프트웨어 개발\n",
      "2024-09-03 00:00:00\n",
      "레이더, 항행용 무선기기 및 측량기구 제..\n",
      "2021년 4월 30일\n",
      "2021-04-30 00:00:00\n",
      "autol.co.kr\n",
      "48936692\n"
     ]
    },
    {
     "name": "stderr",
     "output_type": "stream",
     "text": [
      "/home/cook/venv/eda_venv/lib/python3.10/site-packages/urllib3/connectionpool.py:1099: InsecureRequestWarning: Unverified HTTPS request is being made to host 'www.saramin.co.kr'. Adding certificate verification is strongly advised. See: https://urllib3.readthedocs.io/en/latest/advanced-usage.html#tls-warnings\n",
      "  warnings.warn(\n"
     ]
    },
    {
     "name": "stdout",
     "output_type": "stream",
     "text": [
      "RGsxNlhXSWI3R3NPZFZ4QzFxcEJEdz09 (주)뉴빌리티 Sensor Fusion Engineer(전문연구요원 가능)\n",
      "2024-09-03 00:00:00\n",
      "응용 소프트웨어 개발 및 공급업\n",
      "2017년 10월 26일\n",
      "2017-10-26 00:00:00\n",
      "www.neubility.co.kr\n",
      "48936681\n"
     ]
    },
    {
     "name": "stderr",
     "output_type": "stream",
     "text": [
      "/home/cook/venv/eda_venv/lib/python3.10/site-packages/urllib3/connectionpool.py:1099: InsecureRequestWarning: Unverified HTTPS request is being made to host 'www.saramin.co.kr'. Adding certificate verification is strongly advised. See: https://urllib3.readthedocs.io/en/latest/advanced-usage.html#tls-warnings\n",
      "  warnings.warn(\n"
     ]
    },
    {
     "name": "stdout",
     "output_type": "stream",
     "text": [
      "RGsxNlhXSWI3R3NPZFZ4QzFxcEJEdz09 (주)뉴빌리티 Planning & Control Engineer(전문연구요원 가능)\n",
      "2024-09-03 00:00:00\n",
      "응용 소프트웨어 개발 및 공급업\n",
      "2017년 10월 26일\n",
      "2017-10-26 00:00:00\n",
      "www.neubility.co.kr\n",
      "48936677\n"
     ]
    },
    {
     "name": "stderr",
     "output_type": "stream",
     "text": [
      "/home/cook/venv/eda_venv/lib/python3.10/site-packages/urllib3/connectionpool.py:1099: InsecureRequestWarning: Unverified HTTPS request is being made to host 'www.saramin.co.kr'. Adding certificate verification is strongly advised. See: https://urllib3.readthedocs.io/en/latest/advanced-usage.html#tls-warnings\n",
      "  warnings.warn(\n"
     ]
    },
    {
     "name": "stdout",
     "output_type": "stream",
     "text": [
      "RGsxNlhXSWI3R3NPZFZ4QzFxcEJEdz09 (주)뉴빌리티 Computer Vision-Visual SLAM(전문연구요원 가능)\n",
      "2024-09-03 00:00:00\n",
      "응용 소프트웨어 개발 및 공급업\n",
      "2017년 10월 26일\n",
      "2017-10-26 00:00:00\n",
      "www.neubility.co.kr\n",
      "48936662\n"
     ]
    },
    {
     "name": "stderr",
     "output_type": "stream",
     "text": [
      "/home/cook/venv/eda_venv/lib/python3.10/site-packages/urllib3/connectionpool.py:1099: InsecureRequestWarning: Unverified HTTPS request is being made to host 'www.saramin.co.kr'. Adding certificate verification is strongly advised. See: https://urllib3.readthedocs.io/en/latest/advanced-usage.html#tls-warnings\n",
      "  warnings.warn(\n"
     ]
    },
    {
     "name": "stdout",
     "output_type": "stream",
     "text": [
      "RGsxNlhXSWI3R3NPZFZ4QzFxcEJEdz09 (주)뉴빌리티 Sensor Fusion Navigation Engineer(전문연구요원)\n",
      "2024-09-03 00:00:00\n",
      "응용 소프트웨어 개발 및 공급업\n",
      "2017년 10월 26일\n",
      "2017-10-26 00:00:00\n",
      "www.neubility.co.kr\n",
      "48936249\n"
     ]
    },
    {
     "name": "stderr",
     "output_type": "stream",
     "text": [
      "/home/cook/venv/eda_venv/lib/python3.10/site-packages/urllib3/connectionpool.py:1099: InsecureRequestWarning: Unverified HTTPS request is being made to host 'www.saramin.co.kr'. Adding certificate verification is strongly advised. See: https://urllib3.readthedocs.io/en/latest/advanced-usage.html#tls-warnings\n",
      "  warnings.warn(\n"
     ]
    },
    {
     "name": "stdout",
     "output_type": "stream",
     "text": [
      "cDNlNzFteTM1N1pZTmJMNlh6WUY2UT09 두산로보틱스(주) [두산로보틱스] 24년도 협동로봇 OLP SW 개발자\n",
      "2024-09-02 17:00:00\n",
      "산업용 로봇 제조업\n",
      "2015년 7월 31일\n",
      "2015-07-31 00:00:00\n",
      "http://www.doosanrobotics.com\n",
      "48935080\n"
     ]
    },
    {
     "name": "stderr",
     "output_type": "stream",
     "text": [
      "/home/cook/venv/eda_venv/lib/python3.10/site-packages/urllib3/connectionpool.py:1099: InsecureRequestWarning: Unverified HTTPS request is being made to host 'www.saramin.co.kr'. Adding certificate verification is strongly advised. See: https://urllib3.readthedocs.io/en/latest/advanced-usage.html#tls-warnings\n",
      "  warnings.warn(\n"
     ]
    },
    {
     "name": "stdout",
     "output_type": "stream",
     "text": [
      "V0t6bkErSU9SWXFESmhlYU1lUE01Zz09 (주)에바 EVAR와 함께할 [QA]를 모집합니다\n",
      "2024-09-02 16:00:00\n",
      "기타 전기 변환장치 제조업\n",
      "2018년 11월 16일\n",
      "2018-11-16 00:00:00\n",
      "www.evar.co.kr\n",
      "48933570\n"
     ]
    },
    {
     "name": "stderr",
     "output_type": "stream",
     "text": [
      "/home/cook/venv/eda_venv/lib/python3.10/site-packages/urllib3/connectionpool.py:1099: InsecureRequestWarning: Unverified HTTPS request is being made to host 'www.saramin.co.kr'. Adding certificate verification is strongly advised. See: https://urllib3.readthedocs.io/en/latest/advanced-usage.html#tls-warnings\n",
      "  warnings.warn(\n"
     ]
    },
    {
     "name": "stdout",
     "output_type": "stream",
     "text": [
      "V0t6bkErSU9SWXFESmhlYU1lUE01Zz09 (주)에바 전기차 충전용 Application 개발자 채용\n",
      "2024-09-02 00:00:00\n",
      "기타 전기 변환장치 제조업\n",
      "2018년 11월 16일\n",
      "2018-11-16 00:00:00\n",
      "www.evar.co.kr\n",
      "48933137\n"
     ]
    },
    {
     "name": "stderr",
     "output_type": "stream",
     "text": [
      "/home/cook/venv/eda_venv/lib/python3.10/site-packages/urllib3/connectionpool.py:1099: InsecureRequestWarning: Unverified HTTPS request is being made to host 'www.saramin.co.kr'. Adding certificate verification is strongly advised. See: https://urllib3.readthedocs.io/en/latest/advanced-usage.html#tls-warnings\n",
      "  warnings.warn(\n"
     ]
    },
    {
     "name": "stdout",
     "output_type": "stream",
     "text": [
      "dkI0d2ZlZk1SVVNoaUxpMU5GbUVSUT09 (주)프레스토솔루션 [프레스토솔루션] 개발팀 제어담당자 채용(신입~과장급)\n",
      "2024-09-02 14:00:00\n",
      "기타 산업용 기계 및 장비 도매업\n",
      "2010년 8월 16일\n",
      "2010-08-16 00:00:00\n",
      "www.prestosolution.co.kr/\n",
      "48932917\n"
     ]
    },
    {
     "name": "stderr",
     "output_type": "stream",
     "text": [
      "/home/cook/venv/eda_venv/lib/python3.10/site-packages/urllib3/connectionpool.py:1099: InsecureRequestWarning: Unverified HTTPS request is being made to host 'www.saramin.co.kr'. Adding certificate verification is strongly advised. See: https://urllib3.readthedocs.io/en/latest/advanced-usage.html#tls-warnings\n",
      "  warnings.warn(\n"
     ]
    },
    {
     "name": "stdout",
     "output_type": "stream",
     "text": [
      "a1M3bmpodFQrTDJQSDdZaStzemZvUT09 (주)에이알247 자율주행 배송 로봇 영업지원/사업관리 채용\n",
      "2024-09-02 13:00:00\n",
      "상품 종합 중개업\n",
      "2020년 1월 1일\n",
      "2020-01-01 00:00:00\n",
      "www.ar247.co.kr\n",
      "48932577\n"
     ]
    },
    {
     "name": "stderr",
     "output_type": "stream",
     "text": [
      "/home/cook/venv/eda_venv/lib/python3.10/site-packages/urllib3/connectionpool.py:1099: InsecureRequestWarning: Unverified HTTPS request is being made to host 'www.saramin.co.kr'. Adding certificate verification is strongly advised. See: https://urllib3.readthedocs.io/en/latest/advanced-usage.html#tls-warnings\n",
      "  warnings.warn(\n"
     ]
    },
    {
     "name": "stdout",
     "output_type": "stream",
     "text": [
      "cFlISDZaVGNsM2NWUnREV0RlNTlhQT09 (주)씨메스 AI 로보틱스 어플리케이션 소프트웨어 개발자\n",
      "2024-09-02 00:00:00\n",
      "기타 광학기기 제조업\n",
      "2014년 8월 28일\n",
      "2014-08-28 00:00:00\n",
      "https://www.cmesrobotics.ai\n",
      "48932301\n"
     ]
    },
    {
     "name": "stderr",
     "output_type": "stream",
     "text": [
      "/home/cook/venv/eda_venv/lib/python3.10/site-packages/urllib3/connectionpool.py:1099: InsecureRequestWarning: Unverified HTTPS request is being made to host 'www.saramin.co.kr'. Adding certificate verification is strongly advised. See: https://urllib3.readthedocs.io/en/latest/advanced-usage.html#tls-warnings\n",
      "  warnings.warn(\n"
     ]
    },
    {
     "name": "stdout",
     "output_type": "stream",
     "text": [
      "NVJOS2hFVnJDaDhqOVN2UlpkZkhkdz09 (주)벤디트 숙박업 운영 서비스, 조립/설치/AS 엔지니어 채용(서울 본사)\n",
      "2024-09-02 13:00:00\n",
      "솔루션·SI·ERP·CRM\n",
      "2021년 2월 22일\n",
      "2021-02-22 00:00:00\n",
      "vendit.co.kr\n",
      "48932224\n"
     ]
    },
    {
     "name": "stderr",
     "output_type": "stream",
     "text": [
      "/home/cook/venv/eda_venv/lib/python3.10/site-packages/urllib3/connectionpool.py:1099: InsecureRequestWarning: Unverified HTTPS request is being made to host 'www.saramin.co.kr'. Adding certificate verification is strongly advised. See: https://urllib3.readthedocs.io/en/latest/advanced-usage.html#tls-warnings\n",
      "  warnings.warn(\n"
     ]
    },
    {
     "name": "stdout",
     "output_type": "stream",
     "text": [
      "WXo0RjhGV3ZCOXY2a2t4dFVFc0doZz09 (주)언맨드솔루션 [(주)언맨드솔루션] 자율주행 SW 개발 및 운용 연구원 모집\n",
      "2024-09-02 13:00:00\n",
      "응용 소프트웨어 개발 및 공급업\n",
      "2008년 2월 29일\n",
      "2008-02-29 00:00:00\n",
      "www.unmansol.com\n",
      "48932214\n"
     ]
    },
    {
     "name": "stderr",
     "output_type": "stream",
     "text": [
      "/home/cook/venv/eda_venv/lib/python3.10/site-packages/urllib3/connectionpool.py:1099: InsecureRequestWarning: Unverified HTTPS request is being made to host 'www.saramin.co.kr'. Adding certificate verification is strongly advised. See: https://urllib3.readthedocs.io/en/latest/advanced-usage.html#tls-warnings\n",
      "  warnings.warn(\n"
     ]
    },
    {
     "name": "stdout",
     "output_type": "stream",
     "text": [
      "WXo0RjhGV3ZCOXY2a2t4dFVFc0doZz09 (주)언맨드솔루션 [(주)언맨드솔루션] 자율주행플랫폼(전장)분야 연구원 모집\n",
      "2024-09-02 13:00:00\n",
      "응용 소프트웨어 개발 및 공급업\n",
      "2008년 2월 29일\n",
      "2008-02-29 00:00:00\n",
      "www.unmansol.com\n",
      "48932206\n"
     ]
    },
    {
     "name": "stderr",
     "output_type": "stream",
     "text": [
      "/home/cook/venv/eda_venv/lib/python3.10/site-packages/urllib3/connectionpool.py:1099: InsecureRequestWarning: Unverified HTTPS request is being made to host 'www.saramin.co.kr'. Adding certificate verification is strongly advised. See: https://urllib3.readthedocs.io/en/latest/advanced-usage.html#tls-warnings\n",
      "  warnings.warn(\n"
     ]
    },
    {
     "name": "stdout",
     "output_type": "stream",
     "text": [
      "WXo0RjhGV3ZCOXY2a2t4dFVFc0doZz09 (주)언맨드솔루션 언맨드솔루션)자율주행모빌리티분야 정부과제관리수행(신입)채용\n",
      "2024-09-02 13:00:00\n",
      "응용 소프트웨어 개발 및 공급업\n",
      "2008년 2월 29일\n",
      "2008-02-29 00:00:00\n",
      "www.unmansol.com\n",
      "48931381\n"
     ]
    },
    {
     "name": "stderr",
     "output_type": "stream",
     "text": [
      "/home/cook/venv/eda_venv/lib/python3.10/site-packages/urllib3/connectionpool.py:1099: InsecureRequestWarning: Unverified HTTPS request is being made to host 'www.saramin.co.kr'. Adding certificate verification is strongly advised. See: https://urllib3.readthedocs.io/en/latest/advanced-usage.html#tls-warnings\n",
      "  warnings.warn(\n"
     ]
    },
    {
     "name": "stdout",
     "output_type": "stream",
     "text": [
      "dVBCcE1Wa3lUM2pEYjRvNGovaU1JZz09 (주)한양정밀 (한양정밀) 본사 각 사업부 임원 및 사무직 직원 채용공고\n",
      "2024-09-02 00:00:00\n",
      "그 외 자동차용 신품 부품 제조업\n",
      "1985년 2월 6일\n",
      "1985-02-06 00:00:00\n",
      "www.hanyang-p.co.kr\n",
      "48931269\n"
     ]
    },
    {
     "name": "stderr",
     "output_type": "stream",
     "text": [
      "/home/cook/venv/eda_venv/lib/python3.10/site-packages/urllib3/connectionpool.py:1099: InsecureRequestWarning: Unverified HTTPS request is being made to host 'www.saramin.co.kr'. Adding certificate verification is strongly advised. See: https://urllib3.readthedocs.io/en/latest/advanced-usage.html#tls-warnings\n",
      "  warnings.warn(\n"
     ]
    },
    {
     "name": "stdout",
     "output_type": "stream",
     "text": [
      "RkU3WmJ3ZnJtaUdFN0pEOTNYVFE1QT09 (주)로보로보 로보로보코딩랩 수업강사 모집공고\n",
      "2024-09-02 11:00:00\n",
      "그 외 기타 전기장비 제조업\n",
      "2015년 2월 9일\n",
      "2015-02-09 00:00:00\n",
      "48930564\n"
     ]
    },
    {
     "name": "stderr",
     "output_type": "stream",
     "text": [
      "/home/cook/venv/eda_venv/lib/python3.10/site-packages/urllib3/connectionpool.py:1099: InsecureRequestWarning: Unverified HTTPS request is being made to host 'www.saramin.co.kr'. Adding certificate verification is strongly advised. See: https://urllib3.readthedocs.io/en/latest/advanced-usage.html#tls-warnings\n",
      "  warnings.warn(\n"
     ]
    },
    {
     "name": "stdout",
     "output_type": "stream",
     "text": [
      "aHBTTzlKNXVZSjA5TWhIVklNREF5UT09 두림야스카와(주) 공정설계 / 경력직(8년이상) 채용 (포토폴리오必)\n",
      "2024-09-02 11:00:00\n",
      "산업용 로봇 제조업\n",
      "1997년 6월 11일\n",
      "1997-06-11 00:00:00\n",
      "www.doolim-yaskawa.com\n",
      "48930403\n"
     ]
    },
    {
     "name": "stderr",
     "output_type": "stream",
     "text": [
      "/home/cook/venv/eda_venv/lib/python3.10/site-packages/urllib3/connectionpool.py:1099: InsecureRequestWarning: Unverified HTTPS request is being made to host 'www.saramin.co.kr'. Adding certificate verification is strongly advised. See: https://urllib3.readthedocs.io/en/latest/advanced-usage.html#tls-warnings\n",
      "  warnings.warn(\n"
     ]
    },
    {
     "name": "stdout",
     "output_type": "stream",
     "text": [
      "b2gzc2t4UmJ3NnJpRXdCdG1yNmZ4Zz09 (주)큐링이노스 [(주)큐링이노스] 웹 / 앱 백엔드 개발자 경력 모집\n",
      "2024-09-02 10:00:00\n",
      "컴퓨터시스템 통합 자문 및 구축 서비스업\n",
      "2021년 4월 29일\n",
      "2021-04-29 00:00:00\n",
      "48929843\n"
     ]
    },
    {
     "name": "stderr",
     "output_type": "stream",
     "text": [
      "/home/cook/venv/eda_venv/lib/python3.10/site-packages/urllib3/connectionpool.py:1099: InsecureRequestWarning: Unverified HTTPS request is being made to host 'www.saramin.co.kr'. Adding certificate verification is strongly advised. See: https://urllib3.readthedocs.io/en/latest/advanced-usage.html#tls-warnings\n",
      "  warnings.warn(\n"
     ]
    },
    {
     "name": "stdout",
     "output_type": "stream",
     "text": [
      "b2gzc2t4UmJ3NnJpRXdCdG1yNmZ4Zz09 (주)큐링이노스 [(주)큐링이노스] 웹 / 앱 풀스택 개발자 경력 모집\n",
      "2024-09-02 10:00:00\n",
      "컴퓨터시스템 통합 자문 및 구축 서비스업\n",
      "2021년 4월 29일\n",
      "2021-04-29 00:00:00\n",
      "48929578\n"
     ]
    },
    {
     "name": "stderr",
     "output_type": "stream",
     "text": [
      "/home/cook/venv/eda_venv/lib/python3.10/site-packages/urllib3/connectionpool.py:1099: InsecureRequestWarning: Unverified HTTPS request is being made to host 'www.saramin.co.kr'. Adding certificate verification is strongly advised. See: https://urllib3.readthedocs.io/en/latest/advanced-usage.html#tls-warnings\n",
      "  warnings.warn(\n"
     ]
    },
    {
     "name": "stdout",
     "output_type": "stream",
     "text": [
      "T2NNVWprTTBndXN6Q3R5alplU3hYUT09 (주)유엔디 로봇스타트업  연구과제 및 국책과제 수행 연구원 (대구/구미)\n",
      "2024-09-02 10:00:00\n",
      "산업용 로봇 제조업\n",
      "2013년 4월 1일\n",
      "2013-04-01 00:00:00\n",
      "www.magbot.kr\n",
      "48928752\n"
     ]
    },
    {
     "name": "stderr",
     "output_type": "stream",
     "text": [
      "/home/cook/venv/eda_venv/lib/python3.10/site-packages/urllib3/connectionpool.py:1099: InsecureRequestWarning: Unverified HTTPS request is being made to host 'www.saramin.co.kr'. Adding certificate verification is strongly advised. See: https://urllib3.readthedocs.io/en/latest/advanced-usage.html#tls-warnings\n",
      "  warnings.warn(\n"
     ]
    },
    {
     "name": "stdout",
     "output_type": "stream",
     "text": [
      "SnRWb1JWK3U3SUVHODVMQ1lGcyswQT09 (주)컴파스시스템 협동로봇 기술영업\n",
      "2024-09-02 10:00:00\n",
      "전자기 측정, 시험 및 분석기구 제조업\n",
      "2000년 10월 10일\n",
      "2000-10-10 00:00:00\n",
      "www.compass21.com\n",
      "48928612\n"
     ]
    },
    {
     "name": "stderr",
     "output_type": "stream",
     "text": [
      "/home/cook/venv/eda_venv/lib/python3.10/site-packages/urllib3/connectionpool.py:1099: InsecureRequestWarning: Unverified HTTPS request is being made to host 'www.saramin.co.kr'. Adding certificate verification is strongly advised. See: https://urllib3.readthedocs.io/en/latest/advanced-usage.html#tls-warnings\n",
      "  warnings.warn(\n"
     ]
    },
    {
     "name": "stdout",
     "output_type": "stream",
     "text": [
      "YXdzTEpEQVlmRDdrM05wL1hSU0Qzdz09 (주)라온테크 제약 검사자동화 분야 기구설계 경력사원 채용\n",
      "2024-09-02 00:00:00\n",
      "산업용 로봇 제조업\n",
      "2000년 3월 14일\n",
      "2000-03-14 00:00:00\n",
      "www.raonrobot.com\n",
      "48928446\n"
     ]
    },
    {
     "name": "stderr",
     "output_type": "stream",
     "text": [
      "/home/cook/venv/eda_venv/lib/python3.10/site-packages/urllib3/connectionpool.py:1099: InsecureRequestWarning: Unverified HTTPS request is being made to host 'www.saramin.co.kr'. Adding certificate verification is strongly advised. See: https://urllib3.readthedocs.io/en/latest/advanced-usage.html#tls-warnings\n",
      "  warnings.warn(\n"
     ]
    },
    {
     "name": "stdout",
     "output_type": "stream",
     "text": [
      "YXdzTEpEQVlmRDdrM05wL1hSU0Qzdz09 (주)라온테크 로봇 제어 분야 경력사원 채용\n",
      "2024-09-02 00:00:00\n",
      "산업용 로봇 제조업\n",
      "2000년 3월 14일\n",
      "2000-03-14 00:00:00\n",
      "www.raonrobot.com\n",
      "48927837\n"
     ]
    },
    {
     "name": "stderr",
     "output_type": "stream",
     "text": [
      "/home/cook/venv/eda_venv/lib/python3.10/site-packages/urllib3/connectionpool.py:1099: InsecureRequestWarning: Unverified HTTPS request is being made to host 'www.saramin.co.kr'. Adding certificate verification is strongly advised. See: https://urllib3.readthedocs.io/en/latest/advanced-usage.html#tls-warnings\n",
      "  warnings.warn(\n"
     ]
    },
    {
     "name": "stdout",
     "output_type": "stream",
     "text": [
      "VEJOaElxN3pYdnJ2QVY2NnR3Z3BsZz09 창의융합과학(주) 응용 소프트웨어개발 ( AI SW, 지능형교육로봇SW, 로봇연동 앱)\n",
      "2024-09-02 09:00:00\n",
      "시스템 소프트웨어 개발 및 공급업\n",
      "2017년 2월 6일\n",
      "2017-02-06 00:00:00\n",
      "http://codingmaker.kr\n",
      "48927790\n"
     ]
    },
    {
     "name": "stderr",
     "output_type": "stream",
     "text": [
      "/home/cook/venv/eda_venv/lib/python3.10/site-packages/urllib3/connectionpool.py:1099: InsecureRequestWarning: Unverified HTTPS request is being made to host 'www.saramin.co.kr'. Adding certificate verification is strongly advised. See: https://urllib3.readthedocs.io/en/latest/advanced-usage.html#tls-warnings\n",
      "  warnings.warn(\n"
     ]
    },
    {
     "name": "stdout",
     "output_type": "stream",
     "text": [
      "RHEzSlpGSHplUzh3YkJjMnBQWTdpUT09 (주)트윔 [면접비 지급] 2D&3D 비전 개발자 채용(경력)\n",
      "2024-09-02 09:00:00\n",
      "응용 소프트웨어 개발 및 공급업\n",
      "2010년 1월 21일\n",
      "2010-01-21 00:00:00\n",
      "http://twim21.com\n",
      "48926223\n"
     ]
    },
    {
     "name": "stderr",
     "output_type": "stream",
     "text": [
      "/home/cook/venv/eda_venv/lib/python3.10/site-packages/urllib3/connectionpool.py:1099: InsecureRequestWarning: Unverified HTTPS request is being made to host 'www.saramin.co.kr'. Adding certificate verification is strongly advised. See: https://urllib3.readthedocs.io/en/latest/advanced-usage.html#tls-warnings\n",
      "  warnings.warn(\n"
     ]
    },
    {
     "name": "stdout",
     "output_type": "stream",
     "text": [
      "Z1VZSnl6K0FwMG9HUmdiWGMzNkY0dz09 (주)비전스페이스 백엔드 & 플랫폼 기반 메타버스 언리얼엔진 개발자 정규직 채용\n",
      "2024-09-01 20:00:00\n",
      "응용 소프트웨어 개발 및 공급업\n",
      "2023년 9월 25일\n",
      "2023-09-25 00:00:00\n",
      "visionspace.co.kr\n",
      "48925129\n"
     ]
    },
    {
     "name": "stderr",
     "output_type": "stream",
     "text": [
      "/home/cook/venv/eda_venv/lib/python3.10/site-packages/urllib3/connectionpool.py:1099: InsecureRequestWarning: Unverified HTTPS request is being made to host 'www.saramin.co.kr'. Adding certificate verification is strongly advised. See: https://urllib3.readthedocs.io/en/latest/advanced-usage.html#tls-warnings\n",
      "  warnings.warn(\n"
     ]
    },
    {
     "name": "stdout",
     "output_type": "stream",
     "text": [
      "VG52bUhRdVk0TDNpSTVyYlp5dHF3UT09 파워오토로보틱스(주) 산업용 로봇 SW 컴퓨터 VISION 엔지니어 채용공고 [서울]\n",
      "2024-08-31 20:00:00\n",
      "2020년 1월 13일\n",
      "2020-01-13 00:00:00\n",
      "www.pa-robotics.co.kr\n",
      "48923968\n"
     ]
    },
    {
     "name": "stderr",
     "output_type": "stream",
     "text": [
      "/home/cook/venv/eda_venv/lib/python3.10/site-packages/urllib3/connectionpool.py:1099: InsecureRequestWarning: Unverified HTTPS request is being made to host 'www.saramin.co.kr'. Adding certificate verification is strongly advised. See: https://urllib3.readthedocs.io/en/latest/advanced-usage.html#tls-warnings\n",
      "  warnings.warn(\n"
     ]
    },
    {
     "name": "stdout",
     "output_type": "stream",
     "text": [
      "VFM1dW9HeW92dklsSmNqVWc3d0h3Zz09 (주)에스티앤아이 경영관리팀 직원 채용 공고\n",
      "2024-08-31 09:00:00\n",
      "산업용 로봇 제조업\n",
      "2021년 10월 13일\n",
      "2021-10-13 00:00:00\n",
      "www.stni.co.kr\n",
      "48923491\n"
     ]
    },
    {
     "name": "stderr",
     "output_type": "stream",
     "text": [
      "/home/cook/venv/eda_venv/lib/python3.10/site-packages/urllib3/connectionpool.py:1099: InsecureRequestWarning: Unverified HTTPS request is being made to host 'www.saramin.co.kr'. Adding certificate verification is strongly advised. See: https://urllib3.readthedocs.io/en/latest/advanced-usage.html#tls-warnings\n",
      "  warnings.warn(\n"
     ]
    },
    {
     "name": "stdout",
     "output_type": "stream",
     "text": [
      "MzVXcnBkZnVZNDhPT212dEVxclNYUT09 아트라스콥코코리아(주) [아트라스콥코코리아] 애플리케이션 엔지니어 인턴십 (광명)\n",
      "2024-08-30 21:00:00\n",
      "그 외 기타 기계 및 장비 도매업\n",
      "1989년 3월 10일\n",
      "1989-03-10 00:00:00\n",
      "www.atlascopco.co.kr\n",
      "48923200\n"
     ]
    },
    {
     "name": "stderr",
     "output_type": "stream",
     "text": [
      "/home/cook/venv/eda_venv/lib/python3.10/site-packages/urllib3/connectionpool.py:1099: InsecureRequestWarning: Unverified HTTPS request is being made to host 'www.saramin.co.kr'. Adding certificate verification is strongly advised. See: https://urllib3.readthedocs.io/en/latest/advanced-usage.html#tls-warnings\n",
      "  warnings.warn(\n"
     ]
    },
    {
     "name": "stdout",
     "output_type": "stream",
     "text": [
      "MkFzM3UzT0I4QXN4ekdOVkRETHc2dz09 (주)티엠에스 [자동화기계설계] 설계 부장급 채용\n",
      "2024-08-30 19:00:00\n",
      "그 외 기타 분류 안된 화학제품 제조업\n",
      "2021년 12월 23일\n",
      "2021-12-23 00:00:00\n",
      "48922589\n"
     ]
    },
    {
     "name": "stderr",
     "output_type": "stream",
     "text": [
      "/home/cook/venv/eda_venv/lib/python3.10/site-packages/urllib3/connectionpool.py:1099: InsecureRequestWarning: Unverified HTTPS request is being made to host 'www.saramin.co.kr'. Adding certificate verification is strongly advised. See: https://urllib3.readthedocs.io/en/latest/advanced-usage.html#tls-warnings\n",
      "  warnings.warn(\n"
     ]
    },
    {
     "name": "stdout",
     "output_type": "stream",
     "text": [
      "cFlISDZaVGNsM2NWUnREV0RlNTlhQT09 (주)씨메스 [CMES] 시스템 엔지니어/기술 지원 엔지니어 채용\n",
      "2024-09-02 00:00:00\n",
      "기타 광학기기 제조업\n",
      "2014년 8월 28일\n",
      "2014-08-28 00:00:00\n",
      "https://www.cmesrobotics.ai\n",
      "48922534\n"
     ]
    },
    {
     "name": "stderr",
     "output_type": "stream",
     "text": [
      "/home/cook/venv/eda_venv/lib/python3.10/site-packages/urllib3/connectionpool.py:1099: InsecureRequestWarning: Unverified HTTPS request is being made to host 'www.saramin.co.kr'. Adding certificate verification is strongly advised. See: https://urllib3.readthedocs.io/en/latest/advanced-usage.html#tls-warnings\n",
      "  warnings.warn(\n"
     ]
    },
    {
     "name": "stdout",
     "output_type": "stream",
     "text": [
      "VTFoWWVYeDNaSjBCOHhyRlZNOWpCdz09 (주)넥서스원 2024년 각 분야별 채용 [신입/경력]\n",
      "2024-09-01 00:00:00\n",
      "반도체 제조업\n",
      "2015년 2월 24일\n",
      "2015-02-24 00:00:00\n",
      "48922519\n"
     ]
    },
    {
     "name": "stderr",
     "output_type": "stream",
     "text": [
      "/home/cook/venv/eda_venv/lib/python3.10/site-packages/urllib3/connectionpool.py:1099: InsecureRequestWarning: Unverified HTTPS request is being made to host 'www.saramin.co.kr'. Adding certificate verification is strongly advised. See: https://urllib3.readthedocs.io/en/latest/advanced-usage.html#tls-warnings\n",
      "  warnings.warn(\n"
     ]
    },
    {
     "name": "stdout",
     "output_type": "stream",
     "text": [
      "dTVOQVNSck9VR25ZVTcvWUN5eFBTUT09 (주)에이스웍스코리아 자율주행 임베디드 소프트웨어 엔지니어 (전문연 가능)\n",
      "2024-09-02 00:00:00\n",
      "그 외 자동차용 신품 부품 제조업\n",
      "1999년 9월 1일\n",
      "1999-09-01 00:00:00\n",
      "www.aceworks.ai\n",
      "48922476\n"
     ]
    },
    {
     "name": "stderr",
     "output_type": "stream",
     "text": [
      "/home/cook/venv/eda_venv/lib/python3.10/site-packages/urllib3/connectionpool.py:1099: InsecureRequestWarning: Unverified HTTPS request is being made to host 'www.saramin.co.kr'. Adding certificate verification is strongly advised. See: https://urllib3.readthedocs.io/en/latest/advanced-usage.html#tls-warnings\n",
      "  warnings.warn(\n"
     ]
    },
    {
     "name": "stdout",
     "output_type": "stream",
     "text": [
      "V0tkS2l3cm11aGNQZEh6aVZsS2hNUT09 빅웨이브로보틱스(주) 백엔드 개발자\n",
      "2024-08-30 00:00:00\n",
      "응용 소프트웨어 개발 및 공급업\n",
      "2020년 9월 29일\n",
      "2020-09-29 00:00:00\n",
      "www.myrobotsolution.com\n",
      "48921320\n"
     ]
    },
    {
     "name": "stderr",
     "output_type": "stream",
     "text": [
      "/home/cook/venv/eda_venv/lib/python3.10/site-packages/urllib3/connectionpool.py:1099: InsecureRequestWarning: Unverified HTTPS request is being made to host 'www.saramin.co.kr'. Adding certificate verification is strongly advised. See: https://urllib3.readthedocs.io/en/latest/advanced-usage.html#tls-warnings\n",
      "  warnings.warn(\n"
     ]
    },
    {
     "name": "stdout",
     "output_type": "stream",
     "text": [
      "QUpMaU1UMFdac1ExVXNtZnlaMDRuQT09 (주)메뉴톡 [판교IT기업] 플랫폼 개발팀 - PHP & Android 파트별 채용\n",
      "2024-08-30 15:00:00\n",
      "2021년 9월 14일\n",
      "2021-09-14 00:00:00\n",
      "menutok.co.kr\n"
     ]
    },
    {
     "name": "stderr",
     "output_type": "stream",
     "text": [
      "/home/cook/venv/eda_venv/lib/python3.10/site-packages/urllib3/connectionpool.py:1099: InsecureRequestWarning: Unverified HTTPS request is being made to host 'www.saramin.co.kr'. Adding certificate verification is strongly advised. See: https://urllib3.readthedocs.io/en/latest/advanced-usage.html#tls-warnings\n",
      "  warnings.warn(\n"
     ]
    },
    {
     "name": "stdout",
     "output_type": "stream",
     "text": [
      "48921302\n"
     ]
    },
    {
     "name": "stderr",
     "output_type": "stream",
     "text": [
      "/home/cook/venv/eda_venv/lib/python3.10/site-packages/urllib3/connectionpool.py:1099: InsecureRequestWarning: Unverified HTTPS request is being made to host 'www.saramin.co.kr'. Adding certificate verification is strongly advised. See: https://urllib3.readthedocs.io/en/latest/advanced-usage.html#tls-warnings\n",
      "  warnings.warn(\n"
     ]
    },
    {
     "name": "stdout",
     "output_type": "stream",
     "text": [
      "QUpMaU1UMFdac1ExVXNtZnlaMDRuQT09 (주)메뉴톡 [판교IT기업] 플랫폼 사업부 - 사업 기획, 전략 인재 채용\n",
      "2024-08-30 15:00:00\n",
      "2021년 9월 14일\n",
      "2021-09-14 00:00:00\n",
      "menutok.co.kr\n",
      "48921214\n"
     ]
    },
    {
     "name": "stderr",
     "output_type": "stream",
     "text": [
      "/home/cook/venv/eda_venv/lib/python3.10/site-packages/urllib3/connectionpool.py:1099: InsecureRequestWarning: Unverified HTTPS request is being made to host 'www.saramin.co.kr'. Adding certificate verification is strongly advised. See: https://urllib3.readthedocs.io/en/latest/advanced-usage.html#tls-warnings\n",
      "  warnings.warn(\n"
     ]
    },
    {
     "name": "stdout",
     "output_type": "stream",
     "text": [
      "QUpMaU1UMFdac1ExVXNtZnlaMDRuQT09 (주)메뉴톡 [판교IT기업] 플랫폼 운영팀 - 시스템설비 담당자 채용\n",
      "2024-08-30 15:00:00\n",
      "2021년 9월 14일\n",
      "2021-09-14 00:00:00\n",
      "menutok.co.kr\n",
      "48918830\n"
     ]
    },
    {
     "name": "stderr",
     "output_type": "stream",
     "text": [
      "/home/cook/venv/eda_venv/lib/python3.10/site-packages/urllib3/connectionpool.py:1099: InsecureRequestWarning: Unverified HTTPS request is being made to host 'www.saramin.co.kr'. Adding certificate verification is strongly advised. See: https://urllib3.readthedocs.io/en/latest/advanced-usage.html#tls-warnings\n",
      "  warnings.warn(\n"
     ]
    },
    {
     "name": "stdout",
     "output_type": "stream",
     "text": [
      "MW93UTBaaFZuTXIwYUVkbjVhelpDZz09 (주)오리온테크놀리지 (주)오리온테크놀리지 연구소 신규 인력 및 경력직 채용  공고\n",
      "2024-08-30 12:00:00\n",
      "선박 구성 부분품 제조업\n",
      "2003년 8월 4일\n",
      "2003-08-04 00:00:00\n",
      "www.oriont.kr\n",
      "48917695\n"
     ]
    },
    {
     "name": "stderr",
     "output_type": "stream",
     "text": [
      "/home/cook/venv/eda_venv/lib/python3.10/site-packages/urllib3/connectionpool.py:1099: InsecureRequestWarning: Unverified HTTPS request is being made to host 'www.saramin.co.kr'. Adding certificate verification is strongly advised. See: https://urllib3.readthedocs.io/en/latest/advanced-usage.html#tls-warnings\n",
      "  warnings.warn(\n"
     ]
    },
    {
     "name": "stdout",
     "output_type": "stream",
     "text": [
      "TlRyK3AvTGRTdlIzaXhIQWZCS242Zz09 쿠팡풀필먼트서비스(유) 물류운영, 엔지니어, 경영지원,EHS 경력 채용\n",
      "2024-09-01 00:00:00\n",
      "기타 육상 운송지원 서비스업\n",
      "2016년 11월 28일\n",
      "2016-11-28 00:00:00\n",
      "48916743\n"
     ]
    },
    {
     "name": "stderr",
     "output_type": "stream",
     "text": [
      "/home/cook/venv/eda_venv/lib/python3.10/site-packages/urllib3/connectionpool.py:1099: InsecureRequestWarning: Unverified HTTPS request is being made to host 'www.saramin.co.kr'. Adding certificate verification is strongly advised. See: https://urllib3.readthedocs.io/en/latest/advanced-usage.html#tls-warnings\n",
      "  warnings.warn(\n"
     ]
    },
    {
     "name": "stdout",
     "output_type": "stream",
     "text": [
      "MGZyWDFSSXBIcm51d053Z1NON0dDZz09 (주)쉐코 [쉐코] 로봇 소프트웨어 개발자 정규직 채용 공고 (선임급)\n",
      "2024-08-30 09:00:00\n",
      "산업용 로봇 제조업\n",
      "2019년 6월 19일\n",
      "2019-06-19 00:00:00\n",
      "sheco.co\n",
      "48916256\n"
     ]
    },
    {
     "name": "stderr",
     "output_type": "stream",
     "text": [
      "/home/cook/venv/eda_venv/lib/python3.10/site-packages/urllib3/connectionpool.py:1099: InsecureRequestWarning: Unverified HTTPS request is being made to host 'www.saramin.co.kr'. Adding certificate verification is strongly advised. See: https://urllib3.readthedocs.io/en/latest/advanced-usage.html#tls-warnings\n",
      "  warnings.warn(\n"
     ]
    },
    {
     "name": "stdout",
     "output_type": "stream",
     "text": [
      "U1RmUDhEQ2tTb0dGZXNOSnB5clp4dz09 (주)로보티즈 [로보티즈] 기구설계 및 감속기 경력\n",
      "2024-08-30 09:00:00\n",
      "그 외 기타 특수목적용 기계 제조업\n",
      "1999년 3월 25일\n",
      "1999-03-25 00:00:00\n",
      "www.robotis.com\n",
      "48916043\n"
     ]
    },
    {
     "name": "stderr",
     "output_type": "stream",
     "text": [
      "/home/cook/venv/eda_venv/lib/python3.10/site-packages/urllib3/connectionpool.py:1099: InsecureRequestWarning: Unverified HTTPS request is being made to host 'www.saramin.co.kr'. Adding certificate verification is strongly advised. See: https://urllib3.readthedocs.io/en/latest/advanced-usage.html#tls-warnings\n",
      "  warnings.warn(\n"
     ]
    },
    {
     "name": "stdout",
     "output_type": "stream",
     "text": [
      "TlRyK3AvTGRTdlIzaXhIQWZCS242Zz09 쿠팡풀필먼트서비스(유) [쿠팡CFS] 물류 자동화 로봇(AGV,AMR) S/W 엔지니어\n",
      "2024-09-01 00:00:00\n",
      "기타 육상 운송지원 서비스업\n",
      "2016년 11월 28일\n",
      "2016-11-28 00:00:00\n",
      "48915362\n"
     ]
    },
    {
     "name": "stderr",
     "output_type": "stream",
     "text": [
      "/home/cook/venv/eda_venv/lib/python3.10/site-packages/urllib3/connectionpool.py:1099: InsecureRequestWarning: Unverified HTTPS request is being made to host 'www.saramin.co.kr'. Adding certificate verification is strongly advised. See: https://urllib3.readthedocs.io/en/latest/advanced-usage.html#tls-warnings\n",
      "  warnings.warn(\n"
     ]
    },
    {
     "name": "stdout",
     "output_type": "stream",
     "text": [
      "YVNrdUNONDNZOXZMZENNUkYwTG1GZz09 (주)휴로틱스 로봇 개발 PM(Project Manager) 경력직 모집[휴로틱스]\n",
      "2024-08-29 21:00:00\n",
      "산업용 로봇 제조업\n",
      "2022년 7월 19일\n",
      "2022-07-19 00:00:00\n",
      "www.hurotics.com\n",
      "48914196\n"
     ]
    },
    {
     "name": "stderr",
     "output_type": "stream",
     "text": [
      "/home/cook/venv/eda_venv/lib/python3.10/site-packages/urllib3/connectionpool.py:1099: InsecureRequestWarning: Unverified HTTPS request is being made to host 'www.saramin.co.kr'. Adding certificate verification is strongly advised. See: https://urllib3.readthedocs.io/en/latest/advanced-usage.html#tls-warnings\n",
      "  warnings.warn(\n"
     ]
    },
    {
     "name": "stdout",
     "output_type": "stream",
     "text": [
      "N3FWUi9UTGFqemE5c2J3ZzFETVNwdz09 (주)아이엠알 [목포근무]소프트웨어 및  사물인터넷 개발자 모집\n",
      "2024-08-29 16:00:00\n",
      "응용 소프트웨어 개발 및 공급업\n",
      "2010년 1월 5일\n",
      "2010-01-05 00:00:00\n",
      "www.imrbiz.co.kr\n",
      "48913366\n"
     ]
    },
    {
     "name": "stderr",
     "output_type": "stream",
     "text": [
      "/home/cook/venv/eda_venv/lib/python3.10/site-packages/urllib3/connectionpool.py:1099: InsecureRequestWarning: Unverified HTTPS request is being made to host 'www.saramin.co.kr'. Adding certificate verification is strongly advised. See: https://urllib3.readthedocs.io/en/latest/advanced-usage.html#tls-warnings\n",
      "  warnings.warn(\n"
     ]
    },
    {
     "name": "stdout",
     "output_type": "stream",
     "text": [
      "MzVUdUpDOCsvUU1WcTlVRklIcXNkUT09 (주)도구공간 [도구공간] 앱 개발자 모집\n",
      "2024-08-29 15:00:00\n",
      "응용 소프트웨어 개발 및 공급업\n",
      "2017년 3월 24일\n",
      "2017-03-24 00:00:00\n",
      "48912263\n"
     ]
    },
    {
     "name": "stderr",
     "output_type": "stream",
     "text": [
      "/home/cook/venv/eda_venv/lib/python3.10/site-packages/urllib3/connectionpool.py:1099: InsecureRequestWarning: Unverified HTTPS request is being made to host 'www.saramin.co.kr'. Adding certificate verification is strongly advised. See: https://urllib3.readthedocs.io/en/latest/advanced-usage.html#tls-warnings\n",
      "  warnings.warn(\n"
     ]
    },
    {
     "name": "stdout",
     "output_type": "stream",
     "text": [
      "TnRyd1E2NGxLUklUdlgrWEowQjdnZz09 (주)엑스와이지 [서비스 로봇] 서비스 기획자(시니어)\n",
      "2024-08-29 14:00:00\n",
      "48911139\n"
     ]
    },
    {
     "name": "stderr",
     "output_type": "stream",
     "text": [
      "/home/cook/venv/eda_venv/lib/python3.10/site-packages/urllib3/connectionpool.py:1099: InsecureRequestWarning: Unverified HTTPS request is being made to host 'www.saramin.co.kr'. Adding certificate verification is strongly advised. See: https://urllib3.readthedocs.io/en/latest/advanced-usage.html#tls-warnings\n",
      "  warnings.warn(\n"
     ]
    },
    {
     "name": "stdout",
     "output_type": "stream",
     "text": [
      "dkZ4RGNrekZob1BBVVhRcTJlVG5PQT09 인더스마트(주) 인더스마트(주)  정규직 모집 공고 (생산팀)\n",
      "2024-08-29 12:00:00\n",
      "그 외 기타 의료용 기기 제조업\n",
      "2015년 10월 1일\n",
      "2015-10-01 00:00:00\n",
      "www.itsnuh.com\n",
      "48910396\n"
     ]
    },
    {
     "name": "stderr",
     "output_type": "stream",
     "text": [
      "/home/cook/venv/eda_venv/lib/python3.10/site-packages/urllib3/connectionpool.py:1099: InsecureRequestWarning: Unverified HTTPS request is being made to host 'www.saramin.co.kr'. Adding certificate verification is strongly advised. See: https://urllib3.readthedocs.io/en/latest/advanced-usage.html#tls-warnings\n",
      "  warnings.warn(\n"
     ]
    },
    {
     "name": "stdout",
     "output_type": "stream",
     "text": [
      "M1FjRDRyMEl0QUd2T3JNM2lML2liUT09 (유)포리코리아 [포리코리아] 자동차 검사장비 제어설계\n",
      "2024-08-29 11:00:00\n",
      "기타 측정, 시험, 항해, 제어 및 정밀기..\n",
      "1997년 8월 4일\n",
      "1997-08-04 00:00:00\n",
      "www.foriauto.com\n",
      "48909743\n"
     ]
    },
    {
     "name": "stderr",
     "output_type": "stream",
     "text": [
      "/home/cook/venv/eda_venv/lib/python3.10/site-packages/urllib3/connectionpool.py:1099: InsecureRequestWarning: Unverified HTTPS request is being made to host 'www.saramin.co.kr'. Adding certificate verification is strongly advised. See: https://urllib3.readthedocs.io/en/latest/advanced-usage.html#tls-warnings\n",
      "  warnings.warn(\n"
     ]
    },
    {
     "name": "stdout",
     "output_type": "stream",
     "text": [
      "d1VIZ3JWYXdzSERNVnh0NnQxU0cvZz09 (주)코트라스 재무 회계 실무 과장급 채용\n",
      "2024-08-29 10:00:00\n",
      "그 외 기타 의료용 기기 제조업\n",
      "1999년 12월 13일\n",
      "1999-12-13 00:00:00\n",
      "www.cotras.co.kr\n",
      "48909374\n"
     ]
    },
    {
     "name": "stderr",
     "output_type": "stream",
     "text": [
      "/home/cook/venv/eda_venv/lib/python3.10/site-packages/urllib3/connectionpool.py:1099: InsecureRequestWarning: Unverified HTTPS request is being made to host 'www.saramin.co.kr'. Adding certificate verification is strongly advised. See: https://urllib3.readthedocs.io/en/latest/advanced-usage.html#tls-warnings\n",
      "  warnings.warn(\n"
     ]
    },
    {
     "name": "stdout",
     "output_type": "stream",
     "text": [
      "OWR5SDNMVyszdzRldFlPb0ovWHdOUT09 (주)나인벨 [[외투기업] 기구설계연구원, 정밀부품제조생산직 채용\n",
      "2024-09-02 00:00:00\n",
      "반도체 제조용 기계 제조업\n",
      "1997년 9월 26일\n",
      "1997-09-26 00:00:00\n",
      "www.ninebell.co.kr\n",
      "48907833\n"
     ]
    },
    {
     "name": "stderr",
     "output_type": "stream",
     "text": [
      "/home/cook/venv/eda_venv/lib/python3.10/site-packages/urllib3/connectionpool.py:1099: InsecureRequestWarning: Unverified HTTPS request is being made to host 'www.saramin.co.kr'. Adding certificate verification is strongly advised. See: https://urllib3.readthedocs.io/en/latest/advanced-usage.html#tls-warnings\n",
      "  warnings.warn(\n"
     ]
    },
    {
     "name": "stdout",
     "output_type": "stream",
     "text": [
      "WUdsT0t1UWE5NXVCSEdZS20wOVNyUT09 (주)로보아이 [로봇 솔루션 기업] 전략기획실 PR/프로젝트 관리 담당\n",
      "2024-08-29 07:00:00\n",
      "산업용 로봇 제조업\n",
      "2019년 2월 18일\n",
      "2019-02-18 00:00:00\n",
      "www.roboi.kr\n",
      "48907801\n"
     ]
    },
    {
     "name": "stderr",
     "output_type": "stream",
     "text": [
      "/home/cook/venv/eda_venv/lib/python3.10/site-packages/urllib3/connectionpool.py:1099: InsecureRequestWarning: Unverified HTTPS request is being made to host 'www.saramin.co.kr'. Adding certificate verification is strongly advised. See: https://urllib3.readthedocs.io/en/latest/advanced-usage.html#tls-warnings\n",
      "  warnings.warn(\n"
     ]
    },
    {
     "name": "stdout",
     "output_type": "stream",
     "text": [
      "WUdsT0t1UWE5NXVCSEdZS20wOVNyUT09 (주)로보아이 [로봇 솔루션 기업]전문서비스 로봇 제어/SW 개발 엔지니어 채용\n",
      "2024-08-29 06:00:00\n",
      "산업용 로봇 제조업\n",
      "2019년 2월 18일\n",
      "2019-02-18 00:00:00\n",
      "www.roboi.kr\n",
      "48907185\n"
     ]
    },
    {
     "name": "stderr",
     "output_type": "stream",
     "text": [
      "/home/cook/venv/eda_venv/lib/python3.10/site-packages/urllib3/connectionpool.py:1099: InsecureRequestWarning: Unverified HTTPS request is being made to host 'www.saramin.co.kr'. Adding certificate verification is strongly advised. See: https://urllib3.readthedocs.io/en/latest/advanced-usage.html#tls-warnings\n",
      "  warnings.warn(\n"
     ]
    },
    {
     "name": "stdout",
     "output_type": "stream",
     "text": [
      "VmZPN1VIdUJwcmFwSllQcllOR1V6Zz09 (주)모아소프트 [모아소프트] EM사업부 모터/배터리 해석 분야 엔지니어 채용\n",
      "2024-08-28 18:00:00\n",
      "www.moasoftware.co.kr\n",
      "48906733\n"
     ]
    },
    {
     "name": "stderr",
     "output_type": "stream",
     "text": [
      "/home/cook/venv/eda_venv/lib/python3.10/site-packages/urllib3/connectionpool.py:1099: InsecureRequestWarning: Unverified HTTPS request is being made to host 'www.saramin.co.kr'. Adding certificate verification is strongly advised. See: https://urllib3.readthedocs.io/en/latest/advanced-usage.html#tls-warnings\n",
      "  warnings.warn(\n"
     ]
    },
    {
     "name": "stdout",
     "output_type": "stream",
     "text": [
      "dmdPcHJ6akQ2eW9rOUR6VlNTRGl2dz09 (주)비로보틱스 [배민로봇] 기술품질파트 담당자 (3년 이상)\n",
      "2024-08-28 17:00:00\n",
      "컴퓨터시스템 통합 자문 및 구축 서비스업\n",
      "2023년 2월 1일\n",
      "2023-02-01 00:00:00\n",
      "https://b-robotics.career.greetinghr.com/\n",
      "48905535\n"
     ]
    },
    {
     "name": "stderr",
     "output_type": "stream",
     "text": [
      "/home/cook/venv/eda_venv/lib/python3.10/site-packages/urllib3/connectionpool.py:1099: InsecureRequestWarning: Unverified HTTPS request is being made to host 'www.saramin.co.kr'. Adding certificate verification is strongly advised. See: https://urllib3.readthedocs.io/en/latest/advanced-usage.html#tls-warnings\n",
      "  warnings.warn(\n"
     ]
    },
    {
     "name": "stdout",
     "output_type": "stream",
     "text": [
      "cUxkWEJNNk5zdmNIYm5sYWNCbjlLQT09 (주)페이히어 [인센티브/근속장려금/정착지원금] 고객 상담 매니저\n",
      "2024-09-24 15:00:00\n",
      "2019년 8월 1일\n",
      "2019-08-01 00:00:00\n",
      "http://payhere.in/\n",
      "48903928\n"
     ]
    },
    {
     "name": "stderr",
     "output_type": "stream",
     "text": [
      "/home/cook/venv/eda_venv/lib/python3.10/site-packages/urllib3/connectionpool.py:1099: InsecureRequestWarning: Unverified HTTPS request is being made to host 'www.saramin.co.kr'. Adding certificate verification is strongly advised. See: https://urllib3.readthedocs.io/en/latest/advanced-usage.html#tls-warnings\n",
      "  warnings.warn(\n"
     ]
    },
    {
     "name": "stdout",
     "output_type": "stream",
     "text": [
      "ZE5vK2ZHeEhiT1FZbUtDZGl3RTVWZz09 (주)한국교육평가원 [강사모집] 온라인 촬영 강사님을 모집합니다.(교육지도 과정)\n",
      "2024-08-28 13:00:00\n",
      "온라인 교육 학원\n",
      "2009년 11월 20일\n",
      "2009-11-20 00:00:00\n",
      "www.kpei.co.kr\n",
      "48902850\n"
     ]
    },
    {
     "name": "stderr",
     "output_type": "stream",
     "text": [
      "/home/cook/venv/eda_venv/lib/python3.10/site-packages/urllib3/connectionpool.py:1099: InsecureRequestWarning: Unverified HTTPS request is being made to host 'www.saramin.co.kr'. Adding certificate verification is strongly advised. See: https://urllib3.readthedocs.io/en/latest/advanced-usage.html#tls-warnings\n",
      "  warnings.warn(\n"
     ]
    },
    {
     "name": "stdout",
     "output_type": "stream",
     "text": [
      "dStHa0twVkR2OHBsSlZQelhtdnhjZz09 (주)프라코 (주)프라코 외주관리 신입·경력직 모집\n",
      "2024-08-28 13:00:00\n",
      "자동차 차체용 신품 부품 제조업\n",
      "1989년 2월 9일\n",
      "1989-02-09 00:00:00\n",
      "www.plakor.co.kr\n",
      "48901333\n"
     ]
    },
    {
     "name": "stderr",
     "output_type": "stream",
     "text": [
      "/home/cook/venv/eda_venv/lib/python3.10/site-packages/urllib3/connectionpool.py:1099: InsecureRequestWarning: Unverified HTTPS request is being made to host 'www.saramin.co.kr'. Adding certificate verification is strongly advised. See: https://urllib3.readthedocs.io/en/latest/advanced-usage.html#tls-warnings\n",
      "  warnings.warn(\n"
     ]
    },
    {
     "name": "stdout",
     "output_type": "stream",
     "text": [
      "djc0QW1pUTNWcnlRT2VVZXBTVlJwdz09 (주)뉴로메카 [뉴로메카] 로봇 Perception 엔지니어 채용\n",
      "2024-08-28 10:00:00\n",
      "산업용 로봇 제조업\n",
      "2013년 2월 14일\n",
      "2013-02-14 00:00:00\n",
      "http://www.neuromeka.com\n",
      "48899187\n"
     ]
    },
    {
     "name": "stderr",
     "output_type": "stream",
     "text": [
      "/home/cook/venv/eda_venv/lib/python3.10/site-packages/urllib3/connectionpool.py:1099: InsecureRequestWarning: Unverified HTTPS request is being made to host 'www.saramin.co.kr'. Adding certificate verification is strongly advised. See: https://urllib3.readthedocs.io/en/latest/advanced-usage.html#tls-warnings\n",
      "  warnings.warn(\n"
     ]
    },
    {
     "name": "stdout",
     "output_type": "stream",
     "text": [
      "SUhCT2diMGRGekZKUDVBUEc2b1FSQT09 주식회사디든로보틱스 로봇 하드웨어/소프트웨어 개발자 및 세무사무원 모집\n",
      "2024-08-27 19:00:00\n",
      "솔루션·SI·ERP·CRM\n",
      "48898914\n"
     ]
    },
    {
     "name": "stderr",
     "output_type": "stream",
     "text": [
      "/home/cook/venv/eda_venv/lib/python3.10/site-packages/urllib3/connectionpool.py:1099: InsecureRequestWarning: Unverified HTTPS request is being made to host 'www.saramin.co.kr'. Adding certificate verification is strongly advised. See: https://urllib3.readthedocs.io/en/latest/advanced-usage.html#tls-warnings\n",
      "  warnings.warn(\n"
     ]
    },
    {
     "name": "stdout",
     "output_type": "stream",
     "text": [
      "MlVwU2c0TVk5Z01pY1pLemIveGVNQT09 (주)피앤에스미캐닉스 (주)피앤에스미캐닉스 기술연구소 UI S/W 개발 경력자 채용\n",
      "2024-08-27 18:00:00\n",
      "그 외 기타 의료용 기기 제조업\n",
      "2003년 12월 26일\n",
      "2003-12-26 00:00:00\n",
      "www.walkbot.co.kr\n",
      "48898896\n"
     ]
    },
    {
     "name": "stderr",
     "output_type": "stream",
     "text": [
      "/home/cook/venv/eda_venv/lib/python3.10/site-packages/urllib3/connectionpool.py:1099: InsecureRequestWarning: Unverified HTTPS request is being made to host 'www.saramin.co.kr'. Adding certificate verification is strongly advised. See: https://urllib3.readthedocs.io/en/latest/advanced-usage.html#tls-warnings\n",
      "  warnings.warn(\n"
     ]
    },
    {
     "name": "stdout",
     "output_type": "stream",
     "text": [
      "MlVwU2c0TVk5Z01pY1pLemIveGVNQT09 (주)피앤에스미캐닉스 (주)피앤에스미캐닉스 기계 엔지니어 신규채용\n",
      "2024-08-27 18:00:00\n",
      "그 외 기타 의료용 기기 제조업\n",
      "2003년 12월 26일\n",
      "2003-12-26 00:00:00\n",
      "www.walkbot.co.kr\n",
      "48896634\n"
     ]
    },
    {
     "name": "stderr",
     "output_type": "stream",
     "text": [
      "/home/cook/venv/eda_venv/lib/python3.10/site-packages/urllib3/connectionpool.py:1099: InsecureRequestWarning: Unverified HTTPS request is being made to host 'www.saramin.co.kr'. Adding certificate verification is strongly advised. See: https://urllib3.readthedocs.io/en/latest/advanced-usage.html#tls-warnings\n",
      "  warnings.warn(\n"
     ]
    },
    {
     "name": "stdout",
     "output_type": "stream",
     "text": [
      "ZXdVaVJkdDlBQ2FNMldSNTAvRng2QT09 (주)위드포인츠 기구/자동화 설계 경력직 채용\n",
      "2024-08-27 15:00:00\n",
      "기타 공학 연구개발업\n",
      "2019년 4월 12일\n",
      "2019-04-12 00:00:00\n",
      "www.withpoints.co.kr\n",
      "48896467\n"
     ]
    },
    {
     "name": "stderr",
     "output_type": "stream",
     "text": [
      "/home/cook/venv/eda_venv/lib/python3.10/site-packages/urllib3/connectionpool.py:1099: InsecureRequestWarning: Unverified HTTPS request is being made to host 'www.saramin.co.kr'. Adding certificate verification is strongly advised. See: https://urllib3.readthedocs.io/en/latest/advanced-usage.html#tls-warnings\n",
      "  warnings.warn(\n"
     ]
    },
    {
     "name": "stdout",
     "output_type": "stream",
     "text": [
      "Mk1IN1EyOWRNcW5jMlM1Z0dST3NPZz09 (주)지슨 2024년 연구 개발 (임베디드 시스템)\n",
      "2024-08-27 15:00:00\n",
      "2000년 3월 20일\n",
      "2000-03-20 00:00:00\n",
      "www.gitsn.com\n",
      "48895351\n"
     ]
    },
    {
     "name": "stderr",
     "output_type": "stream",
     "text": [
      "/home/cook/venv/eda_venv/lib/python3.10/site-packages/urllib3/connectionpool.py:1099: InsecureRequestWarning: Unverified HTTPS request is being made to host 'www.saramin.co.kr'. Adding certificate verification is strongly advised. See: https://urllib3.readthedocs.io/en/latest/advanced-usage.html#tls-warnings\n",
      "  warnings.warn(\n"
     ]
    },
    {
     "name": "stdout",
     "output_type": "stream",
     "text": [
      "M2pTZmxZT04weVh2aFlqV3NtckNlZz09 로봇앤컴(주) [로봇앤컴주식회사] 백엔드 개발자 추가 채용\n",
      "2024-08-27 13:00:00\n",
      "robotncom.com\n",
      "48891386\n"
     ]
    },
    {
     "name": "stderr",
     "output_type": "stream",
     "text": [
      "/home/cook/venv/eda_venv/lib/python3.10/site-packages/urllib3/connectionpool.py:1099: InsecureRequestWarning: Unverified HTTPS request is being made to host 'www.saramin.co.kr'. Adding certificate verification is strongly advised. See: https://urllib3.readthedocs.io/en/latest/advanced-usage.html#tls-warnings\n",
      "  warnings.warn(\n"
     ]
    },
    {
     "name": "stdout",
     "output_type": "stream",
     "text": [
      "SXNIK1o0ZHc3dENzTGlFTUU5c3cxdz09 주식회사 세오 무인교통단속장비 신규 사업관리 진행 및 기술지원 모집\n",
      "2024-08-27 09:00:00\n",
      "방송장비 제조업\n",
      "2004년 4월 1일\n",
      "2004-04-01 00:00:00\n",
      "www.seoitv.com\n",
      "48890839\n"
     ]
    },
    {
     "name": "stderr",
     "output_type": "stream",
     "text": [
      "/home/cook/venv/eda_venv/lib/python3.10/site-packages/urllib3/connectionpool.py:1099: InsecureRequestWarning: Unverified HTTPS request is being made to host 'www.saramin.co.kr'. Adding certificate verification is strongly advised. See: https://urllib3.readthedocs.io/en/latest/advanced-usage.html#tls-warnings\n",
      "  warnings.warn(\n"
     ]
    },
    {
     "name": "stdout",
     "output_type": "stream",
     "text": [
      "dStHa0twVkR2OHBsSlZQelhtdnhjZz09 (주)프라코 (주)프라코 신입·경력직 모집 (재경팀)\n",
      "2024-08-27 08:00:00\n",
      "자동차 차체용 신품 부품 제조업\n",
      "1989년 2월 9일\n",
      "1989-02-09 00:00:00\n",
      "www.plakor.co.kr\n",
      "48890789\n"
     ]
    },
    {
     "name": "stderr",
     "output_type": "stream",
     "text": [
      "/home/cook/venv/eda_venv/lib/python3.10/site-packages/urllib3/connectionpool.py:1099: InsecureRequestWarning: Unverified HTTPS request is being made to host 'www.saramin.co.kr'. Adding certificate verification is strongly advised. See: https://urllib3.readthedocs.io/en/latest/advanced-usage.html#tls-warnings\n",
      "  warnings.warn(\n"
     ]
    },
    {
     "name": "stdout",
     "output_type": "stream",
     "text": [
      "Q1FLTEd2QXpGbjEva3RIK3FjNHJsUT09 토와한국(주) 반도체 자동화설비 PLC/PC/VISION 제어 경력사원 채용\n",
      "2024-08-27 08:00:00\n",
      "주형 및 금형 제조업\n",
      "2013년 4월 8일\n",
      "2013-04-08 00:00:00\n",
      "www.towakorea.com\n",
      "48887221\n"
     ]
    },
    {
     "name": "stderr",
     "output_type": "stream",
     "text": [
      "/home/cook/venv/eda_venv/lib/python3.10/site-packages/urllib3/connectionpool.py:1099: InsecureRequestWarning: Unverified HTTPS request is being made to host 'www.saramin.co.kr'. Adding certificate verification is strongly advised. See: https://urllib3.readthedocs.io/en/latest/advanced-usage.html#tls-warnings\n",
      "  warnings.warn(\n"
     ]
    },
    {
     "name": "stdout",
     "output_type": "stream",
     "text": [
      "UloxbXNKZGhYL0syTmhYRmRWVmhGZz09 (주)투비웨이 정규직 UiPath RPA 개발 신입/경력자 채용(XX명 충원시까지)\n",
      "2024-08-26 15:00:00\n",
      "시스템 소프트웨어 개발 및 공급업\n",
      "2001년 11월 5일\n",
      "2001-11-05 00:00:00\n",
      "www.tobeway.com\n",
      "48883127\n"
     ]
    },
    {
     "name": "stderr",
     "output_type": "stream",
     "text": [
      "/home/cook/venv/eda_venv/lib/python3.10/site-packages/urllib3/connectionpool.py:1099: InsecureRequestWarning: Unverified HTTPS request is being made to host 'www.saramin.co.kr'. Adding certificate verification is strongly advised. See: https://urllib3.readthedocs.io/en/latest/advanced-usage.html#tls-warnings\n",
      "  warnings.warn(\n"
     ]
    },
    {
     "name": "stdout",
     "output_type": "stream",
     "text": [
      "M25Lc3NXbjNUU0hKT0RORHVFU1pYUT09 주식회사복주 제품개발 지원 및 품질인증 부문 연구원 모집\n",
      "2024-08-26 10:00:00\n",
      "금속탱크 및 저장용기 제조업\n",
      "2009년 7월 21일\n",
      "2009-07-21 00:00:00\n",
      "www.bokju.com\n",
      "48876467\n"
     ]
    },
    {
     "name": "stderr",
     "output_type": "stream",
     "text": [
      "/home/cook/venv/eda_venv/lib/python3.10/site-packages/urllib3/connectionpool.py:1099: InsecureRequestWarning: Unverified HTTPS request is being made to host 'www.saramin.co.kr'. Adding certificate verification is strongly advised. See: https://urllib3.readthedocs.io/en/latest/advanced-usage.html#tls-warnings\n",
      "  warnings.warn(\n"
     ]
    },
    {
     "name": "stdout",
     "output_type": "stream",
     "text": [
      "V0t6bkErSU9SWXFESmhlYU1lUE01Zz09 (주)에바 (신입) EVAR와 함께할 [총무 담당자]를 모집합니다\n",
      "2024-08-23 21:00:00\n",
      "기타 전기 변환장치 제조업\n",
      "2018년 11월 16일\n",
      "2018-11-16 00:00:00\n",
      "www.evar.co.kr\n",
      "48875663\n"
     ]
    },
    {
     "name": "stderr",
     "output_type": "stream",
     "text": [
      "/home/cook/venv/eda_venv/lib/python3.10/site-packages/urllib3/connectionpool.py:1099: InsecureRequestWarning: Unverified HTTPS request is being made to host 'www.saramin.co.kr'. Adding certificate verification is strongly advised. See: https://urllib3.readthedocs.io/en/latest/advanced-usage.html#tls-warnings\n",
      "  warnings.warn(\n"
     ]
    },
    {
     "name": "stdout",
     "output_type": "stream",
     "text": [
      "dlZaMzlaWDFXaVVnN1h4VDRzbDJGdz09 (주)유아이헬리콥터 무인기 제작사업 관련 사원 모집\n",
      "2024-08-23 17:00:00\n",
      "조선·항공·우주\n",
      "1986년 12월 4일\n",
      "1986-12-04 00:00:00\n",
      "www.uihelicopter.com\n",
      "48875376\n"
     ]
    },
    {
     "name": "stderr",
     "output_type": "stream",
     "text": [
      "/home/cook/venv/eda_venv/lib/python3.10/site-packages/urllib3/connectionpool.py:1099: InsecureRequestWarning: Unverified HTTPS request is being made to host 'www.saramin.co.kr'. Adding certificate verification is strongly advised. See: https://urllib3.readthedocs.io/en/latest/advanced-usage.html#tls-warnings\n",
      "  warnings.warn(\n"
     ]
    },
    {
     "name": "stdout",
     "output_type": "stream",
     "text": [
      "c0IrcnFRbFBzSCtHUHNteFBISWlWQT09 울랄라랩(주) [울랄라랩] 국내외 IT 솔루션 기술영업 담당자 채용(경력3년~)\n",
      "2024-08-23 17:00:00\n",
      "2011년 8월 9일\n",
      "2011-08-09 00:00:00\n",
      "www.ulalalab.com\n",
      "48875353\n"
     ]
    },
    {
     "name": "stderr",
     "output_type": "stream",
     "text": [
      "/home/cook/venv/eda_venv/lib/python3.10/site-packages/urllib3/connectionpool.py:1099: InsecureRequestWarning: Unverified HTTPS request is being made to host 'www.saramin.co.kr'. Adding certificate verification is strongly advised. See: https://urllib3.readthedocs.io/en/latest/advanced-usage.html#tls-warnings\n",
      "  warnings.warn(\n"
     ]
    },
    {
     "name": "stdout",
     "output_type": "stream",
     "text": [
      "N2p6aW56dWptb25BbmRGYkNXYzJvdz09 (주)아이에스엠 훈련용 실내 모션 시뮬레이터 개발자 모집\n",
      "2024-08-23 17:00:00\n",
      "컴퓨터 및 주변장치, 소프트웨어 도매업\n",
      "2010년 5월 10일\n",
      "2010-05-10 00:00:00\n",
      "http://ismc.co.kr\n",
      "48874659\n"
     ]
    },
    {
     "name": "stderr",
     "output_type": "stream",
     "text": [
      "/home/cook/venv/eda_venv/lib/python3.10/site-packages/urllib3/connectionpool.py:1099: InsecureRequestWarning: Unverified HTTPS request is being made to host 'www.saramin.co.kr'. Adding certificate verification is strongly advised. See: https://urllib3.readthedocs.io/en/latest/advanced-usage.html#tls-warnings\n",
      "  warnings.warn(\n"
     ]
    },
    {
     "name": "stdout",
     "output_type": "stream",
     "text": [
      "Yk00cXJ3eHJ2T1FTWTFCbFJwZzJTZz09 (주)에이티앤씨 의료기기-연구소 Software(로봇제어) 경력직 채용\n",
      "2024-08-23 16:00:00\n",
      "그 외 기타 의료용 기기 제조업\n",
      "2008년 7월 2일\n",
      "2008-07-02 00:00:00\n",
      "atnci.com\n",
      "48873323\n"
     ]
    },
    {
     "name": "stderr",
     "output_type": "stream",
     "text": [
      "/home/cook/venv/eda_venv/lib/python3.10/site-packages/urllib3/connectionpool.py:1099: InsecureRequestWarning: Unverified HTTPS request is being made to host 'www.saramin.co.kr'. Adding certificate verification is strongly advised. See: https://urllib3.readthedocs.io/en/latest/advanced-usage.html#tls-warnings\n",
      "  warnings.warn(\n"
     ]
    },
    {
     "name": "stdout",
     "output_type": "stream",
     "text": [
      "K1hBL2ZTN3JtWEt3MGJMWWsyeFRsZz09 (주)시에라베이스 자율점검 드론/로봇 개발자 모집\n",
      "2024-08-23 14:00:00\n",
      "응용 소프트웨어 개발 및 공급업\n",
      "2019년 6월 11일\n",
      "2019-06-11 00:00:00\n",
      "www.sierrabase.co.kr\n"
     ]
    },
    {
     "name": "stderr",
     "output_type": "stream",
     "text": [
      "/home/cook/venv/eda_venv/lib/python3.10/site-packages/urllib3/connectionpool.py:1099: InsecureRequestWarning: Unverified HTTPS request is being made to host 'www.saramin.co.kr'. Adding certificate verification is strongly advised. See: https://urllib3.readthedocs.io/en/latest/advanced-usage.html#tls-warnings\n",
      "  warnings.warn(\n"
     ]
    },
    {
     "name": "stdout",
     "output_type": "stream",
     "text": [
      "48869966\n"
     ]
    },
    {
     "name": "stderr",
     "output_type": "stream",
     "text": [
      "/home/cook/venv/eda_venv/lib/python3.10/site-packages/urllib3/connectionpool.py:1099: InsecureRequestWarning: Unverified HTTPS request is being made to host 'www.saramin.co.kr'. Adding certificate verification is strongly advised. See: https://urllib3.readthedocs.io/en/latest/advanced-usage.html#tls-warnings\n",
      "  warnings.warn(\n"
     ]
    },
    {
     "name": "stdout",
     "output_type": "stream",
     "text": [
      "M2pTZmxZT04weVh2aFlqV3NtckNlZz09 로봇앤컴(주) [로봇앤컴주식회사] 프론트엔드 개발자 추가 채용\n",
      "2024-08-23 10:00:00\n",
      "robotncom.com\n",
      "48868472\n"
     ]
    },
    {
     "name": "stderr",
     "output_type": "stream",
     "text": [
      "/home/cook/venv/eda_venv/lib/python3.10/site-packages/urllib3/connectionpool.py:1099: InsecureRequestWarning: Unverified HTTPS request is being made to host 'www.saramin.co.kr'. Adding certificate verification is strongly advised. See: https://urllib3.readthedocs.io/en/latest/advanced-usage.html#tls-warnings\n",
      "  warnings.warn(\n"
     ]
    },
    {
     "name": "stdout",
     "output_type": "stream",
     "text": [
      "bzlZaTNBaHF4YkJOdGJjRjRQRnJxQT09 (주)디지텍 KT B2B 상품 / AI / 테이블오더 / 기업인터넷  기술 영업직 모집\n",
      "2024-08-23 08:00:00\n",
      "통신ㆍ방송장비 및 부품 도매업\n",
      "2016년 6월 13일\n",
      "2016-06-13 00:00:00\n",
      "48867784\n"
     ]
    },
    {
     "name": "stderr",
     "output_type": "stream",
     "text": [
      "/home/cook/venv/eda_venv/lib/python3.10/site-packages/urllib3/connectionpool.py:1099: InsecureRequestWarning: Unverified HTTPS request is being made to host 'www.saramin.co.kr'. Adding certificate verification is strongly advised. See: https://urllib3.readthedocs.io/en/latest/advanced-usage.html#tls-warnings\n",
      "  warnings.warn(\n"
     ]
    },
    {
     "name": "stdout",
     "output_type": "stream",
     "text": [
      "SWV1YTJzVlhVcmg5OUNaL250bFl0QT09 (주)쎄믹스 [쎄믹스] 반도체 장비 H/W 및 전장 설계자 모집(판교)\n",
      "2024-08-22 20:00:00\n",
      "반도체 제조용 기계 제조업\n",
      "2009년 6월 24일\n",
      "2009-06-24 00:00:00\n",
      "www.semics.com\n",
      "48865839\n"
     ]
    },
    {
     "name": "stderr",
     "output_type": "stream",
     "text": [
      "/home/cook/venv/eda_venv/lib/python3.10/site-packages/urllib3/connectionpool.py:1099: InsecureRequestWarning: Unverified HTTPS request is being made to host 'www.saramin.co.kr'. Adding certificate verification is strongly advised. See: https://urllib3.readthedocs.io/en/latest/advanced-usage.html#tls-warnings\n",
      "  warnings.warn(\n"
     ]
    },
    {
     "name": "stdout",
     "output_type": "stream",
     "text": [
      "UDBxUC95NU01RkZHTjM2OXB4azFUQT09 (주)티라로보틱스 로봇 SW 개발자 모집(AI,로봇자율주행)\n",
      "2024-08-22 15:00:00\n",
      "그 외 기타 특수목적용 기계 제조업\n",
      "2022년 1월 4일\n",
      "2022-01-04 00:00:00\n",
      "thirarobotics.com\n",
      "48865606\n"
     ]
    },
    {
     "name": "stderr",
     "output_type": "stream",
     "text": [
      "/home/cook/venv/eda_venv/lib/python3.10/site-packages/urllib3/connectionpool.py:1099: InsecureRequestWarning: Unverified HTTPS request is being made to host 'www.saramin.co.kr'. Adding certificate verification is strongly advised. See: https://urllib3.readthedocs.io/en/latest/advanced-usage.html#tls-warnings\n",
      "  warnings.warn(\n"
     ]
    },
    {
     "name": "stdout",
     "output_type": "stream",
     "text": [
      "N0NhbmoyL09sQUgyWTJ1MUswVS8zZz09 모비어스(주) [MOBYUS] Finance팀(재무회계부서) 사무보조 정규직 채용\n",
      "2024-08-22 15:00:00\n",
      "컴퓨터 프로그래밍 서비스업\n",
      "2012년 5월 31일\n",
      "2012-05-31 00:00:00\n",
      "mobyus.com\n",
      "48860774\n"
     ]
    },
    {
     "name": "stderr",
     "output_type": "stream",
     "text": [
      "/home/cook/venv/eda_venv/lib/python3.10/site-packages/urllib3/connectionpool.py:1099: InsecureRequestWarning: Unverified HTTPS request is being made to host 'www.saramin.co.kr'. Adding certificate verification is strongly advised. See: https://urllib3.readthedocs.io/en/latest/advanced-usage.html#tls-warnings\n",
      "  warnings.warn(\n"
     ]
    },
    {
     "name": "stdout",
     "output_type": "stream",
     "text": [
      "aGRYbWRuMHlxV21kMTVNVjNCYWkxZz09 (주)에프에스솔루션 [신입] Vision AI 개발자 신입\n",
      "2024-09-13 09:00:00\n",
      "응용 소프트웨어 개발 및 공급업\n",
      "2015년 12월 18일\n",
      "2015-12-18 00:00:00\n",
      "www.fslabs.ai\n",
      "48859017\n"
     ]
    },
    {
     "name": "stderr",
     "output_type": "stream",
     "text": [
      "/home/cook/venv/eda_venv/lib/python3.10/site-packages/urllib3/connectionpool.py:1099: InsecureRequestWarning: Unverified HTTPS request is being made to host 'www.saramin.co.kr'. Adding certificate verification is strongly advised. See: https://urllib3.readthedocs.io/en/latest/advanced-usage.html#tls-warnings\n",
      "  warnings.warn(\n"
     ]
    },
    {
     "name": "stdout",
     "output_type": "stream",
     "text": [
      "OURISlB1cnVwT1ZKMzRObnlNeExqQT09 (주)케이스랩 [(주)케이스랩 수원지사] 마케팅/영업 직원 신규채용\n",
      "2024-08-21 18:00:00\n",
      "산업용 로봇 제조업\n",
      "2018년 2월 20일\n",
      "2018-02-20 00:00:00\n",
      "48855963\n"
     ]
    },
    {
     "name": "stderr",
     "output_type": "stream",
     "text": [
      "/home/cook/venv/eda_venv/lib/python3.10/site-packages/urllib3/connectionpool.py:1099: InsecureRequestWarning: Unverified HTTPS request is being made to host 'www.saramin.co.kr'. Adding certificate verification is strongly advised. See: https://urllib3.readthedocs.io/en/latest/advanced-usage.html#tls-warnings\n",
      "  warnings.warn(\n"
     ]
    },
    {
     "name": "stdout",
     "output_type": "stream",
     "text": [
      "c0IrcnFRbFBzSCtHUHNteFBISWlWQT09 울랄라랩(주) 산업용 IoT디바이스 임베디드 (Embedded) 개발자 채용\n",
      "2024-08-21 14:00:00\n",
      "2011년 8월 9일\n",
      "2011-08-09 00:00:00\n",
      "www.ulalalab.com\n",
      "48851035\n"
     ]
    },
    {
     "name": "stderr",
     "output_type": "stream",
     "text": [
      "/home/cook/venv/eda_venv/lib/python3.10/site-packages/urllib3/connectionpool.py:1099: InsecureRequestWarning: Unverified HTTPS request is being made to host 'www.saramin.co.kr'. Adding certificate verification is strongly advised. See: https://urllib3.readthedocs.io/en/latest/advanced-usage.html#tls-warnings\n",
      "  warnings.warn(\n"
     ]
    },
    {
     "name": "stdout",
     "output_type": "stream",
     "text": [
      "eTNyRkVKN2p4WGFIVlF5YVhTTFRhdz09 누리ecs 전기제어(자동제어&PLC&ROBOT&전장外 1개 부문) 모집 공고\n",
      "2024-08-21 05:00:00\n",
      "산업처리공정 제어장비 제조업\n",
      "2010년 2월 22일\n",
      "2010-02-22 00:00:00\n",
      "48850163\n"
     ]
    },
    {
     "name": "stderr",
     "output_type": "stream",
     "text": [
      "/home/cook/venv/eda_venv/lib/python3.10/site-packages/urllib3/connectionpool.py:1099: InsecureRequestWarning: Unverified HTTPS request is being made to host 'www.saramin.co.kr'. Adding certificate verification is strongly advised. See: https://urllib3.readthedocs.io/en/latest/advanced-usage.html#tls-warnings\n",
      "  warnings.warn(\n"
     ]
    },
    {
     "name": "stdout",
     "output_type": "stream",
     "text": [
      "UGh5Q0R6M1piV1kzcUJRQXgwUmx2dz09 한화시스템(주) 한화시스템 지상연구소 경력사원 채용\n",
      "2024-08-20 18:00:00\n",
      "그 외 기타 전자부품 제조업\n",
      "2000년 1월 11일\n",
      "2000-01-11 00:00:00\n",
      "www.hanwhasystems.com\n",
      "48841945\n"
     ]
    },
    {
     "name": "stderr",
     "output_type": "stream",
     "text": [
      "/home/cook/venv/eda_venv/lib/python3.10/site-packages/urllib3/connectionpool.py:1099: InsecureRequestWarning: Unverified HTTPS request is being made to host 'www.saramin.co.kr'. Adding certificate verification is strongly advised. See: https://urllib3.readthedocs.io/en/latest/advanced-usage.html#tls-warnings\n",
      "  warnings.warn(\n"
     ]
    },
    {
     "name": "stdout",
     "output_type": "stream",
     "text": [
      "dUgwOUJZUFkwdGpyRXBkT1RHY3Vxdz09 (주)하이엔드 [대전 연구소] 무인플랫폼 기계,기구설계 정규직 채용\n",
      "2024-08-20 08:00:00\n",
      "레이더, 항행용 무선기기 및 측량기구 제..\n",
      "2015년 3월 23일\n",
      "2015-03-23 00:00:00\n",
      "www.hefc.co.kr\n",
      "48841614\n"
     ]
    },
    {
     "name": "stderr",
     "output_type": "stream",
     "text": [
      "/home/cook/venv/eda_venv/lib/python3.10/site-packages/urllib3/connectionpool.py:1099: InsecureRequestWarning: Unverified HTTPS request is being made to host 'www.saramin.co.kr'. Adding certificate verification is strongly advised. See: https://urllib3.readthedocs.io/en/latest/advanced-usage.html#tls-warnings\n",
      "  warnings.warn(\n"
     ]
    },
    {
     "name": "stdout",
     "output_type": "stream",
     "text": [
      "VFBNSkFGVXRBc0k2aTB1b3p5OWUyZz09 (주)트위니 [로봇사업본부] 자율주행로봇 CS팀 필드엔지니어 채용\n",
      "2024-08-20 07:00:00\n",
      "산업용 로봇 제조업\n",
      "2015년 8월 27일\n",
      "2015-08-27 00:00:00\n",
      "twinny.ai\n",
      "48840119\n"
     ]
    },
    {
     "name": "stderr",
     "output_type": "stream",
     "text": [
      "/home/cook/venv/eda_venv/lib/python3.10/site-packages/urllib3/connectionpool.py:1099: InsecureRequestWarning: Unverified HTTPS request is being made to host 'www.saramin.co.kr'. Adding certificate verification is strongly advised. See: https://urllib3.readthedocs.io/en/latest/advanced-usage.html#tls-warnings\n",
      "  warnings.warn(\n"
     ]
    },
    {
     "name": "stdout",
     "output_type": "stream",
     "text": [
      "ZjlzdDNGQTdRVE1GSi9wY2FSVmJsZz09 (주)레인보우로보틱스 (주) 레인보우로보틱스 SI/SW 연구인력 채용\n",
      "2024-08-19 17:00:00\n",
      "산업용 로봇 제조업\n",
      "2011년 2월 10일\n",
      "2011-02-10 00:00:00\n",
      "www.rainbow-robotics.com\n",
      "48838284\n"
     ]
    },
    {
     "name": "stderr",
     "output_type": "stream",
     "text": [
      "/home/cook/venv/eda_venv/lib/python3.10/site-packages/urllib3/connectionpool.py:1099: InsecureRequestWarning: Unverified HTTPS request is being made to host 'www.saramin.co.kr'. Adding certificate verification is strongly advised. See: https://urllib3.readthedocs.io/en/latest/advanced-usage.html#tls-warnings\n",
      "  warnings.warn(\n"
     ]
    },
    {
     "name": "stdout",
     "output_type": "stream",
     "text": [
      "dkZ4RGNrekZob1BBVVhRcTJlVG5PQT09 인더스마트(주) 인더스마트(주)  정규직 모집 공고 (인사총무팀)\n",
      "2024-08-19 15:00:00\n",
      "그 외 기타 의료용 기기 제조업\n",
      "2015년 10월 1일\n",
      "2015-10-01 00:00:00\n",
      "www.itsnuh.com\n",
      "48838089\n"
     ]
    },
    {
     "name": "stderr",
     "output_type": "stream",
     "text": [
      "/home/cook/venv/eda_venv/lib/python3.10/site-packages/urllib3/connectionpool.py:1099: InsecureRequestWarning: Unverified HTTPS request is being made to host 'www.saramin.co.kr'. Adding certificate verification is strongly advised. See: https://urllib3.readthedocs.io/en/latest/advanced-usage.html#tls-warnings\n",
      "  warnings.warn(\n"
     ]
    },
    {
     "name": "stdout",
     "output_type": "stream",
     "text": [
      "aGRYbWRuMHlxV21kMTVNVjNCYWkxZz09 (주)에프에스솔루션 [경력] 영상 인공지능 솔루션 영업 경력사원 채용\n",
      "2024-09-13 15:00:00\n",
      "응용 소프트웨어 개발 및 공급업\n",
      "2015년 12월 18일\n",
      "2015-12-18 00:00:00\n",
      "www.fslabs.ai\n",
      "48837941\n"
     ]
    },
    {
     "name": "stderr",
     "output_type": "stream",
     "text": [
      "/home/cook/venv/eda_venv/lib/python3.10/site-packages/urllib3/connectionpool.py:1099: InsecureRequestWarning: Unverified HTTPS request is being made to host 'www.saramin.co.kr'. Adding certificate verification is strongly advised. See: https://urllib3.readthedocs.io/en/latest/advanced-usage.html#tls-warnings\n",
      "  warnings.warn(\n"
     ]
    },
    {
     "name": "stdout",
     "output_type": "stream",
     "text": [
      "dkZ4RGNrekZob1BBVVhRcTJlVG5PQT09 인더스마트(주) 인더스마트(주)  정규직 모집 공고 (시제품연구팀-전문연구요원)\n",
      "2024-08-19 15:00:00\n",
      "그 외 기타 의료용 기기 제조업\n",
      "2015년 10월 1일\n",
      "2015-10-01 00:00:00\n",
      "www.itsnuh.com\n",
      "48835962\n"
     ]
    },
    {
     "name": "stderr",
     "output_type": "stream",
     "text": [
      "/home/cook/venv/eda_venv/lib/python3.10/site-packages/urllib3/connectionpool.py:1099: InsecureRequestWarning: Unverified HTTPS request is being made to host 'www.saramin.co.kr'. Adding certificate verification is strongly advised. See: https://urllib3.readthedocs.io/en/latest/advanced-usage.html#tls-warnings\n",
      "  warnings.warn(\n"
     ]
    },
    {
     "name": "stdout",
     "output_type": "stream",
     "text": [
      "Z2gwdDhUa0x4dy9hcy84VENHbUZqZz09 기영이엔씨(주) 자동화기계 전장(전기/제어) 및 PLC 소프트웨어 채용공고\n",
      "2024-08-19 13:00:00\n",
      "컨베이어장치 제조업\n",
      "2020년 11월 23일\n",
      "2020-11-23 00:00:00\n",
      "www.기영이엔씨.kr\n",
      "48835431\n"
     ]
    },
    {
     "name": "stderr",
     "output_type": "stream",
     "text": [
      "/home/cook/venv/eda_venv/lib/python3.10/site-packages/urllib3/connectionpool.py:1099: InsecureRequestWarning: Unverified HTTPS request is being made to host 'www.saramin.co.kr'. Adding certificate verification is strongly advised. See: https://urllib3.readthedocs.io/en/latest/advanced-usage.html#tls-warnings\n",
      "  warnings.warn(\n"
     ]
    },
    {
     "name": "stdout",
     "output_type": "stream",
     "text": [
      "U0JXNWFPY3BrcFErNHNsVEExZXNyUT09 (주)스포스 기술지원 엔지니어(FAE) 정규직 채용(근무지:안산)\n",
      "2024-09-05 10:00:00\n",
      "www.spos-inc.com\n",
      "48834759\n"
     ]
    },
    {
     "name": "stderr",
     "output_type": "stream",
     "text": [
      "/home/cook/venv/eda_venv/lib/python3.10/site-packages/urllib3/connectionpool.py:1099: InsecureRequestWarning: Unverified HTTPS request is being made to host 'www.saramin.co.kr'. Adding certificate verification is strongly advised. See: https://urllib3.readthedocs.io/en/latest/advanced-usage.html#tls-warnings\n",
      "  warnings.warn(\n"
     ]
    },
    {
     "name": "stdout",
     "output_type": "stream",
     "text": [
      "K0NUL3NBeDUzQzI0QTFQRGdlTjQ0UT09 (주)동원케이텍 [설계엔지니어] 자동화 설비 기계 및 공압 설계\n",
      "2024-08-19 11:00:00\n",
      "주방용 전기기기 제조업\n",
      "2002년 1월 1일\n",
      "2002-01-01 00:00:00\n",
      "http://www.dwkt.co.kr\n",
      "48832953\n"
     ]
    },
    {
     "name": "stderr",
     "output_type": "stream",
     "text": [
      "/home/cook/venv/eda_venv/lib/python3.10/site-packages/urllib3/connectionpool.py:1099: InsecureRequestWarning: Unverified HTTPS request is being made to host 'www.saramin.co.kr'. Adding certificate verification is strongly advised. See: https://urllib3.readthedocs.io/en/latest/advanced-usage.html#tls-warnings\n",
      "  warnings.warn(\n"
     ]
    },
    {
     "name": "stdout",
     "output_type": "stream",
     "text": [
      "YnBDNlFSczd3cnZvN25PVWs3OGltUT09 (주)나우테크윈 설계/자동화 설계 (2D/3D 능숙자) 모집 (경력자 우대)\n",
      "2024-08-19 10:00:00\n",
      "48831217\n"
     ]
    },
    {
     "name": "stderr",
     "output_type": "stream",
     "text": [
      "/home/cook/venv/eda_venv/lib/python3.10/site-packages/urllib3/connectionpool.py:1099: InsecureRequestWarning: Unverified HTTPS request is being made to host 'www.saramin.co.kr'. Adding certificate verification is strongly advised. See: https://urllib3.readthedocs.io/en/latest/advanced-usage.html#tls-warnings\n",
      "  warnings.warn(\n"
     ]
    },
    {
     "name": "stdout",
     "output_type": "stream",
     "text": [
      "a1h4dXJUaWxOK2g3eUpsazAwYTB0Zz09 (주)인텍플러스 [인텍플러스] 반도체 SW 개발/ SW 테스터 신입/경력 채용\n",
      "2024-08-19 09:00:00\n",
      "그 외 기타 특수목적용 기계 제조업\n",
      "1995년 10월 13일\n",
      "1995-10-13 00:00:00\n",
      "www.intekplus.com\n",
      "48829976\n"
     ]
    },
    {
     "name": "stderr",
     "output_type": "stream",
     "text": [
      "/home/cook/venv/eda_venv/lib/python3.10/site-packages/urllib3/connectionpool.py:1099: InsecureRequestWarning: Unverified HTTPS request is being made to host 'www.saramin.co.kr'. Adding certificate verification is strongly advised. See: https://urllib3.readthedocs.io/en/latest/advanced-usage.html#tls-warnings\n",
      "  warnings.warn(\n"
     ]
    },
    {
     "name": "stdout",
     "output_type": "stream",
     "text": [
      "dlV5TTFtK1hBQ0FWTG0yWEljUWFKQT09 (주)아테코 [반도체 장비] 연구소 (기구설계팀, 소프트웨어팀) 채용 공고\n",
      "2024-08-19 08:00:00\n",
      "반도체 제조용 기계 제조업\n",
      "2012년 9월 11일\n",
      "2012-09-11 00:00:00\n",
      "www.ateco.co.kr\n",
      "48825901\n"
     ]
    },
    {
     "name": "stderr",
     "output_type": "stream",
     "text": [
      "/home/cook/venv/eda_venv/lib/python3.10/site-packages/urllib3/connectionpool.py:1099: InsecureRequestWarning: Unverified HTTPS request is being made to host 'www.saramin.co.kr'. Adding certificate verification is strongly advised. See: https://urllib3.readthedocs.io/en/latest/advanced-usage.html#tls-warnings\n",
      "  warnings.warn(\n"
     ]
    },
    {
     "name": "stdout",
     "output_type": "stream",
     "text": [
      "Q2xxbUJjTnpnTEpsR0s4QjBkY3dkUT09 주식회사 영현로보틱스 로봇 엔지니어(소프트웨어 개발,컴퓨터 프로그램,기계설계)\n",
      "2024-08-16 17:00:00\n",
      "기타제조업\n",
      "www.young-hyun.com\n",
      "48821443\n"
     ]
    },
    {
     "name": "stderr",
     "output_type": "stream",
     "text": [
      "/home/cook/venv/eda_venv/lib/python3.10/site-packages/urllib3/connectionpool.py:1099: InsecureRequestWarning: Unverified HTTPS request is being made to host 'www.saramin.co.kr'. Adding certificate verification is strongly advised. See: https://urllib3.readthedocs.io/en/latest/advanced-usage.html#tls-warnings\n",
      "  warnings.warn(\n"
     ]
    },
    {
     "name": "stdout",
     "output_type": "stream",
     "text": [
      "ZThPaFBVN2QwbGdhNjIweXBiNnlNUT09 서울쿤스트치과 [수원광교] 서울쿤스트치과 치기공사(경력) 모집\n",
      "2024-08-16 11:00:00\n",
      "의료(진료과목별)\n",
      "kunst-dent.com/\n",
      "48818642\n"
     ]
    },
    {
     "name": "stderr",
     "output_type": "stream",
     "text": [
      "/home/cook/venv/eda_venv/lib/python3.10/site-packages/urllib3/connectionpool.py:1099: InsecureRequestWarning: Unverified HTTPS request is being made to host 'www.saramin.co.kr'. Adding certificate verification is strongly advised. See: https://urllib3.readthedocs.io/en/latest/advanced-usage.html#tls-warnings\n",
      "  warnings.warn(\n"
     ]
    },
    {
     "name": "stdout",
     "output_type": "stream",
     "text": [
      "YnJBNmpmaXNUd0VNWnVTajBBVndhQT09 드림가이드컴퍼니(주) [딥러닝] ROS 및 AI 기반 알고리즘 개발자 모집\n",
      "2024-08-15 21:00:00\n",
      "컴퓨터 프로그래밍 서비스업\n",
      "2017년 7월 4일\n",
      "2017-07-04 00:00:00\n",
      "48816635\n"
     ]
    },
    {
     "name": "stderr",
     "output_type": "stream",
     "text": [
      "/home/cook/venv/eda_venv/lib/python3.10/site-packages/urllib3/connectionpool.py:1099: InsecureRequestWarning: Unverified HTTPS request is being made to host 'www.saramin.co.kr'. Adding certificate verification is strongly advised. See: https://urllib3.readthedocs.io/en/latest/advanced-usage.html#tls-warnings\n",
      "  warnings.warn(\n"
     ]
    },
    {
     "name": "stdout",
     "output_type": "stream",
     "text": [
      "M0E0ZW9SRUdGREZyWEZwakp3eEI5Zz09 (주)케이티씨씨 (서울/경력) 시험평가관리부 시험실무자 채용\n",
      "2024-08-14 18:00:00\n",
      "기타 기술 시험, 검사 및 분석업\n",
      "2016년 9월 28일\n",
      "2016-09-28 00:00:00\n",
      "www.ktcc.ne.kr\n",
      "48815140\n"
     ]
    },
    {
     "name": "stderr",
     "output_type": "stream",
     "text": [
      "/home/cook/venv/eda_venv/lib/python3.10/site-packages/urllib3/connectionpool.py:1099: InsecureRequestWarning: Unverified HTTPS request is being made to host 'www.saramin.co.kr'. Adding certificate verification is strongly advised. See: https://urllib3.readthedocs.io/en/latest/advanced-usage.html#tls-warnings\n",
      "  warnings.warn(\n"
     ]
    },
    {
     "name": "stdout",
     "output_type": "stream",
     "text": [
      "dkZ4RGNrekZob1BBVVhRcTJlVG5PQT09 인더스마트(주) 인더스마트(주)  정규직 모집 공고 (기획팀)\n",
      "2024-08-14 00:00:00\n",
      "그 외 기타 의료용 기기 제조업\n",
      "2015년 10월 1일\n",
      "2015-10-01 00:00:00\n",
      "www.itsnuh.com\n",
      "48814396\n"
     ]
    },
    {
     "name": "stderr",
     "output_type": "stream",
     "text": [
      "/home/cook/venv/eda_venv/lib/python3.10/site-packages/urllib3/connectionpool.py:1099: InsecureRequestWarning: Unverified HTTPS request is being made to host 'www.saramin.co.kr'. Adding certificate verification is strongly advised. See: https://urllib3.readthedocs.io/en/latest/advanced-usage.html#tls-warnings\n",
      "  warnings.warn(\n"
     ]
    },
    {
     "name": "stdout",
     "output_type": "stream",
     "text": [
      "RE9QVnlhNHZWMmwzc0ZvcWxsdnJHdz09 비엠티 농업용기계 제품개발 설계 제어 응용개발 샘플링 경력직 채용\n",
      "2024-08-14 14:00:00\n",
      "48813259\n"
     ]
    },
    {
     "name": "stderr",
     "output_type": "stream",
     "text": [
      "/home/cook/venv/eda_venv/lib/python3.10/site-packages/urllib3/connectionpool.py:1099: InsecureRequestWarning: Unverified HTTPS request is being made to host 'www.saramin.co.kr'. Adding certificate verification is strongly advised. See: https://urllib3.readthedocs.io/en/latest/advanced-usage.html#tls-warnings\n",
      "  warnings.warn(\n"
     ]
    },
    {
     "name": "stdout",
     "output_type": "stream",
     "text": [
      "WjU4RGRldGs5alB2Njh1Ym1oZVJNdz09 스포츠투아이(주) [Sports Tech/C++] 자동볼스트라이크시스템 (ABS) C++ 개발자\n",
      "2024-08-14 13:00:00\n",
      "데이터베이스 및 온라인정보 제공업\n",
      "1999년 12월 9일\n",
      "1999-12-09 00:00:00\n",
      "www.sports2i.com\n",
      "48812713\n"
     ]
    },
    {
     "name": "stderr",
     "output_type": "stream",
     "text": [
      "/home/cook/venv/eda_venv/lib/python3.10/site-packages/urllib3/connectionpool.py:1099: InsecureRequestWarning: Unverified HTTPS request is being made to host 'www.saramin.co.kr'. Adding certificate verification is strongly advised. See: https://urllib3.readthedocs.io/en/latest/advanced-usage.html#tls-warnings\n",
      "  warnings.warn(\n"
     ]
    },
    {
     "name": "stdout",
     "output_type": "stream",
     "text": [
      "eUxNOSt4UG5nS1JLV0MwdmZxeTRWZz09 코스모로보틱스 코스모로보틱스(주) 연구소 직원 채용\n",
      "2024-08-14 12:00:00\n",
      "http://www.exoatletasia.com\n",
      "48809296\n"
     ]
    },
    {
     "name": "stderr",
     "output_type": "stream",
     "text": [
      "/home/cook/venv/eda_venv/lib/python3.10/site-packages/urllib3/connectionpool.py:1099: InsecureRequestWarning: Unverified HTTPS request is being made to host 'www.saramin.co.kr'. Adding certificate verification is strongly advised. See: https://urllib3.readthedocs.io/en/latest/advanced-usage.html#tls-warnings\n",
      "  warnings.warn(\n"
     ]
    },
    {
     "name": "stdout",
     "output_type": "stream",
     "text": [
      "VXlWNUxwcUlNWkhpbEdwYVR6TlNNdz09 (주)다날핀테크\t 다날핀테크 페이코인 서비스기획 경력 채용\n",
      "2024-08-14 08:00:00\n",
      "시스템 소프트웨어 개발 및 공급업\n",
      "2019년 1월 17일\n",
      "2019-01-17 00:00:00\n",
      "www.danalfintech.com\n",
      "48806310\n"
     ]
    },
    {
     "name": "stderr",
     "output_type": "stream",
     "text": [
      "/home/cook/venv/eda_venv/lib/python3.10/site-packages/urllib3/connectionpool.py:1099: InsecureRequestWarning: Unverified HTTPS request is being made to host 'www.saramin.co.kr'. Adding certificate verification is strongly advised. See: https://urllib3.readthedocs.io/en/latest/advanced-usage.html#tls-warnings\n",
      "  warnings.warn(\n"
     ]
    },
    {
     "name": "stdout",
     "output_type": "stream",
     "text": [
      "aGRYbWRuMHlxV21kMTVNVjNCYWkxZz09 (주)에프에스솔루션 [경력] 컴퓨터비전/딥러닝알고리즘 개발(ADAS/DMS/Surveillance)\n",
      "2024-09-13 15:00:00\n",
      "응용 소프트웨어 개발 및 공급업\n",
      "2015년 12월 18일\n",
      "2015-12-18 00:00:00\n",
      "www.fslabs.ai\n",
      "48802099\n"
     ]
    },
    {
     "name": "stderr",
     "output_type": "stream",
     "text": [
      "/home/cook/venv/eda_venv/lib/python3.10/site-packages/urllib3/connectionpool.py:1099: InsecureRequestWarning: Unverified HTTPS request is being made to host 'www.saramin.co.kr'. Adding certificate verification is strongly advised. See: https://urllib3.readthedocs.io/en/latest/advanced-usage.html#tls-warnings\n",
      "  warnings.warn(\n"
     ]
    },
    {
     "name": "stdout",
     "output_type": "stream",
     "text": [
      "MlU1eXBjN1I3ZWVxaGgwT2gyOVUxdz09 주식회사 클레 3차원 머신비전 솔루션 필드엔지니어 신입 및 대리급 채용\n",
      "2024-08-13 10:00:00\n",
      "응용 소프트웨어 개발 및 공급업\n",
      "2021년 11월 12일\n",
      "2021-11-12 00:00:00\n",
      "cle.vision\n",
      "48802041\n"
     ]
    },
    {
     "name": "stderr",
     "output_type": "stream",
     "text": [
      "/home/cook/venv/eda_venv/lib/python3.10/site-packages/urllib3/connectionpool.py:1099: InsecureRequestWarning: Unverified HTTPS request is being made to host 'www.saramin.co.kr'. Adding certificate verification is strongly advised. See: https://urllib3.readthedocs.io/en/latest/advanced-usage.html#tls-warnings\n",
      "  warnings.warn(\n"
     ]
    },
    {
     "name": "stdout",
     "output_type": "stream",
     "text": [
      "MlU1eXBjN1I3ZWVxaGgwT2gyOVUxdz09 주식회사 클레 3차원 머신비전 솔루션 필드엔지니어 경력(과장급) 채용\n",
      "2024-08-13 10:00:00\n",
      "응용 소프트웨어 개발 및 공급업\n",
      "2021년 11월 12일\n",
      "2021-11-12 00:00:00\n",
      "cle.vision\n",
      "48802037\n"
     ]
    },
    {
     "name": "stderr",
     "output_type": "stream",
     "text": [
      "/home/cook/venv/eda_venv/lib/python3.10/site-packages/urllib3/connectionpool.py:1099: InsecureRequestWarning: Unverified HTTPS request is being made to host 'www.saramin.co.kr'. Adding certificate verification is strongly advised. See: https://urllib3.readthedocs.io/en/latest/advanced-usage.html#tls-warnings\n",
      "  warnings.warn(\n"
     ]
    },
    {
     "name": "stdout",
     "output_type": "stream",
     "text": [
      "RzBaRnNqKzJuWVdVeHNDLzlFVjcrQT09 쿠팡(주) [쿠팡풀필먼트서비스] Project Deployment & Improvement 전문가\n",
      "2024-08-13 10:00:00\n",
      "전자상거래 소매업\n",
      "2013년 2월 15일\n",
      "2013-02-15 00:00:00\n",
      "www.coupang.com\n",
      "48799211\n"
     ]
    },
    {
     "name": "stderr",
     "output_type": "stream",
     "text": [
      "/home/cook/venv/eda_venv/lib/python3.10/site-packages/urllib3/connectionpool.py:1099: InsecureRequestWarning: Unverified HTTPS request is being made to host 'www.saramin.co.kr'. Adding certificate verification is strongly advised. See: https://urllib3.readthedocs.io/en/latest/advanced-usage.html#tls-warnings\n",
      "  warnings.warn(\n"
     ]
    },
    {
     "name": "stdout",
     "output_type": "stream",
     "text": [
      "cldka05Hc1JGSjRxdHVpZ0ROcXh2UT09 (주)엑스오비스 Python 개발 연구원 채용\n",
      "2024-08-12 18:00:00\n",
      "응용 소프트웨어 개발 및 공급업\n",
      "2000년 3월 17일\n",
      "2000-03-17 00:00:00\n",
      "www.xorbis.com\n",
      "48798872\n"
     ]
    },
    {
     "name": "stderr",
     "output_type": "stream",
     "text": [
      "/home/cook/venv/eda_venv/lib/python3.10/site-packages/urllib3/connectionpool.py:1099: InsecureRequestWarning: Unverified HTTPS request is being made to host 'www.saramin.co.kr'. Adding certificate verification is strongly advised. See: https://urllib3.readthedocs.io/en/latest/advanced-usage.html#tls-warnings\n",
      "  warnings.warn(\n"
     ]
    },
    {
     "name": "stdout",
     "output_type": "stream",
     "text": [
      "L09sc29QQU9iT1U1RG8rNGJTTUxLZz09 (주)모핑아이 [모핑아이] 백엔드 개발자 채용 공고 (경력/신입)\n",
      "2024-08-12 17:00:00\n",
      "응용 소프트웨어 개발 및 공급업\n",
      "2021년 1월 5일\n",
      "2021-01-05 00:00:00\n",
      "morphingi.com\n",
      "48798491\n"
     ]
    },
    {
     "name": "stderr",
     "output_type": "stream",
     "text": [
      "/home/cook/venv/eda_venv/lib/python3.10/site-packages/urllib3/connectionpool.py:1099: InsecureRequestWarning: Unverified HTTPS request is being made to host 'www.saramin.co.kr'. Adding certificate verification is strongly advised. See: https://urllib3.readthedocs.io/en/latest/advanced-usage.html#tls-warnings\n",
      "  warnings.warn(\n"
     ]
    },
    {
     "name": "stdout",
     "output_type": "stream",
     "text": [
      "UWRxQW03bkkxTUZ1REZHOW52U1pMUT09 (주)다민로봇 [(주)]다민로봇 로봇사업부(프로젝트 매니저) 신입/경력 채용\n",
      "2024-08-14 18:00:00\n",
      "응용 소프트웨어 개발 및 공급업\n",
      "2019년 10월 16일\n",
      "2019-10-16 00:00:00\n",
      "48797874\n"
     ]
    },
    {
     "name": "stderr",
     "output_type": "stream",
     "text": [
      "/home/cook/venv/eda_venv/lib/python3.10/site-packages/urllib3/connectionpool.py:1099: InsecureRequestWarning: Unverified HTTPS request is being made to host 'www.saramin.co.kr'. Adding certificate verification is strongly advised. See: https://urllib3.readthedocs.io/en/latest/advanced-usage.html#tls-warnings\n",
      "  warnings.warn(\n"
     ]
    },
    {
     "name": "stdout",
     "output_type": "stream",
     "text": [
      "L3ZUMTc5K3Y1MXVySkd4N3J5MVpwdz09 아비만엔지니어링(주) 아비만엔지니어링(주) 자동화FA사업부 기술1팀 경력 채용\n",
      "2024-08-12 16:00:00\n",
      "그 외 기타 특수목적용 기계 제조업\n",
      "2003년 4월 23일\n",
      "2003-04-23 00:00:00\n",
      "www.abimaneng.com\n",
      "48796770\n"
     ]
    },
    {
     "name": "stderr",
     "output_type": "stream",
     "text": [
      "/home/cook/venv/eda_venv/lib/python3.10/site-packages/urllib3/connectionpool.py:1099: InsecureRequestWarning: Unverified HTTPS request is being made to host 'www.saramin.co.kr'. Adding certificate verification is strongly advised. See: https://urllib3.readthedocs.io/en/latest/advanced-usage.html#tls-warnings\n",
      "  warnings.warn(\n"
     ]
    },
    {
     "name": "stdout",
     "output_type": "stream",
     "text": [
      "ZWF6T2dSVDZEME5MMFhsRnJkS1M4UT09 (주)태진시스템 (주)태진시스템 스마트공장 구축 기업 통합 직원 채용\n",
      "2024-08-13 17:00:00\n",
      "기타 주변기기 제조업\n",
      "2003년 3월 19일\n",
      "2003-03-19 00:00:00\n"
     ]
    },
    {
     "name": "stderr",
     "output_type": "stream",
     "text": [
      "/home/cook/venv/eda_venv/lib/python3.10/site-packages/urllib3/connectionpool.py:1099: InsecureRequestWarning: Unverified HTTPS request is being made to host 'www.saramin.co.kr'. Adding certificate verification is strongly advised. See: https://urllib3.readthedocs.io/en/latest/advanced-usage.html#tls-warnings\n",
      "  warnings.warn(\n"
     ]
    },
    {
     "name": "stdout",
     "output_type": "stream",
     "text": [
      "48795726\n"
     ]
    },
    {
     "name": "stderr",
     "output_type": "stream",
     "text": [
      "/home/cook/venv/eda_venv/lib/python3.10/site-packages/urllib3/connectionpool.py:1099: InsecureRequestWarning: Unverified HTTPS request is being made to host 'www.saramin.co.kr'. Adding certificate verification is strongly advised. See: https://urllib3.readthedocs.io/en/latest/advanced-usage.html#tls-warnings\n",
      "  warnings.warn(\n"
     ]
    },
    {
     "name": "stdout",
     "output_type": "stream",
     "text": [
      "Vm5iT3pEWnhhS2lWV1VnR215aWNyUT09 (주)씨유박스 (코스닥상장사)인공지능연구 전문연구요원 (병역특례) 모집\n",
      "2024-08-12 14:00:00\n",
      "응용 소프트웨어 개발 및 공급업\n",
      "2010년 5월 31일\n",
      "2010-05-31 00:00:00\n",
      "www.cubox.ai\n",
      "48792732\n"
     ]
    },
    {
     "name": "stderr",
     "output_type": "stream",
     "text": [
      "/home/cook/venv/eda_venv/lib/python3.10/site-packages/urllib3/connectionpool.py:1099: InsecureRequestWarning: Unverified HTTPS request is being made to host 'www.saramin.co.kr'. Adding certificate verification is strongly advised. See: https://urllib3.readthedocs.io/en/latest/advanced-usage.html#tls-warnings\n",
      "  warnings.warn(\n"
     ]
    },
    {
     "name": "stdout",
     "output_type": "stream",
     "text": [
      "L09sc29QQU9iT1U1RG8rNGJTTUxLZz09 (주)모핑아이 [모핑아이] 블록체인 개발자 채용 공고 (경력)\n",
      "2024-08-12 10:00:00\n",
      "응용 소프트웨어 개발 및 공급업\n",
      "2021년 1월 5일\n",
      "2021-01-05 00:00:00\n",
      "morphingi.com\n",
      "48792007\n"
     ]
    },
    {
     "name": "stderr",
     "output_type": "stream",
     "text": [
      "/home/cook/venv/eda_venv/lib/python3.10/site-packages/urllib3/connectionpool.py:1099: InsecureRequestWarning: Unverified HTTPS request is being made to host 'www.saramin.co.kr'. Adding certificate verification is strongly advised. See: https://urllib3.readthedocs.io/en/latest/advanced-usage.html#tls-warnings\n",
      "  warnings.warn(\n"
     ]
    },
    {
     "name": "stdout",
     "output_type": "stream",
     "text": [
      "QmZkeUFWZzFhVXRyRXVOakxYeFpQUT09 (주)세스텍 삼성 디스플레이 내 로봇 유지보수 채용(신입, 경력)\n",
      "2024-08-12 10:00:00\n",
      "산업용 로봇 제조업\n",
      "1999년 9월 27일\n",
      "1999-09-27 00:00:00\n",
      "www.sestech.co.kr\n",
      "48790751\n"
     ]
    },
    {
     "name": "stderr",
     "output_type": "stream",
     "text": [
      "/home/cook/venv/eda_venv/lib/python3.10/site-packages/urllib3/connectionpool.py:1099: InsecureRequestWarning: Unverified HTTPS request is being made to host 'www.saramin.co.kr'. Adding certificate verification is strongly advised. See: https://urllib3.readthedocs.io/en/latest/advanced-usage.html#tls-warnings\n",
      "  warnings.warn(\n"
     ]
    },
    {
     "name": "stdout",
     "output_type": "stream",
     "text": [
      "ZFJmWkFkV3FzaGl0ckpMY1RHSGpnZz09 (주)인티그리트 [지능형 로보틱스 플랫폼] 차세대 스마트 디바이스 S/W, 펌웨어\n",
      "2024-09-19 09:00:00\n",
      "산업용 로봇 제조업\n",
      "2014년 6월 27일\n",
      "2014-06-27 00:00:00\n",
      "http://integrit.ai\n",
      "48787237\n"
     ]
    },
    {
     "name": "stderr",
     "output_type": "stream",
     "text": [
      "/home/cook/venv/eda_venv/lib/python3.10/site-packages/urllib3/connectionpool.py:1099: InsecureRequestWarning: Unverified HTTPS request is being made to host 'www.saramin.co.kr'. Adding certificate verification is strongly advised. See: https://urllib3.readthedocs.io/en/latest/advanced-usage.html#tls-warnings\n",
      "  warnings.warn(\n"
     ]
    },
    {
     "name": "stdout",
     "output_type": "stream",
     "text": [
      "amFwR1JFMFBoVG9ib0ZaSTFZbDRUZz09 (주)피엠에프 로봇 소프트웨어/시스템 개발 신입/경력직 채용\n",
      "2024-08-10 15:00:00\n",
      "전기회로 접속장치 제조업\n",
      "2022년 9월 19일\n",
      "2022-09-19 00:00:00\n",
      "https://www.pmotionf.com/\n",
      "48785722\n"
     ]
    },
    {
     "name": "stderr",
     "output_type": "stream",
     "text": [
      "/home/cook/venv/eda_venv/lib/python3.10/site-packages/urllib3/connectionpool.py:1099: InsecureRequestWarning: Unverified HTTPS request is being made to host 'www.saramin.co.kr'. Adding certificate verification is strongly advised. See: https://urllib3.readthedocs.io/en/latest/advanced-usage.html#tls-warnings\n",
      "  warnings.warn(\n"
     ]
    },
    {
     "name": "stdout",
     "output_type": "stream",
     "text": [
      "eGsvQVA2eDZSdnE3Q2ZzSWlaRk9Qdz09 세이지(주) Marketing Manager\n",
      "2024-08-09 19:00:00\n",
      "응용 소프트웨어 개발 및 공급업\n",
      "2016년 11월 25일\n",
      "2016-11-25 00:00:00\n",
      "saige.ai\n",
      "48785503\n"
     ]
    },
    {
     "name": "stderr",
     "output_type": "stream",
     "text": [
      "/home/cook/venv/eda_venv/lib/python3.10/site-packages/urllib3/connectionpool.py:1099: InsecureRequestWarning: Unverified HTTPS request is being made to host 'www.saramin.co.kr'. Adding certificate verification is strongly advised. See: https://urllib3.readthedocs.io/en/latest/advanced-usage.html#tls-warnings\n",
      "  warnings.warn(\n"
     ]
    },
    {
     "name": "stdout",
     "output_type": "stream",
     "text": [
      "L09sc29QQU9iT1U1RG8rNGJTTUxLZz09 (주)모핑아이 [모핑아이] AI 개발자 채용 공고 (경력/신입)\n",
      "2024-08-09 18:00:00\n",
      "응용 소프트웨어 개발 및 공급업\n",
      "2021년 1월 5일\n",
      "2021-01-05 00:00:00\n",
      "morphingi.com\n",
      "48779599\n"
     ]
    },
    {
     "name": "stderr",
     "output_type": "stream",
     "text": [
      "/home/cook/venv/eda_venv/lib/python3.10/site-packages/urllib3/connectionpool.py:1099: InsecureRequestWarning: Unverified HTTPS request is being made to host 'www.saramin.co.kr'. Adding certificate verification is strongly advised. See: https://urllib3.readthedocs.io/en/latest/advanced-usage.html#tls-warnings\n",
      "  warnings.warn(\n"
     ]
    },
    {
     "name": "stdout",
     "output_type": "stream",
     "text": [
      "a1U0ajBCdVFDRVFPYzFEV1B1YVpWUT09 (주)아이디정보시스템 [서울] 솔루션영업(기술지원팀) 신입사원 모집공고\n",
      "2024-08-09 10:00:00\n",
      "응용 소프트웨어 개발 및 공급업\n",
      "2000년 3월 20일\n",
      "2000-03-20 00:00:00\n",
      "www.idif.co.kr\n",
      "48779544\n"
     ]
    },
    {
     "name": "stderr",
     "output_type": "stream",
     "text": [
      "/home/cook/venv/eda_venv/lib/python3.10/site-packages/urllib3/connectionpool.py:1099: InsecureRequestWarning: Unverified HTTPS request is being made to host 'www.saramin.co.kr'. Adding certificate verification is strongly advised. See: https://urllib3.readthedocs.io/en/latest/advanced-usage.html#tls-warnings\n",
      "  warnings.warn(\n"
     ]
    },
    {
     "name": "stdout",
     "output_type": "stream",
     "text": [
      "ZUtidVo4RDI5WkZTdWtieENBcXZnZz09 (주)에이앤아이 디스플레이/반도체 설비제어 PLC 경력직 모집\n",
      "2024-08-09 10:00:00\n",
      "반도체 제조용 기계 제조업\n",
      "2000년 1월 31일\n",
      "2000-01-31 00:00:00\n",
      "www.anieng.com\n",
      "48779424\n"
     ]
    },
    {
     "name": "stderr",
     "output_type": "stream",
     "text": [
      "/home/cook/venv/eda_venv/lib/python3.10/site-packages/urllib3/connectionpool.py:1099: InsecureRequestWarning: Unverified HTTPS request is being made to host 'www.saramin.co.kr'. Adding certificate verification is strongly advised. See: https://urllib3.readthedocs.io/en/latest/advanced-usage.html#tls-warnings\n",
      "  warnings.warn(\n"
     ]
    },
    {
     "name": "stdout",
     "output_type": "stream",
     "text": [
      "a1U0ajBCdVFDRVFPYzFEV1B1YVpWUT09 (주)아이디정보시스템 [서울] 솔루션영업(영업팀) 팀장급 모집공고\n",
      "2024-08-09 09:00:00\n",
      "응용 소프트웨어 개발 및 공급업\n",
      "2000년 3월 20일\n",
      "2000-03-20 00:00:00\n",
      "www.idif.co.kr\n",
      "48778780\n"
     ]
    },
    {
     "name": "stderr",
     "output_type": "stream",
     "text": [
      "/home/cook/venv/eda_venv/lib/python3.10/site-packages/urllib3/connectionpool.py:1099: InsecureRequestWarning: Unverified HTTPS request is being made to host 'www.saramin.co.kr'. Adding certificate verification is strongly advised. See: https://urllib3.readthedocs.io/en/latest/advanced-usage.html#tls-warnings\n",
      "  warnings.warn(\n"
     ]
    },
    {
     "name": "stdout",
     "output_type": "stream",
     "text": [
      "dXJUdkZWMm1IYnZ1ejFleWQxbkpSQT09 (주)럭스로보 [IoT/소형가전] 펌웨어 FW 개발 경력(3년 이상) 채용\n",
      "2024-08-09 09:00:00\n",
      "산업용 로봇 제조업\n",
      "2014년 11월 14일\n",
      "2014-11-14 00:00:00\n",
      "www.luxrobo.com\n",
      "48773296\n"
     ]
    },
    {
     "name": "stderr",
     "output_type": "stream",
     "text": [
      "/home/cook/venv/eda_venv/lib/python3.10/site-packages/urllib3/connectionpool.py:1099: InsecureRequestWarning: Unverified HTTPS request is being made to host 'www.saramin.co.kr'. Adding certificate verification is strongly advised. See: https://urllib3.readthedocs.io/en/latest/advanced-usage.html#tls-warnings\n",
      "  warnings.warn(\n"
     ]
    },
    {
     "name": "stdout",
     "output_type": "stream",
     "text": [
      "TWM1VGhuZklZZGtHNzJpVUtyb2oydz09 (주)리브스메드 [연구소 로봇]로봇제어 Engineer : Senior (과장-부장급) 박사급\n",
      "2024-08-08 13:00:00\n",
      "48772578\n"
     ]
    },
    {
     "name": "stderr",
     "output_type": "stream",
     "text": [
      "/home/cook/venv/eda_venv/lib/python3.10/site-packages/urllib3/connectionpool.py:1099: InsecureRequestWarning: Unverified HTTPS request is being made to host 'www.saramin.co.kr'. Adding certificate verification is strongly advised. See: https://urllib3.readthedocs.io/en/latest/advanced-usage.html#tls-warnings\n",
      "  warnings.warn(\n"
     ]
    },
    {
     "name": "stdout",
     "output_type": "stream",
     "text": [
      "TnRyd1E2NGxLUklUdlgrWEowQjdnZz09 (주)엑스와이지 [서비스 로봇] 백엔드 엔지니어(시니어)\n",
      "2024-08-08 11:00:00\n",
      "48769034\n"
     ]
    },
    {
     "name": "stderr",
     "output_type": "stream",
     "text": [
      "/home/cook/venv/eda_venv/lib/python3.10/site-packages/urllib3/connectionpool.py:1099: InsecureRequestWarning: Unverified HTTPS request is being made to host 'www.saramin.co.kr'. Adding certificate verification is strongly advised. See: https://urllib3.readthedocs.io/en/latest/advanced-usage.html#tls-warnings\n",
      "  warnings.warn(\n"
     ]
    },
    {
     "name": "stdout",
     "output_type": "stream",
     "text": [
      "MG5ZcU9qL2FTenY3cjdya3ZMTzNyQT09 (주)와이씨코퍼레이션 로봇SW 엔지니어 채용 #2년만에 매출70억달성 #성수동본사\n",
      "2024-08-07 21:00:00\n",
      "응용 소프트웨어 개발 및 공급업\n",
      "2022년 3월 25일\n",
      "2022-03-25 00:00:00\n",
      "www.ycgroup.co.kr\n",
      "48767150\n"
     ]
    },
    {
     "name": "stderr",
     "output_type": "stream",
     "text": [
      "/home/cook/venv/eda_venv/lib/python3.10/site-packages/urllib3/connectionpool.py:1099: InsecureRequestWarning: Unverified HTTPS request is being made to host 'www.saramin.co.kr'. Adding certificate verification is strongly advised. See: https://urllib3.readthedocs.io/en/latest/advanced-usage.html#tls-warnings\n",
      "  warnings.warn(\n"
     ]
    },
    {
     "name": "stdout",
     "output_type": "stream",
     "text": [
      "Z3lQejVEM3A0SDN0aURUUHdNUmZaZz09 (주)울트라파머 수직농장의 수확 로봇을 함께 만들 엔지니어를 찾음.\n",
      "2024-08-07 16:00:00\n",
      "농업 및 임업용 기계 제조업\n",
      "2021년 11월 22일\n",
      "2021-11-22 00:00:00\n",
      "www.ultrafarmer.kr\n",
      "48765768\n"
     ]
    },
    {
     "name": "stderr",
     "output_type": "stream",
     "text": [
      "/home/cook/venv/eda_venv/lib/python3.10/site-packages/urllib3/connectionpool.py:1099: InsecureRequestWarning: Unverified HTTPS request is being made to host 'www.saramin.co.kr'. Adding certificate verification is strongly advised. See: https://urllib3.readthedocs.io/en/latest/advanced-usage.html#tls-warnings\n",
      "  warnings.warn(\n"
     ]
    },
    {
     "name": "stdout",
     "output_type": "stream",
     "text": [
      "ZEFMU0YwZUtNb0svSXpsNTArYnoxdz09 (주)인텔리안테크놀로지스 부산연구소 프로젝트 관리(PM)\n",
      "2024-08-07 14:00:00\n",
      "기타 무선 통신장비 제조업\n",
      "2004년 2월 5일\n",
      "2004-02-05 00:00:00\n",
      "http://www.intelliantech.co.kr\n",
      "48765368\n"
     ]
    },
    {
     "name": "stderr",
     "output_type": "stream",
     "text": [
      "/home/cook/venv/eda_venv/lib/python3.10/site-packages/urllib3/connectionpool.py:1099: InsecureRequestWarning: Unverified HTTPS request is being made to host 'www.saramin.co.kr'. Adding certificate verification is strongly advised. See: https://urllib3.readthedocs.io/en/latest/advanced-usage.html#tls-warnings\n",
      "  warnings.warn(\n"
     ]
    },
    {
     "name": "stdout",
     "output_type": "stream",
     "text": [
      "ZXdVaVJkdDlBQ2FNMldSNTAvRng2QT09 (주)위드포인츠 PLC/전장/전기/배선 부문 채용\n",
      "2024-08-07 14:00:00\n",
      "기타 공학 연구개발업\n",
      "2019년 4월 12일\n",
      "2019-04-12 00:00:00\n",
      "www.withpoints.co.kr\n",
      "48765315\n"
     ]
    },
    {
     "name": "stderr",
     "output_type": "stream",
     "text": [
      "/home/cook/venv/eda_venv/lib/python3.10/site-packages/urllib3/connectionpool.py:1099: InsecureRequestWarning: Unverified HTTPS request is being made to host 'www.saramin.co.kr'. Adding certificate verification is strongly advised. See: https://urllib3.readthedocs.io/en/latest/advanced-usage.html#tls-warnings\n",
      "  warnings.warn(\n"
     ]
    },
    {
     "name": "stdout",
     "output_type": "stream",
     "text": [
      "a1U0ajBCdVFDRVFPYzFEV1B1YVpWUT09 (주)아이디정보시스템 [대구] 솔루션영업(영업팀) 팀장급 모집공고\n",
      "2024-08-07 14:00:00\n",
      "응용 소프트웨어 개발 및 공급업\n",
      "2000년 3월 20일\n",
      "2000-03-20 00:00:00\n",
      "www.idif.co.kr\n",
      "48765299\n"
     ]
    },
    {
     "name": "stderr",
     "output_type": "stream",
     "text": [
      "/home/cook/venv/eda_venv/lib/python3.10/site-packages/urllib3/connectionpool.py:1099: InsecureRequestWarning: Unverified HTTPS request is being made to host 'www.saramin.co.kr'. Adding certificate verification is strongly advised. See: https://urllib3.readthedocs.io/en/latest/advanced-usage.html#tls-warnings\n",
      "  warnings.warn(\n"
     ]
    },
    {
     "name": "stdout",
     "output_type": "stream",
     "text": [
      "a1U0ajBCdVFDRVFPYzFEV1B1YVpWUT09 (주)아이디정보시스템 [대구] 솔루션영업(기술지원팀) 신입사원 모집공고\n",
      "2024-08-07 14:00:00\n",
      "응용 소프트웨어 개발 및 공급업\n",
      "2000년 3월 20일\n",
      "2000-03-20 00:00:00\n",
      "www.idif.co.kr\n",
      "48759558\n"
     ]
    },
    {
     "name": "stderr",
     "output_type": "stream",
     "text": [
      "/home/cook/venv/eda_venv/lib/python3.10/site-packages/urllib3/connectionpool.py:1099: InsecureRequestWarning: Unverified HTTPS request is being made to host 'www.saramin.co.kr'. Adding certificate verification is strongly advised. See: https://urllib3.readthedocs.io/en/latest/advanced-usage.html#tls-warnings\n",
      "  warnings.warn(\n"
     ]
    },
    {
     "name": "stdout",
     "output_type": "stream",
     "text": [
      "TkJlcWcwc2NuVi9mYnZBaEZUNlhlZz09 엠에스테크놀러지(주) 레이저장비 제어 채용\n",
      "2024-08-06 17:00:00\n",
      "산업처리공정 제어장비 제조업\n",
      "2013년 12월 18일\n",
      "2013-12-18 00:00:00\n",
      "www.mstechcorp.co.kr\n",
      "48759556\n"
     ]
    },
    {
     "name": "stderr",
     "output_type": "stream",
     "text": [
      "/home/cook/venv/eda_venv/lib/python3.10/site-packages/urllib3/connectionpool.py:1099: InsecureRequestWarning: Unverified HTTPS request is being made to host 'www.saramin.co.kr'. Adding certificate verification is strongly advised. See: https://urllib3.readthedocs.io/en/latest/advanced-usage.html#tls-warnings\n",
      "  warnings.warn(\n"
     ]
    },
    {
     "name": "stdout",
     "output_type": "stream",
     "text": [
      "cUxkWEJNNk5zdmNIYm5sYWNCbjlLQT09 (주)페이히어 [페이히어] 세일즈 스페셜리스트 인턴\n",
      "2024-09-13 17:00:00\n",
      "2019년 8월 1일\n",
      "2019-08-01 00:00:00\n",
      "http://payhere.in/\n",
      "48758418\n"
     ]
    },
    {
     "name": "stderr",
     "output_type": "stream",
     "text": [
      "/home/cook/venv/eda_venv/lib/python3.10/site-packages/urllib3/connectionpool.py:1099: InsecureRequestWarning: Unverified HTTPS request is being made to host 'www.saramin.co.kr'. Adding certificate verification is strongly advised. See: https://urllib3.readthedocs.io/en/latest/advanced-usage.html#tls-warnings\n",
      "  warnings.warn(\n"
     ]
    },
    {
     "name": "stdout",
     "output_type": "stream",
     "text": [
      "R2R4RHhkZ2ZjOHdocTVDSkNFQ2RNdz09 (주)뮤텍코리아 반도체/디스플레이 검사 설비 S/W 개발자 신입/경력 채용\n",
      "2024-08-06 16:00:00\n",
      "물질 검사, 측정 및 분석기구 제조업\n",
      "2000년 3월 31일\n",
      "2000-03-31 00:00:00\n",
      "www.mutechkorea.co.kr\n",
      "48758127\n"
     ]
    },
    {
     "name": "stderr",
     "output_type": "stream",
     "text": [
      "/home/cook/venv/eda_venv/lib/python3.10/site-packages/urllib3/connectionpool.py:1099: InsecureRequestWarning: Unverified HTTPS request is being made to host 'www.saramin.co.kr'. Adding certificate verification is strongly advised. See: https://urllib3.readthedocs.io/en/latest/advanced-usage.html#tls-warnings\n",
      "  warnings.warn(\n"
     ]
    },
    {
     "name": "stdout",
     "output_type": "stream",
     "text": [
      "eEVCenZXZW1hbmFCdVZIcW50ekN3QT09 (주)파이엇 SLAM & Navigation 개발자 모집\n",
      "2024-08-06 15:00:00\n",
      "48757570\n"
     ]
    },
    {
     "name": "stderr",
     "output_type": "stream",
     "text": [
      "/home/cook/venv/eda_venv/lib/python3.10/site-packages/urllib3/connectionpool.py:1099: InsecureRequestWarning: Unverified HTTPS request is being made to host 'www.saramin.co.kr'. Adding certificate verification is strongly advised. See: https://urllib3.readthedocs.io/en/latest/advanced-usage.html#tls-warnings\n",
      "  warnings.warn(\n"
     ]
    },
    {
     "name": "stdout",
     "output_type": "stream",
     "text": [
      "RlNYNTYwejlwQmM4UWhTVDg0c0dFQT09 ㈜다날 다날 테스트 자동화 개발 담당 경력 채용\n",
      "2024-08-06 15:00:00\n",
      "응용 소프트웨어 개발 및 공급업\n",
      "1997년 7월 4일\n",
      "1997-07-04 00:00:00\n",
      "www.welcome.danal.co.kr\n",
      "48757525\n"
     ]
    },
    {
     "name": "stderr",
     "output_type": "stream",
     "text": [
      "/home/cook/venv/eda_venv/lib/python3.10/site-packages/urllib3/connectionpool.py:1099: InsecureRequestWarning: Unverified HTTPS request is being made to host 'www.saramin.co.kr'. Adding certificate verification is strongly advised. See: https://urllib3.readthedocs.io/en/latest/advanced-usage.html#tls-warnings\n",
      "  warnings.warn(\n"
     ]
    },
    {
     "name": "stdout",
     "output_type": "stream",
     "text": [
      "WWlCMDk5TWErN0ZSaitSS1NjeFhQQT09 (주)두원전자 각 부문별 신입 및 경력모집\n",
      "2024-08-06 00:00:00\n",
      "그 외 자동차용 신품 부품 제조업\n",
      "1987년 5월 8일\n",
      "1987-05-08 00:00:00\n",
      "www.dwdec.kr\n",
      "48756376\n"
     ]
    },
    {
     "name": "stderr",
     "output_type": "stream",
     "text": [
      "/home/cook/venv/eda_venv/lib/python3.10/site-packages/urllib3/connectionpool.py:1099: InsecureRequestWarning: Unverified HTTPS request is being made to host 'www.saramin.co.kr'. Adding certificate verification is strongly advised. See: https://urllib3.readthedocs.io/en/latest/advanced-usage.html#tls-warnings\n",
      "  warnings.warn(\n"
     ]
    },
    {
     "name": "stdout",
     "output_type": "stream",
     "text": [
      "dkM2a2VQTFQ0S01Xd2tvcVFrWlFuZz09 (주)글로벌로보틱스 (주)글로벌로보틱스 로봇팀 (로봇티칭) 신입 및 경력직 채용\n",
      "2024-08-06 13:00:00\n",
      "그 외 기타 특수목적용 기계 제조업\n",
      "2007년 3월 15일\n",
      "2007-03-15 00:00:00\n",
      "http://g-robotics.com\n",
      "48755001\n"
     ]
    },
    {
     "name": "stderr",
     "output_type": "stream",
     "text": [
      "/home/cook/venv/eda_venv/lib/python3.10/site-packages/urllib3/connectionpool.py:1099: InsecureRequestWarning: Unverified HTTPS request is being made to host 'www.saramin.co.kr'. Adding certificate verification is strongly advised. See: https://urllib3.readthedocs.io/en/latest/advanced-usage.html#tls-warnings\n",
      "  warnings.warn(\n"
     ]
    },
    {
     "name": "stdout",
     "output_type": "stream",
     "text": [
      "Z3UvenFsNW1VejVWSUFSVU8wNDI1dz09 (주)한컴어썸텍 드론운용(드론파일럿) 인력채용\n",
      "2024-08-06 11:00:00\n",
      "산업용 로봇 제조업\n",
      "2018년 2월 9일\n",
      "2018-02-09 00:00:00\n",
      "www.hancomat.com\n",
      "48754965\n"
     ]
    },
    {
     "name": "stderr",
     "output_type": "stream",
     "text": [
      "/home/cook/venv/eda_venv/lib/python3.10/site-packages/urllib3/connectionpool.py:1099: InsecureRequestWarning: Unverified HTTPS request is being made to host 'www.saramin.co.kr'. Adding certificate verification is strongly advised. See: https://urllib3.readthedocs.io/en/latest/advanced-usage.html#tls-warnings\n",
      "  warnings.warn(\n"
     ]
    },
    {
     "name": "stdout",
     "output_type": "stream",
     "text": [
      "Z3UvenFsNW1VejVWSUFSVU8wNDI1dz09 (주)한컴어썸텍 기체설계 및 해석 인력채용\n",
      "2024-08-06 11:00:00\n",
      "산업용 로봇 제조업\n",
      "2018년 2월 9일\n",
      "2018-02-09 00:00:00\n",
      "www.hancomat.com\n",
      "48754910\n"
     ]
    },
    {
     "name": "stderr",
     "output_type": "stream",
     "text": [
      "/home/cook/venv/eda_venv/lib/python3.10/site-packages/urllib3/connectionpool.py:1099: InsecureRequestWarning: Unverified HTTPS request is being made to host 'www.saramin.co.kr'. Adding certificate verification is strongly advised. See: https://urllib3.readthedocs.io/en/latest/advanced-usage.html#tls-warnings\n",
      "  warnings.warn(\n"
     ]
    },
    {
     "name": "stdout",
     "output_type": "stream",
     "text": [
      "Z3UvenFsNW1VejVWSUFSVU8wNDI1dz09 (주)한컴어썸텍 펌웨어 개발/회로 설계 인력채용\n",
      "2024-08-06 11:00:00\n",
      "산업용 로봇 제조업\n",
      "2018년 2월 9일\n",
      "2018-02-09 00:00:00\n",
      "www.hancomat.com\n",
      "48749092\n"
     ]
    },
    {
     "name": "stderr",
     "output_type": "stream",
     "text": [
      "/home/cook/venv/eda_venv/lib/python3.10/site-packages/urllib3/connectionpool.py:1099: InsecureRequestWarning: Unverified HTTPS request is being made to host 'www.saramin.co.kr'. Adding certificate verification is strongly advised. See: https://urllib3.readthedocs.io/en/latest/advanced-usage.html#tls-warnings\n",
      "  warnings.warn(\n"
     ]
    },
    {
     "name": "stdout",
     "output_type": "stream",
     "text": [
      "ZjlzdDNGQTdRVE1GSi9wY2FSVmJsZz09 (주)레인보우로보틱스 (주)레인보우로보틱스 모바일로봇 관제시스템 개발자 채용\n",
      "2024-08-05 16:00:00\n",
      "산업용 로봇 제조업\n",
      "2011년 2월 10일\n",
      "2011-02-10 00:00:00\n",
      "www.rainbow-robotics.com\n",
      "48746996\n"
     ]
    },
    {
     "name": "stderr",
     "output_type": "stream",
     "text": [
      "/home/cook/venv/eda_venv/lib/python3.10/site-packages/urllib3/connectionpool.py:1099: InsecureRequestWarning: Unverified HTTPS request is being made to host 'www.saramin.co.kr'. Adding certificate verification is strongly advised. See: https://urllib3.readthedocs.io/en/latest/advanced-usage.html#tls-warnings\n",
      "  warnings.warn(\n"
     ]
    },
    {
     "name": "stdout",
     "output_type": "stream",
     "text": [
      "OTdLUmhvMTlYeUl2MVZWNlZ2c3BKZz09 (주)엘로이랩 [서울/AI 초분광 솔루션] AI Researcher 채용(신입/경력)\n",
      "2024-08-05 14:00:00\n",
      "응용 소프트웨어 개발 및 공급업\n",
      "2020년 6월 24일\n",
      "2020-06-24 00:00:00\n",
      "http://elroilab.com/\n",
      "48746995\n"
     ]
    },
    {
     "name": "stderr",
     "output_type": "stream",
     "text": [
      "/home/cook/venv/eda_venv/lib/python3.10/site-packages/urllib3/connectionpool.py:1099: InsecureRequestWarning: Unverified HTTPS request is being made to host 'www.saramin.co.kr'. Adding certificate verification is strongly advised. See: https://urllib3.readthedocs.io/en/latest/advanced-usage.html#tls-warnings\n",
      "  warnings.warn(\n"
     ]
    },
    {
     "name": "stdout",
     "output_type": "stream",
     "text": [
      "Z1VZSnl6K0FwMG9HUmdiWGMzNkY0dz09 (주)비전스페이스 산업용 로봇 AI 자율주행 & ROS & RMS 모집 (경력 우대)\n",
      "2024-08-05 14:00:00\n",
      "응용 소프트웨어 개발 및 공급업\n",
      "2023년 9월 25일\n",
      "2023-09-25 00:00:00\n",
      "visionspace.co.kr\n",
      "48744244\n"
     ]
    },
    {
     "name": "stderr",
     "output_type": "stream",
     "text": [
      "/home/cook/venv/eda_venv/lib/python3.10/site-packages/urllib3/connectionpool.py:1099: InsecureRequestWarning: Unverified HTTPS request is being made to host 'www.saramin.co.kr'. Adding certificate verification is strongly advised. See: https://urllib3.readthedocs.io/en/latest/advanced-usage.html#tls-warnings\n",
      "  warnings.warn(\n"
     ]
    },
    {
     "name": "stdout",
     "output_type": "stream",
     "text": [
      "T1dGUWVlaXNqditlZFU0M3lVVHl3dz09 빅버드(주) 스타트업 머신러닝 연구원 모집\n",
      "2024-08-05 10:00:00\n",
      "기타 엔지니어링 서비스업\n",
      "48744122\n"
     ]
    },
    {
     "name": "stderr",
     "output_type": "stream",
     "text": [
      "/home/cook/venv/eda_venv/lib/python3.10/site-packages/urllib3/connectionpool.py:1099: InsecureRequestWarning: Unverified HTTPS request is being made to host 'www.saramin.co.kr'. Adding certificate verification is strongly advised. See: https://urllib3.readthedocs.io/en/latest/advanced-usage.html#tls-warnings\n",
      "  warnings.warn(\n"
     ]
    },
    {
     "name": "stdout",
     "output_type": "stream",
     "text": [
      "Z1VZSnl6K0FwMG9HUmdiWGMzNkY0dz09 (주)비전스페이스 제조업SW 기반의 메타버스(디지털 트윈),PLC,HMI,EAI,API 개발\n",
      "2024-08-05 11:00:00\n",
      "응용 소프트웨어 개발 및 공급업\n",
      "2023년 9월 25일\n",
      "2023-09-25 00:00:00\n",
      "visionspace.co.kr\n",
      "48742473\n"
     ]
    },
    {
     "name": "stderr",
     "output_type": "stream",
     "text": [
      "/home/cook/venv/eda_venv/lib/python3.10/site-packages/urllib3/connectionpool.py:1099: InsecureRequestWarning: Unverified HTTPS request is being made to host 'www.saramin.co.kr'. Adding certificate verification is strongly advised. See: https://urllib3.readthedocs.io/en/latest/advanced-usage.html#tls-warnings\n",
      "  warnings.warn(\n"
     ]
    },
    {
     "name": "stdout",
     "output_type": "stream",
     "text": [
      "UXRERktEaFF6RHlVMTg4RHgxQ2ZGUT09 (주)제트웨이크 전기전자(모터 제어부 개발)\n",
      "2024-08-05 09:00:00\n",
      "48741534\n"
     ]
    },
    {
     "name": "stderr",
     "output_type": "stream",
     "text": [
      "/home/cook/venv/eda_venv/lib/python3.10/site-packages/urllib3/connectionpool.py:1099: InsecureRequestWarning: Unverified HTTPS request is being made to host 'www.saramin.co.kr'. Adding certificate verification is strongly advised. See: https://urllib3.readthedocs.io/en/latest/advanced-usage.html#tls-warnings\n",
      "  warnings.warn(\n"
     ]
    },
    {
     "name": "stdout",
     "output_type": "stream",
     "text": [
      "UHVjcGd5UktVTjlSNlZJT1psRm5aUT09 (주)웹스시스템코리아 3D CAD SOLIDWORKS(솔리드웍스) 영업 사원 모집\n",
      "2024-08-05 09:00:00\n",
      "응용 소프트웨어 개발 및 공급업\n",
      "2010년 1월 4일\n",
      "2010-01-04 00:00:00\n",
      "www.websco.co.kr\n",
      "48741512\n"
     ]
    },
    {
     "name": "stderr",
     "output_type": "stream",
     "text": [
      "/home/cook/venv/eda_venv/lib/python3.10/site-packages/urllib3/connectionpool.py:1099: InsecureRequestWarning: Unverified HTTPS request is being made to host 'www.saramin.co.kr'. Adding certificate verification is strongly advised. See: https://urllib3.readthedocs.io/en/latest/advanced-usage.html#tls-warnings\n",
      "  warnings.warn(\n"
     ]
    },
    {
     "name": "stdout",
     "output_type": "stream",
     "text": [
      "UHVjcGd5UktVTjlSNlZJT1psRm5aUT09 (주)웹스시스템코리아 SOLIDWORKS ELECTRICAL전장설계 엔지니어\n",
      "2024-08-05 09:00:00\n",
      "응용 소프트웨어 개발 및 공급업\n",
      "2010년 1월 4일\n",
      "2010-01-04 00:00:00\n",
      "www.websco.co.kr\n",
      "48741377\n"
     ]
    },
    {
     "name": "stderr",
     "output_type": "stream",
     "text": [
      "/home/cook/venv/eda_venv/lib/python3.10/site-packages/urllib3/connectionpool.py:1099: InsecureRequestWarning: Unverified HTTPS request is being made to host 'www.saramin.co.kr'. Adding certificate verification is strongly advised. See: https://urllib3.readthedocs.io/en/latest/advanced-usage.html#tls-warnings\n",
      "  warnings.warn(\n"
     ]
    },
    {
     "name": "stdout",
     "output_type": "stream",
     "text": [
      "aG9BY3BOdWc4SGgwZnNyeFhmOVRIQT09 (주)유비샘 [유비샘]C#활용 자동제어 개발자 경력직 모집(서울)\n",
      "2024-08-05 09:00:00\n",
      "시스템 소프트웨어 개발 및 공급업\n",
      "2006년 7월 14일\n",
      "2006-07-14 00:00:00\n",
      "www.ubisam.com\n",
      "48738912\n"
     ]
    },
    {
     "name": "stderr",
     "output_type": "stream",
     "text": [
      "/home/cook/venv/eda_venv/lib/python3.10/site-packages/urllib3/connectionpool.py:1099: InsecureRequestWarning: Unverified HTTPS request is being made to host 'www.saramin.co.kr'. Adding certificate verification is strongly advised. See: https://urllib3.readthedocs.io/en/latest/advanced-usage.html#tls-warnings\n",
      "  warnings.warn(\n"
     ]
    },
    {
     "name": "stdout",
     "output_type": "stream",
     "text": [
      "Z1VZSnl6K0FwMG9HUmdiWGMzNkY0dz09 (주)비전스페이스 언리얼엔진 메타버스 개발자 정규직 채용\n",
      "2024-08-03 16:00:00\n",
      "응용 소프트웨어 개발 및 공급업\n",
      "2023년 9월 25일\n",
      "2023-09-25 00:00:00\n",
      "visionspace.co.kr\n",
      "48735262\n"
     ]
    },
    {
     "name": "stderr",
     "output_type": "stream",
     "text": [
      "/home/cook/venv/eda_venv/lib/python3.10/site-packages/urllib3/connectionpool.py:1099: InsecureRequestWarning: Unverified HTTPS request is being made to host 'www.saramin.co.kr'. Adding certificate verification is strongly advised. See: https://urllib3.readthedocs.io/en/latest/advanced-usage.html#tls-warnings\n",
      "  warnings.warn(\n"
     ]
    },
    {
     "name": "stdout",
     "output_type": "stream",
     "text": [
      "dGRoWEhaOUwwZGlsUkwzR094emtyZz09 (주)딥아이 Embedded System Design Engineer(MCU, 펌웨어, 회로설계, PCBA)\n",
      "2024-09-23 15:00:00\n",
      "https://deep-ai.kr\n"
     ]
    },
    {
     "name": "stderr",
     "output_type": "stream",
     "text": [
      "/home/cook/venv/eda_venv/lib/python3.10/site-packages/urllib3/connectionpool.py:1099: InsecureRequestWarning: Unverified HTTPS request is being made to host 'www.saramin.co.kr'. Adding certificate verification is strongly advised. See: https://urllib3.readthedocs.io/en/latest/advanced-usage.html#tls-warnings\n",
      "  warnings.warn(\n"
     ]
    },
    {
     "name": "stdout",
     "output_type": "stream",
     "text": [
      "48728384\n"
     ]
    },
    {
     "name": "stderr",
     "output_type": "stream",
     "text": [
      "/home/cook/venv/eda_venv/lib/python3.10/site-packages/urllib3/connectionpool.py:1099: InsecureRequestWarning: Unverified HTTPS request is being made to host 'www.saramin.co.kr'. Adding certificate verification is strongly advised. See: https://urllib3.readthedocs.io/en/latest/advanced-usage.html#tls-warnings\n",
      "  warnings.warn(\n"
     ]
    },
    {
     "name": "stdout",
     "output_type": "stream",
     "text": [
      "ZVZaQjdCQzNKUnNaNmRaZm5KQ1hJQT09 (주)메디인테크 생산기술 경력직 채용\n",
      "2024-08-01 16:00:00\n",
      "그 외 기타 의료용 기기 제조업\n",
      "2020년 2월 12일\n",
      "2020-02-12 00:00:00\n",
      "medintech.co.kr\n",
      "48728359\n"
     ]
    },
    {
     "name": "stderr",
     "output_type": "stream",
     "text": [
      "/home/cook/venv/eda_venv/lib/python3.10/site-packages/urllib3/connectionpool.py:1099: InsecureRequestWarning: Unverified HTTPS request is being made to host 'www.saramin.co.kr'. Adding certificate verification is strongly advised. See: https://urllib3.readthedocs.io/en/latest/advanced-usage.html#tls-warnings\n",
      "  warnings.warn(\n"
     ]
    },
    {
     "name": "stdout",
     "output_type": "stream",
     "text": [
      "ZVZaQjdCQzNKUnNaNmRaZm5KQ1hJQT09 (주)메디인테크 정밀조립/생산 담당자 채용\n",
      "2024-08-01 16:00:00\n",
      "그 외 기타 의료용 기기 제조업\n",
      "2020년 2월 12일\n",
      "2020-02-12 00:00:00\n",
      "medintech.co.kr\n",
      "48727918\n"
     ]
    },
    {
     "name": "stderr",
     "output_type": "stream",
     "text": [
      "/home/cook/venv/eda_venv/lib/python3.10/site-packages/urllib3/connectionpool.py:1099: InsecureRequestWarning: Unverified HTTPS request is being made to host 'www.saramin.co.kr'. Adding certificate verification is strongly advised. See: https://urllib3.readthedocs.io/en/latest/advanced-usage.html#tls-warnings\n",
      "  warnings.warn(\n"
     ]
    },
    {
     "name": "stdout",
     "output_type": "stream",
     "text": [
      "UE1FNWdzQzhVVC92UmhJUjdqSzQ2UT09 (주)서큘러스 SW 개발 직군 채용(경력 2년~)\n",
      "2024-08-01 15:00:00\n",
      "응용 소프트웨어 개발 및 공급업\n",
      "2016년 8월 26일\n",
      "2016-08-26 00:00:00\n",
      "http://circul.us\n",
      "48727089\n"
     ]
    },
    {
     "name": "stderr",
     "output_type": "stream",
     "text": [
      "/home/cook/venv/eda_venv/lib/python3.10/site-packages/urllib3/connectionpool.py:1099: InsecureRequestWarning: Unverified HTTPS request is being made to host 'www.saramin.co.kr'. Adding certificate verification is strongly advised. See: https://urllib3.readthedocs.io/en/latest/advanced-usage.html#tls-warnings\n",
      "  warnings.warn(\n"
     ]
    },
    {
     "name": "stdout",
     "output_type": "stream",
     "text": [
      "bnF2Rm5hdTR5WWFUY1paaGhLc29tZz09 에브리봇(주) [코스닥상장 에브리봇(주)] F/W개발팀(펌웨어) 경력 채용\n",
      "2024-08-01 13:00:00\n",
      "기타 가정용 전기기기 제조업\n",
      "2015년 1월 13일\n",
      "2015-01-13 00:00:00\n",
      "www.everybot.co.kr\n",
      "48723390\n"
     ]
    },
    {
     "name": "stderr",
     "output_type": "stream",
     "text": [
      "/home/cook/venv/eda_venv/lib/python3.10/site-packages/urllib3/connectionpool.py:1099: InsecureRequestWarning: Unverified HTTPS request is being made to host 'www.saramin.co.kr'. Adding certificate verification is strongly advised. See: https://urllib3.readthedocs.io/en/latest/advanced-usage.html#tls-warnings\n",
      "  warnings.warn(\n"
     ]
    },
    {
     "name": "stdout",
     "output_type": "stream",
     "text": [
      "NHBZWUhZcG1oWUtzeitvM0VzdjNjQT09 (주)한컴아카데미 [판교 본사] 솔루션사업팀 교육 영업 담당자 채용\n",
      "2024-08-01 09:00:00\n",
      "응용 소프트웨어 개발 및 공급업\n",
      "2020년 3월 13일\n",
      "2020-03-13 00:00:00\n",
      "hancomacademy.com\n",
      "48723368\n"
     ]
    },
    {
     "name": "stderr",
     "output_type": "stream",
     "text": [
      "/home/cook/venv/eda_venv/lib/python3.10/site-packages/urllib3/connectionpool.py:1099: InsecureRequestWarning: Unverified HTTPS request is being made to host 'www.saramin.co.kr'. Adding certificate verification is strongly advised. See: https://urllib3.readthedocs.io/en/latest/advanced-usage.html#tls-warnings\n",
      "  warnings.warn(\n"
     ]
    },
    {
     "name": "stdout",
     "output_type": "stream",
     "text": [
      "NHBZWUhZcG1oWUtzeitvM0VzdjNjQT09 (주)한컴아카데미 [판교 본사] 온라인교육사업팀 팀장\n",
      "2024-08-01 09:00:00\n",
      "응용 소프트웨어 개발 및 공급업\n",
      "2020년 3월 13일\n",
      "2020-03-13 00:00:00\n",
      "hancomacademy.com\n",
      "48713505\n"
     ]
    },
    {
     "name": "stderr",
     "output_type": "stream",
     "text": [
      "/home/cook/venv/eda_venv/lib/python3.10/site-packages/urllib3/connectionpool.py:1099: InsecureRequestWarning: Unverified HTTPS request is being made to host 'www.saramin.co.kr'. Adding certificate verification is strongly advised. See: https://urllib3.readthedocs.io/en/latest/advanced-usage.html#tls-warnings\n",
      "  warnings.warn(\n"
     ]
    },
    {
     "name": "stdout",
     "output_type": "stream",
     "text": [
      "MU1ya0Urd2w4L3h3eW1HUjNoTHdlQT09 (주)피닉스 [로봇팔 프로그래머] 협동로봇 레인보우로보틱스 프리랜서\n",
      "2024-07-30 16:00:00\n",
      "가전제품 및 부품 도매업\n",
      "2009년 9월 29일\n",
      "2009-09-29 00:00:00\n",
      "48712986\n"
     ]
    },
    {
     "name": "stderr",
     "output_type": "stream",
     "text": [
      "/home/cook/venv/eda_venv/lib/python3.10/site-packages/urllib3/connectionpool.py:1099: InsecureRequestWarning: Unverified HTTPS request is being made to host 'www.saramin.co.kr'. Adding certificate verification is strongly advised. See: https://urllib3.readthedocs.io/en/latest/advanced-usage.html#tls-warnings\n",
      "  warnings.warn(\n"
     ]
    },
    {
     "name": "stdout",
     "output_type": "stream",
     "text": [
      "RGsxNlhXSWI3R3NPZFZ4QzFxcEJEdz09 (주)뉴빌리티 [Neubility] Site Operation Manager 정규직 채용\n",
      "2024-07-30 15:00:00\n",
      "응용 소프트웨어 개발 및 공급업\n",
      "2017년 11월 1일\n",
      "2017-11-01 00:00:00\n",
      "www.neubility.co.kr\n",
      "48712164\n"
     ]
    },
    {
     "name": "stderr",
     "output_type": "stream",
     "text": [
      "/home/cook/venv/eda_venv/lib/python3.10/site-packages/urllib3/connectionpool.py:1099: InsecureRequestWarning: Unverified HTTPS request is being made to host 'www.saramin.co.kr'. Adding certificate verification is strongly advised. See: https://urllib3.readthedocs.io/en/latest/advanced-usage.html#tls-warnings\n",
      "  warnings.warn(\n"
     ]
    },
    {
     "name": "stdout",
     "output_type": "stream",
     "text": [
      "cHJsOERpeU1TM3d3S3RidDJKek9FZz09 아이씨뱅큐(주) [경력]로봇 및 HW엔지니어 모집(라즈베리파이, 젯슨나노 등 활용\n",
      "2024-07-30 14:00:00\n",
      "전기용 기계ㆍ장비 및 관련 기자재 도매업\n",
      "1996년 1월 1일\n",
      "1996-01-01 00:00:00\n",
      "brand.icbanq.com\n",
      "48708186\n"
     ]
    },
    {
     "name": "stderr",
     "output_type": "stream",
     "text": [
      "/home/cook/venv/eda_venv/lib/python3.10/site-packages/urllib3/connectionpool.py:1099: InsecureRequestWarning: Unverified HTTPS request is being made to host 'www.saramin.co.kr'. Adding certificate verification is strongly advised. See: https://urllib3.readthedocs.io/en/latest/advanced-usage.html#tls-warnings\n",
      "  warnings.warn(\n"
     ]
    },
    {
     "name": "stdout",
     "output_type": "stream",
     "text": [
      "dkI0d2ZlZk1SVVNoaUxpMU5GbUVSUT09 (주)프레스토솔루션 [프레스토솔루션] 연구소 모터 드라이브 펌웨어 개발자 채용\n",
      "2024-07-30 09:00:00\n",
      "기타 산업용 기계 및 장비 도매업\n",
      "2010년 8월 16일\n",
      "2010-08-16 00:00:00\n",
      "www.prestosolution.co.kr/\n",
      "48682289\n"
     ]
    },
    {
     "name": "stderr",
     "output_type": "stream",
     "text": [
      "/home/cook/venv/eda_venv/lib/python3.10/site-packages/urllib3/connectionpool.py:1099: InsecureRequestWarning: Unverified HTTPS request is being made to host 'www.saramin.co.kr'. Adding certificate verification is strongly advised. See: https://urllib3.readthedocs.io/en/latest/advanced-usage.html#tls-warnings\n",
      "  warnings.warn(\n"
     ]
    },
    {
     "name": "stdout",
     "output_type": "stream",
     "text": [
      "clI2cFZ4WCtBaWZiSnJKN2l2RlZ2Zz09 다임리서치(주) Daim Research의 솔루션을 위한 프론트엔드 개발자 모집\n",
      "2024-07-25 10:00:00\n",
      "컴퓨터시스템 통합 자문 및 구축 서비스업\n",
      "2020년 2월 5일\n",
      "2020-02-05 00:00:00\n",
      "www.daimresearch.com/\n",
      "47669139\n"
     ]
    },
    {
     "name": "stderr",
     "output_type": "stream",
     "text": [
      "/home/cook/venv/eda_venv/lib/python3.10/site-packages/urllib3/connectionpool.py:1099: InsecureRequestWarning: Unverified HTTPS request is being made to host 'www.saramin.co.kr'. Adding certificate verification is strongly advised. See: https://urllib3.readthedocs.io/en/latest/advanced-usage.html#tls-warnings\n",
      "  warnings.warn(\n"
     ]
    },
    {
     "name": "stdout",
     "output_type": "stream",
     "text": [
      "TVUrT2lHWkZvZGZWU1RmQ2N6K1RMQT09 현대오토에버(주) 차량SW · ICT · 경영지원 부문 채용\n",
      "2024-02-28 00:00:00\n",
      "응용 소프트웨어 개발 및 공급업\n",
      "2000년 4월 10일\n",
      "2000-04-10 00:00:00\n",
      "https://recruit.hyundai-autoever.com/\n",
      "47262105\n"
     ]
    },
    {
     "name": "stderr",
     "output_type": "stream",
     "text": [
      "/home/cook/venv/eda_venv/lib/python3.10/site-packages/urllib3/connectionpool.py:1099: InsecureRequestWarning: Unverified HTTPS request is being made to host 'www.saramin.co.kr'. Adding certificate verification is strongly advised. See: https://urllib3.readthedocs.io/en/latest/advanced-usage.html#tls-warnings\n",
      "  warnings.warn(\n"
     ]
    },
    {
     "name": "stdout",
     "output_type": "stream",
     "text": [
      "a2xlN0dKcHFOTThSdDloOVQrQWordz09 대한상공회의소 [국비지원 무료교육] 반도체 로봇 빅데이터 인공지능 취업연계\n",
      "2024-01-01 00:00:00\n",
      "일반 서적 출판업\n",
      "1977년 6월 19일\n",
      "1977-06-19 00:00:00\n",
      "www.korcham.net\n",
      "45034450\n"
     ]
    },
    {
     "name": "stderr",
     "output_type": "stream",
     "text": [
      "/home/cook/venv/eda_venv/lib/python3.10/site-packages/urllib3/connectionpool.py:1099: InsecureRequestWarning: Unverified HTTPS request is being made to host 'www.saramin.co.kr'. Adding certificate verification is strongly advised. See: https://urllib3.readthedocs.io/en/latest/advanced-usage.html#tls-warnings\n",
      "  warnings.warn(\n",
      "/home/cook/venv/eda_venv/lib/python3.10/site-packages/urllib3/connectionpool.py:1099: InsecureRequestWarning: Unverified HTTPS request is being made to host 'www.saramin.co.kr'. Adding certificate verification is strongly advised. See: https://urllib3.readthedocs.io/en/latest/advanced-usage.html#tls-warnings\n",
      "  warnings.warn(\n"
     ]
    },
    {
     "name": "stdout",
     "output_type": "stream",
     "text": [
      "Y2pZblRDZUNzT0IvdndWTEIwQWcrdz09 (주)하이보 시스템 개발자 모집\n",
      "2023-02-10 00:00:00\n",
      "산업용 로봇 제조업\n",
      "2018년 7월 18일\n",
      "2018-07-18 00:00:00\n",
      "ilidar.io\n",
      "48892807\n"
     ]
    },
    {
     "name": "stderr",
     "output_type": "stream",
     "text": [
      "/home/cook/venv/eda_venv/lib/python3.10/site-packages/urllib3/connectionpool.py:1099: InsecureRequestWarning: Unverified HTTPS request is being made to host 'www.saramin.co.kr'. Adding certificate verification is strongly advised. See: https://urllib3.readthedocs.io/en/latest/advanced-usage.html#tls-warnings\n",
      "  warnings.warn(\n"
     ]
    },
    {
     "name": "stdout",
     "output_type": "stream",
     "text": [
      "M25Lc3NXbjNUU0hKT0RORHVFU1pYUT09 주식회사복주 제품개발 지원 및 품질인증 부문 연구원 모집\n",
      "2024-08-26 00:00:00\n",
      "금속탱크 및 저장용기 제조업\n",
      "2009년 7월 16일\n",
      "2009-07-16 00:00:00\n",
      "www.bokju.com\n",
      "48731954\n"
     ]
    },
    {
     "name": "stderr",
     "output_type": "stream",
     "text": [
      "/home/cook/venv/eda_venv/lib/python3.10/site-packages/urllib3/connectionpool.py:1099: InsecureRequestWarning: Unverified HTTPS request is being made to host 'www.saramin.co.kr'. Adding certificate verification is strongly advised. See: https://urllib3.readthedocs.io/en/latest/advanced-usage.html#tls-warnings\n",
      "  warnings.warn(\n"
     ]
    },
    {
     "name": "stdout",
     "output_type": "stream",
     "text": [
      "WlRna3gyNWVRWE9HNTFSZDA4VFYyQT09 (주)라스테크 [로보틱스부분]자율주행로봇 SW개발자\n",
      "2024-08-02 00:00:00\n",
      "응용 소프트웨어 개발 및 공급업\n",
      "2001년 1월 3일\n",
      "2001-01-03 00:00:00\n",
      "http://www.rastech.co.kr\n",
      "45110080\n"
     ]
    },
    {
     "name": "stderr",
     "output_type": "stream",
     "text": [
      "/home/cook/venv/eda_venv/lib/python3.10/site-packages/urllib3/connectionpool.py:1099: InsecureRequestWarning: Unverified HTTPS request is being made to host 'www.saramin.co.kr'. Adding certificate verification is strongly advised. See: https://urllib3.readthedocs.io/en/latest/advanced-usage.html#tls-warnings\n",
      "  warnings.warn(\n"
     ]
    },
    {
     "name": "stdout",
     "output_type": "stream",
     "text": [
      "NWpoc1NKRzFmWmEzcmxhZmtyT2FmZz09 시와소프트(주) 윈도우기반 응용프로그래머 개발자 모집\n",
      "2023-02-21 00:00:00\n",
      "응용 소프트웨어 개발 및 공급업\n",
      "2017년 12월 19일\n",
      "2017-12-19 00:00:00\n"
     ]
    }
   ],
   "source": [
    "begin_url = \"https://www.saramin.co.kr/zf_user/search?search_area=main&search_done=y&search_optional_item=n&searchType=search&searchword=%EB%A1%9C%EB%B4%87+%EC%86%8C%ED%94%84%ED%8A%B8%EC%9B%A8%EC%96%B4&recruitPage={}&recruitSort=reg_dt&recruitPageCount=40&inner_com_type=&company_cd=0%2C1%2C2%2C3%2C4%2C5%2C6%2C7%2C9%2C10&show_applied=&quick_apply=&except_read=&ai_head_hunting=&mainSearch=y\"\n",
    "post_base_url = \"https://www.saramin.co.kr/zf_user/jobs/view?rec_idx=\"\n",
    "\n",
    "\n",
    "session = requests.Session()\n",
    "retries = Retry(total=5, backoff_factor=1, status_forcelist=[500, 502, 503, 504], allowed_methods=[\"GET\"])\n",
    "session.mount('https://', HTTPAdapter(max_retries=retries))\n",
    "\n",
    "try: \n",
    "    res = session.get(begin_url.format(1), headers={'User-Agent': 'Mozilla/5.0'}, verify=False)\n",
    "    soup = BeautifulSoup(res.text, 'html.parser')\n",
    "\n",
    "    cnt = re.search(r'\\d+', soup.find(\"section\", id=\"recruit_info\").find(\"span\", class_=\"cnt_result\").string).group()\n",
    "    index_num = int(int(cnt) / 40) + 1\n",
    "\n",
    "    for i in range(1,index_num+1):\n",
    "        try:\n",
    "            res = session.get(begin_url.format(i), headers={'User-Agent': 'Mozilla/5.0'}, verify=False)\n",
    "            soup = BeautifulSoup(res.text, \"html.parser\")\n",
    "\n",
    "            # i 페이지 공고id들\n",
    "            recruit_info_list = soup.find(\"div\", id=\"recruit_info_list\").find_all(\"div\", class_=re.compile(r\"item_recruit\"))\n",
    "\n",
    "            for recruit in recruit_info_list:\n",
    "                # 공고url\n",
    "                post_url = post_base_url + recruit.get(\"value\")\n",
    "                print(recruit.get(\"value\"))\n",
    "\n",
    "                try: \n",
    "                    # jobpost enter\n",
    "                    res = session.get(post_url, headers={'User-Agent': 'Mozilla/5.0'}, verify=False)\n",
    "                    soup = BeautifulSoup(res.text, \"html.parser\")\n",
    "                    # 맨 위 div; 회사명, 회사sid, 공고제목\n",
    "                    jv_header = soup.find(\"div\", class_=\"jv_header\")\n",
    "                    comp_sid = jv_header.find(\"div\", class_=\"title_inner\").find(\"button\", title=\"관심기업 등록\").get(\"csn\")\n",
    "                    comp_name = jv_header.find(\"div\", class_=\"title_inner\").find(\"a\", class_=\"company\").get(\"title\")\n",
    "                    post_title = jv_header.find(\"h1\", class_=\"tit_job\").string.strip().replace(\"\\n\",\" \")\n",
    "                    print(comp_sid, comp_name, post_title)\n",
    "\n",
    "                    # 공고 게시일 있는 div\n",
    "                    info_period = soup.find(\"dl\", class_=\"info_period\")\n",
    "                    pd = info_period.find(\"dt\", string=\"시작일\").find_next_sibling(\"dd\").get_text()\n",
    "                    posted_date = datetime.datetime.strptime(pd, \"%Y.%m.%d %H:%M\")\n",
    "                    print(posted_date)\n",
    "\n",
    "                    # 회사형태, 산업, 설립일, 회사홈페이지 있는 div\n",
    "                    info = soup.find(\"div\", class_=\"wrap_info\")\n",
    "                    \n",
    "                    comp_form = sector = establish = comp_homepage = None\n",
    "\n",
    "                    if info:            \n",
    "                        for dl in info.find(\"div\", class_=\"info_area\").find_all(\"dl\"):\n",
    "                            dt_text = dl.find(\"dt\").get_text(strip=True)\n",
    "                            if \"기업형태\" in dt_text:\n",
    "                                comp_form = dl.find(\"dd\").get(\"title\")\n",
    "                            elif \"업종\" in dt_text:\n",
    "                                sector = dl.find(\"dd\").get_text(strip=True)\n",
    "                                print(sector)\n",
    "                            elif \"설립일\" in dt_text:\n",
    "                                ed = dl.find('dd').contents[0].strip()\n",
    "                                print(ed)\n",
    "                                try:\n",
    "                                    establish = datetime.datetime.strptime(ed, \"%Y년 %m월 %d일\")\n",
    "                                    print(establish)\n",
    "                                except ValueError:\n",
    "                                    print(\"ValueError\")\n",
    "                                    establish = None\n",
    "                            elif \"홈페이지\" in dt_text:\n",
    "                                comp_homepage = dl.find(\"dd\").get(\"title\")\n",
    "                                print(comp_homepage)\n",
    "                    else:\n",
    "                        pass\n",
    "                    \n",
    "                    cursor.execute(\"\"\"select comp_id from company where comp_sid=%s\"\"\", (comp_sid,))\n",
    "                    comp_id = cursor.fetchone()\n",
    "\n",
    "                    if comp_id:\n",
    "                        comp_id = comp_id[0]            \n",
    "                    else:\n",
    "                        cursor.execute(\"\"\"insert into company \n",
    "                                (comp_sid, comp_name, comp_form, sector, establish, comp_url)\n",
    "                                values\n",
    "                                (%s,%s,%s,%s,%s,%s)\"\"\",\n",
    "                                (comp_sid, comp_name, comp_form, sector, establish, comp_homepage))\n",
    "                        cursor.execute(\"\"\"select comp_id from company where comp_sid=%s\"\"\", (comp_sid,))\n",
    "                        comp_id = cursor.fetchone()[0]\n",
    "\n",
    "                    cursor.execute(\"\"\"insert into recruit\n",
    "                                (comp_id, saramjob_id, post_title, post_url, posted_date)\n",
    "                                values (%s, %s,%s,%s,%s)\"\"\",\n",
    "                                (comp_id, 0, post_title, post_url, posted_date))\n",
    "                except requests.exceptions.RequestException as e:\n",
    "                    print(f\"Failed to fetch job post: {post_url} due to {e}\")\n",
    "        except requests.exceptions.RequestException as e:\n",
    "            print(f\"failed to fetch page {i}: {e}\")\n",
    "except requests.exceptions.RequestException as e:\n",
    "    print(f\"Initial request failed: {e}\")\n"
   ]
  },
  {
   "cell_type": "code",
   "execution_count": 18,
   "metadata": {},
   "outputs": [],
   "source": [
    "conn.commit()"
   ]
  },
  {
   "cell_type": "code",
   "execution_count": 12,
   "metadata": {},
   "outputs": [],
   "source": [
    "conn.close()"
   ]
  },
  {
   "cell_type": "code",
   "execution_count": 14,
   "metadata": {},
   "outputs": [
    {
     "name": "stdout",
     "output_type": "stream",
     "text": [
      "2024-09-27 00:00:00\n",
      "2024-09-27 11:00:00\n",
      "2024-09-27 11:00:00\n",
      "2024-09-27 00:00:00\n",
      "2024-09-27 10:00:00\n",
      "2024-09-27 10:00:00\n",
      "2024-09-27 09:00:00\n",
      "2024-09-27 09:00:00\n",
      "2024-09-27 09:00:00\n",
      "2024-09-27 09:00:00\n",
      "2024-09-27 09:00:00\n",
      "2024-09-23 00:00:00\n",
      "2024-09-27 09:00:00\n",
      "2024-09-27 08:00:00\n",
      "2024-09-27 08:00:00\n",
      "2024-09-26 19:00:00\n",
      "2024-09-26 18:00:00\n",
      "2024-09-26 17:00:00\n",
      "2024-09-26 17:00:00\n",
      "2024-09-26 17:00:00\n",
      "2024-09-27 00:00:00\n",
      "2024-09-27 00:00:00\n",
      "2024-09-27 00:00:00\n",
      "2024-09-26 16:00:00\n",
      "2024-09-26 15:00:00\n",
      "2024-09-26 15:00:00\n",
      "2024-09-26 14:00:00\n",
      "2024-09-26 13:00:00\n",
      "2024-09-26 13:00:00\n",
      "2024-09-26 13:00:00\n",
      "2024-09-26 13:00:00\n",
      "2024-09-26 11:00:00\n",
      "2024-09-26 11:00:00\n",
      "2024-09-26 11:00:00\n",
      "2024-09-26 10:00:00\n",
      "2024-09-26 07:00:00\n",
      "2024-09-25 23:00:00\n",
      "2024-09-25 18:00:00\n",
      "2024-09-25 17:00:00\n",
      "2024-09-25 00:00:00\n",
      "2024-09-25 17:00:00\n",
      "2024-09-25 00:00:00\n",
      "2024-09-25 15:00:00\n",
      "2024-09-25 14:00:00\n",
      "2024-09-25 14:00:00\n",
      "2024-09-25 13:00:00\n",
      "2024-09-25 12:00:00\n",
      "2024-09-25 12:00:00\n",
      "2024-09-25 11:00:00\n",
      "2024-09-25 11:00:00\n",
      "2024-09-26 00:00:00\n",
      "2024-09-25 10:00:00\n",
      "2024-09-25 10:00:00\n",
      "2024-09-25 10:00:00\n",
      "2024-09-25 00:00:00\n",
      "2024-09-25 00:00:00\n",
      "2024-09-25 00:00:00\n",
      "2024-09-25 09:00:00\n",
      "2024-09-25 08:00:00\n",
      "2024-09-25 08:00:00\n",
      "2024-09-25 08:00:00\n",
      "2024-09-24 21:00:00\n",
      "2024-09-24 17:00:00\n",
      "2024-09-24 00:00:00\n",
      "2024-09-24 16:00:00\n",
      "2024-09-24 16:00:00\n",
      "2024-09-24 00:00:00\n",
      "2024-09-24 15:00:00\n",
      "2024-09-24 15:00:00\n",
      "2024-09-24 14:00:00\n",
      "2024-09-24 13:00:00\n",
      "2024-09-24 13:00:00\n",
      "2024-09-24 11:00:00\n",
      "2024-09-24 11:00:00\n",
      "2024-09-24 11:00:00\n",
      "2024-09-24 00:00:00\n",
      "2024-09-24 09:00:00\n",
      "2024-09-23 21:00:00\n",
      "2024-09-23 17:00:00\n",
      "2024-09-23 15:00:00\n",
      "2024-09-23 00:00:00\n",
      "2024-09-23 15:00:00\n",
      "2024-09-24 00:00:00\n",
      "2024-09-24 00:00:00\n",
      "2024-09-24 00:00:00\n",
      "2024-09-24 00:00:00\n",
      "2024-09-24 00:00:00\n",
      "2024-09-24 00:00:00\n",
      "2024-09-24 00:00:00\n",
      "2024-09-24 00:00:00\n",
      "2024-09-23 00:00:00\n",
      "2024-09-23 14:00:00\n",
      "2024-09-23 13:00:00\n",
      "2024-09-23 13:00:00\n",
      "2024-09-23 13:00:00\n",
      "2024-09-23 11:00:00\n",
      "2024-09-23 11:00:00\n",
      "2024-09-23 11:00:00\n",
      "2024-09-23 00:00:00\n",
      "2024-09-23 00:00:00\n",
      "2024-09-23 00:00:00\n",
      "2024-09-23 00:00:00\n",
      "2024-09-23 10:00:00\n",
      "2024-09-23 00:00:00\n",
      "2024-09-23 09:00:00\n",
      "2024-09-23 09:00:00\n",
      "2024-09-23 08:00:00\n",
      "2024-09-22 21:00:00\n",
      "2024-09-22 20:00:00\n",
      "2024-09-22 19:00:00\n",
      "2024-09-21 18:00:00\n",
      "2024-09-21 13:00:00\n",
      "2024-09-21 09:00:00\n",
      "2024-09-20 23:00:00\n",
      "2024-09-20 16:00:00\n",
      "2024-09-20 16:00:00\n",
      "2024-09-20 16:00:00\n",
      "2024-09-20 16:00:00\n",
      "2024-09-20 16:00:00\n",
      "2024-09-20 16:00:00\n",
      "2024-09-20 16:00:00\n",
      "2024-09-20 16:00:00\n",
      "2024-09-20 16:00:00\n",
      "2024-09-20 16:00:00\n",
      "2024-09-20 15:00:00\n",
      "2024-09-20 14:00:00\n",
      "2024-09-20 14:00:00\n",
      "2024-09-20 14:00:00\n",
      "2024-09-20 13:00:00\n",
      "2024-09-23 00:00:00\n",
      "2024-09-20 11:00:00\n",
      "2024-09-20 10:00:00\n",
      "2024-09-20 10:00:00\n",
      "2024-09-21 00:00:00\n",
      "2024-09-20 00:00:00\n",
      "2024-09-20 09:00:00\n",
      "2024-09-20 09:00:00\n",
      "2024-09-19 22:00:00\n",
      "2024-09-19 22:00:00\n",
      "2024-09-19 20:00:00\n",
      "2024-09-19 19:00:00\n",
      "2024-09-19 18:00:00\n",
      "2024-09-19 18:00:00\n",
      "2024-09-19 17:00:00\n",
      "2024-09-19 17:00:00\n",
      "2024-09-19 17:00:00\n",
      "2024-09-19 17:00:00\n",
      "2024-09-19 17:00:00\n",
      "2024-09-19 16:00:00\n",
      "2024-09-19 16:00:00\n",
      "2024-09-19 16:00:00\n",
      "2024-09-19 16:00:00\n",
      "2024-09-19 15:00:00\n",
      "2024-09-19 14:00:00\n",
      "2024-09-19 00:00:00\n",
      "2024-09-19 00:00:00\n",
      "2024-09-19 00:00:00\n",
      "2024-09-19 00:00:00\n",
      "2024-09-19 00:00:00\n",
      "2024-09-19 00:00:00\n",
      "2024-09-19 13:00:00\n",
      "2024-09-19 11:00:00\n",
      "2024-09-19 11:00:00\n",
      "2024-09-19 11:00:00\n",
      "2024-09-19 11:00:00\n",
      "2024-09-19 00:00:00\n",
      "2024-09-19 11:00:00\n",
      "2024-09-19 10:00:00\n",
      "2024-09-19 00:00:00\n",
      "2024-09-19 10:00:00\n",
      "2024-09-19 10:00:00\n",
      "2024-09-27 00:00:00\n",
      "2024-09-18 22:00:00\n",
      "2024-09-18 22:00:00\n",
      "2024-09-18 22:00:00\n",
      "2024-09-18 20:00:00\n",
      "2024-09-18 20:00:00\n",
      "2024-09-18 16:00:00\n",
      "2024-09-17 00:00:00\n",
      "2024-09-17 00:00:00\n",
      "2024-09-15 21:00:00\n",
      "2024-09-15 21:00:00\n",
      "2024-09-14 21:00:00\n",
      "2024-09-14 14:00:00\n",
      "2024-09-13 18:00:00\n",
      "2024-09-13 17:00:00\n",
      "2024-09-13 15:00:00\n",
      "2024-09-13 15:00:00\n",
      "2024-09-13 15:00:00\n",
      "2024-09-13 14:00:00\n",
      "2024-09-13 00:00:00\n",
      "2024-09-13 14:00:00\n",
      "2024-09-13 00:00:00\n",
      "2024-09-13 13:00:00\n",
      "2024-09-13 13:00:00\n",
      "2024-09-13 00:00:00\n",
      "2024-09-13 00:00:00\n",
      "2024-09-13 13:00:00\n",
      "2024-09-15 00:00:00\n",
      "2024-09-13 11:00:00\n",
      "2024-09-13 11:00:00\n",
      "2024-09-19 00:00:00\n",
      "2024-09-13 00:00:00\n",
      "2024-09-19 00:00:00\n",
      "2024-09-19 00:00:00\n",
      "2024-09-13 09:00:00\n",
      "2024-09-13 09:00:00\n",
      "2024-09-13 09:00:00\n",
      "2024-09-13 00:00:00\n",
      "2024-09-13 09:00:00\n",
      "2024-09-13 08:00:00\n",
      "2024-09-12 21:00:00\n",
      "2024-09-12 20:00:00\n",
      "2024-09-12 19:00:00\n",
      "2024-09-12 19:00:00\n",
      "2024-09-12 17:00:00\n",
      "2024-09-13 00:00:00\n",
      "2024-09-13 00:00:00\n",
      "2024-09-13 00:00:00\n",
      "2024-09-13 00:00:00\n",
      "2024-09-13 00:00:00\n",
      "2024-09-13 00:00:00\n",
      "2024-09-13 00:00:00\n",
      "2024-09-13 10:00:00\n",
      "2024-09-12 00:00:00\n",
      "2024-09-12 00:00:00\n",
      "2024-09-12 00:00:00\n",
      "2024-09-12 14:00:00\n",
      "2024-09-12 00:00:00\n",
      "2024-09-12 11:00:00\n",
      "2024-09-12 10:00:00\n",
      "2024-09-12 10:00:00\n",
      "2024-09-12 10:00:00\n",
      "2024-09-12 10:00:00\n",
      "2024-09-12 10:00:00\n",
      "2024-09-12 00:00:00\n",
      "2024-09-12 09:00:00\n",
      "2024-09-12 10:00:00\n",
      "2024-09-12 09:00:00\n",
      "2024-09-12 09:00:00\n",
      "2024-09-12 09:00:00\n",
      "2024-09-12 07:00:00\n",
      "2024-09-11 20:00:00\n",
      "2024-09-11 16:00:00\n",
      "2024-09-11 16:00:00\n",
      "2024-09-11 15:00:00\n",
      "2024-09-11 13:00:00\n",
      "2024-09-11 00:00:00\n",
      "2024-09-11 10:00:00\n",
      "2024-09-11 10:00:00\n",
      "2024-09-11 00:00:00\n",
      "2024-09-11 00:00:00\n",
      "2024-09-11 00:00:00\n",
      "2024-09-11 00:00:00\n",
      "2024-09-10 17:00:00\n",
      "2024-09-10 17:00:00\n",
      "2024-09-10 16:00:00\n",
      "2024-09-10 00:00:00\n",
      "2024-09-10 14:00:00\n",
      "2024-09-10 15:00:00\n",
      "2024-09-10 14:00:00\n",
      "2024-09-10 14:00:00\n",
      "2024-09-11 00:00:00\n",
      "2024-09-11 00:00:00\n",
      "2024-09-10 14:00:00\n",
      "2024-09-10 00:00:00\n",
      "2024-09-10 11:00:00\n",
      "2024-09-10 11:00:00\n",
      "2024-09-10 10:00:00\n",
      "2024-09-10 10:00:00\n",
      "2024-09-10 10:00:00\n",
      "2024-09-10 00:00:00\n",
      "2024-09-10 10:00:00\n",
      "2024-09-10 10:00:00\n",
      "2024-09-10 09:00:00\n",
      "2024-09-10 08:00:00\n",
      "2024-09-10 00:00:00\n",
      "2024-09-09 18:00:00\n",
      "2024-09-09 16:00:00\n",
      "2024-09-09 00:00:00\n",
      "2024-09-09 15:00:00\n",
      "2024-09-09 14:00:00\n",
      "2024-09-09 14:00:00\n",
      "2024-09-09 14:00:00\n",
      "2024-09-09 14:00:00\n",
      "2024-09-09 14:00:00\n",
      "2024-09-09 14:00:00\n",
      "2024-09-09 14:00:00\n",
      "2024-09-09 00:00:00\n",
      "2024-09-09 11:00:00\n",
      "2024-09-09 11:00:00\n",
      "2024-09-09 00:00:00\n",
      "2024-09-09 00:00:00\n",
      "2024-09-09 11:00:00\n",
      "2024-09-09 09:00:00\n",
      "2024-09-09 08:00:00\n",
      "2024-09-09 08:00:00\n",
      "2024-09-06 18:00:00\n",
      "2024-09-06 00:00:00\n",
      "2024-09-06 00:00:00\n",
      "2024-09-06 00:00:00\n",
      "2024-09-06 00:00:00\n",
      "2024-09-08 00:00:00\n",
      "2024-09-06 00:00:00\n",
      "2024-09-06 00:00:00\n",
      "2024-09-06 12:00:00\n",
      "2024-09-06 00:00:00\n",
      "2024-09-06 11:00:00\n",
      "2024-09-06 11:00:00\n",
      "2024-09-06 00:00:00\n",
      "2024-09-06 00:00:00\n",
      "2024-09-07 00:00:00\n",
      "2024-09-06 09:00:00\n",
      "2024-09-06 09:00:00\n",
      "2024-09-08 00:00:00\n",
      "2024-09-06 00:00:00\n",
      "2024-09-05 16:00:00\n",
      "2024-09-05 16:00:00\n",
      "2024-09-05 00:00:00\n",
      "2024-09-05 16:00:00\n",
      "2024-09-05 16:00:00\n",
      "2024-09-05 15:00:00\n",
      "2024-09-05 00:00:00\n",
      "2024-09-05 00:00:00\n",
      "2024-09-05 00:00:00\n",
      "2024-09-05 00:00:00\n",
      "2024-09-05 00:00:00\n",
      "2024-09-05 00:00:00\n",
      "2024-09-05 11:00:00\n",
      "2024-09-05 00:00:00\n",
      "2024-09-05 00:00:00\n",
      "2024-09-05 00:00:00\n",
      "2024-09-05 00:00:00\n",
      "2024-09-05 00:00:00\n",
      "2024-09-05 00:00:00\n",
      "2024-09-05 08:00:00\n",
      "2024-09-04 18:00:00\n",
      "2024-09-04 18:00:00\n",
      "2024-09-04 15:00:00\n",
      "2024-09-04 13:00:00\n",
      "2024-09-04 13:00:00\n",
      "2024-09-04 09:00:00\n",
      "2024-09-04 09:00:00\n",
      "2024-09-04 08:00:00\n",
      "2024-09-04 00:00:00\n",
      "2024-09-03 16:00:00\n",
      "2024-09-03 16:00:00\n",
      "2024-09-03 00:00:00\n",
      "2024-09-03 14:00:00\n",
      "2024-09-03 14:00:00\n",
      "2024-09-03 14:00:00\n",
      "2024-09-03 14:00:00\n",
      "2024-09-03 13:00:00\n",
      "2024-09-03 11:00:00\n",
      "2024-09-03 00:00:00\n",
      "2024-09-03 00:00:00\n",
      "2024-09-02 18:00:00\n",
      "2024-09-03 10:00:00\n",
      "2024-09-02 18:00:00\n",
      "2024-09-03 00:00:00\n",
      "2024-09-03 00:00:00\n",
      "2024-09-03 00:00:00\n",
      "2024-09-03 00:00:00\n",
      "2024-09-03 00:00:00\n",
      "2024-09-03 00:00:00\n",
      "2024-09-02 17:00:00\n",
      "2024-09-02 16:00:00\n",
      "2024-09-02 00:00:00\n",
      "2024-09-02 14:00:00\n",
      "2024-09-02 13:00:00\n",
      "2024-09-02 00:00:00\n",
      "2024-09-02 13:00:00\n",
      "2024-09-02 13:00:00\n",
      "2024-09-02 13:00:00\n",
      "2024-09-02 13:00:00\n",
      "2024-09-02 11:00:00\n",
      "2024-09-02 10:00:00\n",
      "2024-09-02 10:00:00\n",
      "2024-09-02 10:00:00\n",
      "2024-09-02 00:00:00\n",
      "2024-09-02 00:00:00\n",
      "2024-09-02 09:00:00\n",
      "2024-09-02 09:00:00\n",
      "2024-09-01 20:00:00\n",
      "2024-08-31 20:00:00\n",
      "2024-08-30 19:00:00\n",
      "2024-09-02 00:00:00\n",
      "2024-09-01 00:00:00\n",
      "2024-09-02 00:00:00\n",
      "2024-08-30 00:00:00\n",
      "2024-08-30 15:00:00\n",
      "2024-08-30 15:00:00\n",
      "2024-08-30 15:00:00\n",
      "2024-09-01 00:00:00\n",
      "2024-08-30 09:00:00\n",
      "2024-08-30 09:00:00\n",
      "2024-08-30 09:00:00\n",
      "2024-09-01 00:00:00\n",
      "2024-08-29 21:00:00\n",
      "2024-08-29 16:00:00\n",
      "2024-08-29 15:00:00\n",
      "2024-08-29 14:00:00\n",
      "2024-08-29 12:00:00\n",
      "2024-08-29 10:00:00\n",
      "2024-08-29 00:00:00\n",
      "2024-09-02 00:00:00\n",
      "2024-08-29 06:00:00\n",
      "2024-08-28 18:00:00\n",
      "2024-08-28 17:00:00\n",
      "2024-09-24 15:00:00\n",
      "2024-08-28 15:00:00\n",
      "2024-08-29 00:00:00\n",
      "2024-08-28 14:00:00\n",
      "2024-08-28 14:00:00\n",
      "2024-08-28 13:00:00\n",
      "2024-08-28 13:00:00\n",
      "2024-08-28 10:00:00\n",
      "2024-08-28 10:00:00\n",
      "2024-08-28 10:00:00\n",
      "2024-08-27 19:00:00\n",
      "2024-08-27 18:00:00\n",
      "2024-08-27 18:00:00\n",
      "2024-08-27 15:00:00\n",
      "2024-08-27 15:00:00\n",
      "2024-08-27 13:00:00\n",
      "2024-08-27 09:00:00\n",
      "2024-08-27 08:00:00\n",
      "2024-08-27 08:00:00\n",
      "2024-08-26 15:00:00\n",
      "2024-08-26 10:00:00\n",
      "2024-08-23 21:00:00\n",
      "2024-08-23 17:00:00\n",
      "2024-08-23 17:00:00\n",
      "2024-08-23 17:00:00\n",
      "2024-08-23 16:00:00\n",
      "2024-08-23 14:00:00\n",
      "2024-08-23 10:00:00\n",
      "2024-08-22 20:00:00\n",
      "2024-08-22 15:00:00\n",
      "2024-08-22 15:00:00\n",
      "2024-09-13 09:00:00\n",
      "2024-08-21 18:00:00\n",
      "2024-08-21 14:00:00\n",
      "2024-08-20 18:00:00\n",
      "2024-08-20 08:00:00\n",
      "2024-08-20 07:00:00\n",
      "2024-08-19 17:00:00\n",
      "2024-08-19 15:00:00\n",
      "2024-09-13 15:00:00\n",
      "2024-08-19 15:00:00\n",
      "2024-08-19 13:00:00\n",
      "2024-08-19 11:00:00\n",
      "2024-08-19 09:00:00\n",
      "2024-08-19 08:00:00\n",
      "2024-08-16 17:00:00\n",
      "2024-08-15 21:00:00\n",
      "2024-08-14 18:00:00\n",
      "2024-08-14 17:00:00\n",
      "2024-08-14 00:00:00\n",
      "2024-08-14 14:00:00\n",
      "2024-08-14 13:00:00\n",
      "2024-08-14 12:00:00\n",
      "2024-08-14 08:00:00\n",
      "2024-09-13 15:00:00\n",
      "2024-08-13 10:00:00\n",
      "2024-08-13 10:00:00\n",
      "2024-08-13 10:00:00\n",
      "2024-08-12 18:00:00\n",
      "2024-08-12 17:00:00\n",
      "2024-08-14 18:00:00\n",
      "2024-08-12 16:00:00\n",
      "2024-08-13 17:00:00\n",
      "2024-08-12 14:00:00\n",
      "2024-08-12 10:00:00\n",
      "2024-08-12 10:00:00\n",
      "2024-09-19 09:00:00\n",
      "2024-08-10 15:00:00\n",
      "2024-08-09 19:00:00\n",
      "2024-08-09 18:00:00\n",
      "2024-08-09 10:00:00\n",
      "2024-08-09 09:00:00\n",
      "2024-08-08 13:00:00\n",
      "2024-08-08 11:00:00\n",
      "2024-08-07 21:00:00\n",
      "2024-08-07 16:00:00\n",
      "2024-08-07 14:00:00\n",
      "2024-08-07 14:00:00\n",
      "2024-08-06 17:00:00\n",
      "2024-09-13 17:00:00\n",
      "2024-08-06 15:00:00\n",
      "2024-08-06 15:00:00\n",
      "2024-08-06 00:00:00\n",
      "2024-08-06 11:00:00\n",
      "2024-08-06 11:00:00\n",
      "2024-08-06 11:00:00\n",
      "2024-08-05 16:00:00\n",
      "2024-08-05 14:00:00\n",
      "2024-08-05 14:00:00\n",
      "2024-08-05 10:00:00\n",
      "2024-08-05 11:00:00\n",
      "2024-08-05 09:00:00\n",
      "2024-08-05 09:00:00\n",
      "2024-08-05 09:00:00\n",
      "2024-08-05 09:00:00\n",
      "2024-08-03 16:00:00\n",
      "2024-08-02 16:00:00\n",
      "2024-09-23 15:00:00\n",
      "2024-08-01 16:00:00\n",
      "2024-08-01 16:00:00\n",
      "2024-08-01 15:00:00\n",
      "2024-08-01 13:00:00\n",
      "2024-08-01 09:00:00\n",
      "2024-07-30 15:00:00\n",
      "2024-07-30 14:00:00\n",
      "2024-07-30 09:00:00\n",
      "2024-07-29 18:00:00\n",
      "2024-07-29 17:00:00\n",
      "2024-07-29 17:00:00\n",
      "2024-07-29 15:00:00\n",
      "2024-07-29 15:00:00\n",
      "2024-07-29 15:00:00\n",
      "2024-07-29 15:00:00\n",
      "2024-07-29 15:00:00\n",
      "2024-07-29 10:00:00\n",
      "2024-07-29 08:00:00\n",
      "2024-07-25 10:00:00\n",
      "2024-02-28 00:00:00\n",
      "2024-01-01 00:00:00\n",
      "2023-02-10 00:00:00\n",
      "2024-08-26 00:00:00\n",
      "2024-08-02 00:00:00\n",
      "2023-02-21 00:00:00\n"
     ]
    }
   ],
   "source": [
    "cursor.execute(\"select recruit_id, post_url from recruit\")\n",
    "results = cursor.fetchall()\n",
    "\n",
    "for recruit_id, post_url in results:\n",
    "    res = requests.get(post_url, headers={'User-Agent': 'Mozilla/5.0'})\n",
    "    soup = BeautifulSoup(res.text, \"html.parser\")\n",
    "    \n",
    "    info_period = soup.find(\"dl\", class_=\"info_period\")\n",
    "    if info_period:\n",
    "        pd = info_period.find(\"dt\", string=\"시작일\").find_next_sibling(\"dd\").get_text()\n",
    "        posted_date = datetime.datetime.strptime(pd, \"%Y.%m.%d %H:%M\")\n",
    "        print(posted_date)\n",
    "        cursor.execute(\"\"\"update recruit set posted_date=%s where recruit_id=%s\"\"\",\n",
    "                   (posted_date, recruit_id))\n",
    "    else:\n",
    "        print(f\"No info_period found for {post_url}\")\n"
   ]
  },
  {
   "cell_type": "code",
   "execution_count": null,
   "metadata": {},
   "outputs": [],
   "source": []
  }
 ],
 "metadata": {
  "kernelspec": {
   "display_name": "eda_venv",
   "language": "python",
   "name": "python3"
  },
  "language_info": {
   "codemirror_mode": {
    "name": "ipython",
    "version": 3
   },
   "file_extension": ".py",
   "mimetype": "text/x-python",
   "name": "python",
   "nbconvert_exporter": "python",
   "pygments_lexer": "ipython3",
   "version": "3.10.12"
  }
 },
 "nbformat": 4,
 "nbformat_minor": 2
}
